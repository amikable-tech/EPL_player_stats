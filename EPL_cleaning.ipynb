{
 "cells": [
  {
   "cell_type": "code",
   "execution_count": 3,
   "metadata": {
    "collapsed": true,
    "ExecuteTime": {
     "end_time": "2024-06-06T08:41:31.438308600Z",
     "start_time": "2024-06-06T08:41:27.634810600Z"
    }
   },
   "outputs": [],
   "source": [
    "import pandas as pd\n",
    "from sklearn.linear_model import LinearRegression, Ridge\n",
    "from sklearn.model_selection import train_test_split\n",
    "from sklearn.metrics import mean_squared_error\n",
    "import seaborn as sns\n",
    "import matplotlib_inline as plot"
   ]
  },
  {
   "cell_type": "code",
   "execution_count": 310,
   "outputs": [],
   "source": [
    "players = pd.read_csv(\"final_merged_stats.csv\")"
   ],
   "metadata": {
    "collapsed": false,
    "ExecuteTime": {
     "end_time": "2024-06-05T07:27:08.693930700Z",
     "start_time": "2024-06-05T07:27:08.200591Z"
    }
   }
  },
  {
   "cell_type": "code",
   "execution_count": 311,
   "outputs": [
    {
     "data": {
      "text/plain": "        Rk               Player   Nation    Pos          Squad_x  Age  Born  \\\n0        1          Gary Ablett  eng ENG     DF          Everton   26  1965   \n1        2          Micky Adams  eng ENG     DF      Southampton   30  1961   \n2        3           Neil Adams  eng ENG     MF  Oldham Athletic   26  1965   \n3        4           Tony Adams  eng ENG     DF          Arsenal   25  1966   \n4        5          Derek Allan      NaN     DF      Southampton   17  1974   \n...    ...                  ...      ...    ...              ...  ...   ...   \n17523  576       Nicolò Zaniolo   it ITA  FW,MF      Aston Villa   24  1999   \n17524  577        Anass Zaroury   ma MAR  FW,MF          Burnley   22  2000   \n17525  578  Oleksandr Zinchenko   ua UKR     DF          Arsenal   26  1996   \n17526  579           Kurt Zouma   fr FRA     DF         West Ham   28  1994   \n17527  580      Martin Ødegaard   no NOR     MF          Arsenal   24  1998   \n\n       MP  Starts    Min  ...  PrgC   PrgP   PrgR  xG.1  xAG.1  xG+xAG  \\\n0      40      40  3,600  ...   NaN    NaN    NaN   NaN    NaN     NaN   \n1      38      38  3,245  ...   NaN    NaN    NaN   NaN    NaN     NaN   \n2      32      26  2,454  ...   NaN    NaN    NaN   NaN    NaN     NaN   \n3      35      33  3,005  ...   NaN    NaN    NaN   NaN    NaN     NaN   \n4       1       0     11  ...   NaN    NaN    NaN   NaN    NaN     NaN   \n...    ..     ...    ...  ...   ...    ...    ...   ...    ...     ...   \n17523  25       9    839  ...  35.0   30.0   60.0  0.28   0.11    0.39   \n17524   6       1    152  ...   2.0    2.0   12.0  0.10   0.02    0.12   \n17525  27      20  1,722  ...  40.0  229.0   58.0  0.03   0.13    0.16   \n17526  33      32  2,838  ...   7.0   53.0    1.0  0.06   0.01    0.06   \n17527  35      35  3,091  ...  91.0  344.0  202.0  0.22   0.28    0.50   \n\n       npxG.1  npxG+xAG.1  year_y  Squad_y  \n0         NaN         NaN     NaN      NaN  \n1         NaN         NaN     NaN      NaN  \n2         NaN         NaN     NaN      NaN  \n3         NaN         NaN     NaN      NaN  \n4         NaN         NaN     NaN      NaN  \n...       ...         ...     ...      ...  \n17523    0.28        0.39     NaN      NaN  \n17524    0.10        0.12     NaN      NaN  \n17525    0.03        0.16     NaN      NaN  \n17526    0.06        0.06     NaN      NaN  \n17527    0.17        0.45     NaN      NaN  \n\n[17528 rows x 41 columns]",
      "text/html": "<div>\n<style scoped>\n    .dataframe tbody tr th:only-of-type {\n        vertical-align: middle;\n    }\n\n    .dataframe tbody tr th {\n        vertical-align: top;\n    }\n\n    .dataframe thead th {\n        text-align: right;\n    }\n</style>\n<table border=\"1\" class=\"dataframe\">\n  <thead>\n    <tr style=\"text-align: right;\">\n      <th></th>\n      <th>Rk</th>\n      <th>Player</th>\n      <th>Nation</th>\n      <th>Pos</th>\n      <th>Squad_x</th>\n      <th>Age</th>\n      <th>Born</th>\n      <th>MP</th>\n      <th>Starts</th>\n      <th>Min</th>\n      <th>...</th>\n      <th>PrgC</th>\n      <th>PrgP</th>\n      <th>PrgR</th>\n      <th>xG.1</th>\n      <th>xAG.1</th>\n      <th>xG+xAG</th>\n      <th>npxG.1</th>\n      <th>npxG+xAG.1</th>\n      <th>year_y</th>\n      <th>Squad_y</th>\n    </tr>\n  </thead>\n  <tbody>\n    <tr>\n      <th>0</th>\n      <td>1</td>\n      <td>Gary Ablett</td>\n      <td>eng ENG</td>\n      <td>DF</td>\n      <td>Everton</td>\n      <td>26</td>\n      <td>1965</td>\n      <td>40</td>\n      <td>40</td>\n      <td>3,600</td>\n      <td>...</td>\n      <td>NaN</td>\n      <td>NaN</td>\n      <td>NaN</td>\n      <td>NaN</td>\n      <td>NaN</td>\n      <td>NaN</td>\n      <td>NaN</td>\n      <td>NaN</td>\n      <td>NaN</td>\n      <td>NaN</td>\n    </tr>\n    <tr>\n      <th>1</th>\n      <td>2</td>\n      <td>Micky Adams</td>\n      <td>eng ENG</td>\n      <td>DF</td>\n      <td>Southampton</td>\n      <td>30</td>\n      <td>1961</td>\n      <td>38</td>\n      <td>38</td>\n      <td>3,245</td>\n      <td>...</td>\n      <td>NaN</td>\n      <td>NaN</td>\n      <td>NaN</td>\n      <td>NaN</td>\n      <td>NaN</td>\n      <td>NaN</td>\n      <td>NaN</td>\n      <td>NaN</td>\n      <td>NaN</td>\n      <td>NaN</td>\n    </tr>\n    <tr>\n      <th>2</th>\n      <td>3</td>\n      <td>Neil Adams</td>\n      <td>eng ENG</td>\n      <td>MF</td>\n      <td>Oldham Athletic</td>\n      <td>26</td>\n      <td>1965</td>\n      <td>32</td>\n      <td>26</td>\n      <td>2,454</td>\n      <td>...</td>\n      <td>NaN</td>\n      <td>NaN</td>\n      <td>NaN</td>\n      <td>NaN</td>\n      <td>NaN</td>\n      <td>NaN</td>\n      <td>NaN</td>\n      <td>NaN</td>\n      <td>NaN</td>\n      <td>NaN</td>\n    </tr>\n    <tr>\n      <th>3</th>\n      <td>4</td>\n      <td>Tony Adams</td>\n      <td>eng ENG</td>\n      <td>DF</td>\n      <td>Arsenal</td>\n      <td>25</td>\n      <td>1966</td>\n      <td>35</td>\n      <td>33</td>\n      <td>3,005</td>\n      <td>...</td>\n      <td>NaN</td>\n      <td>NaN</td>\n      <td>NaN</td>\n      <td>NaN</td>\n      <td>NaN</td>\n      <td>NaN</td>\n      <td>NaN</td>\n      <td>NaN</td>\n      <td>NaN</td>\n      <td>NaN</td>\n    </tr>\n    <tr>\n      <th>4</th>\n      <td>5</td>\n      <td>Derek Allan</td>\n      <td>NaN</td>\n      <td>DF</td>\n      <td>Southampton</td>\n      <td>17</td>\n      <td>1974</td>\n      <td>1</td>\n      <td>0</td>\n      <td>11</td>\n      <td>...</td>\n      <td>NaN</td>\n      <td>NaN</td>\n      <td>NaN</td>\n      <td>NaN</td>\n      <td>NaN</td>\n      <td>NaN</td>\n      <td>NaN</td>\n      <td>NaN</td>\n      <td>NaN</td>\n      <td>NaN</td>\n    </tr>\n    <tr>\n      <th>...</th>\n      <td>...</td>\n      <td>...</td>\n      <td>...</td>\n      <td>...</td>\n      <td>...</td>\n      <td>...</td>\n      <td>...</td>\n      <td>...</td>\n      <td>...</td>\n      <td>...</td>\n      <td>...</td>\n      <td>...</td>\n      <td>...</td>\n      <td>...</td>\n      <td>...</td>\n      <td>...</td>\n      <td>...</td>\n      <td>...</td>\n      <td>...</td>\n      <td>...</td>\n      <td>...</td>\n    </tr>\n    <tr>\n      <th>17523</th>\n      <td>576</td>\n      <td>Nicolò Zaniolo</td>\n      <td>it ITA</td>\n      <td>FW,MF</td>\n      <td>Aston Villa</td>\n      <td>24</td>\n      <td>1999</td>\n      <td>25</td>\n      <td>9</td>\n      <td>839</td>\n      <td>...</td>\n      <td>35.0</td>\n      <td>30.0</td>\n      <td>60.0</td>\n      <td>0.28</td>\n      <td>0.11</td>\n      <td>0.39</td>\n      <td>0.28</td>\n      <td>0.39</td>\n      <td>NaN</td>\n      <td>NaN</td>\n    </tr>\n    <tr>\n      <th>17524</th>\n      <td>577</td>\n      <td>Anass Zaroury</td>\n      <td>ma MAR</td>\n      <td>FW,MF</td>\n      <td>Burnley</td>\n      <td>22</td>\n      <td>2000</td>\n      <td>6</td>\n      <td>1</td>\n      <td>152</td>\n      <td>...</td>\n      <td>2.0</td>\n      <td>2.0</td>\n      <td>12.0</td>\n      <td>0.10</td>\n      <td>0.02</td>\n      <td>0.12</td>\n      <td>0.10</td>\n      <td>0.12</td>\n      <td>NaN</td>\n      <td>NaN</td>\n    </tr>\n    <tr>\n      <th>17525</th>\n      <td>578</td>\n      <td>Oleksandr Zinchenko</td>\n      <td>ua UKR</td>\n      <td>DF</td>\n      <td>Arsenal</td>\n      <td>26</td>\n      <td>1996</td>\n      <td>27</td>\n      <td>20</td>\n      <td>1,722</td>\n      <td>...</td>\n      <td>40.0</td>\n      <td>229.0</td>\n      <td>58.0</td>\n      <td>0.03</td>\n      <td>0.13</td>\n      <td>0.16</td>\n      <td>0.03</td>\n      <td>0.16</td>\n      <td>NaN</td>\n      <td>NaN</td>\n    </tr>\n    <tr>\n      <th>17526</th>\n      <td>579</td>\n      <td>Kurt Zouma</td>\n      <td>fr FRA</td>\n      <td>DF</td>\n      <td>West Ham</td>\n      <td>28</td>\n      <td>1994</td>\n      <td>33</td>\n      <td>32</td>\n      <td>2,838</td>\n      <td>...</td>\n      <td>7.0</td>\n      <td>53.0</td>\n      <td>1.0</td>\n      <td>0.06</td>\n      <td>0.01</td>\n      <td>0.06</td>\n      <td>0.06</td>\n      <td>0.06</td>\n      <td>NaN</td>\n      <td>NaN</td>\n    </tr>\n    <tr>\n      <th>17527</th>\n      <td>580</td>\n      <td>Martin Ødegaard</td>\n      <td>no NOR</td>\n      <td>MF</td>\n      <td>Arsenal</td>\n      <td>24</td>\n      <td>1998</td>\n      <td>35</td>\n      <td>35</td>\n      <td>3,091</td>\n      <td>...</td>\n      <td>91.0</td>\n      <td>344.0</td>\n      <td>202.0</td>\n      <td>0.22</td>\n      <td>0.28</td>\n      <td>0.50</td>\n      <td>0.17</td>\n      <td>0.45</td>\n      <td>NaN</td>\n      <td>NaN</td>\n    </tr>\n  </tbody>\n</table>\n<p>17528 rows × 41 columns</p>\n</div>"
     },
     "execution_count": 311,
     "metadata": {},
     "output_type": "execute_result"
    }
   ],
   "source": [
    "players"
   ],
   "metadata": {
    "collapsed": false,
    "ExecuteTime": {
     "end_time": "2024-06-05T07:27:10.585348800Z",
     "start_time": "2024-06-05T07:27:10.392939Z"
    }
   }
  },
  {
   "cell_type": "markdown",
   "source": [
    "delete unnecessary columns"
   ],
   "metadata": {
    "collapsed": false
   }
  },
  {
   "cell_type": "code",
   "execution_count": 312,
   "outputs": [],
   "source": [
    "del players[\"Nation\"]"
   ],
   "metadata": {
    "collapsed": false,
    "ExecuteTime": {
     "end_time": "2024-06-05T07:27:13.137079600Z",
     "start_time": "2024-06-05T07:27:13.051783900Z"
    }
   }
  },
  {
   "cell_type": "code",
   "execution_count": 313,
   "outputs": [],
   "source": [
    "del players[\"Rk\"]"
   ],
   "metadata": {
    "collapsed": false,
    "ExecuteTime": {
     "end_time": "2024-06-05T07:27:16.348383500Z",
     "start_time": "2024-06-05T07:27:16.211384600Z"
    }
   }
  },
  {
   "cell_type": "markdown",
   "source": [],
   "metadata": {
    "collapsed": false
   }
  },
  {
   "cell_type": "code",
   "execution_count": 314,
   "outputs": [],
   "source": [
    "del players[\"Born\"]"
   ],
   "metadata": {
    "collapsed": false,
    "ExecuteTime": {
     "end_time": "2024-06-05T07:27:17.952658100Z",
     "start_time": "2024-06-05T07:27:17.906938200Z"
    }
   }
  },
  {
   "cell_type": "code",
   "execution_count": 315,
   "outputs": [],
   "source": [
    "del players[\"Matches\"]"
   ],
   "metadata": {
    "collapsed": false,
    "ExecuteTime": {
     "end_time": "2024-06-05T07:27:20.057083Z",
     "start_time": "2024-06-05T07:27:20.014192900Z"
    }
   }
  },
  {
   "cell_type": "code",
   "execution_count": 316,
   "outputs": [],
   "source": [
    "players= players.rename(columns={\"year_x\": \"year\"})"
   ],
   "metadata": {
    "collapsed": false,
    "ExecuteTime": {
     "end_time": "2024-06-05T07:27:25.375084300Z",
     "start_time": "2024-06-05T07:27:25.273195400Z"
    }
   }
  },
  {
   "cell_type": "code",
   "execution_count": 317,
   "outputs": [],
   "source": [
    "players = players.rename(columns={\"Squad_x\": \"Squad\"})"
   ],
   "metadata": {
    "collapsed": false,
    "ExecuteTime": {
     "end_time": "2024-06-05T07:27:27.295752400Z",
     "start_time": "2024-06-05T07:27:27.249448200Z"
    }
   }
  },
  {
   "cell_type": "code",
   "execution_count": 318,
   "outputs": [],
   "source": [
    "players_df = players.copy()"
   ],
   "metadata": {
    "collapsed": false,
    "ExecuteTime": {
     "end_time": "2024-06-05T07:27:30.422390Z",
     "start_time": "2024-06-05T07:27:30.376551600Z"
    }
   }
  },
  {
   "cell_type": "code",
   "execution_count": null,
   "outputs": [],
   "source": [
    "players_df.columns"
   ],
   "metadata": {
    "collapsed": false
   }
  },
  {
   "cell_type": "code",
   "execution_count": null,
   "outputs": [],
   "source": [
    "players_df"
   ],
   "metadata": {
    "collapsed": false
   }
  },
  {
   "cell_type": "code",
   "execution_count": 319,
   "outputs": [],
   "source": [
    "players_df['Min'] = pd.to_numeric(players_df['Min'].str.replace(',', ''), errors='coerce')"
   ],
   "metadata": {
    "collapsed": false,
    "ExecuteTime": {
     "end_time": "2024-06-05T07:27:37.465730800Z",
     "start_time": "2024-06-05T07:27:37.347359Z"
    }
   }
  },
  {
   "cell_type": "code",
   "execution_count": 320,
   "outputs": [],
   "source": [
    "players_df['G+A'] = players_df['G+A'].fillna(0).astype('int64')"
   ],
   "metadata": {
    "collapsed": false,
    "ExecuteTime": {
     "end_time": "2024-06-05T07:27:39.165203Z",
     "start_time": "2024-06-05T07:27:39.015125800Z"
    }
   }
  },
  {
   "cell_type": "code",
   "execution_count": 321,
   "outputs": [],
   "source": [
    "players_df['Gls'] = players_df['Gls'].fillna(0).astype('int64')"
   ],
   "metadata": {
    "collapsed": false,
    "ExecuteTime": {
     "end_time": "2024-06-05T07:27:43.533022100Z",
     "start_time": "2024-06-05T07:27:43.424307300Z"
    }
   }
  },
  {
   "cell_type": "code",
   "execution_count": 322,
   "outputs": [],
   "source": [
    "players_df['Ast'] = players_df['Ast'].fillna(0).astype('int64')"
   ],
   "metadata": {
    "collapsed": false,
    "ExecuteTime": {
     "end_time": "2024-06-05T07:27:45.380452400Z",
     "start_time": "2024-06-05T07:27:45.331865400Z"
    }
   }
  },
  {
   "cell_type": "code",
   "execution_count": 323,
   "outputs": [],
   "source": [
    "players_df['CrdR'] = players_df['CrdR'].fillna(0).astype('int64')"
   ],
   "metadata": {
    "collapsed": false,
    "ExecuteTime": {
     "end_time": "2024-06-05T07:27:47.609206500Z",
     "start_time": "2024-06-05T07:27:47.574300200Z"
    }
   }
  },
  {
   "cell_type": "code",
   "execution_count": 324,
   "outputs": [],
   "source": [
    "players_df['CrdY'] = players_df['CrdY'].fillna(0).astype('int64')"
   ],
   "metadata": {
    "collapsed": false,
    "ExecuteTime": {
     "end_time": "2024-06-05T07:27:53.267641800Z",
     "start_time": "2024-06-05T07:27:53.223073500Z"
    }
   }
  },
  {
   "cell_type": "code",
   "execution_count": 325,
   "outputs": [],
   "source": [
    "players_df['PrgC'] = players_df['PrgC'].fillna(0).astype('int64')"
   ],
   "metadata": {
    "collapsed": false,
    "ExecuteTime": {
     "end_time": "2024-06-05T07:27:55.379744300Z",
     "start_time": "2024-06-05T07:27:55.323895800Z"
    }
   }
  },
  {
   "cell_type": "code",
   "execution_count": 326,
   "outputs": [],
   "source": [
    "players_df['PrgP'] = players_df['PrgP'].fillna(0).astype('int64')"
   ],
   "metadata": {
    "collapsed": false,
    "ExecuteTime": {
     "end_time": "2024-06-05T07:27:59.287743900Z",
     "start_time": "2024-06-05T07:27:59.246232200Z"
    }
   }
  },
  {
   "cell_type": "code",
   "execution_count": 327,
   "outputs": [],
   "source": [
    "players_df['PrgR'] = players_df['PrgR'].fillna(0).astype('int64')"
   ],
   "metadata": {
    "collapsed": false,
    "ExecuteTime": {
     "end_time": "2024-06-05T07:28:02.107860300Z",
     "start_time": "2024-06-05T07:28:01.933502400Z"
    }
   }
  },
  {
   "cell_type": "code",
   "execution_count": 328,
   "outputs": [],
   "source": [
    "players_df = players_df.rename(columns={\"Squad_y\": \"poy_winner_team\"})"
   ],
   "metadata": {
    "collapsed": false,
    "ExecuteTime": {
     "end_time": "2024-06-05T07:28:06.883853800Z",
     "start_time": "2024-06-05T07:28:06.774875300Z"
    }
   }
  },
  {
   "cell_type": "code",
   "execution_count": 329,
   "outputs": [],
   "source": [
    "players_df = players_df.rename(columns={\"year_y\": \"poy_win_year\"})"
   ],
   "metadata": {
    "collapsed": false,
    "ExecuteTime": {
     "end_time": "2024-06-05T07:28:10.220620600Z",
     "start_time": "2024-06-05T07:28:10.175393200Z"
    }
   }
  },
  {
   "cell_type": "code",
   "execution_count": null,
   "outputs": [],
   "source": [
    "players_df.dtypes"
   ],
   "metadata": {
    "collapsed": false
   }
  },
  {
   "cell_type": "code",
   "execution_count": 330,
   "outputs": [],
   "source": [
    "columns_drop = [\n",
    "       'G-PK', 'PK', 'PKatt',\n",
    "]\n",
    "players_df.drop(columns=columns_drop, inplace=True)"
   ],
   "metadata": {
    "collapsed": false,
    "ExecuteTime": {
     "end_time": "2024-06-05T07:28:14.580555100Z",
     "start_time": "2024-06-05T07:28:14.423885100Z"
    }
   }
  },
  {
   "cell_type": "code",
   "execution_count": 331,
   "outputs": [],
   "source": [
    "columns_to_drop = ['xG.1', 'xAG.1', 'xG+xAG', 'npxG.1',\n",
    "       'npxG+xAG.1']\n",
    "players_df.drop(columns=columns_to_drop, inplace=True)"
   ],
   "metadata": {
    "collapsed": false,
    "ExecuteTime": {
     "end_time": "2024-06-05T07:28:17.193691800Z",
     "start_time": "2024-06-05T07:28:17.130075400Z"
    }
   }
  },
  {
   "cell_type": "code",
   "execution_count": 332,
   "outputs": [],
   "source": [
    "drop_cols = [\n",
    "    'Gls.1', 'Ast.1', 'G+A.1', 'G-PK.1', 'G+A-PK'\n",
    "]\n",
    "players_df.drop(columns=drop_cols, inplace=True)"
   ],
   "metadata": {
    "collapsed": false,
    "ExecuteTime": {
     "end_time": "2024-06-05T07:28:22.981705200Z",
     "start_time": "2024-06-05T07:28:22.874080100Z"
    }
   }
  },
  {
   "cell_type": "code",
   "execution_count": 333,
   "outputs": [],
   "source": [
    "players_df['poy_win_year'] = players_df['poy_win_year'].fillna(0).astype('int64')"
   ],
   "metadata": {
    "collapsed": false,
    "ExecuteTime": {
     "end_time": "2024-06-05T07:28:29.301492700Z",
     "start_time": "2024-06-05T07:28:29.065493800Z"
    }
   }
  },
  {
   "cell_type": "markdown",
   "source": [
    "next step, remove duplicate names by grouping players that played for multiple clubs together either the same year or different years. SO we want total player stats in a year"
   ],
   "metadata": {
    "collapsed": false
   }
  },
  {
   "cell_type": "code",
   "execution_count": null,
   "outputs": [],
   "source": [
    "name_counts = players_df[\"Player\"].value_counts()\n",
    "duplicate_names = name_counts[name_counts > 1]\n",
    "\n",
    "print(duplicate_names)"
   ],
   "metadata": {
    "collapsed": false
   }
  },
  {
   "cell_type": "markdown",
   "source": [
    "players_df.groupby([\"Player\"]).get_group(\"James Milner\")"
   ],
   "metadata": {
    "collapsed": false
   }
  },
  {
   "cell_type": "markdown",
   "source": [
    "players_df.groupby([\"Player\"])"
   ],
   "metadata": {
    "collapsed": false
   }
  },
  {
   "cell_type": "code",
   "execution_count": null,
   "outputs": [],
   "source": [],
   "metadata": {
    "collapsed": false
   }
  },
  {
   "cell_type": "code",
   "execution_count": 334,
   "outputs": [],
   "source": [
    "players_df[\"name\"] = players_df[\"Player\"]"
   ],
   "metadata": {
    "collapsed": false,
    "ExecuteTime": {
     "end_time": "2024-06-05T07:31:38.925654600Z",
     "start_time": "2024-06-05T07:31:38.853126100Z"
    }
   }
  },
  {
   "cell_type": "code",
   "execution_count": 335,
   "outputs": [
    {
     "data": {
      "text/plain": "                    Player    Pos            Squad  Age  MP  Starts   Min  \\\n0              Gary Ablett     DF          Everton   26  40      40  3600   \n1              Micky Adams     DF      Southampton   30  38      38  3245   \n2               Neil Adams     MF  Oldham Athletic   26  32      26  2454   \n3               Tony Adams     DF          Arsenal   25  35      33  3005   \n4              Derek Allan     DF      Southampton   17   1       0    11   \n...                    ...    ...              ...  ...  ..     ...   ...   \n17523       Nicolò Zaniolo  FW,MF      Aston Villa   24  25       9   839   \n17524        Anass Zaroury  FW,MF          Burnley   22   6       1   152   \n17525  Oleksandr Zinchenko     DF          Arsenal   26  27      20  1722   \n17526           Kurt Zouma     DF         West Ham   28  33      32  2838   \n17527      Martin Ødegaard     MF          Arsenal   24  35      35  3091   \n\n        90s  Gls  Ast  ...   xG  npxG  xAG  npxG+xAG PrgC  PrgP  PrgR  \\\n0      40.0    0    2  ...  NaN   NaN  NaN       NaN    0     0     0   \n1      36.1    4    3  ...  NaN   NaN  NaN       NaN    0     0     0   \n2      27.3    8    2  ...  NaN   NaN  NaN       NaN    0     0     0   \n3      33.4    0    0  ...  NaN   NaN  NaN       NaN    0     0     0   \n4       0.1    0    0  ...  NaN   NaN  NaN       NaN    0     0     0   \n...     ...  ...  ...  ...  ...   ...  ...       ...  ...   ...   ...   \n17523   9.3    2    0  ...  2.6   2.6  1.0       3.6   35    30    60   \n17524   1.7    0    0  ...  0.2   0.2  0.0       0.2    2     2    12   \n17525  19.1    1    2  ...  0.6   0.6  2.5       3.1   40   229    58   \n17526  31.5    3    0  ...  1.8   1.8  0.2       2.0    7    53     1   \n17527  34.3    8   10  ...  7.4   5.8  9.6      15.5   91   344   202   \n\n       poy_win_year  poy_winner_team                 name  \n0                 0              NaN          Gary Ablett  \n1                 0              NaN          Micky Adams  \n2                 0              NaN           Neil Adams  \n3                 0              NaN           Tony Adams  \n4                 0              NaN          Derek Allan  \n...             ...              ...                  ...  \n17523             0              NaN       Nicolò Zaniolo  \n17524             0              NaN        Anass Zaroury  \n17525             0              NaN  Oleksandr Zinchenko  \n17526             0              NaN           Kurt Zouma  \n17527             0              NaN      Martin Ødegaard  \n\n[17528 rows x 25 columns]",
      "text/html": "<div>\n<style scoped>\n    .dataframe tbody tr th:only-of-type {\n        vertical-align: middle;\n    }\n\n    .dataframe tbody tr th {\n        vertical-align: top;\n    }\n\n    .dataframe thead th {\n        text-align: right;\n    }\n</style>\n<table border=\"1\" class=\"dataframe\">\n  <thead>\n    <tr style=\"text-align: right;\">\n      <th></th>\n      <th>Player</th>\n      <th>Pos</th>\n      <th>Squad</th>\n      <th>Age</th>\n      <th>MP</th>\n      <th>Starts</th>\n      <th>Min</th>\n      <th>90s</th>\n      <th>Gls</th>\n      <th>Ast</th>\n      <th>...</th>\n      <th>xG</th>\n      <th>npxG</th>\n      <th>xAG</th>\n      <th>npxG+xAG</th>\n      <th>PrgC</th>\n      <th>PrgP</th>\n      <th>PrgR</th>\n      <th>poy_win_year</th>\n      <th>poy_winner_team</th>\n      <th>name</th>\n    </tr>\n  </thead>\n  <tbody>\n    <tr>\n      <th>0</th>\n      <td>Gary Ablett</td>\n      <td>DF</td>\n      <td>Everton</td>\n      <td>26</td>\n      <td>40</td>\n      <td>40</td>\n      <td>3600</td>\n      <td>40.0</td>\n      <td>0</td>\n      <td>2</td>\n      <td>...</td>\n      <td>NaN</td>\n      <td>NaN</td>\n      <td>NaN</td>\n      <td>NaN</td>\n      <td>0</td>\n      <td>0</td>\n      <td>0</td>\n      <td>0</td>\n      <td>NaN</td>\n      <td>Gary Ablett</td>\n    </tr>\n    <tr>\n      <th>1</th>\n      <td>Micky Adams</td>\n      <td>DF</td>\n      <td>Southampton</td>\n      <td>30</td>\n      <td>38</td>\n      <td>38</td>\n      <td>3245</td>\n      <td>36.1</td>\n      <td>4</td>\n      <td>3</td>\n      <td>...</td>\n      <td>NaN</td>\n      <td>NaN</td>\n      <td>NaN</td>\n      <td>NaN</td>\n      <td>0</td>\n      <td>0</td>\n      <td>0</td>\n      <td>0</td>\n      <td>NaN</td>\n      <td>Micky Adams</td>\n    </tr>\n    <tr>\n      <th>2</th>\n      <td>Neil Adams</td>\n      <td>MF</td>\n      <td>Oldham Athletic</td>\n      <td>26</td>\n      <td>32</td>\n      <td>26</td>\n      <td>2454</td>\n      <td>27.3</td>\n      <td>8</td>\n      <td>2</td>\n      <td>...</td>\n      <td>NaN</td>\n      <td>NaN</td>\n      <td>NaN</td>\n      <td>NaN</td>\n      <td>0</td>\n      <td>0</td>\n      <td>0</td>\n      <td>0</td>\n      <td>NaN</td>\n      <td>Neil Adams</td>\n    </tr>\n    <tr>\n      <th>3</th>\n      <td>Tony Adams</td>\n      <td>DF</td>\n      <td>Arsenal</td>\n      <td>25</td>\n      <td>35</td>\n      <td>33</td>\n      <td>3005</td>\n      <td>33.4</td>\n      <td>0</td>\n      <td>0</td>\n      <td>...</td>\n      <td>NaN</td>\n      <td>NaN</td>\n      <td>NaN</td>\n      <td>NaN</td>\n      <td>0</td>\n      <td>0</td>\n      <td>0</td>\n      <td>0</td>\n      <td>NaN</td>\n      <td>Tony Adams</td>\n    </tr>\n    <tr>\n      <th>4</th>\n      <td>Derek Allan</td>\n      <td>DF</td>\n      <td>Southampton</td>\n      <td>17</td>\n      <td>1</td>\n      <td>0</td>\n      <td>11</td>\n      <td>0.1</td>\n      <td>0</td>\n      <td>0</td>\n      <td>...</td>\n      <td>NaN</td>\n      <td>NaN</td>\n      <td>NaN</td>\n      <td>NaN</td>\n      <td>0</td>\n      <td>0</td>\n      <td>0</td>\n      <td>0</td>\n      <td>NaN</td>\n      <td>Derek Allan</td>\n    </tr>\n    <tr>\n      <th>...</th>\n      <td>...</td>\n      <td>...</td>\n      <td>...</td>\n      <td>...</td>\n      <td>...</td>\n      <td>...</td>\n      <td>...</td>\n      <td>...</td>\n      <td>...</td>\n      <td>...</td>\n      <td>...</td>\n      <td>...</td>\n      <td>...</td>\n      <td>...</td>\n      <td>...</td>\n      <td>...</td>\n      <td>...</td>\n      <td>...</td>\n      <td>...</td>\n      <td>...</td>\n      <td>...</td>\n    </tr>\n    <tr>\n      <th>17523</th>\n      <td>Nicolò Zaniolo</td>\n      <td>FW,MF</td>\n      <td>Aston Villa</td>\n      <td>24</td>\n      <td>25</td>\n      <td>9</td>\n      <td>839</td>\n      <td>9.3</td>\n      <td>2</td>\n      <td>0</td>\n      <td>...</td>\n      <td>2.6</td>\n      <td>2.6</td>\n      <td>1.0</td>\n      <td>3.6</td>\n      <td>35</td>\n      <td>30</td>\n      <td>60</td>\n      <td>0</td>\n      <td>NaN</td>\n      <td>Nicolò Zaniolo</td>\n    </tr>\n    <tr>\n      <th>17524</th>\n      <td>Anass Zaroury</td>\n      <td>FW,MF</td>\n      <td>Burnley</td>\n      <td>22</td>\n      <td>6</td>\n      <td>1</td>\n      <td>152</td>\n      <td>1.7</td>\n      <td>0</td>\n      <td>0</td>\n      <td>...</td>\n      <td>0.2</td>\n      <td>0.2</td>\n      <td>0.0</td>\n      <td>0.2</td>\n      <td>2</td>\n      <td>2</td>\n      <td>12</td>\n      <td>0</td>\n      <td>NaN</td>\n      <td>Anass Zaroury</td>\n    </tr>\n    <tr>\n      <th>17525</th>\n      <td>Oleksandr Zinchenko</td>\n      <td>DF</td>\n      <td>Arsenal</td>\n      <td>26</td>\n      <td>27</td>\n      <td>20</td>\n      <td>1722</td>\n      <td>19.1</td>\n      <td>1</td>\n      <td>2</td>\n      <td>...</td>\n      <td>0.6</td>\n      <td>0.6</td>\n      <td>2.5</td>\n      <td>3.1</td>\n      <td>40</td>\n      <td>229</td>\n      <td>58</td>\n      <td>0</td>\n      <td>NaN</td>\n      <td>Oleksandr Zinchenko</td>\n    </tr>\n    <tr>\n      <th>17526</th>\n      <td>Kurt Zouma</td>\n      <td>DF</td>\n      <td>West Ham</td>\n      <td>28</td>\n      <td>33</td>\n      <td>32</td>\n      <td>2838</td>\n      <td>31.5</td>\n      <td>3</td>\n      <td>0</td>\n      <td>...</td>\n      <td>1.8</td>\n      <td>1.8</td>\n      <td>0.2</td>\n      <td>2.0</td>\n      <td>7</td>\n      <td>53</td>\n      <td>1</td>\n      <td>0</td>\n      <td>NaN</td>\n      <td>Kurt Zouma</td>\n    </tr>\n    <tr>\n      <th>17527</th>\n      <td>Martin Ødegaard</td>\n      <td>MF</td>\n      <td>Arsenal</td>\n      <td>24</td>\n      <td>35</td>\n      <td>35</td>\n      <td>3091</td>\n      <td>34.3</td>\n      <td>8</td>\n      <td>10</td>\n      <td>...</td>\n      <td>7.4</td>\n      <td>5.8</td>\n      <td>9.6</td>\n      <td>15.5</td>\n      <td>91</td>\n      <td>344</td>\n      <td>202</td>\n      <td>0</td>\n      <td>NaN</td>\n      <td>Martin Ødegaard</td>\n    </tr>\n  </tbody>\n</table>\n<p>17528 rows × 25 columns</p>\n</div>"
     },
     "execution_count": 335,
     "metadata": {},
     "output_type": "execute_result"
    }
   ],
   "source": [
    "players_df"
   ],
   "metadata": {
    "collapsed": false,
    "ExecuteTime": {
     "end_time": "2024-06-05T07:31:51.986043300Z",
     "start_time": "2024-06-05T07:31:51.885817400Z"
    }
   }
  },
  {
   "cell_type": "markdown",
   "source": [
    "players_df[players_df[\"Min\"] <= 500]"
   ],
   "metadata": {
    "collapsed": false
   }
  },
  {
   "cell_type": "markdown",
   "source": [
    "players_df[players_df[\"MP\"] < 10]"
   ],
   "metadata": {
    "collapsed": false
   }
  },
  {
   "cell_type": "markdown",
   "source": [
    "players_df = players_df[players_df[\"MP\"] >= 10]"
   ],
   "metadata": {
    "collapsed": false
   }
  },
  {
   "cell_type": "code",
   "execution_count": null,
   "outputs": [],
   "source": [
    "name_counts = players_df[\"Player\"].value_counts()\n",
    "duplicate_names = name_counts[name_counts > 1]\n",
    "\n",
    "duplicate_names"
   ],
   "metadata": {
    "collapsed": false
   }
  },
  {
   "cell_type": "code",
   "execution_count": null,
   "outputs": [],
   "source": [
    "players_df.groupby([\"Player\", \"year\"]).get_group((\"Ryan Giggs\", 2004))"
   ],
   "metadata": {
    "collapsed": false
   }
  },
  {
   "cell_type": "code",
   "execution_count": 4,
   "outputs": [],
   "source": [
    "regrouped_df = pd.read_csv(\"grouped_data.csv\")"
   ],
   "metadata": {
    "collapsed": false,
    "ExecuteTime": {
     "end_time": "2024-06-06T08:41:50.346056600Z",
     "start_time": "2024-06-06T08:41:50.102713500Z"
    }
   }
  },
  {
   "cell_type": "code",
   "execution_count": 5,
   "outputs": [
    {
     "data": {
      "text/plain": "                Player    Pos     Squad  Age  MP  Starts   Min   90s  Gls  \\\n0       Aaron Connolly     FW  Brighton   19  24      14  1258  14.0    3   \n1                  NaN     FW  Brighton   20  17       9   791   8.8    2   \n2                  NaN  FW,MF  Brighton   21   4       1   156   1.7    0   \n3      Aaron Cresswell  DF,MF  West Ham   24  38      38  3420  38.0    2   \n4                  NaN     DF  West Ham   25  37      37  3314  36.8    2   \n...                ...    ...       ...  ...  ..     ...   ...   ...  ...   \n17523              NaN     GK  West Ham   34  25      25  2117  23.5    0   \n17524              NaN     GK  West Ham   35  35      35  3150  35.0    0   \n17525              NaN     GK  West Ham   36  37      37  3330  37.0    0   \n17526              NaN     GK  West Ham   37  36      36  3111  34.6    0   \n17527              NaN     GK  West Ham   38  10       7   721   8.0    0   \n\n       Ast  ...  year     season   xG  npxG  xAG  npxG+xAG  PrgC  PrgP  PrgR  \\\n0        1  ...  2019  2019/2020  4.0   4.0  0.5       4.5    21    10    86   \n1        1  ...  2020  2020/2021  4.0   4.0  0.2       4.2    12     4    58   \n2        0  ...  2021  2021/2022  0.4   0.4  0.1       0.5     3     1     7   \n3        4  ...  2014  2014/2015  0.0   0.0  0.0       0.0     0     0     0   \n4        4  ...  2015  2015/2016  0.0   0.0  0.0       0.0     0     0     0   \n...    ...  ...   ...        ...  ...   ...  ...       ...   ...   ...   ...   \n17523    0  ...  2019  2019/2020  0.0   0.0  0.0       0.0     0     0     0   \n17524    0  ...  2020  2020/2021  0.0   0.0  0.0       0.0     0     0     0   \n17525    0  ...  2021  2021/2022  0.0   0.0  0.0       0.0     0     0     0   \n17526    0  ...  2022  2022/2023  0.0   0.0  0.0       0.0     0     0     0   \n17527    0  ...  2023  2023/2024  0.0   0.0  0.0       0.0     0     1     0   \n\n       poy_winner  \n0               0  \n1               0  \n2               0  \n3               0  \n4               0  \n...           ...  \n17523           0  \n17524           0  \n17525           0  \n17526           0  \n17527           0  \n\n[17528 rows x 23 columns]",
      "text/html": "<div>\n<style scoped>\n    .dataframe tbody tr th:only-of-type {\n        vertical-align: middle;\n    }\n\n    .dataframe tbody tr th {\n        vertical-align: top;\n    }\n\n    .dataframe thead th {\n        text-align: right;\n    }\n</style>\n<table border=\"1\" class=\"dataframe\">\n  <thead>\n    <tr style=\"text-align: right;\">\n      <th></th>\n      <th>Player</th>\n      <th>Pos</th>\n      <th>Squad</th>\n      <th>Age</th>\n      <th>MP</th>\n      <th>Starts</th>\n      <th>Min</th>\n      <th>90s</th>\n      <th>Gls</th>\n      <th>Ast</th>\n      <th>...</th>\n      <th>year</th>\n      <th>season</th>\n      <th>xG</th>\n      <th>npxG</th>\n      <th>xAG</th>\n      <th>npxG+xAG</th>\n      <th>PrgC</th>\n      <th>PrgP</th>\n      <th>PrgR</th>\n      <th>poy_winner</th>\n    </tr>\n  </thead>\n  <tbody>\n    <tr>\n      <th>0</th>\n      <td>Aaron Connolly</td>\n      <td>FW</td>\n      <td>Brighton</td>\n      <td>19</td>\n      <td>24</td>\n      <td>14</td>\n      <td>1258</td>\n      <td>14.0</td>\n      <td>3</td>\n      <td>1</td>\n      <td>...</td>\n      <td>2019</td>\n      <td>2019/2020</td>\n      <td>4.0</td>\n      <td>4.0</td>\n      <td>0.5</td>\n      <td>4.5</td>\n      <td>21</td>\n      <td>10</td>\n      <td>86</td>\n      <td>0</td>\n    </tr>\n    <tr>\n      <th>1</th>\n      <td>NaN</td>\n      <td>FW</td>\n      <td>Brighton</td>\n      <td>20</td>\n      <td>17</td>\n      <td>9</td>\n      <td>791</td>\n      <td>8.8</td>\n      <td>2</td>\n      <td>1</td>\n      <td>...</td>\n      <td>2020</td>\n      <td>2020/2021</td>\n      <td>4.0</td>\n      <td>4.0</td>\n      <td>0.2</td>\n      <td>4.2</td>\n      <td>12</td>\n      <td>4</td>\n      <td>58</td>\n      <td>0</td>\n    </tr>\n    <tr>\n      <th>2</th>\n      <td>NaN</td>\n      <td>FW,MF</td>\n      <td>Brighton</td>\n      <td>21</td>\n      <td>4</td>\n      <td>1</td>\n      <td>156</td>\n      <td>1.7</td>\n      <td>0</td>\n      <td>0</td>\n      <td>...</td>\n      <td>2021</td>\n      <td>2021/2022</td>\n      <td>0.4</td>\n      <td>0.4</td>\n      <td>0.1</td>\n      <td>0.5</td>\n      <td>3</td>\n      <td>1</td>\n      <td>7</td>\n      <td>0</td>\n    </tr>\n    <tr>\n      <th>3</th>\n      <td>Aaron Cresswell</td>\n      <td>DF,MF</td>\n      <td>West Ham</td>\n      <td>24</td>\n      <td>38</td>\n      <td>38</td>\n      <td>3420</td>\n      <td>38.0</td>\n      <td>2</td>\n      <td>4</td>\n      <td>...</td>\n      <td>2014</td>\n      <td>2014/2015</td>\n      <td>0.0</td>\n      <td>0.0</td>\n      <td>0.0</td>\n      <td>0.0</td>\n      <td>0</td>\n      <td>0</td>\n      <td>0</td>\n      <td>0</td>\n    </tr>\n    <tr>\n      <th>4</th>\n      <td>NaN</td>\n      <td>DF</td>\n      <td>West Ham</td>\n      <td>25</td>\n      <td>37</td>\n      <td>37</td>\n      <td>3314</td>\n      <td>36.8</td>\n      <td>2</td>\n      <td>4</td>\n      <td>...</td>\n      <td>2015</td>\n      <td>2015/2016</td>\n      <td>0.0</td>\n      <td>0.0</td>\n      <td>0.0</td>\n      <td>0.0</td>\n      <td>0</td>\n      <td>0</td>\n      <td>0</td>\n      <td>0</td>\n    </tr>\n    <tr>\n      <th>...</th>\n      <td>...</td>\n      <td>...</td>\n      <td>...</td>\n      <td>...</td>\n      <td>...</td>\n      <td>...</td>\n      <td>...</td>\n      <td>...</td>\n      <td>...</td>\n      <td>...</td>\n      <td>...</td>\n      <td>...</td>\n      <td>...</td>\n      <td>...</td>\n      <td>...</td>\n      <td>...</td>\n      <td>...</td>\n      <td>...</td>\n      <td>...</td>\n      <td>...</td>\n      <td>...</td>\n    </tr>\n    <tr>\n      <th>17523</th>\n      <td>NaN</td>\n      <td>GK</td>\n      <td>West Ham</td>\n      <td>34</td>\n      <td>25</td>\n      <td>25</td>\n      <td>2117</td>\n      <td>23.5</td>\n      <td>0</td>\n      <td>0</td>\n      <td>...</td>\n      <td>2019</td>\n      <td>2019/2020</td>\n      <td>0.0</td>\n      <td>0.0</td>\n      <td>0.0</td>\n      <td>0.0</td>\n      <td>0</td>\n      <td>0</td>\n      <td>0</td>\n      <td>0</td>\n    </tr>\n    <tr>\n      <th>17524</th>\n      <td>NaN</td>\n      <td>GK</td>\n      <td>West Ham</td>\n      <td>35</td>\n      <td>35</td>\n      <td>35</td>\n      <td>3150</td>\n      <td>35.0</td>\n      <td>0</td>\n      <td>0</td>\n      <td>...</td>\n      <td>2020</td>\n      <td>2020/2021</td>\n      <td>0.0</td>\n      <td>0.0</td>\n      <td>0.0</td>\n      <td>0.0</td>\n      <td>0</td>\n      <td>0</td>\n      <td>0</td>\n      <td>0</td>\n    </tr>\n    <tr>\n      <th>17525</th>\n      <td>NaN</td>\n      <td>GK</td>\n      <td>West Ham</td>\n      <td>36</td>\n      <td>37</td>\n      <td>37</td>\n      <td>3330</td>\n      <td>37.0</td>\n      <td>0</td>\n      <td>0</td>\n      <td>...</td>\n      <td>2021</td>\n      <td>2021/2022</td>\n      <td>0.0</td>\n      <td>0.0</td>\n      <td>0.0</td>\n      <td>0.0</td>\n      <td>0</td>\n      <td>0</td>\n      <td>0</td>\n      <td>0</td>\n    </tr>\n    <tr>\n      <th>17526</th>\n      <td>NaN</td>\n      <td>GK</td>\n      <td>West Ham</td>\n      <td>37</td>\n      <td>36</td>\n      <td>36</td>\n      <td>3111</td>\n      <td>34.6</td>\n      <td>0</td>\n      <td>0</td>\n      <td>...</td>\n      <td>2022</td>\n      <td>2022/2023</td>\n      <td>0.0</td>\n      <td>0.0</td>\n      <td>0.0</td>\n      <td>0.0</td>\n      <td>0</td>\n      <td>0</td>\n      <td>0</td>\n      <td>0</td>\n    </tr>\n    <tr>\n      <th>17527</th>\n      <td>NaN</td>\n      <td>GK</td>\n      <td>West Ham</td>\n      <td>38</td>\n      <td>10</td>\n      <td>7</td>\n      <td>721</td>\n      <td>8.0</td>\n      <td>0</td>\n      <td>0</td>\n      <td>...</td>\n      <td>2023</td>\n      <td>2023/2024</td>\n      <td>0.0</td>\n      <td>0.0</td>\n      <td>0.0</td>\n      <td>0.0</td>\n      <td>0</td>\n      <td>1</td>\n      <td>0</td>\n      <td>0</td>\n    </tr>\n  </tbody>\n</table>\n<p>17528 rows × 23 columns</p>\n</div>"
     },
     "execution_count": 5,
     "metadata": {},
     "output_type": "execute_result"
    }
   ],
   "source": [
    "regrouped_df"
   ],
   "metadata": {
    "collapsed": false,
    "ExecuteTime": {
     "end_time": "2024-06-06T08:42:00.594620600Z",
     "start_time": "2024-06-06T08:42:00.423269600Z"
    }
   }
  },
  {
   "cell_type": "code",
   "execution_count": 6,
   "outputs": [
    {
     "name": "stderr",
     "output_type": "stream",
     "text": [
      "C:\\Users\\redi user\\AppData\\Local\\Temp\\ipykernel_17420\\980892940.py:1: FutureWarning: Series.fillna with 'method' is deprecated and will raise in a future version. Use obj.ffill() or obj.bfill() instead.\n",
      "  regrouped_df['Player'] = regrouped_df['Player'].fillna(method='ffill')\n"
     ]
    },
    {
     "data": {
      "text/plain": "                 Player    Pos     Squad  Age  MP  Starts   Min   90s  Gls  \\\n0        Aaron Connolly     FW  Brighton   19  24      14  1258  14.0    3   \n1        Aaron Connolly     FW  Brighton   20  17       9   791   8.8    2   \n2        Aaron Connolly  FW,MF  Brighton   21   4       1   156   1.7    0   \n3       Aaron Cresswell  DF,MF  West Ham   24  38      38  3420  38.0    2   \n4       Aaron Cresswell     DF  West Ham   25  37      37  3314  36.8    2   \n...                 ...    ...       ...  ...  ..     ...   ...   ...  ...   \n17523  Łukasz Fabiański     GK  West Ham   34  25      25  2117  23.5    0   \n17524  Łukasz Fabiański     GK  West Ham   35  35      35  3150  35.0    0   \n17525  Łukasz Fabiański     GK  West Ham   36  37      37  3330  37.0    0   \n17526  Łukasz Fabiański     GK  West Ham   37  36      36  3111  34.6    0   \n17527  Łukasz Fabiański     GK  West Ham   38  10       7   721   8.0    0   \n\n       Ast  ...  year     season   xG  npxG  xAG  npxG+xAG  PrgC  PrgP  PrgR  \\\n0        1  ...  2019  2019/2020  4.0   4.0  0.5       4.5    21    10    86   \n1        1  ...  2020  2020/2021  4.0   4.0  0.2       4.2    12     4    58   \n2        0  ...  2021  2021/2022  0.4   0.4  0.1       0.5     3     1     7   \n3        4  ...  2014  2014/2015  0.0   0.0  0.0       0.0     0     0     0   \n4        4  ...  2015  2015/2016  0.0   0.0  0.0       0.0     0     0     0   \n...    ...  ...   ...        ...  ...   ...  ...       ...   ...   ...   ...   \n17523    0  ...  2019  2019/2020  0.0   0.0  0.0       0.0     0     0     0   \n17524    0  ...  2020  2020/2021  0.0   0.0  0.0       0.0     0     0     0   \n17525    0  ...  2021  2021/2022  0.0   0.0  0.0       0.0     0     0     0   \n17526    0  ...  2022  2022/2023  0.0   0.0  0.0       0.0     0     0     0   \n17527    0  ...  2023  2023/2024  0.0   0.0  0.0       0.0     0     1     0   \n\n       poy_winner  \n0               0  \n1               0  \n2               0  \n3               0  \n4               0  \n...           ...  \n17523           0  \n17524           0  \n17525           0  \n17526           0  \n17527           0  \n\n[17528 rows x 23 columns]",
      "text/html": "<div>\n<style scoped>\n    .dataframe tbody tr th:only-of-type {\n        vertical-align: middle;\n    }\n\n    .dataframe tbody tr th {\n        vertical-align: top;\n    }\n\n    .dataframe thead th {\n        text-align: right;\n    }\n</style>\n<table border=\"1\" class=\"dataframe\">\n  <thead>\n    <tr style=\"text-align: right;\">\n      <th></th>\n      <th>Player</th>\n      <th>Pos</th>\n      <th>Squad</th>\n      <th>Age</th>\n      <th>MP</th>\n      <th>Starts</th>\n      <th>Min</th>\n      <th>90s</th>\n      <th>Gls</th>\n      <th>Ast</th>\n      <th>...</th>\n      <th>year</th>\n      <th>season</th>\n      <th>xG</th>\n      <th>npxG</th>\n      <th>xAG</th>\n      <th>npxG+xAG</th>\n      <th>PrgC</th>\n      <th>PrgP</th>\n      <th>PrgR</th>\n      <th>poy_winner</th>\n    </tr>\n  </thead>\n  <tbody>\n    <tr>\n      <th>0</th>\n      <td>Aaron Connolly</td>\n      <td>FW</td>\n      <td>Brighton</td>\n      <td>19</td>\n      <td>24</td>\n      <td>14</td>\n      <td>1258</td>\n      <td>14.0</td>\n      <td>3</td>\n      <td>1</td>\n      <td>...</td>\n      <td>2019</td>\n      <td>2019/2020</td>\n      <td>4.0</td>\n      <td>4.0</td>\n      <td>0.5</td>\n      <td>4.5</td>\n      <td>21</td>\n      <td>10</td>\n      <td>86</td>\n      <td>0</td>\n    </tr>\n    <tr>\n      <th>1</th>\n      <td>Aaron Connolly</td>\n      <td>FW</td>\n      <td>Brighton</td>\n      <td>20</td>\n      <td>17</td>\n      <td>9</td>\n      <td>791</td>\n      <td>8.8</td>\n      <td>2</td>\n      <td>1</td>\n      <td>...</td>\n      <td>2020</td>\n      <td>2020/2021</td>\n      <td>4.0</td>\n      <td>4.0</td>\n      <td>0.2</td>\n      <td>4.2</td>\n      <td>12</td>\n      <td>4</td>\n      <td>58</td>\n      <td>0</td>\n    </tr>\n    <tr>\n      <th>2</th>\n      <td>Aaron Connolly</td>\n      <td>FW,MF</td>\n      <td>Brighton</td>\n      <td>21</td>\n      <td>4</td>\n      <td>1</td>\n      <td>156</td>\n      <td>1.7</td>\n      <td>0</td>\n      <td>0</td>\n      <td>...</td>\n      <td>2021</td>\n      <td>2021/2022</td>\n      <td>0.4</td>\n      <td>0.4</td>\n      <td>0.1</td>\n      <td>0.5</td>\n      <td>3</td>\n      <td>1</td>\n      <td>7</td>\n      <td>0</td>\n    </tr>\n    <tr>\n      <th>3</th>\n      <td>Aaron Cresswell</td>\n      <td>DF,MF</td>\n      <td>West Ham</td>\n      <td>24</td>\n      <td>38</td>\n      <td>38</td>\n      <td>3420</td>\n      <td>38.0</td>\n      <td>2</td>\n      <td>4</td>\n      <td>...</td>\n      <td>2014</td>\n      <td>2014/2015</td>\n      <td>0.0</td>\n      <td>0.0</td>\n      <td>0.0</td>\n      <td>0.0</td>\n      <td>0</td>\n      <td>0</td>\n      <td>0</td>\n      <td>0</td>\n    </tr>\n    <tr>\n      <th>4</th>\n      <td>Aaron Cresswell</td>\n      <td>DF</td>\n      <td>West Ham</td>\n      <td>25</td>\n      <td>37</td>\n      <td>37</td>\n      <td>3314</td>\n      <td>36.8</td>\n      <td>2</td>\n      <td>4</td>\n      <td>...</td>\n      <td>2015</td>\n      <td>2015/2016</td>\n      <td>0.0</td>\n      <td>0.0</td>\n      <td>0.0</td>\n      <td>0.0</td>\n      <td>0</td>\n      <td>0</td>\n      <td>0</td>\n      <td>0</td>\n    </tr>\n    <tr>\n      <th>...</th>\n      <td>...</td>\n      <td>...</td>\n      <td>...</td>\n      <td>...</td>\n      <td>...</td>\n      <td>...</td>\n      <td>...</td>\n      <td>...</td>\n      <td>...</td>\n      <td>...</td>\n      <td>...</td>\n      <td>...</td>\n      <td>...</td>\n      <td>...</td>\n      <td>...</td>\n      <td>...</td>\n      <td>...</td>\n      <td>...</td>\n      <td>...</td>\n      <td>...</td>\n      <td>...</td>\n    </tr>\n    <tr>\n      <th>17523</th>\n      <td>Łukasz Fabiański</td>\n      <td>GK</td>\n      <td>West Ham</td>\n      <td>34</td>\n      <td>25</td>\n      <td>25</td>\n      <td>2117</td>\n      <td>23.5</td>\n      <td>0</td>\n      <td>0</td>\n      <td>...</td>\n      <td>2019</td>\n      <td>2019/2020</td>\n      <td>0.0</td>\n      <td>0.0</td>\n      <td>0.0</td>\n      <td>0.0</td>\n      <td>0</td>\n      <td>0</td>\n      <td>0</td>\n      <td>0</td>\n    </tr>\n    <tr>\n      <th>17524</th>\n      <td>Łukasz Fabiański</td>\n      <td>GK</td>\n      <td>West Ham</td>\n      <td>35</td>\n      <td>35</td>\n      <td>35</td>\n      <td>3150</td>\n      <td>35.0</td>\n      <td>0</td>\n      <td>0</td>\n      <td>...</td>\n      <td>2020</td>\n      <td>2020/2021</td>\n      <td>0.0</td>\n      <td>0.0</td>\n      <td>0.0</td>\n      <td>0.0</td>\n      <td>0</td>\n      <td>0</td>\n      <td>0</td>\n      <td>0</td>\n    </tr>\n    <tr>\n      <th>17525</th>\n      <td>Łukasz Fabiański</td>\n      <td>GK</td>\n      <td>West Ham</td>\n      <td>36</td>\n      <td>37</td>\n      <td>37</td>\n      <td>3330</td>\n      <td>37.0</td>\n      <td>0</td>\n      <td>0</td>\n      <td>...</td>\n      <td>2021</td>\n      <td>2021/2022</td>\n      <td>0.0</td>\n      <td>0.0</td>\n      <td>0.0</td>\n      <td>0.0</td>\n      <td>0</td>\n      <td>0</td>\n      <td>0</td>\n      <td>0</td>\n    </tr>\n    <tr>\n      <th>17526</th>\n      <td>Łukasz Fabiański</td>\n      <td>GK</td>\n      <td>West Ham</td>\n      <td>37</td>\n      <td>36</td>\n      <td>36</td>\n      <td>3111</td>\n      <td>34.6</td>\n      <td>0</td>\n      <td>0</td>\n      <td>...</td>\n      <td>2022</td>\n      <td>2022/2023</td>\n      <td>0.0</td>\n      <td>0.0</td>\n      <td>0.0</td>\n      <td>0.0</td>\n      <td>0</td>\n      <td>0</td>\n      <td>0</td>\n      <td>0</td>\n    </tr>\n    <tr>\n      <th>17527</th>\n      <td>Łukasz Fabiański</td>\n      <td>GK</td>\n      <td>West Ham</td>\n      <td>38</td>\n      <td>10</td>\n      <td>7</td>\n      <td>721</td>\n      <td>8.0</td>\n      <td>0</td>\n      <td>0</td>\n      <td>...</td>\n      <td>2023</td>\n      <td>2023/2024</td>\n      <td>0.0</td>\n      <td>0.0</td>\n      <td>0.0</td>\n      <td>0.0</td>\n      <td>0</td>\n      <td>1</td>\n      <td>0</td>\n      <td>0</td>\n    </tr>\n  </tbody>\n</table>\n<p>17528 rows × 23 columns</p>\n</div>"
     },
     "execution_count": 6,
     "metadata": {},
     "output_type": "execute_result"
    }
   ],
   "source": [
    "regrouped_df['Player'] = regrouped_df['Player'].fillna(method='ffill')\n",
    "regrouped_df"
   ],
   "metadata": {
    "collapsed": false,
    "ExecuteTime": {
     "end_time": "2024-06-06T08:42:32.144126900Z",
     "start_time": "2024-06-06T08:42:32.005328700Z"
    }
   }
  },
  {
   "cell_type": "markdown",
   "source": [
    "results_df = pd.DataFrame(columns=players_df.columns)\n",
    "\n",
    "# Iterate through each player's data\n",
    "for player, player_data in players_df.groupby('Player'):\n",
    "    first_row = True  # Flag to check if it's the first row for the player\n",
    "    for _, row in player_data.iterrows():\n",
    "        if first_row:\n",
    "            results_df = pd.concat([results_df, pd.DataFrame([row])], ignore_index=True)  # Append the first row as it is\n",
    "            first_row = False\n",
    "        else:\n",
    "            # For subsequent rows, set the player name to empty string\n",
    "            #row['Player'] = \"\"\n",
    "            results_df = pd.concat([results_df, pd.DataFrame([row])], ignore_index=True)\n",
    "results_df['Player'] = results_df['Player'].fillna(method='ffill')\n",
    "\n",
    "results_df\n",
    "\n"
   ],
   "metadata": {
    "collapsed": false
   }
  },
  {
   "cell_type": "code",
   "execution_count": 7,
   "outputs": [],
   "source": [
    "grouped_df = regrouped_df.copy()"
   ],
   "metadata": {
    "collapsed": false,
    "ExecuteTime": {
     "end_time": "2024-06-06T08:42:53.992644200Z",
     "start_time": "2024-06-06T08:42:53.951615800Z"
    }
   }
  },
  {
   "cell_type": "code",
   "execution_count": 8,
   "outputs": [],
   "source": [
    "grouped_df.to_csv('Correctly_grouped_data.csv')"
   ],
   "metadata": {
    "collapsed": false,
    "ExecuteTime": {
     "end_time": "2024-06-06T08:43:51.486131700Z",
     "start_time": "2024-06-06T08:43:51.115087200Z"
    }
   }
  },
  {
   "cell_type": "code",
   "execution_count": 9,
   "outputs": [
    {
     "data": {
      "text/plain": "                 Player    Pos     Squad  Age  MP  Starts   Min   90s  Gls  \\\n0        Aaron Connolly     FW  Brighton   19  24      14  1258  14.0    3   \n1        Aaron Connolly     FW  Brighton   20  17       9   791   8.8    2   \n2        Aaron Connolly  FW,MF  Brighton   21   4       1   156   1.7    0   \n3       Aaron Cresswell  DF,MF  West Ham   24  38      38  3420  38.0    2   \n4       Aaron Cresswell     DF  West Ham   25  37      37  3314  36.8    2   \n...                 ...    ...       ...  ...  ..     ...   ...   ...  ...   \n17523  Łukasz Fabiański     GK  West Ham   34  25      25  2117  23.5    0   \n17524  Łukasz Fabiański     GK  West Ham   35  35      35  3150  35.0    0   \n17525  Łukasz Fabiański     GK  West Ham   36  37      37  3330  37.0    0   \n17526  Łukasz Fabiański     GK  West Ham   37  36      36  3111  34.6    0   \n17527  Łukasz Fabiański     GK  West Ham   38  10       7   721   8.0    0   \n\n       Ast  ...  year     season   xG  npxG  xAG  npxG+xAG  PrgC  PrgP  PrgR  \\\n0        1  ...  2019  2019/2020  4.0   4.0  0.5       4.5    21    10    86   \n1        1  ...  2020  2020/2021  4.0   4.0  0.2       4.2    12     4    58   \n2        0  ...  2021  2021/2022  0.4   0.4  0.1       0.5     3     1     7   \n3        4  ...  2014  2014/2015  0.0   0.0  0.0       0.0     0     0     0   \n4        4  ...  2015  2015/2016  0.0   0.0  0.0       0.0     0     0     0   \n...    ...  ...   ...        ...  ...   ...  ...       ...   ...   ...   ...   \n17523    0  ...  2019  2019/2020  0.0   0.0  0.0       0.0     0     0     0   \n17524    0  ...  2020  2020/2021  0.0   0.0  0.0       0.0     0     0     0   \n17525    0  ...  2021  2021/2022  0.0   0.0  0.0       0.0     0     0     0   \n17526    0  ...  2022  2022/2023  0.0   0.0  0.0       0.0     0     0     0   \n17527    0  ...  2023  2023/2024  0.0   0.0  0.0       0.0     0     1     0   \n\n       poy_winner  \n0               0  \n1               0  \n2               0  \n3               0  \n4               0  \n...           ...  \n17523           0  \n17524           0  \n17525           0  \n17526           0  \n17527           0  \n\n[17528 rows x 23 columns]",
      "text/html": "<div>\n<style scoped>\n    .dataframe tbody tr th:only-of-type {\n        vertical-align: middle;\n    }\n\n    .dataframe tbody tr th {\n        vertical-align: top;\n    }\n\n    .dataframe thead th {\n        text-align: right;\n    }\n</style>\n<table border=\"1\" class=\"dataframe\">\n  <thead>\n    <tr style=\"text-align: right;\">\n      <th></th>\n      <th>Player</th>\n      <th>Pos</th>\n      <th>Squad</th>\n      <th>Age</th>\n      <th>MP</th>\n      <th>Starts</th>\n      <th>Min</th>\n      <th>90s</th>\n      <th>Gls</th>\n      <th>Ast</th>\n      <th>...</th>\n      <th>year</th>\n      <th>season</th>\n      <th>xG</th>\n      <th>npxG</th>\n      <th>xAG</th>\n      <th>npxG+xAG</th>\n      <th>PrgC</th>\n      <th>PrgP</th>\n      <th>PrgR</th>\n      <th>poy_winner</th>\n    </tr>\n  </thead>\n  <tbody>\n    <tr>\n      <th>0</th>\n      <td>Aaron Connolly</td>\n      <td>FW</td>\n      <td>Brighton</td>\n      <td>19</td>\n      <td>24</td>\n      <td>14</td>\n      <td>1258</td>\n      <td>14.0</td>\n      <td>3</td>\n      <td>1</td>\n      <td>...</td>\n      <td>2019</td>\n      <td>2019/2020</td>\n      <td>4.0</td>\n      <td>4.0</td>\n      <td>0.5</td>\n      <td>4.5</td>\n      <td>21</td>\n      <td>10</td>\n      <td>86</td>\n      <td>0</td>\n    </tr>\n    <tr>\n      <th>1</th>\n      <td>Aaron Connolly</td>\n      <td>FW</td>\n      <td>Brighton</td>\n      <td>20</td>\n      <td>17</td>\n      <td>9</td>\n      <td>791</td>\n      <td>8.8</td>\n      <td>2</td>\n      <td>1</td>\n      <td>...</td>\n      <td>2020</td>\n      <td>2020/2021</td>\n      <td>4.0</td>\n      <td>4.0</td>\n      <td>0.2</td>\n      <td>4.2</td>\n      <td>12</td>\n      <td>4</td>\n      <td>58</td>\n      <td>0</td>\n    </tr>\n    <tr>\n      <th>2</th>\n      <td>Aaron Connolly</td>\n      <td>FW,MF</td>\n      <td>Brighton</td>\n      <td>21</td>\n      <td>4</td>\n      <td>1</td>\n      <td>156</td>\n      <td>1.7</td>\n      <td>0</td>\n      <td>0</td>\n      <td>...</td>\n      <td>2021</td>\n      <td>2021/2022</td>\n      <td>0.4</td>\n      <td>0.4</td>\n      <td>0.1</td>\n      <td>0.5</td>\n      <td>3</td>\n      <td>1</td>\n      <td>7</td>\n      <td>0</td>\n    </tr>\n    <tr>\n      <th>3</th>\n      <td>Aaron Cresswell</td>\n      <td>DF,MF</td>\n      <td>West Ham</td>\n      <td>24</td>\n      <td>38</td>\n      <td>38</td>\n      <td>3420</td>\n      <td>38.0</td>\n      <td>2</td>\n      <td>4</td>\n      <td>...</td>\n      <td>2014</td>\n      <td>2014/2015</td>\n      <td>0.0</td>\n      <td>0.0</td>\n      <td>0.0</td>\n      <td>0.0</td>\n      <td>0</td>\n      <td>0</td>\n      <td>0</td>\n      <td>0</td>\n    </tr>\n    <tr>\n      <th>4</th>\n      <td>Aaron Cresswell</td>\n      <td>DF</td>\n      <td>West Ham</td>\n      <td>25</td>\n      <td>37</td>\n      <td>37</td>\n      <td>3314</td>\n      <td>36.8</td>\n      <td>2</td>\n      <td>4</td>\n      <td>...</td>\n      <td>2015</td>\n      <td>2015/2016</td>\n      <td>0.0</td>\n      <td>0.0</td>\n      <td>0.0</td>\n      <td>0.0</td>\n      <td>0</td>\n      <td>0</td>\n      <td>0</td>\n      <td>0</td>\n    </tr>\n    <tr>\n      <th>...</th>\n      <td>...</td>\n      <td>...</td>\n      <td>...</td>\n      <td>...</td>\n      <td>...</td>\n      <td>...</td>\n      <td>...</td>\n      <td>...</td>\n      <td>...</td>\n      <td>...</td>\n      <td>...</td>\n      <td>...</td>\n      <td>...</td>\n      <td>...</td>\n      <td>...</td>\n      <td>...</td>\n      <td>...</td>\n      <td>...</td>\n      <td>...</td>\n      <td>...</td>\n      <td>...</td>\n    </tr>\n    <tr>\n      <th>17523</th>\n      <td>Łukasz Fabiański</td>\n      <td>GK</td>\n      <td>West Ham</td>\n      <td>34</td>\n      <td>25</td>\n      <td>25</td>\n      <td>2117</td>\n      <td>23.5</td>\n      <td>0</td>\n      <td>0</td>\n      <td>...</td>\n      <td>2019</td>\n      <td>2019/2020</td>\n      <td>0.0</td>\n      <td>0.0</td>\n      <td>0.0</td>\n      <td>0.0</td>\n      <td>0</td>\n      <td>0</td>\n      <td>0</td>\n      <td>0</td>\n    </tr>\n    <tr>\n      <th>17524</th>\n      <td>Łukasz Fabiański</td>\n      <td>GK</td>\n      <td>West Ham</td>\n      <td>35</td>\n      <td>35</td>\n      <td>35</td>\n      <td>3150</td>\n      <td>35.0</td>\n      <td>0</td>\n      <td>0</td>\n      <td>...</td>\n      <td>2020</td>\n      <td>2020/2021</td>\n      <td>0.0</td>\n      <td>0.0</td>\n      <td>0.0</td>\n      <td>0.0</td>\n      <td>0</td>\n      <td>0</td>\n      <td>0</td>\n      <td>0</td>\n    </tr>\n    <tr>\n      <th>17525</th>\n      <td>Łukasz Fabiański</td>\n      <td>GK</td>\n      <td>West Ham</td>\n      <td>36</td>\n      <td>37</td>\n      <td>37</td>\n      <td>3330</td>\n      <td>37.0</td>\n      <td>0</td>\n      <td>0</td>\n      <td>...</td>\n      <td>2021</td>\n      <td>2021/2022</td>\n      <td>0.0</td>\n      <td>0.0</td>\n      <td>0.0</td>\n      <td>0.0</td>\n      <td>0</td>\n      <td>0</td>\n      <td>0</td>\n      <td>0</td>\n    </tr>\n    <tr>\n      <th>17526</th>\n      <td>Łukasz Fabiański</td>\n      <td>GK</td>\n      <td>West Ham</td>\n      <td>37</td>\n      <td>36</td>\n      <td>36</td>\n      <td>3111</td>\n      <td>34.6</td>\n      <td>0</td>\n      <td>0</td>\n      <td>...</td>\n      <td>2022</td>\n      <td>2022/2023</td>\n      <td>0.0</td>\n      <td>0.0</td>\n      <td>0.0</td>\n      <td>0.0</td>\n      <td>0</td>\n      <td>0</td>\n      <td>0</td>\n      <td>0</td>\n    </tr>\n    <tr>\n      <th>17527</th>\n      <td>Łukasz Fabiański</td>\n      <td>GK</td>\n      <td>West Ham</td>\n      <td>38</td>\n      <td>10</td>\n      <td>7</td>\n      <td>721</td>\n      <td>8.0</td>\n      <td>0</td>\n      <td>0</td>\n      <td>...</td>\n      <td>2023</td>\n      <td>2023/2024</td>\n      <td>0.0</td>\n      <td>0.0</td>\n      <td>0.0</td>\n      <td>0.0</td>\n      <td>0</td>\n      <td>1</td>\n      <td>0</td>\n      <td>0</td>\n    </tr>\n  </tbody>\n</table>\n<p>17528 rows × 23 columns</p>\n</div>"
     },
     "execution_count": 9,
     "metadata": {},
     "output_type": "execute_result"
    }
   ],
   "source": [
    "grouped_df"
   ],
   "metadata": {
    "collapsed": false,
    "ExecuteTime": {
     "end_time": "2024-06-06T08:45:28.903944600Z",
     "start_time": "2024-06-06T08:45:28.819915700Z"
    }
   }
  },
  {
   "cell_type": "code",
   "execution_count": 404,
   "outputs": [],
   "source": [
    "grouped_df = grouped_df.astype({'Min': 'int64'})"
   ],
   "metadata": {
    "collapsed": false,
    "ExecuteTime": {
     "end_time": "2024-06-05T09:03:30.307018900Z",
     "start_time": "2024-06-05T09:03:30.231745400Z"
    }
   }
  },
  {
   "cell_type": "code",
   "execution_count": null,
   "outputs": [],
   "source": [],
   "metadata": {
    "collapsed": false
   }
  },
  {
   "cell_type": "markdown",
   "source": [
    "conv_cols = [\n",
    "'Age', 'MP', 'Starts', 'Min', 'Gls',\n",
    "       'Ast', 'G+A', 'CrdY', 'CrdR', 'PrgC', 'PrgP', 'PrgR', 'poy_win_year'\n",
    "]\n",
    "grouped_df[conv_cols] = grouped_df[conv_cols].astype('int64')\n"
   ],
   "metadata": {
    "collapsed": false
   }
  },
  {
   "cell_type": "code",
   "execution_count": 405,
   "outputs": [],
   "source": [
    "grouped_df = grouped_df.astype({'year':'object'})"
   ],
   "metadata": {
    "collapsed": false,
    "ExecuteTime": {
     "end_time": "2024-06-05T09:03:38.324212700Z",
     "start_time": "2024-06-05T09:03:38.199681600Z"
    }
   }
  },
  {
   "cell_type": "code",
   "execution_count": 11,
   "outputs": [
    {
     "data": {
      "text/plain": "Player         object\nPos            object\nSquad          object\nAge             int64\nMP              int64\nStarts          int64\nMin             int64\n90s           float64\nGls             int64\nAst             int64\nG+A             int64\nCrdY            int64\nCrdR            int64\nyear            int64\nseason         object\nxG            float64\nnpxG          float64\nxAG           float64\nnpxG+xAG      float64\nPrgC            int64\nPrgP            int64\nPrgR            int64\npoy_winner      int64\ndtype: object"
     },
     "execution_count": 11,
     "metadata": {},
     "output_type": "execute_result"
    }
   ],
   "source": [
    "grouped_df.dtypes"
   ],
   "metadata": {
    "collapsed": false,
    "ExecuteTime": {
     "end_time": "2024-06-06T08:46:17.947888200Z",
     "start_time": "2024-06-06T08:46:17.916141700Z"
    }
   }
  },
  {
   "cell_type": "code",
   "execution_count": 16,
   "outputs": [
    {
     "data": {
      "text/plain": "array(['FW', 'FW,MF', 'DF,MF', 'DF', 'DF,FW', 'MF', 'MF,FW', 'GK',\n       'FW,DF', 'MF,DF'], dtype=object)"
     },
     "execution_count": 16,
     "metadata": {},
     "output_type": "execute_result"
    }
   ],
   "source": [
    "grouped_df[\"Pos\"].unique()"
   ],
   "metadata": {
    "collapsed": false,
    "ExecuteTime": {
     "end_time": "2024-06-06T08:51:01.487643500Z",
     "start_time": "2024-06-06T08:51:01.429723500Z"
    }
   }
  },
  {
   "cell_type": "code",
   "execution_count": 13,
   "outputs": [],
   "source": [
    "incorrect_pos = grouped_df[grouped_df['Pos'] == 0]"
   ],
   "metadata": {
    "collapsed": false,
    "ExecuteTime": {
     "end_time": "2024-06-06T08:46:42.156859300Z",
     "start_time": "2024-06-06T08:46:42.088318600Z"
    }
   }
  },
  {
   "cell_type": "code",
   "execution_count": 14,
   "outputs": [],
   "source": [
    "grouped_df['Pos'] = grouped_df['Pos'].replace('0', 'DF')"
   ],
   "metadata": {
    "collapsed": false,
    "ExecuteTime": {
     "end_time": "2024-06-06T08:47:00.109961700Z",
     "start_time": "2024-06-06T08:47:00.022975800Z"
    }
   }
  },
  {
   "cell_type": "markdown",
   "source": [
    "pos_split = grouped_df['Pos'].str.get_dummies(sep=',')\n",
    "grouped_df = pd.concat([grouped_df, pos_split], axis =1)\n"
   ],
   "metadata": {
    "collapsed": false
   }
  },
  {
   "cell_type": "code",
   "execution_count": 18,
   "outputs": [],
   "source": [
    "grouped_df.to_csv(\"output_files/correctly_grouped_data.csv\")"
   ],
   "metadata": {
    "collapsed": false,
    "ExecuteTime": {
     "end_time": "2024-06-06T08:52:21.937645300Z",
     "start_time": "2024-06-06T08:52:21.575674900Z"
    }
   }
  },
  {
   "cell_type": "code",
   "execution_count": 343,
   "outputs": [],
   "source": [
    "highest_scoring = grouped_df[grouped_df[\"Gls\"] > 15]"
   ],
   "metadata": {
    "collapsed": false,
    "ExecuteTime": {
     "end_time": "2024-06-05T07:47:44.940832100Z",
     "start_time": "2024-06-05T07:47:44.852442Z"
    }
   }
  },
  {
   "cell_type": "markdown",
   "source": [],
   "metadata": {
    "collapsed": false
   }
  },
  {
   "cell_type": "markdown",
   "source": [],
   "metadata": {
    "collapsed": false
   }
  }
 ],
 "metadata": {
  "kernelspec": {
   "display_name": "Python 3",
   "language": "python",
   "name": "python3"
  },
  "language_info": {
   "codemirror_mode": {
    "name": "ipython",
    "version": 2
   },
   "file_extension": ".py",
   "mimetype": "text/x-python",
   "name": "python",
   "nbconvert_exporter": "python",
   "pygments_lexer": "ipython2",
   "version": "2.7.6"
  }
 },
 "nbformat": 4,
 "nbformat_minor": 0
}
