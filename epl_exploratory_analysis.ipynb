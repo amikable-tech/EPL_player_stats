{
 "cells": [
  {
   "cell_type": "code",
   "execution_count": null,
   "metadata": {
    "collapsed": true
   },
   "outputs": [],
   "source": [
    "!pip install pandas\n",
    "!pip install plotly==5.22.0"
   ]
  },
  {
   "cell_type": "code",
   "execution_count": 297,
   "outputs": [
    {
     "data": {
      "text/html": "        <script type=\"text/javascript\">\n        window.PlotlyConfig = {MathJaxConfig: 'local'};\n        if (window.MathJax && window.MathJax.Hub && window.MathJax.Hub.Config) {window.MathJax.Hub.Config({SVG: {font: \"STIX-Web\"}});}\n        if (typeof require !== 'undefined') {\n        require.undef(\"plotly\");\n        requirejs.config({\n            paths: {\n                'plotly': ['https://cdn.plot.ly/plotly-2.32.0.min']\n            }\n        });\n        require(['plotly'], function(Plotly) {\n            window._Plotly = Plotly;\n        });\n        }\n        </script>\n        "
     },
     "metadata": {},
     "output_type": "display_data"
    },
    {
     "data": {
      "text/html": "        <script type=\"text/javascript\">\n        window.PlotlyConfig = {MathJaxConfig: 'local'};\n        if (window.MathJax && window.MathJax.Hub && window.MathJax.Hub.Config) {window.MathJax.Hub.Config({SVG: {font: \"STIX-Web\"}});}\n        if (typeof require !== 'undefined') {\n        require.undef(\"plotly\");\n        requirejs.config({\n            paths: {\n                'plotly': ['https://cdn.plot.ly/plotly-2.32.0.min']\n            }\n        });\n        require(['plotly'], function(Plotly) {\n            window._Plotly = Plotly;\n        });\n        }\n        </script>\n        "
     },
     "metadata": {},
     "output_type": "display_data"
    }
   ],
   "source": [
    "import pandas as pd\n",
    "import numpy as np\n",
    "import cufflinks as cf\n",
    "import plotly.express as px\n",
    "import plotly.graph_objects as go\n",
    "import kaleido\n",
    "import chart_studio.plotly as py\n",
    "import scipy.stats as stats\n",
    "import seaborn as sns\n",
    "import matplotlib.pyplot as plt\n",
    "%matplotlib inline\n",
    "from plotly.offline import download_plotlyjs, init_notebook_mode, plot, iplot\n",
    "init_notebook_mode(connected=True)\n",
    "cf.go_offline()"
   ],
   "metadata": {
    "collapsed": false,
    "ExecuteTime": {
     "end_time": "2024-06-07T14:48:33.796409600Z",
     "start_time": "2024-06-07T14:48:33.527641300Z"
    }
   }
  },
  {
   "cell_type": "code",
   "execution_count": 5,
   "outputs": [],
   "source": [
    "stats_df = pd.read_csv(\"output_files/correctly_grouped_data.csv\")"
   ],
   "metadata": {
    "collapsed": false,
    "ExecuteTime": {
     "end_time": "2024-06-07T06:54:29.834067Z",
     "start_time": "2024-06-07T06:54:29.719707500Z"
    }
   }
  },
  {
   "cell_type": "code",
   "execution_count": 16,
   "outputs": [],
   "source": [
    "del stats_df['Unnamed: 0']"
   ],
   "metadata": {
    "collapsed": false,
    "ExecuteTime": {
     "end_time": "2024-06-07T08:22:01.658596600Z",
     "start_time": "2024-06-07T08:22:01.641629800Z"
    }
   }
  },
  {
   "cell_type": "code",
   "execution_count": 34,
   "outputs": [],
   "source": [
    "highest_scoring = stats_df[(stats_df[\"Gls\"] > 15) & (stats_df[\"poy_winner\"] == 1)]"
   ],
   "metadata": {
    "collapsed": false,
    "ExecuteTime": {
     "end_time": "2024-06-07T08:36:24.000970Z",
     "start_time": "2024-06-07T08:36:23.972514400Z"
    }
   }
  },
  {
   "cell_type": "code",
   "execution_count": 37,
   "outputs": [],
   "source": [
    "highest_scoring = highest_scoring.sort_values(by='season')"
   ],
   "metadata": {
    "collapsed": false,
    "ExecuteTime": {
     "end_time": "2024-06-07T08:40:03.721939300Z",
     "start_time": "2024-06-07T08:40:03.640812Z"
    }
   }
  },
  {
   "cell_type": "code",
   "execution_count": 38,
   "outputs": [
    {
     "data": {
      "text/plain": "                    Player    Pos            Squad  Age  MP  Starts   Min  \\\n4923          Eric Cantona     FW   Manchester Utd   27  34      34  2987   \n412           Alan Shearer     FW        Blackburn   23  42      42  3770   \n11457         Michael Owen     FW        Liverpool   17  36      34  3003   \n4589          Dwight Yorke  FW,MF   Manchester Utd   26  32      32  2781   \n9209        Kevin Phillips     FW       Sunderland   26  36      36  3198   \n14464  Ruud Van Nistelrooy     FW   Manchester Utd   26  34      33  2907   \n16276        Thierry Henry     FW          Arsenal   25  37      37  3330   \n16278        Thierry Henry     FW          Arsenal   27  32      30  2672   \n3026     Cristiano Ronaldo  FW,MF   Manchester Utd   22  34      31  2747   \n3027     Cristiano Ronaldo  FW,MF   Manchester Utd   23  33      31  2742   \n17055         Wayne Rooney  FW,MF   Manchester Utd   23  32      32  2728   \n5452           Gareth Bale  FW,MF        Tottenham   23  33      33  2921   \n10029          Luis Suárez     FW        Liverpool   26  33      33  2962   \n7220           Jamie Vardy     FW   Leicester City   28  36      36  3133   \n11735        Mohamed Salah     FW        Liverpool   25  36      34  2907   \n4980        Erling Haaland     FW  Manchester City   22  35      33  2769   \n13417           Phil Foden  FW,MF  Manchester City   23  35      33  2857   \n\n        90s  Gls  Ast  ...  year     season    xG  npxG  xAG  npxG+xAG  PrgC  \\\n4923   33.2   18   12  ...  1993  1993/1994   0.0   0.0  0.0       0.0     0   \n412    41.9   34   13  ...  1994  1994/1995   0.0   0.0  0.0       0.0     0   \n11457  33.4   18   10  ...  1997  1997/1998   0.0   0.0  0.0       0.0     0   \n4589   30.9   18   11  ...  1998  1998/1999   1.0   0.0  0.0       0.0     0   \n9209   35.5   30    4  ...  1999  1999/2000   0.0   0.0  0.0       0.0     0   \n14464  32.3   25    4  ...  2002  2002/2003   0.0   0.0  0.0       0.0     0   \n16276  37.0   30    6  ...  2003  2003/2004   0.0   0.0  0.0       0.0     0   \n16278  29.7   27    8  ...  2005  2005/2006   0.0   0.0  0.0       0.0     0   \n3026   30.5   31    6  ...  2007  2007/2008   0.0   0.0  0.0       0.0     0   \n3027   30.5   18    6  ...  2008  2008/2009   0.0   0.0  0.0       0.0     0   \n17055  30.3   26    3  ...  2009  2009/2010   0.0   0.0  0.0       0.0     0   \n5452   32.5   21    4  ...  2012  2012/2013   0.0   0.0  0.0       0.0     0   \n10029  32.9   31   12  ...  2013  2013/2014   0.0   0.0  0.0       0.0     0   \n7220   34.8   24    6  ...  2015  2015/2016   0.0   0.0  0.0       0.0     0   \n11735  32.3   32   10  ...  2017  2017/2018  24.1  22.6  7.5      30.1    95   \n4980   30.8   36    8  ...  2022  2022/2023  28.4  23.0  5.3      28.3    35   \n13417  31.7   19    8  ...  2023  2023/2024  10.3  10.3  8.4      18.7    93   \n\n       PrgP  PrgR  poy_winner  \n4923      0     0           1  \n412       0     0           1  \n11457     0     0           1  \n4589      0     0           1  \n9209      0     0           1  \n14464     0     0           1  \n16276     0     0           1  \n16278     0     0           1  \n3026      0     0           1  \n3027      0     0           1  \n17055     0     0           1  \n5452      0     0           1  \n10029     0     0           1  \n7220      0     0           1  \n11735    97   393           1  \n4980     58   151           1  \n13417   168   269           1  \n\n[17 rows x 23 columns]",
      "text/html": "<div>\n<style scoped>\n    .dataframe tbody tr th:only-of-type {\n        vertical-align: middle;\n    }\n\n    .dataframe tbody tr th {\n        vertical-align: top;\n    }\n\n    .dataframe thead th {\n        text-align: right;\n    }\n</style>\n<table border=\"1\" class=\"dataframe\">\n  <thead>\n    <tr style=\"text-align: right;\">\n      <th></th>\n      <th>Player</th>\n      <th>Pos</th>\n      <th>Squad</th>\n      <th>Age</th>\n      <th>MP</th>\n      <th>Starts</th>\n      <th>Min</th>\n      <th>90s</th>\n      <th>Gls</th>\n      <th>Ast</th>\n      <th>...</th>\n      <th>year</th>\n      <th>season</th>\n      <th>xG</th>\n      <th>npxG</th>\n      <th>xAG</th>\n      <th>npxG+xAG</th>\n      <th>PrgC</th>\n      <th>PrgP</th>\n      <th>PrgR</th>\n      <th>poy_winner</th>\n    </tr>\n  </thead>\n  <tbody>\n    <tr>\n      <th>4923</th>\n      <td>Eric Cantona</td>\n      <td>FW</td>\n      <td>Manchester Utd</td>\n      <td>27</td>\n      <td>34</td>\n      <td>34</td>\n      <td>2987</td>\n      <td>33.2</td>\n      <td>18</td>\n      <td>12</td>\n      <td>...</td>\n      <td>1993</td>\n      <td>1993/1994</td>\n      <td>0.0</td>\n      <td>0.0</td>\n      <td>0.0</td>\n      <td>0.0</td>\n      <td>0</td>\n      <td>0</td>\n      <td>0</td>\n      <td>1</td>\n    </tr>\n    <tr>\n      <th>412</th>\n      <td>Alan Shearer</td>\n      <td>FW</td>\n      <td>Blackburn</td>\n      <td>23</td>\n      <td>42</td>\n      <td>42</td>\n      <td>3770</td>\n      <td>41.9</td>\n      <td>34</td>\n      <td>13</td>\n      <td>...</td>\n      <td>1994</td>\n      <td>1994/1995</td>\n      <td>0.0</td>\n      <td>0.0</td>\n      <td>0.0</td>\n      <td>0.0</td>\n      <td>0</td>\n      <td>0</td>\n      <td>0</td>\n      <td>1</td>\n    </tr>\n    <tr>\n      <th>11457</th>\n      <td>Michael Owen</td>\n      <td>FW</td>\n      <td>Liverpool</td>\n      <td>17</td>\n      <td>36</td>\n      <td>34</td>\n      <td>3003</td>\n      <td>33.4</td>\n      <td>18</td>\n      <td>10</td>\n      <td>...</td>\n      <td>1997</td>\n      <td>1997/1998</td>\n      <td>0.0</td>\n      <td>0.0</td>\n      <td>0.0</td>\n      <td>0.0</td>\n      <td>0</td>\n      <td>0</td>\n      <td>0</td>\n      <td>1</td>\n    </tr>\n    <tr>\n      <th>4589</th>\n      <td>Dwight Yorke</td>\n      <td>FW,MF</td>\n      <td>Manchester Utd</td>\n      <td>26</td>\n      <td>32</td>\n      <td>32</td>\n      <td>2781</td>\n      <td>30.9</td>\n      <td>18</td>\n      <td>11</td>\n      <td>...</td>\n      <td>1998</td>\n      <td>1998/1999</td>\n      <td>1.0</td>\n      <td>0.0</td>\n      <td>0.0</td>\n      <td>0.0</td>\n      <td>0</td>\n      <td>0</td>\n      <td>0</td>\n      <td>1</td>\n    </tr>\n    <tr>\n      <th>9209</th>\n      <td>Kevin Phillips</td>\n      <td>FW</td>\n      <td>Sunderland</td>\n      <td>26</td>\n      <td>36</td>\n      <td>36</td>\n      <td>3198</td>\n      <td>35.5</td>\n      <td>30</td>\n      <td>4</td>\n      <td>...</td>\n      <td>1999</td>\n      <td>1999/2000</td>\n      <td>0.0</td>\n      <td>0.0</td>\n      <td>0.0</td>\n      <td>0.0</td>\n      <td>0</td>\n      <td>0</td>\n      <td>0</td>\n      <td>1</td>\n    </tr>\n    <tr>\n      <th>14464</th>\n      <td>Ruud Van Nistelrooy</td>\n      <td>FW</td>\n      <td>Manchester Utd</td>\n      <td>26</td>\n      <td>34</td>\n      <td>33</td>\n      <td>2907</td>\n      <td>32.3</td>\n      <td>25</td>\n      <td>4</td>\n      <td>...</td>\n      <td>2002</td>\n      <td>2002/2003</td>\n      <td>0.0</td>\n      <td>0.0</td>\n      <td>0.0</td>\n      <td>0.0</td>\n      <td>0</td>\n      <td>0</td>\n      <td>0</td>\n      <td>1</td>\n    </tr>\n    <tr>\n      <th>16276</th>\n      <td>Thierry Henry</td>\n      <td>FW</td>\n      <td>Arsenal</td>\n      <td>25</td>\n      <td>37</td>\n      <td>37</td>\n      <td>3330</td>\n      <td>37.0</td>\n      <td>30</td>\n      <td>6</td>\n      <td>...</td>\n      <td>2003</td>\n      <td>2003/2004</td>\n      <td>0.0</td>\n      <td>0.0</td>\n      <td>0.0</td>\n      <td>0.0</td>\n      <td>0</td>\n      <td>0</td>\n      <td>0</td>\n      <td>1</td>\n    </tr>\n    <tr>\n      <th>16278</th>\n      <td>Thierry Henry</td>\n      <td>FW</td>\n      <td>Arsenal</td>\n      <td>27</td>\n      <td>32</td>\n      <td>30</td>\n      <td>2672</td>\n      <td>29.7</td>\n      <td>27</td>\n      <td>8</td>\n      <td>...</td>\n      <td>2005</td>\n      <td>2005/2006</td>\n      <td>0.0</td>\n      <td>0.0</td>\n      <td>0.0</td>\n      <td>0.0</td>\n      <td>0</td>\n      <td>0</td>\n      <td>0</td>\n      <td>1</td>\n    </tr>\n    <tr>\n      <th>3026</th>\n      <td>Cristiano Ronaldo</td>\n      <td>FW,MF</td>\n      <td>Manchester Utd</td>\n      <td>22</td>\n      <td>34</td>\n      <td>31</td>\n      <td>2747</td>\n      <td>30.5</td>\n      <td>31</td>\n      <td>6</td>\n      <td>...</td>\n      <td>2007</td>\n      <td>2007/2008</td>\n      <td>0.0</td>\n      <td>0.0</td>\n      <td>0.0</td>\n      <td>0.0</td>\n      <td>0</td>\n      <td>0</td>\n      <td>0</td>\n      <td>1</td>\n    </tr>\n    <tr>\n      <th>3027</th>\n      <td>Cristiano Ronaldo</td>\n      <td>FW,MF</td>\n      <td>Manchester Utd</td>\n      <td>23</td>\n      <td>33</td>\n      <td>31</td>\n      <td>2742</td>\n      <td>30.5</td>\n      <td>18</td>\n      <td>6</td>\n      <td>...</td>\n      <td>2008</td>\n      <td>2008/2009</td>\n      <td>0.0</td>\n      <td>0.0</td>\n      <td>0.0</td>\n      <td>0.0</td>\n      <td>0</td>\n      <td>0</td>\n      <td>0</td>\n      <td>1</td>\n    </tr>\n    <tr>\n      <th>17055</th>\n      <td>Wayne Rooney</td>\n      <td>FW,MF</td>\n      <td>Manchester Utd</td>\n      <td>23</td>\n      <td>32</td>\n      <td>32</td>\n      <td>2728</td>\n      <td>30.3</td>\n      <td>26</td>\n      <td>3</td>\n      <td>...</td>\n      <td>2009</td>\n      <td>2009/2010</td>\n      <td>0.0</td>\n      <td>0.0</td>\n      <td>0.0</td>\n      <td>0.0</td>\n      <td>0</td>\n      <td>0</td>\n      <td>0</td>\n      <td>1</td>\n    </tr>\n    <tr>\n      <th>5452</th>\n      <td>Gareth Bale</td>\n      <td>FW,MF</td>\n      <td>Tottenham</td>\n      <td>23</td>\n      <td>33</td>\n      <td>33</td>\n      <td>2921</td>\n      <td>32.5</td>\n      <td>21</td>\n      <td>4</td>\n      <td>...</td>\n      <td>2012</td>\n      <td>2012/2013</td>\n      <td>0.0</td>\n      <td>0.0</td>\n      <td>0.0</td>\n      <td>0.0</td>\n      <td>0</td>\n      <td>0</td>\n      <td>0</td>\n      <td>1</td>\n    </tr>\n    <tr>\n      <th>10029</th>\n      <td>Luis Suárez</td>\n      <td>FW</td>\n      <td>Liverpool</td>\n      <td>26</td>\n      <td>33</td>\n      <td>33</td>\n      <td>2962</td>\n      <td>32.9</td>\n      <td>31</td>\n      <td>12</td>\n      <td>...</td>\n      <td>2013</td>\n      <td>2013/2014</td>\n      <td>0.0</td>\n      <td>0.0</td>\n      <td>0.0</td>\n      <td>0.0</td>\n      <td>0</td>\n      <td>0</td>\n      <td>0</td>\n      <td>1</td>\n    </tr>\n    <tr>\n      <th>7220</th>\n      <td>Jamie Vardy</td>\n      <td>FW</td>\n      <td>Leicester City</td>\n      <td>28</td>\n      <td>36</td>\n      <td>36</td>\n      <td>3133</td>\n      <td>34.8</td>\n      <td>24</td>\n      <td>6</td>\n      <td>...</td>\n      <td>2015</td>\n      <td>2015/2016</td>\n      <td>0.0</td>\n      <td>0.0</td>\n      <td>0.0</td>\n      <td>0.0</td>\n      <td>0</td>\n      <td>0</td>\n      <td>0</td>\n      <td>1</td>\n    </tr>\n    <tr>\n      <th>11735</th>\n      <td>Mohamed Salah</td>\n      <td>FW</td>\n      <td>Liverpool</td>\n      <td>25</td>\n      <td>36</td>\n      <td>34</td>\n      <td>2907</td>\n      <td>32.3</td>\n      <td>32</td>\n      <td>10</td>\n      <td>...</td>\n      <td>2017</td>\n      <td>2017/2018</td>\n      <td>24.1</td>\n      <td>22.6</td>\n      <td>7.5</td>\n      <td>30.1</td>\n      <td>95</td>\n      <td>97</td>\n      <td>393</td>\n      <td>1</td>\n    </tr>\n    <tr>\n      <th>4980</th>\n      <td>Erling Haaland</td>\n      <td>FW</td>\n      <td>Manchester City</td>\n      <td>22</td>\n      <td>35</td>\n      <td>33</td>\n      <td>2769</td>\n      <td>30.8</td>\n      <td>36</td>\n      <td>8</td>\n      <td>...</td>\n      <td>2022</td>\n      <td>2022/2023</td>\n      <td>28.4</td>\n      <td>23.0</td>\n      <td>5.3</td>\n      <td>28.3</td>\n      <td>35</td>\n      <td>58</td>\n      <td>151</td>\n      <td>1</td>\n    </tr>\n    <tr>\n      <th>13417</th>\n      <td>Phil Foden</td>\n      <td>FW,MF</td>\n      <td>Manchester City</td>\n      <td>23</td>\n      <td>35</td>\n      <td>33</td>\n      <td>2857</td>\n      <td>31.7</td>\n      <td>19</td>\n      <td>8</td>\n      <td>...</td>\n      <td>2023</td>\n      <td>2023/2024</td>\n      <td>10.3</td>\n      <td>10.3</td>\n      <td>8.4</td>\n      <td>18.7</td>\n      <td>93</td>\n      <td>168</td>\n      <td>269</td>\n      <td>1</td>\n    </tr>\n  </tbody>\n</table>\n<p>17 rows × 23 columns</p>\n</div>"
     },
     "execution_count": 38,
     "metadata": {},
     "output_type": "execute_result"
    }
   ],
   "source": [
    "highest_scoring"
   ],
   "metadata": {
    "collapsed": false,
    "ExecuteTime": {
     "end_time": "2024-06-07T08:40:11.590849900Z",
     "start_time": "2024-06-07T08:40:11.500088700Z"
    }
   }
  },
  {
   "cell_type": "code",
   "execution_count": 299,
   "outputs": [
    {
     "data": {
      "application/vnd.plotly.v1+json": {
       "data": [
        {
         "customdata": [
          [
           "Eric Cantona"
          ]
         ],
         "hovertemplate": "Player=%{customdata[0]}<br>season=%{x}<br>Gls=%{marker.size}<extra></extra>",
         "legendgroup": "Eric Cantona",
         "marker": {
          "color": "#636efa",
          "size": [
           18
          ],
          "sizemode": "area",
          "sizeref": 0.09,
          "symbol": "circle"
         },
         "mode": "markers",
         "name": "Eric Cantona",
         "orientation": "v",
         "showlegend": true,
         "x": [
          "1993/1994"
         ],
         "xaxis": "x",
         "y": [
          18
         ],
         "yaxis": "y",
         "type": "scatter"
        },
        {
         "customdata": [
          [
           "Alan Shearer"
          ]
         ],
         "hovertemplate": "Player=%{customdata[0]}<br>season=%{x}<br>Gls=%{marker.size}<extra></extra>",
         "legendgroup": "Alan Shearer",
         "marker": {
          "color": "#EF553B",
          "size": [
           34
          ],
          "sizemode": "area",
          "sizeref": 0.09,
          "symbol": "circle"
         },
         "mode": "markers",
         "name": "Alan Shearer",
         "orientation": "v",
         "showlegend": true,
         "x": [
          "1994/1995"
         ],
         "xaxis": "x",
         "y": [
          34
         ],
         "yaxis": "y",
         "type": "scatter"
        },
        {
         "customdata": [
          [
           "Michael Owen"
          ]
         ],
         "hovertemplate": "Player=%{customdata[0]}<br>season=%{x}<br>Gls=%{marker.size}<extra></extra>",
         "legendgroup": "Michael Owen",
         "marker": {
          "color": "#00cc96",
          "size": [
           18
          ],
          "sizemode": "area",
          "sizeref": 0.09,
          "symbol": "circle"
         },
         "mode": "markers",
         "name": "Michael Owen",
         "orientation": "v",
         "showlegend": true,
         "x": [
          "1997/1998"
         ],
         "xaxis": "x",
         "y": [
          18
         ],
         "yaxis": "y",
         "type": "scatter"
        },
        {
         "customdata": [
          [
           "Dwight Yorke"
          ]
         ],
         "hovertemplate": "Player=%{customdata[0]}<br>season=%{x}<br>Gls=%{marker.size}<extra></extra>",
         "legendgroup": "Dwight Yorke",
         "marker": {
          "color": "#ab63fa",
          "size": [
           18
          ],
          "sizemode": "area",
          "sizeref": 0.09,
          "symbol": "circle"
         },
         "mode": "markers",
         "name": "Dwight Yorke",
         "orientation": "v",
         "showlegend": true,
         "x": [
          "1998/1999"
         ],
         "xaxis": "x",
         "y": [
          18
         ],
         "yaxis": "y",
         "type": "scatter"
        },
        {
         "customdata": [
          [
           "Kevin Phillips"
          ]
         ],
         "hovertemplate": "Player=%{customdata[0]}<br>season=%{x}<br>Gls=%{marker.size}<extra></extra>",
         "legendgroup": "Kevin Phillips",
         "marker": {
          "color": "#FFA15A",
          "size": [
           30
          ],
          "sizemode": "area",
          "sizeref": 0.09,
          "symbol": "circle"
         },
         "mode": "markers",
         "name": "Kevin Phillips",
         "orientation": "v",
         "showlegend": true,
         "x": [
          "1999/2000"
         ],
         "xaxis": "x",
         "y": [
          30
         ],
         "yaxis": "y",
         "type": "scatter"
        },
        {
         "customdata": [
          [
           "Ruud Van Nistelrooy"
          ]
         ],
         "hovertemplate": "Player=%{customdata[0]}<br>season=%{x}<br>Gls=%{marker.size}<extra></extra>",
         "legendgroup": "Ruud Van Nistelrooy",
         "marker": {
          "color": "#19d3f3",
          "size": [
           25
          ],
          "sizemode": "area",
          "sizeref": 0.09,
          "symbol": "circle"
         },
         "mode": "markers",
         "name": "Ruud Van Nistelrooy",
         "orientation": "v",
         "showlegend": true,
         "x": [
          "2002/2003"
         ],
         "xaxis": "x",
         "y": [
          25
         ],
         "yaxis": "y",
         "type": "scatter"
        },
        {
         "customdata": [
          [
           "Thierry Henry"
          ],
          [
           "Thierry Henry"
          ]
         ],
         "hovertemplate": "Player=%{customdata[0]}<br>season=%{x}<br>Gls=%{marker.size}<extra></extra>",
         "legendgroup": "Thierry Henry",
         "marker": {
          "color": "#FF6692",
          "size": [
           30,
           27
          ],
          "sizemode": "area",
          "sizeref": 0.09,
          "symbol": "circle"
         },
         "mode": "markers",
         "name": "Thierry Henry",
         "orientation": "v",
         "showlegend": true,
         "x": [
          "2003/2004",
          "2005/2006"
         ],
         "xaxis": "x",
         "y": [
          30,
          27
         ],
         "yaxis": "y",
         "type": "scatter"
        },
        {
         "customdata": [
          [
           "Cristiano Ronaldo"
          ],
          [
           "Cristiano Ronaldo"
          ]
         ],
         "hovertemplate": "Player=%{customdata[0]}<br>season=%{x}<br>Gls=%{marker.size}<extra></extra>",
         "legendgroup": "Cristiano Ronaldo",
         "marker": {
          "color": "#B6E880",
          "size": [
           31,
           18
          ],
          "sizemode": "area",
          "sizeref": 0.09,
          "symbol": "circle"
         },
         "mode": "markers",
         "name": "Cristiano Ronaldo",
         "orientation": "v",
         "showlegend": true,
         "x": [
          "2007/2008",
          "2008/2009"
         ],
         "xaxis": "x",
         "y": [
          31,
          18
         ],
         "yaxis": "y",
         "type": "scatter"
        },
        {
         "customdata": [
          [
           "Wayne Rooney"
          ]
         ],
         "hovertemplate": "Player=%{customdata[0]}<br>season=%{x}<br>Gls=%{marker.size}<extra></extra>",
         "legendgroup": "Wayne Rooney",
         "marker": {
          "color": "#FF97FF",
          "size": [
           26
          ],
          "sizemode": "area",
          "sizeref": 0.09,
          "symbol": "circle"
         },
         "mode": "markers",
         "name": "Wayne Rooney",
         "orientation": "v",
         "showlegend": true,
         "x": [
          "2009/2010"
         ],
         "xaxis": "x",
         "y": [
          26
         ],
         "yaxis": "y",
         "type": "scatter"
        },
        {
         "customdata": [
          [
           "Gareth Bale"
          ]
         ],
         "hovertemplate": "Player=%{customdata[0]}<br>season=%{x}<br>Gls=%{marker.size}<extra></extra>",
         "legendgroup": "Gareth Bale",
         "marker": {
          "color": "#FECB52",
          "size": [
           21
          ],
          "sizemode": "area",
          "sizeref": 0.09,
          "symbol": "circle"
         },
         "mode": "markers",
         "name": "Gareth Bale",
         "orientation": "v",
         "showlegend": true,
         "x": [
          "2012/2013"
         ],
         "xaxis": "x",
         "y": [
          21
         ],
         "yaxis": "y",
         "type": "scatter"
        },
        {
         "customdata": [
          [
           "Luis Suárez"
          ]
         ],
         "hovertemplate": "Player=%{customdata[0]}<br>season=%{x}<br>Gls=%{marker.size}<extra></extra>",
         "legendgroup": "Luis Suárez",
         "marker": {
          "color": "#636efa",
          "size": [
           31
          ],
          "sizemode": "area",
          "sizeref": 0.09,
          "symbol": "circle"
         },
         "mode": "markers",
         "name": "Luis Suárez",
         "orientation": "v",
         "showlegend": true,
         "x": [
          "2013/2014"
         ],
         "xaxis": "x",
         "y": [
          31
         ],
         "yaxis": "y",
         "type": "scatter"
        },
        {
         "customdata": [
          [
           "Jamie Vardy"
          ]
         ],
         "hovertemplate": "Player=%{customdata[0]}<br>season=%{x}<br>Gls=%{marker.size}<extra></extra>",
         "legendgroup": "Jamie Vardy",
         "marker": {
          "color": "#EF553B",
          "size": [
           24
          ],
          "sizemode": "area",
          "sizeref": 0.09,
          "symbol": "circle"
         },
         "mode": "markers",
         "name": "Jamie Vardy",
         "orientation": "v",
         "showlegend": true,
         "x": [
          "2015/2016"
         ],
         "xaxis": "x",
         "y": [
          24
         ],
         "yaxis": "y",
         "type": "scatter"
        },
        {
         "customdata": [
          [
           "Mohamed Salah"
          ]
         ],
         "hovertemplate": "Player=%{customdata[0]}<br>season=%{x}<br>Gls=%{marker.size}<extra></extra>",
         "legendgroup": "Mohamed Salah",
         "marker": {
          "color": "#00cc96",
          "size": [
           32
          ],
          "sizemode": "area",
          "sizeref": 0.09,
          "symbol": "circle"
         },
         "mode": "markers",
         "name": "Mohamed Salah",
         "orientation": "v",
         "showlegend": true,
         "x": [
          "2017/2018"
         ],
         "xaxis": "x",
         "y": [
          32
         ],
         "yaxis": "y",
         "type": "scatter"
        },
        {
         "customdata": [
          [
           "Erling Haaland"
          ]
         ],
         "hovertemplate": "Player=%{customdata[0]}<br>season=%{x}<br>Gls=%{marker.size}<extra></extra>",
         "legendgroup": "Erling Haaland",
         "marker": {
          "color": "#ab63fa",
          "size": [
           36
          ],
          "sizemode": "area",
          "sizeref": 0.09,
          "symbol": "circle"
         },
         "mode": "markers",
         "name": "Erling Haaland",
         "orientation": "v",
         "showlegend": true,
         "x": [
          "2022/2023"
         ],
         "xaxis": "x",
         "y": [
          36
         ],
         "yaxis": "y",
         "type": "scatter"
        },
        {
         "customdata": [
          [
           "Phil Foden"
          ]
         ],
         "hovertemplate": "Player=%{customdata[0]}<br>season=%{x}<br>Gls=%{marker.size}<extra></extra>",
         "legendgroup": "Phil Foden",
         "marker": {
          "color": "#FFA15A",
          "size": [
           19
          ],
          "sizemode": "area",
          "sizeref": 0.09,
          "symbol": "circle"
         },
         "mode": "markers",
         "name": "Phil Foden",
         "orientation": "v",
         "showlegend": true,
         "x": [
          "2023/2024"
         ],
         "xaxis": "x",
         "y": [
          19
         ],
         "yaxis": "y",
         "type": "scatter"
        }
       ],
       "layout": {
        "template": {
         "data": {
          "histogram2dcontour": [
           {
            "type": "histogram2dcontour",
            "colorbar": {
             "outlinewidth": 0,
             "ticks": ""
            },
            "colorscale": [
             [
              0.0,
              "#0d0887"
             ],
             [
              0.1111111111111111,
              "#46039f"
             ],
             [
              0.2222222222222222,
              "#7201a8"
             ],
             [
              0.3333333333333333,
              "#9c179e"
             ],
             [
              0.4444444444444444,
              "#bd3786"
             ],
             [
              0.5555555555555556,
              "#d8576b"
             ],
             [
              0.6666666666666666,
              "#ed7953"
             ],
             [
              0.7777777777777778,
              "#fb9f3a"
             ],
             [
              0.8888888888888888,
              "#fdca26"
             ],
             [
              1.0,
              "#f0f921"
             ]
            ]
           }
          ],
          "choropleth": [
           {
            "type": "choropleth",
            "colorbar": {
             "outlinewidth": 0,
             "ticks": ""
            }
           }
          ],
          "histogram2d": [
           {
            "type": "histogram2d",
            "colorbar": {
             "outlinewidth": 0,
             "ticks": ""
            },
            "colorscale": [
             [
              0.0,
              "#0d0887"
             ],
             [
              0.1111111111111111,
              "#46039f"
             ],
             [
              0.2222222222222222,
              "#7201a8"
             ],
             [
              0.3333333333333333,
              "#9c179e"
             ],
             [
              0.4444444444444444,
              "#bd3786"
             ],
             [
              0.5555555555555556,
              "#d8576b"
             ],
             [
              0.6666666666666666,
              "#ed7953"
             ],
             [
              0.7777777777777778,
              "#fb9f3a"
             ],
             [
              0.8888888888888888,
              "#fdca26"
             ],
             [
              1.0,
              "#f0f921"
             ]
            ]
           }
          ],
          "heatmap": [
           {
            "type": "heatmap",
            "colorbar": {
             "outlinewidth": 0,
             "ticks": ""
            },
            "colorscale": [
             [
              0.0,
              "#0d0887"
             ],
             [
              0.1111111111111111,
              "#46039f"
             ],
             [
              0.2222222222222222,
              "#7201a8"
             ],
             [
              0.3333333333333333,
              "#9c179e"
             ],
             [
              0.4444444444444444,
              "#bd3786"
             ],
             [
              0.5555555555555556,
              "#d8576b"
             ],
             [
              0.6666666666666666,
              "#ed7953"
             ],
             [
              0.7777777777777778,
              "#fb9f3a"
             ],
             [
              0.8888888888888888,
              "#fdca26"
             ],
             [
              1.0,
              "#f0f921"
             ]
            ]
           }
          ],
          "heatmapgl": [
           {
            "type": "heatmapgl",
            "colorbar": {
             "outlinewidth": 0,
             "ticks": ""
            },
            "colorscale": [
             [
              0.0,
              "#0d0887"
             ],
             [
              0.1111111111111111,
              "#46039f"
             ],
             [
              0.2222222222222222,
              "#7201a8"
             ],
             [
              0.3333333333333333,
              "#9c179e"
             ],
             [
              0.4444444444444444,
              "#bd3786"
             ],
             [
              0.5555555555555556,
              "#d8576b"
             ],
             [
              0.6666666666666666,
              "#ed7953"
             ],
             [
              0.7777777777777778,
              "#fb9f3a"
             ],
             [
              0.8888888888888888,
              "#fdca26"
             ],
             [
              1.0,
              "#f0f921"
             ]
            ]
           }
          ],
          "contourcarpet": [
           {
            "type": "contourcarpet",
            "colorbar": {
             "outlinewidth": 0,
             "ticks": ""
            }
           }
          ],
          "contour": [
           {
            "type": "contour",
            "colorbar": {
             "outlinewidth": 0,
             "ticks": ""
            },
            "colorscale": [
             [
              0.0,
              "#0d0887"
             ],
             [
              0.1111111111111111,
              "#46039f"
             ],
             [
              0.2222222222222222,
              "#7201a8"
             ],
             [
              0.3333333333333333,
              "#9c179e"
             ],
             [
              0.4444444444444444,
              "#bd3786"
             ],
             [
              0.5555555555555556,
              "#d8576b"
             ],
             [
              0.6666666666666666,
              "#ed7953"
             ],
             [
              0.7777777777777778,
              "#fb9f3a"
             ],
             [
              0.8888888888888888,
              "#fdca26"
             ],
             [
              1.0,
              "#f0f921"
             ]
            ]
           }
          ],
          "surface": [
           {
            "type": "surface",
            "colorbar": {
             "outlinewidth": 0,
             "ticks": ""
            },
            "colorscale": [
             [
              0.0,
              "#0d0887"
             ],
             [
              0.1111111111111111,
              "#46039f"
             ],
             [
              0.2222222222222222,
              "#7201a8"
             ],
             [
              0.3333333333333333,
              "#9c179e"
             ],
             [
              0.4444444444444444,
              "#bd3786"
             ],
             [
              0.5555555555555556,
              "#d8576b"
             ],
             [
              0.6666666666666666,
              "#ed7953"
             ],
             [
              0.7777777777777778,
              "#fb9f3a"
             ],
             [
              0.8888888888888888,
              "#fdca26"
             ],
             [
              1.0,
              "#f0f921"
             ]
            ]
           }
          ],
          "mesh3d": [
           {
            "type": "mesh3d",
            "colorbar": {
             "outlinewidth": 0,
             "ticks": ""
            }
           }
          ],
          "scatter": [
           {
            "fillpattern": {
             "fillmode": "overlay",
             "size": 10,
             "solidity": 0.2
            },
            "type": "scatter"
           }
          ],
          "parcoords": [
           {
            "type": "parcoords",
            "line": {
             "colorbar": {
              "outlinewidth": 0,
              "ticks": ""
             }
            }
           }
          ],
          "scatterpolargl": [
           {
            "type": "scatterpolargl",
            "marker": {
             "colorbar": {
              "outlinewidth": 0,
              "ticks": ""
             }
            }
           }
          ],
          "bar": [
           {
            "error_x": {
             "color": "#2a3f5f"
            },
            "error_y": {
             "color": "#2a3f5f"
            },
            "marker": {
             "line": {
              "color": "#E5ECF6",
              "width": 0.5
             },
             "pattern": {
              "fillmode": "overlay",
              "size": 10,
              "solidity": 0.2
             }
            },
            "type": "bar"
           }
          ],
          "scattergeo": [
           {
            "type": "scattergeo",
            "marker": {
             "colorbar": {
              "outlinewidth": 0,
              "ticks": ""
             }
            }
           }
          ],
          "scatterpolar": [
           {
            "type": "scatterpolar",
            "marker": {
             "colorbar": {
              "outlinewidth": 0,
              "ticks": ""
             }
            }
           }
          ],
          "histogram": [
           {
            "marker": {
             "pattern": {
              "fillmode": "overlay",
              "size": 10,
              "solidity": 0.2
             }
            },
            "type": "histogram"
           }
          ],
          "scattergl": [
           {
            "type": "scattergl",
            "marker": {
             "colorbar": {
              "outlinewidth": 0,
              "ticks": ""
             }
            }
           }
          ],
          "scatter3d": [
           {
            "type": "scatter3d",
            "line": {
             "colorbar": {
              "outlinewidth": 0,
              "ticks": ""
             }
            },
            "marker": {
             "colorbar": {
              "outlinewidth": 0,
              "ticks": ""
             }
            }
           }
          ],
          "scattermapbox": [
           {
            "type": "scattermapbox",
            "marker": {
             "colorbar": {
              "outlinewidth": 0,
              "ticks": ""
             }
            }
           }
          ],
          "scatterternary": [
           {
            "type": "scatterternary",
            "marker": {
             "colorbar": {
              "outlinewidth": 0,
              "ticks": ""
             }
            }
           }
          ],
          "scattercarpet": [
           {
            "type": "scattercarpet",
            "marker": {
             "colorbar": {
              "outlinewidth": 0,
              "ticks": ""
             }
            }
           }
          ],
          "carpet": [
           {
            "aaxis": {
             "endlinecolor": "#2a3f5f",
             "gridcolor": "white",
             "linecolor": "white",
             "minorgridcolor": "white",
             "startlinecolor": "#2a3f5f"
            },
            "baxis": {
             "endlinecolor": "#2a3f5f",
             "gridcolor": "white",
             "linecolor": "white",
             "minorgridcolor": "white",
             "startlinecolor": "#2a3f5f"
            },
            "type": "carpet"
           }
          ],
          "table": [
           {
            "cells": {
             "fill": {
              "color": "#EBF0F8"
             },
             "line": {
              "color": "white"
             }
            },
            "header": {
             "fill": {
              "color": "#C8D4E3"
             },
             "line": {
              "color": "white"
             }
            },
            "type": "table"
           }
          ],
          "barpolar": [
           {
            "marker": {
             "line": {
              "color": "#E5ECF6",
              "width": 0.5
             },
             "pattern": {
              "fillmode": "overlay",
              "size": 10,
              "solidity": 0.2
             }
            },
            "type": "barpolar"
           }
          ],
          "pie": [
           {
            "automargin": true,
            "type": "pie"
           }
          ]
         },
         "layout": {
          "autotypenumbers": "strict",
          "colorway": [
           "#636efa",
           "#EF553B",
           "#00cc96",
           "#ab63fa",
           "#FFA15A",
           "#19d3f3",
           "#FF6692",
           "#B6E880",
           "#FF97FF",
           "#FECB52"
          ],
          "font": {
           "color": "#2a3f5f"
          },
          "hovermode": "closest",
          "hoverlabel": {
           "align": "left"
          },
          "paper_bgcolor": "white",
          "plot_bgcolor": "#E5ECF6",
          "polar": {
           "bgcolor": "#E5ECF6",
           "angularaxis": {
            "gridcolor": "white",
            "linecolor": "white",
            "ticks": ""
           },
           "radialaxis": {
            "gridcolor": "white",
            "linecolor": "white",
            "ticks": ""
           }
          },
          "ternary": {
           "bgcolor": "#E5ECF6",
           "aaxis": {
            "gridcolor": "white",
            "linecolor": "white",
            "ticks": ""
           },
           "baxis": {
            "gridcolor": "white",
            "linecolor": "white",
            "ticks": ""
           },
           "caxis": {
            "gridcolor": "white",
            "linecolor": "white",
            "ticks": ""
           }
          },
          "coloraxis": {
           "colorbar": {
            "outlinewidth": 0,
            "ticks": ""
           }
          },
          "colorscale": {
           "sequential": [
            [
             0.0,
             "#0d0887"
            ],
            [
             0.1111111111111111,
             "#46039f"
            ],
            [
             0.2222222222222222,
             "#7201a8"
            ],
            [
             0.3333333333333333,
             "#9c179e"
            ],
            [
             0.4444444444444444,
             "#bd3786"
            ],
            [
             0.5555555555555556,
             "#d8576b"
            ],
            [
             0.6666666666666666,
             "#ed7953"
            ],
            [
             0.7777777777777778,
             "#fb9f3a"
            ],
            [
             0.8888888888888888,
             "#fdca26"
            ],
            [
             1.0,
             "#f0f921"
            ]
           ],
           "sequentialminus": [
            [
             0.0,
             "#0d0887"
            ],
            [
             0.1111111111111111,
             "#46039f"
            ],
            [
             0.2222222222222222,
             "#7201a8"
            ],
            [
             0.3333333333333333,
             "#9c179e"
            ],
            [
             0.4444444444444444,
             "#bd3786"
            ],
            [
             0.5555555555555556,
             "#d8576b"
            ],
            [
             0.6666666666666666,
             "#ed7953"
            ],
            [
             0.7777777777777778,
             "#fb9f3a"
            ],
            [
             0.8888888888888888,
             "#fdca26"
            ],
            [
             1.0,
             "#f0f921"
            ]
           ],
           "diverging": [
            [
             0,
             "#8e0152"
            ],
            [
             0.1,
             "#c51b7d"
            ],
            [
             0.2,
             "#de77ae"
            ],
            [
             0.3,
             "#f1b6da"
            ],
            [
             0.4,
             "#fde0ef"
            ],
            [
             0.5,
             "#f7f7f7"
            ],
            [
             0.6,
             "#e6f5d0"
            ],
            [
             0.7,
             "#b8e186"
            ],
            [
             0.8,
             "#7fbc41"
            ],
            [
             0.9,
             "#4d9221"
            ],
            [
             1,
             "#276419"
            ]
           ]
          },
          "xaxis": {
           "gridcolor": "white",
           "linecolor": "white",
           "ticks": "",
           "title": {
            "standoff": 15
           },
           "zerolinecolor": "white",
           "automargin": true,
           "zerolinewidth": 2
          },
          "yaxis": {
           "gridcolor": "white",
           "linecolor": "white",
           "ticks": "",
           "title": {
            "standoff": 15
           },
           "zerolinecolor": "white",
           "automargin": true,
           "zerolinewidth": 2
          },
          "scene": {
           "xaxis": {
            "backgroundcolor": "#E5ECF6",
            "gridcolor": "white",
            "linecolor": "white",
            "showbackground": true,
            "ticks": "",
            "zerolinecolor": "white",
            "gridwidth": 2
           },
           "yaxis": {
            "backgroundcolor": "#E5ECF6",
            "gridcolor": "white",
            "linecolor": "white",
            "showbackground": true,
            "ticks": "",
            "zerolinecolor": "white",
            "gridwidth": 2
           },
           "zaxis": {
            "backgroundcolor": "#E5ECF6",
            "gridcolor": "white",
            "linecolor": "white",
            "showbackground": true,
            "ticks": "",
            "zerolinecolor": "white",
            "gridwidth": 2
           }
          },
          "shapedefaults": {
           "line": {
            "color": "#2a3f5f"
           }
          },
          "annotationdefaults": {
           "arrowcolor": "#2a3f5f",
           "arrowhead": 0,
           "arrowwidth": 1
          },
          "geo": {
           "bgcolor": "white",
           "landcolor": "#E5ECF6",
           "subunitcolor": "white",
           "showland": true,
           "showlakes": true,
           "lakecolor": "white"
          },
          "title": {
           "x": 0.05
          },
          "mapbox": {
           "style": "light"
          }
         }
        },
        "xaxis": {
         "anchor": "y",
         "domain": [
          0.0,
          1.0
         ],
         "title": {
          "text": "season"
         }
        },
        "yaxis": {
         "anchor": "x",
         "domain": [
          0.0,
          1.0
         ],
         "title": {
          "text": "Gls"
         }
        },
        "legend": {
         "title": {
          "text": "Player"
         },
         "tracegroupgap": 0,
         "itemsizing": "constant"
        },
        "margin": {
         "t": 60
        }
       },
       "config": {
        "plotlyServerURL": "https://plot.ly"
       }
      },
      "text/html": "<div>                            <div id=\"78d9f93e-523e-4fb0-9a46-1dcd48bfecc2\" class=\"plotly-graph-div\" style=\"height:525px; width:100%;\"></div>            <script type=\"text/javascript\">                require([\"plotly\"], function(Plotly) {                    window.PLOTLYENV=window.PLOTLYENV || {};                                    if (document.getElementById(\"78d9f93e-523e-4fb0-9a46-1dcd48bfecc2\")) {                    Plotly.newPlot(                        \"78d9f93e-523e-4fb0-9a46-1dcd48bfecc2\",                        [{\"customdata\":[[\"Eric Cantona\"]],\"hovertemplate\":\"Player=%{customdata[0]}\\u003cbr\\u003eseason=%{x}\\u003cbr\\u003eGls=%{marker.size}\\u003cextra\\u003e\\u003c\\u002fextra\\u003e\",\"legendgroup\":\"Eric Cantona\",\"marker\":{\"color\":\"#636efa\",\"size\":[18],\"sizemode\":\"area\",\"sizeref\":0.09,\"symbol\":\"circle\"},\"mode\":\"markers\",\"name\":\"Eric Cantona\",\"orientation\":\"v\",\"showlegend\":true,\"x\":[\"1993\\u002f1994\"],\"xaxis\":\"x\",\"y\":[18],\"yaxis\":\"y\",\"type\":\"scatter\"},{\"customdata\":[[\"Alan Shearer\"]],\"hovertemplate\":\"Player=%{customdata[0]}\\u003cbr\\u003eseason=%{x}\\u003cbr\\u003eGls=%{marker.size}\\u003cextra\\u003e\\u003c\\u002fextra\\u003e\",\"legendgroup\":\"Alan Shearer\",\"marker\":{\"color\":\"#EF553B\",\"size\":[34],\"sizemode\":\"area\",\"sizeref\":0.09,\"symbol\":\"circle\"},\"mode\":\"markers\",\"name\":\"Alan Shearer\",\"orientation\":\"v\",\"showlegend\":true,\"x\":[\"1994\\u002f1995\"],\"xaxis\":\"x\",\"y\":[34],\"yaxis\":\"y\",\"type\":\"scatter\"},{\"customdata\":[[\"Michael Owen\"]],\"hovertemplate\":\"Player=%{customdata[0]}\\u003cbr\\u003eseason=%{x}\\u003cbr\\u003eGls=%{marker.size}\\u003cextra\\u003e\\u003c\\u002fextra\\u003e\",\"legendgroup\":\"Michael Owen\",\"marker\":{\"color\":\"#00cc96\",\"size\":[18],\"sizemode\":\"area\",\"sizeref\":0.09,\"symbol\":\"circle\"},\"mode\":\"markers\",\"name\":\"Michael Owen\",\"orientation\":\"v\",\"showlegend\":true,\"x\":[\"1997\\u002f1998\"],\"xaxis\":\"x\",\"y\":[18],\"yaxis\":\"y\",\"type\":\"scatter\"},{\"customdata\":[[\"Dwight Yorke\"]],\"hovertemplate\":\"Player=%{customdata[0]}\\u003cbr\\u003eseason=%{x}\\u003cbr\\u003eGls=%{marker.size}\\u003cextra\\u003e\\u003c\\u002fextra\\u003e\",\"legendgroup\":\"Dwight Yorke\",\"marker\":{\"color\":\"#ab63fa\",\"size\":[18],\"sizemode\":\"area\",\"sizeref\":0.09,\"symbol\":\"circle\"},\"mode\":\"markers\",\"name\":\"Dwight Yorke\",\"orientation\":\"v\",\"showlegend\":true,\"x\":[\"1998\\u002f1999\"],\"xaxis\":\"x\",\"y\":[18],\"yaxis\":\"y\",\"type\":\"scatter\"},{\"customdata\":[[\"Kevin Phillips\"]],\"hovertemplate\":\"Player=%{customdata[0]}\\u003cbr\\u003eseason=%{x}\\u003cbr\\u003eGls=%{marker.size}\\u003cextra\\u003e\\u003c\\u002fextra\\u003e\",\"legendgroup\":\"Kevin Phillips\",\"marker\":{\"color\":\"#FFA15A\",\"size\":[30],\"sizemode\":\"area\",\"sizeref\":0.09,\"symbol\":\"circle\"},\"mode\":\"markers\",\"name\":\"Kevin Phillips\",\"orientation\":\"v\",\"showlegend\":true,\"x\":[\"1999\\u002f2000\"],\"xaxis\":\"x\",\"y\":[30],\"yaxis\":\"y\",\"type\":\"scatter\"},{\"customdata\":[[\"Ruud Van Nistelrooy\"]],\"hovertemplate\":\"Player=%{customdata[0]}\\u003cbr\\u003eseason=%{x}\\u003cbr\\u003eGls=%{marker.size}\\u003cextra\\u003e\\u003c\\u002fextra\\u003e\",\"legendgroup\":\"Ruud Van Nistelrooy\",\"marker\":{\"color\":\"#19d3f3\",\"size\":[25],\"sizemode\":\"area\",\"sizeref\":0.09,\"symbol\":\"circle\"},\"mode\":\"markers\",\"name\":\"Ruud Van Nistelrooy\",\"orientation\":\"v\",\"showlegend\":true,\"x\":[\"2002\\u002f2003\"],\"xaxis\":\"x\",\"y\":[25],\"yaxis\":\"y\",\"type\":\"scatter\"},{\"customdata\":[[\"Thierry Henry\"],[\"Thierry Henry\"]],\"hovertemplate\":\"Player=%{customdata[0]}\\u003cbr\\u003eseason=%{x}\\u003cbr\\u003eGls=%{marker.size}\\u003cextra\\u003e\\u003c\\u002fextra\\u003e\",\"legendgroup\":\"Thierry Henry\",\"marker\":{\"color\":\"#FF6692\",\"size\":[30,27],\"sizemode\":\"area\",\"sizeref\":0.09,\"symbol\":\"circle\"},\"mode\":\"markers\",\"name\":\"Thierry Henry\",\"orientation\":\"v\",\"showlegend\":true,\"x\":[\"2003\\u002f2004\",\"2005\\u002f2006\"],\"xaxis\":\"x\",\"y\":[30,27],\"yaxis\":\"y\",\"type\":\"scatter\"},{\"customdata\":[[\"Cristiano Ronaldo\"],[\"Cristiano Ronaldo\"]],\"hovertemplate\":\"Player=%{customdata[0]}\\u003cbr\\u003eseason=%{x}\\u003cbr\\u003eGls=%{marker.size}\\u003cextra\\u003e\\u003c\\u002fextra\\u003e\",\"legendgroup\":\"Cristiano Ronaldo\",\"marker\":{\"color\":\"#B6E880\",\"size\":[31,18],\"sizemode\":\"area\",\"sizeref\":0.09,\"symbol\":\"circle\"},\"mode\":\"markers\",\"name\":\"Cristiano Ronaldo\",\"orientation\":\"v\",\"showlegend\":true,\"x\":[\"2007\\u002f2008\",\"2008\\u002f2009\"],\"xaxis\":\"x\",\"y\":[31,18],\"yaxis\":\"y\",\"type\":\"scatter\"},{\"customdata\":[[\"Wayne Rooney\"]],\"hovertemplate\":\"Player=%{customdata[0]}\\u003cbr\\u003eseason=%{x}\\u003cbr\\u003eGls=%{marker.size}\\u003cextra\\u003e\\u003c\\u002fextra\\u003e\",\"legendgroup\":\"Wayne Rooney\",\"marker\":{\"color\":\"#FF97FF\",\"size\":[26],\"sizemode\":\"area\",\"sizeref\":0.09,\"symbol\":\"circle\"},\"mode\":\"markers\",\"name\":\"Wayne Rooney\",\"orientation\":\"v\",\"showlegend\":true,\"x\":[\"2009\\u002f2010\"],\"xaxis\":\"x\",\"y\":[26],\"yaxis\":\"y\",\"type\":\"scatter\"},{\"customdata\":[[\"Gareth Bale\"]],\"hovertemplate\":\"Player=%{customdata[0]}\\u003cbr\\u003eseason=%{x}\\u003cbr\\u003eGls=%{marker.size}\\u003cextra\\u003e\\u003c\\u002fextra\\u003e\",\"legendgroup\":\"Gareth Bale\",\"marker\":{\"color\":\"#FECB52\",\"size\":[21],\"sizemode\":\"area\",\"sizeref\":0.09,\"symbol\":\"circle\"},\"mode\":\"markers\",\"name\":\"Gareth Bale\",\"orientation\":\"v\",\"showlegend\":true,\"x\":[\"2012\\u002f2013\"],\"xaxis\":\"x\",\"y\":[21],\"yaxis\":\"y\",\"type\":\"scatter\"},{\"customdata\":[[\"Luis Su\\u00e1rez\"]],\"hovertemplate\":\"Player=%{customdata[0]}\\u003cbr\\u003eseason=%{x}\\u003cbr\\u003eGls=%{marker.size}\\u003cextra\\u003e\\u003c\\u002fextra\\u003e\",\"legendgroup\":\"Luis Su\\u00e1rez\",\"marker\":{\"color\":\"#636efa\",\"size\":[31],\"sizemode\":\"area\",\"sizeref\":0.09,\"symbol\":\"circle\"},\"mode\":\"markers\",\"name\":\"Luis Su\\u00e1rez\",\"orientation\":\"v\",\"showlegend\":true,\"x\":[\"2013\\u002f2014\"],\"xaxis\":\"x\",\"y\":[31],\"yaxis\":\"y\",\"type\":\"scatter\"},{\"customdata\":[[\"Jamie Vardy\"]],\"hovertemplate\":\"Player=%{customdata[0]}\\u003cbr\\u003eseason=%{x}\\u003cbr\\u003eGls=%{marker.size}\\u003cextra\\u003e\\u003c\\u002fextra\\u003e\",\"legendgroup\":\"Jamie Vardy\",\"marker\":{\"color\":\"#EF553B\",\"size\":[24],\"sizemode\":\"area\",\"sizeref\":0.09,\"symbol\":\"circle\"},\"mode\":\"markers\",\"name\":\"Jamie Vardy\",\"orientation\":\"v\",\"showlegend\":true,\"x\":[\"2015\\u002f2016\"],\"xaxis\":\"x\",\"y\":[24],\"yaxis\":\"y\",\"type\":\"scatter\"},{\"customdata\":[[\"Mohamed Salah\"]],\"hovertemplate\":\"Player=%{customdata[0]}\\u003cbr\\u003eseason=%{x}\\u003cbr\\u003eGls=%{marker.size}\\u003cextra\\u003e\\u003c\\u002fextra\\u003e\",\"legendgroup\":\"Mohamed Salah\",\"marker\":{\"color\":\"#00cc96\",\"size\":[32],\"sizemode\":\"area\",\"sizeref\":0.09,\"symbol\":\"circle\"},\"mode\":\"markers\",\"name\":\"Mohamed Salah\",\"orientation\":\"v\",\"showlegend\":true,\"x\":[\"2017\\u002f2018\"],\"xaxis\":\"x\",\"y\":[32],\"yaxis\":\"y\",\"type\":\"scatter\"},{\"customdata\":[[\"Erling Haaland\"]],\"hovertemplate\":\"Player=%{customdata[0]}\\u003cbr\\u003eseason=%{x}\\u003cbr\\u003eGls=%{marker.size}\\u003cextra\\u003e\\u003c\\u002fextra\\u003e\",\"legendgroup\":\"Erling Haaland\",\"marker\":{\"color\":\"#ab63fa\",\"size\":[36],\"sizemode\":\"area\",\"sizeref\":0.09,\"symbol\":\"circle\"},\"mode\":\"markers\",\"name\":\"Erling Haaland\",\"orientation\":\"v\",\"showlegend\":true,\"x\":[\"2022\\u002f2023\"],\"xaxis\":\"x\",\"y\":[36],\"yaxis\":\"y\",\"type\":\"scatter\"},{\"customdata\":[[\"Phil Foden\"]],\"hovertemplate\":\"Player=%{customdata[0]}\\u003cbr\\u003eseason=%{x}\\u003cbr\\u003eGls=%{marker.size}\\u003cextra\\u003e\\u003c\\u002fextra\\u003e\",\"legendgroup\":\"Phil Foden\",\"marker\":{\"color\":\"#FFA15A\",\"size\":[19],\"sizemode\":\"area\",\"sizeref\":0.09,\"symbol\":\"circle\"},\"mode\":\"markers\",\"name\":\"Phil Foden\",\"orientation\":\"v\",\"showlegend\":true,\"x\":[\"2023\\u002f2024\"],\"xaxis\":\"x\",\"y\":[19],\"yaxis\":\"y\",\"type\":\"scatter\"}],                        {\"template\":{\"data\":{\"histogram2dcontour\":[{\"type\":\"histogram2dcontour\",\"colorbar\":{\"outlinewidth\":0,\"ticks\":\"\"},\"colorscale\":[[0.0,\"#0d0887\"],[0.1111111111111111,\"#46039f\"],[0.2222222222222222,\"#7201a8\"],[0.3333333333333333,\"#9c179e\"],[0.4444444444444444,\"#bd3786\"],[0.5555555555555556,\"#d8576b\"],[0.6666666666666666,\"#ed7953\"],[0.7777777777777778,\"#fb9f3a\"],[0.8888888888888888,\"#fdca26\"],[1.0,\"#f0f921\"]]}],\"choropleth\":[{\"type\":\"choropleth\",\"colorbar\":{\"outlinewidth\":0,\"ticks\":\"\"}}],\"histogram2d\":[{\"type\":\"histogram2d\",\"colorbar\":{\"outlinewidth\":0,\"ticks\":\"\"},\"colorscale\":[[0.0,\"#0d0887\"],[0.1111111111111111,\"#46039f\"],[0.2222222222222222,\"#7201a8\"],[0.3333333333333333,\"#9c179e\"],[0.4444444444444444,\"#bd3786\"],[0.5555555555555556,\"#d8576b\"],[0.6666666666666666,\"#ed7953\"],[0.7777777777777778,\"#fb9f3a\"],[0.8888888888888888,\"#fdca26\"],[1.0,\"#f0f921\"]]}],\"heatmap\":[{\"type\":\"heatmap\",\"colorbar\":{\"outlinewidth\":0,\"ticks\":\"\"},\"colorscale\":[[0.0,\"#0d0887\"],[0.1111111111111111,\"#46039f\"],[0.2222222222222222,\"#7201a8\"],[0.3333333333333333,\"#9c179e\"],[0.4444444444444444,\"#bd3786\"],[0.5555555555555556,\"#d8576b\"],[0.6666666666666666,\"#ed7953\"],[0.7777777777777778,\"#fb9f3a\"],[0.8888888888888888,\"#fdca26\"],[1.0,\"#f0f921\"]]}],\"heatmapgl\":[{\"type\":\"heatmapgl\",\"colorbar\":{\"outlinewidth\":0,\"ticks\":\"\"},\"colorscale\":[[0.0,\"#0d0887\"],[0.1111111111111111,\"#46039f\"],[0.2222222222222222,\"#7201a8\"],[0.3333333333333333,\"#9c179e\"],[0.4444444444444444,\"#bd3786\"],[0.5555555555555556,\"#d8576b\"],[0.6666666666666666,\"#ed7953\"],[0.7777777777777778,\"#fb9f3a\"],[0.8888888888888888,\"#fdca26\"],[1.0,\"#f0f921\"]]}],\"contourcarpet\":[{\"type\":\"contourcarpet\",\"colorbar\":{\"outlinewidth\":0,\"ticks\":\"\"}}],\"contour\":[{\"type\":\"contour\",\"colorbar\":{\"outlinewidth\":0,\"ticks\":\"\"},\"colorscale\":[[0.0,\"#0d0887\"],[0.1111111111111111,\"#46039f\"],[0.2222222222222222,\"#7201a8\"],[0.3333333333333333,\"#9c179e\"],[0.4444444444444444,\"#bd3786\"],[0.5555555555555556,\"#d8576b\"],[0.6666666666666666,\"#ed7953\"],[0.7777777777777778,\"#fb9f3a\"],[0.8888888888888888,\"#fdca26\"],[1.0,\"#f0f921\"]]}],\"surface\":[{\"type\":\"surface\",\"colorbar\":{\"outlinewidth\":0,\"ticks\":\"\"},\"colorscale\":[[0.0,\"#0d0887\"],[0.1111111111111111,\"#46039f\"],[0.2222222222222222,\"#7201a8\"],[0.3333333333333333,\"#9c179e\"],[0.4444444444444444,\"#bd3786\"],[0.5555555555555556,\"#d8576b\"],[0.6666666666666666,\"#ed7953\"],[0.7777777777777778,\"#fb9f3a\"],[0.8888888888888888,\"#fdca26\"],[1.0,\"#f0f921\"]]}],\"mesh3d\":[{\"type\":\"mesh3d\",\"colorbar\":{\"outlinewidth\":0,\"ticks\":\"\"}}],\"scatter\":[{\"fillpattern\":{\"fillmode\":\"overlay\",\"size\":10,\"solidity\":0.2},\"type\":\"scatter\"}],\"parcoords\":[{\"type\":\"parcoords\",\"line\":{\"colorbar\":{\"outlinewidth\":0,\"ticks\":\"\"}}}],\"scatterpolargl\":[{\"type\":\"scatterpolargl\",\"marker\":{\"colorbar\":{\"outlinewidth\":0,\"ticks\":\"\"}}}],\"bar\":[{\"error_x\":{\"color\":\"#2a3f5f\"},\"error_y\":{\"color\":\"#2a3f5f\"},\"marker\":{\"line\":{\"color\":\"#E5ECF6\",\"width\":0.5},\"pattern\":{\"fillmode\":\"overlay\",\"size\":10,\"solidity\":0.2}},\"type\":\"bar\"}],\"scattergeo\":[{\"type\":\"scattergeo\",\"marker\":{\"colorbar\":{\"outlinewidth\":0,\"ticks\":\"\"}}}],\"scatterpolar\":[{\"type\":\"scatterpolar\",\"marker\":{\"colorbar\":{\"outlinewidth\":0,\"ticks\":\"\"}}}],\"histogram\":[{\"marker\":{\"pattern\":{\"fillmode\":\"overlay\",\"size\":10,\"solidity\":0.2}},\"type\":\"histogram\"}],\"scattergl\":[{\"type\":\"scattergl\",\"marker\":{\"colorbar\":{\"outlinewidth\":0,\"ticks\":\"\"}}}],\"scatter3d\":[{\"type\":\"scatter3d\",\"line\":{\"colorbar\":{\"outlinewidth\":0,\"ticks\":\"\"}},\"marker\":{\"colorbar\":{\"outlinewidth\":0,\"ticks\":\"\"}}}],\"scattermapbox\":[{\"type\":\"scattermapbox\",\"marker\":{\"colorbar\":{\"outlinewidth\":0,\"ticks\":\"\"}}}],\"scatterternary\":[{\"type\":\"scatterternary\",\"marker\":{\"colorbar\":{\"outlinewidth\":0,\"ticks\":\"\"}}}],\"scattercarpet\":[{\"type\":\"scattercarpet\",\"marker\":{\"colorbar\":{\"outlinewidth\":0,\"ticks\":\"\"}}}],\"carpet\":[{\"aaxis\":{\"endlinecolor\":\"#2a3f5f\",\"gridcolor\":\"white\",\"linecolor\":\"white\",\"minorgridcolor\":\"white\",\"startlinecolor\":\"#2a3f5f\"},\"baxis\":{\"endlinecolor\":\"#2a3f5f\",\"gridcolor\":\"white\",\"linecolor\":\"white\",\"minorgridcolor\":\"white\",\"startlinecolor\":\"#2a3f5f\"},\"type\":\"carpet\"}],\"table\":[{\"cells\":{\"fill\":{\"color\":\"#EBF0F8\"},\"line\":{\"color\":\"white\"}},\"header\":{\"fill\":{\"color\":\"#C8D4E3\"},\"line\":{\"color\":\"white\"}},\"type\":\"table\"}],\"barpolar\":[{\"marker\":{\"line\":{\"color\":\"#E5ECF6\",\"width\":0.5},\"pattern\":{\"fillmode\":\"overlay\",\"size\":10,\"solidity\":0.2}},\"type\":\"barpolar\"}],\"pie\":[{\"automargin\":true,\"type\":\"pie\"}]},\"layout\":{\"autotypenumbers\":\"strict\",\"colorway\":[\"#636efa\",\"#EF553B\",\"#00cc96\",\"#ab63fa\",\"#FFA15A\",\"#19d3f3\",\"#FF6692\",\"#B6E880\",\"#FF97FF\",\"#FECB52\"],\"font\":{\"color\":\"#2a3f5f\"},\"hovermode\":\"closest\",\"hoverlabel\":{\"align\":\"left\"},\"paper_bgcolor\":\"white\",\"plot_bgcolor\":\"#E5ECF6\",\"polar\":{\"bgcolor\":\"#E5ECF6\",\"angularaxis\":{\"gridcolor\":\"white\",\"linecolor\":\"white\",\"ticks\":\"\"},\"radialaxis\":{\"gridcolor\":\"white\",\"linecolor\":\"white\",\"ticks\":\"\"}},\"ternary\":{\"bgcolor\":\"#E5ECF6\",\"aaxis\":{\"gridcolor\":\"white\",\"linecolor\":\"white\",\"ticks\":\"\"},\"baxis\":{\"gridcolor\":\"white\",\"linecolor\":\"white\",\"ticks\":\"\"},\"caxis\":{\"gridcolor\":\"white\",\"linecolor\":\"white\",\"ticks\":\"\"}},\"coloraxis\":{\"colorbar\":{\"outlinewidth\":0,\"ticks\":\"\"}},\"colorscale\":{\"sequential\":[[0.0,\"#0d0887\"],[0.1111111111111111,\"#46039f\"],[0.2222222222222222,\"#7201a8\"],[0.3333333333333333,\"#9c179e\"],[0.4444444444444444,\"#bd3786\"],[0.5555555555555556,\"#d8576b\"],[0.6666666666666666,\"#ed7953\"],[0.7777777777777778,\"#fb9f3a\"],[0.8888888888888888,\"#fdca26\"],[1.0,\"#f0f921\"]],\"sequentialminus\":[[0.0,\"#0d0887\"],[0.1111111111111111,\"#46039f\"],[0.2222222222222222,\"#7201a8\"],[0.3333333333333333,\"#9c179e\"],[0.4444444444444444,\"#bd3786\"],[0.5555555555555556,\"#d8576b\"],[0.6666666666666666,\"#ed7953\"],[0.7777777777777778,\"#fb9f3a\"],[0.8888888888888888,\"#fdca26\"],[1.0,\"#f0f921\"]],\"diverging\":[[0,\"#8e0152\"],[0.1,\"#c51b7d\"],[0.2,\"#de77ae\"],[0.3,\"#f1b6da\"],[0.4,\"#fde0ef\"],[0.5,\"#f7f7f7\"],[0.6,\"#e6f5d0\"],[0.7,\"#b8e186\"],[0.8,\"#7fbc41\"],[0.9,\"#4d9221\"],[1,\"#276419\"]]},\"xaxis\":{\"gridcolor\":\"white\",\"linecolor\":\"white\",\"ticks\":\"\",\"title\":{\"standoff\":15},\"zerolinecolor\":\"white\",\"automargin\":true,\"zerolinewidth\":2},\"yaxis\":{\"gridcolor\":\"white\",\"linecolor\":\"white\",\"ticks\":\"\",\"title\":{\"standoff\":15},\"zerolinecolor\":\"white\",\"automargin\":true,\"zerolinewidth\":2},\"scene\":{\"xaxis\":{\"backgroundcolor\":\"#E5ECF6\",\"gridcolor\":\"white\",\"linecolor\":\"white\",\"showbackground\":true,\"ticks\":\"\",\"zerolinecolor\":\"white\",\"gridwidth\":2},\"yaxis\":{\"backgroundcolor\":\"#E5ECF6\",\"gridcolor\":\"white\",\"linecolor\":\"white\",\"showbackground\":true,\"ticks\":\"\",\"zerolinecolor\":\"white\",\"gridwidth\":2},\"zaxis\":{\"backgroundcolor\":\"#E5ECF6\",\"gridcolor\":\"white\",\"linecolor\":\"white\",\"showbackground\":true,\"ticks\":\"\",\"zerolinecolor\":\"white\",\"gridwidth\":2}},\"shapedefaults\":{\"line\":{\"color\":\"#2a3f5f\"}},\"annotationdefaults\":{\"arrowcolor\":\"#2a3f5f\",\"arrowhead\":0,\"arrowwidth\":1},\"geo\":{\"bgcolor\":\"white\",\"landcolor\":\"#E5ECF6\",\"subunitcolor\":\"white\",\"showland\":true,\"showlakes\":true,\"lakecolor\":\"white\"},\"title\":{\"x\":0.05},\"mapbox\":{\"style\":\"light\"}}},\"xaxis\":{\"anchor\":\"y\",\"domain\":[0.0,1.0],\"title\":{\"text\":\"season\"}},\"yaxis\":{\"anchor\":\"x\",\"domain\":[0.0,1.0],\"title\":{\"text\":\"Gls\"}},\"legend\":{\"title\":{\"text\":\"Player\"},\"tracegroupgap\":0,\"itemsizing\":\"constant\"},\"margin\":{\"t\":60}},                        {\"responsive\": true}                    ).then(function(){\n                            \nvar gd = document.getElementById('78d9f93e-523e-4fb0-9a46-1dcd48bfecc2');\nvar x = new MutationObserver(function (mutations, observer) {{\n        var display = window.getComputedStyle(gd).display;\n        if (!display || display === 'none') {{\n            console.log([gd, 'removed!']);\n            Plotly.purge(gd);\n            observer.disconnect();\n        }}\n}});\n\n// Listen for the removal of the full notebook cells\nvar notebookContainer = gd.closest('#notebook-container');\nif (notebookContainer) {{\n    x.observe(notebookContainer, {childList: true});\n}}\n\n// Listen for the clearing of the current output cell\nvar outputEl = gd.closest('.output');\nif (outputEl) {{\n    x.observe(outputEl, {childList: true});\n}}\n\n                        })                };                });            </script>        </div>"
     },
     "metadata": {},
     "output_type": "display_data"
    }
   ],
   "source": [
    "fig = go.Figure()\n",
    "px.scatter(highest_scoring, x='season', y='Gls', color='Player', size='Gls', hover_data='Player')\n"
   ],
   "metadata": {
    "collapsed": false,
    "ExecuteTime": {
     "end_time": "2024-06-07T14:48:57.283625800Z",
     "start_time": "2024-06-07T14:48:56.735189200Z"
    }
   }
  },
  {
   "cell_type": "code",
   "execution_count": 336,
   "outputs": [
    {
     "data": {
      "application/vnd.plotly.v1+json": {
       "data": [
        {
         "alignmentgroup": "True",
         "customdata": [
          [
           "Eric Cantona"
          ]
         ],
         "hovertemplate": "Player=%{customdata[0]}<br>season=%{x}<br>Gls=%{y}<extra></extra>",
         "legendgroup": "Eric Cantona",
         "marker": {
          "color": "#636efa",
          "pattern": {
           "shape": ""
          }
         },
         "name": "Eric Cantona",
         "offsetgroup": "Eric Cantona",
         "orientation": "v",
         "showlegend": true,
         "textposition": "auto",
         "x": [
          "1993/1994"
         ],
         "xaxis": "x",
         "y": [
          18
         ],
         "yaxis": "y",
         "type": "bar"
        },
        {
         "alignmentgroup": "True",
         "customdata": [
          [
           "Alan Shearer"
          ]
         ],
         "hovertemplate": "Player=%{customdata[0]}<br>season=%{x}<br>Gls=%{y}<extra></extra>",
         "legendgroup": "Alan Shearer",
         "marker": {
          "color": "#EF553B",
          "pattern": {
           "shape": ""
          }
         },
         "name": "Alan Shearer",
         "offsetgroup": "Alan Shearer",
         "orientation": "v",
         "showlegend": true,
         "textposition": "auto",
         "x": [
          "1994/1995"
         ],
         "xaxis": "x",
         "y": [
          34
         ],
         "yaxis": "y",
         "type": "bar"
        },
        {
         "alignmentgroup": "True",
         "customdata": [
          [
           "Michael Owen"
          ]
         ],
         "hovertemplate": "Player=%{customdata[0]}<br>season=%{x}<br>Gls=%{y}<extra></extra>",
         "legendgroup": "Michael Owen",
         "marker": {
          "color": "#00cc96",
          "pattern": {
           "shape": ""
          }
         },
         "name": "Michael Owen",
         "offsetgroup": "Michael Owen",
         "orientation": "v",
         "showlegend": true,
         "textposition": "auto",
         "x": [
          "1997/1998"
         ],
         "xaxis": "x",
         "y": [
          18
         ],
         "yaxis": "y",
         "type": "bar"
        },
        {
         "alignmentgroup": "True",
         "customdata": [
          [
           "Dwight Yorke"
          ]
         ],
         "hovertemplate": "Player=%{customdata[0]}<br>season=%{x}<br>Gls=%{y}<extra></extra>",
         "legendgroup": "Dwight Yorke",
         "marker": {
          "color": "#ab63fa",
          "pattern": {
           "shape": ""
          }
         },
         "name": "Dwight Yorke",
         "offsetgroup": "Dwight Yorke",
         "orientation": "v",
         "showlegend": true,
         "textposition": "auto",
         "x": [
          "1998/1999"
         ],
         "xaxis": "x",
         "y": [
          18
         ],
         "yaxis": "y",
         "type": "bar"
        },
        {
         "alignmentgroup": "True",
         "customdata": [
          [
           "Kevin Phillips"
          ]
         ],
         "hovertemplate": "Player=%{customdata[0]}<br>season=%{x}<br>Gls=%{y}<extra></extra>",
         "legendgroup": "Kevin Phillips",
         "marker": {
          "color": "#FFA15A",
          "pattern": {
           "shape": ""
          }
         },
         "name": "Kevin Phillips",
         "offsetgroup": "Kevin Phillips",
         "orientation": "v",
         "showlegend": true,
         "textposition": "auto",
         "x": [
          "1999/2000"
         ],
         "xaxis": "x",
         "y": [
          30
         ],
         "yaxis": "y",
         "type": "bar"
        },
        {
         "alignmentgroup": "True",
         "customdata": [
          [
           "Ruud Van Nistelrooy"
          ]
         ],
         "hovertemplate": "Player=%{customdata[0]}<br>season=%{x}<br>Gls=%{y}<extra></extra>",
         "legendgroup": "Ruud Van Nistelrooy",
         "marker": {
          "color": "#19d3f3",
          "pattern": {
           "shape": ""
          }
         },
         "name": "Ruud Van Nistelrooy",
         "offsetgroup": "Ruud Van Nistelrooy",
         "orientation": "v",
         "showlegend": true,
         "textposition": "auto",
         "x": [
          "2002/2003"
         ],
         "xaxis": "x",
         "y": [
          25
         ],
         "yaxis": "y",
         "type": "bar"
        },
        {
         "alignmentgroup": "True",
         "customdata": [
          [
           "Thierry Henry"
          ],
          [
           "Thierry Henry"
          ]
         ],
         "hovertemplate": "Player=%{customdata[0]}<br>season=%{x}<br>Gls=%{y}<extra></extra>",
         "legendgroup": "Thierry Henry",
         "marker": {
          "color": "#FF6692",
          "pattern": {
           "shape": ""
          }
         },
         "name": "Thierry Henry",
         "offsetgroup": "Thierry Henry",
         "orientation": "v",
         "showlegend": true,
         "textposition": "auto",
         "x": [
          "2003/2004",
          "2005/2006"
         ],
         "xaxis": "x",
         "y": [
          30,
          27
         ],
         "yaxis": "y",
         "type": "bar"
        },
        {
         "alignmentgroup": "True",
         "customdata": [
          [
           "Cristiano Ronaldo"
          ],
          [
           "Cristiano Ronaldo"
          ]
         ],
         "hovertemplate": "Player=%{customdata[0]}<br>season=%{x}<br>Gls=%{y}<extra></extra>",
         "legendgroup": "Cristiano Ronaldo",
         "marker": {
          "color": "#B6E880",
          "pattern": {
           "shape": ""
          }
         },
         "name": "Cristiano Ronaldo",
         "offsetgroup": "Cristiano Ronaldo",
         "orientation": "v",
         "showlegend": true,
         "textposition": "auto",
         "x": [
          "2007/2008",
          "2008/2009"
         ],
         "xaxis": "x",
         "y": [
          31,
          18
         ],
         "yaxis": "y",
         "type": "bar"
        },
        {
         "alignmentgroup": "True",
         "customdata": [
          [
           "Wayne Rooney"
          ]
         ],
         "hovertemplate": "Player=%{customdata[0]}<br>season=%{x}<br>Gls=%{y}<extra></extra>",
         "legendgroup": "Wayne Rooney",
         "marker": {
          "color": "#FF97FF",
          "pattern": {
           "shape": ""
          }
         },
         "name": "Wayne Rooney",
         "offsetgroup": "Wayne Rooney",
         "orientation": "v",
         "showlegend": true,
         "textposition": "auto",
         "x": [
          "2009/2010"
         ],
         "xaxis": "x",
         "y": [
          26
         ],
         "yaxis": "y",
         "type": "bar"
        },
        {
         "alignmentgroup": "True",
         "customdata": [
          [
           "Gareth Bale"
          ]
         ],
         "hovertemplate": "Player=%{customdata[0]}<br>season=%{x}<br>Gls=%{y}<extra></extra>",
         "legendgroup": "Gareth Bale",
         "marker": {
          "color": "#FECB52",
          "pattern": {
           "shape": ""
          }
         },
         "name": "Gareth Bale",
         "offsetgroup": "Gareth Bale",
         "orientation": "v",
         "showlegend": true,
         "textposition": "auto",
         "x": [
          "2012/2013"
         ],
         "xaxis": "x",
         "y": [
          21
         ],
         "yaxis": "y",
         "type": "bar"
        },
        {
         "alignmentgroup": "True",
         "customdata": [
          [
           "Luis Suárez"
          ]
         ],
         "hovertemplate": "Player=%{customdata[0]}<br>season=%{x}<br>Gls=%{y}<extra></extra>",
         "legendgroup": "Luis Suárez",
         "marker": {
          "color": "#636efa",
          "pattern": {
           "shape": ""
          }
         },
         "name": "Luis Suárez",
         "offsetgroup": "Luis Suárez",
         "orientation": "v",
         "showlegend": true,
         "textposition": "auto",
         "x": [
          "2013/2014"
         ],
         "xaxis": "x",
         "y": [
          31
         ],
         "yaxis": "y",
         "type": "bar"
        },
        {
         "alignmentgroup": "True",
         "customdata": [
          [
           "Jamie Vardy"
          ]
         ],
         "hovertemplate": "Player=%{customdata[0]}<br>season=%{x}<br>Gls=%{y}<extra></extra>",
         "legendgroup": "Jamie Vardy",
         "marker": {
          "color": "#EF553B",
          "pattern": {
           "shape": ""
          }
         },
         "name": "Jamie Vardy",
         "offsetgroup": "Jamie Vardy",
         "orientation": "v",
         "showlegend": true,
         "textposition": "auto",
         "x": [
          "2015/2016"
         ],
         "xaxis": "x",
         "y": [
          24
         ],
         "yaxis": "y",
         "type": "bar"
        },
        {
         "alignmentgroup": "True",
         "customdata": [
          [
           "Mohamed Salah"
          ]
         ],
         "hovertemplate": "Player=%{customdata[0]}<br>season=%{x}<br>Gls=%{y}<extra></extra>",
         "legendgroup": "Mohamed Salah",
         "marker": {
          "color": "#00cc96",
          "pattern": {
           "shape": ""
          }
         },
         "name": "Mohamed Salah",
         "offsetgroup": "Mohamed Salah",
         "orientation": "v",
         "showlegend": true,
         "textposition": "auto",
         "x": [
          "2017/2018"
         ],
         "xaxis": "x",
         "y": [
          32
         ],
         "yaxis": "y",
         "type": "bar"
        },
        {
         "alignmentgroup": "True",
         "customdata": [
          [
           "Erling Haaland"
          ]
         ],
         "hovertemplate": "Player=%{customdata[0]}<br>season=%{x}<br>Gls=%{y}<extra></extra>",
         "legendgroup": "Erling Haaland",
         "marker": {
          "color": "#ab63fa",
          "pattern": {
           "shape": ""
          }
         },
         "name": "Erling Haaland",
         "offsetgroup": "Erling Haaland",
         "orientation": "v",
         "showlegend": true,
         "textposition": "auto",
         "x": [
          "2022/2023"
         ],
         "xaxis": "x",
         "y": [
          36
         ],
         "yaxis": "y",
         "type": "bar"
        },
        {
         "alignmentgroup": "True",
         "customdata": [
          [
           "Phil Foden"
          ]
         ],
         "hovertemplate": "Player=%{customdata[0]}<br>season=%{x}<br>Gls=%{y}<extra></extra>",
         "legendgroup": "Phil Foden",
         "marker": {
          "color": "#FFA15A",
          "pattern": {
           "shape": ""
          }
         },
         "name": "Phil Foden",
         "offsetgroup": "Phil Foden",
         "orientation": "v",
         "showlegend": true,
         "textposition": "auto",
         "x": [
          "2023/2024"
         ],
         "xaxis": "x",
         "y": [
          19
         ],
         "yaxis": "y",
         "type": "bar"
        }
       ],
       "layout": {
        "template": {
         "data": {
          "histogram2dcontour": [
           {
            "type": "histogram2dcontour",
            "colorbar": {
             "outlinewidth": 0,
             "ticks": ""
            },
            "colorscale": [
             [
              0.0,
              "#0d0887"
             ],
             [
              0.1111111111111111,
              "#46039f"
             ],
             [
              0.2222222222222222,
              "#7201a8"
             ],
             [
              0.3333333333333333,
              "#9c179e"
             ],
             [
              0.4444444444444444,
              "#bd3786"
             ],
             [
              0.5555555555555556,
              "#d8576b"
             ],
             [
              0.6666666666666666,
              "#ed7953"
             ],
             [
              0.7777777777777778,
              "#fb9f3a"
             ],
             [
              0.8888888888888888,
              "#fdca26"
             ],
             [
              1.0,
              "#f0f921"
             ]
            ]
           }
          ],
          "choropleth": [
           {
            "type": "choropleth",
            "colorbar": {
             "outlinewidth": 0,
             "ticks": ""
            }
           }
          ],
          "histogram2d": [
           {
            "type": "histogram2d",
            "colorbar": {
             "outlinewidth": 0,
             "ticks": ""
            },
            "colorscale": [
             [
              0.0,
              "#0d0887"
             ],
             [
              0.1111111111111111,
              "#46039f"
             ],
             [
              0.2222222222222222,
              "#7201a8"
             ],
             [
              0.3333333333333333,
              "#9c179e"
             ],
             [
              0.4444444444444444,
              "#bd3786"
             ],
             [
              0.5555555555555556,
              "#d8576b"
             ],
             [
              0.6666666666666666,
              "#ed7953"
             ],
             [
              0.7777777777777778,
              "#fb9f3a"
             ],
             [
              0.8888888888888888,
              "#fdca26"
             ],
             [
              1.0,
              "#f0f921"
             ]
            ]
           }
          ],
          "heatmap": [
           {
            "type": "heatmap",
            "colorbar": {
             "outlinewidth": 0,
             "ticks": ""
            },
            "colorscale": [
             [
              0.0,
              "#0d0887"
             ],
             [
              0.1111111111111111,
              "#46039f"
             ],
             [
              0.2222222222222222,
              "#7201a8"
             ],
             [
              0.3333333333333333,
              "#9c179e"
             ],
             [
              0.4444444444444444,
              "#bd3786"
             ],
             [
              0.5555555555555556,
              "#d8576b"
             ],
             [
              0.6666666666666666,
              "#ed7953"
             ],
             [
              0.7777777777777778,
              "#fb9f3a"
             ],
             [
              0.8888888888888888,
              "#fdca26"
             ],
             [
              1.0,
              "#f0f921"
             ]
            ]
           }
          ],
          "heatmapgl": [
           {
            "type": "heatmapgl",
            "colorbar": {
             "outlinewidth": 0,
             "ticks": ""
            },
            "colorscale": [
             [
              0.0,
              "#0d0887"
             ],
             [
              0.1111111111111111,
              "#46039f"
             ],
             [
              0.2222222222222222,
              "#7201a8"
             ],
             [
              0.3333333333333333,
              "#9c179e"
             ],
             [
              0.4444444444444444,
              "#bd3786"
             ],
             [
              0.5555555555555556,
              "#d8576b"
             ],
             [
              0.6666666666666666,
              "#ed7953"
             ],
             [
              0.7777777777777778,
              "#fb9f3a"
             ],
             [
              0.8888888888888888,
              "#fdca26"
             ],
             [
              1.0,
              "#f0f921"
             ]
            ]
           }
          ],
          "contourcarpet": [
           {
            "type": "contourcarpet",
            "colorbar": {
             "outlinewidth": 0,
             "ticks": ""
            }
           }
          ],
          "contour": [
           {
            "type": "contour",
            "colorbar": {
             "outlinewidth": 0,
             "ticks": ""
            },
            "colorscale": [
             [
              0.0,
              "#0d0887"
             ],
             [
              0.1111111111111111,
              "#46039f"
             ],
             [
              0.2222222222222222,
              "#7201a8"
             ],
             [
              0.3333333333333333,
              "#9c179e"
             ],
             [
              0.4444444444444444,
              "#bd3786"
             ],
             [
              0.5555555555555556,
              "#d8576b"
             ],
             [
              0.6666666666666666,
              "#ed7953"
             ],
             [
              0.7777777777777778,
              "#fb9f3a"
             ],
             [
              0.8888888888888888,
              "#fdca26"
             ],
             [
              1.0,
              "#f0f921"
             ]
            ]
           }
          ],
          "surface": [
           {
            "type": "surface",
            "colorbar": {
             "outlinewidth": 0,
             "ticks": ""
            },
            "colorscale": [
             [
              0.0,
              "#0d0887"
             ],
             [
              0.1111111111111111,
              "#46039f"
             ],
             [
              0.2222222222222222,
              "#7201a8"
             ],
             [
              0.3333333333333333,
              "#9c179e"
             ],
             [
              0.4444444444444444,
              "#bd3786"
             ],
             [
              0.5555555555555556,
              "#d8576b"
             ],
             [
              0.6666666666666666,
              "#ed7953"
             ],
             [
              0.7777777777777778,
              "#fb9f3a"
             ],
             [
              0.8888888888888888,
              "#fdca26"
             ],
             [
              1.0,
              "#f0f921"
             ]
            ]
           }
          ],
          "mesh3d": [
           {
            "type": "mesh3d",
            "colorbar": {
             "outlinewidth": 0,
             "ticks": ""
            }
           }
          ],
          "scatter": [
           {
            "fillpattern": {
             "fillmode": "overlay",
             "size": 10,
             "solidity": 0.2
            },
            "type": "scatter"
           }
          ],
          "parcoords": [
           {
            "type": "parcoords",
            "line": {
             "colorbar": {
              "outlinewidth": 0,
              "ticks": ""
             }
            }
           }
          ],
          "scatterpolargl": [
           {
            "type": "scatterpolargl",
            "marker": {
             "colorbar": {
              "outlinewidth": 0,
              "ticks": ""
             }
            }
           }
          ],
          "bar": [
           {
            "error_x": {
             "color": "#2a3f5f"
            },
            "error_y": {
             "color": "#2a3f5f"
            },
            "marker": {
             "line": {
              "color": "#E5ECF6",
              "width": 0.5
             },
             "pattern": {
              "fillmode": "overlay",
              "size": 10,
              "solidity": 0.2
             }
            },
            "type": "bar"
           }
          ],
          "scattergeo": [
           {
            "type": "scattergeo",
            "marker": {
             "colorbar": {
              "outlinewidth": 0,
              "ticks": ""
             }
            }
           }
          ],
          "scatterpolar": [
           {
            "type": "scatterpolar",
            "marker": {
             "colorbar": {
              "outlinewidth": 0,
              "ticks": ""
             }
            }
           }
          ],
          "histogram": [
           {
            "marker": {
             "pattern": {
              "fillmode": "overlay",
              "size": 10,
              "solidity": 0.2
             }
            },
            "type": "histogram"
           }
          ],
          "scattergl": [
           {
            "type": "scattergl",
            "marker": {
             "colorbar": {
              "outlinewidth": 0,
              "ticks": ""
             }
            }
           }
          ],
          "scatter3d": [
           {
            "type": "scatter3d",
            "line": {
             "colorbar": {
              "outlinewidth": 0,
              "ticks": ""
             }
            },
            "marker": {
             "colorbar": {
              "outlinewidth": 0,
              "ticks": ""
             }
            }
           }
          ],
          "scattermapbox": [
           {
            "type": "scattermapbox",
            "marker": {
             "colorbar": {
              "outlinewidth": 0,
              "ticks": ""
             }
            }
           }
          ],
          "scatterternary": [
           {
            "type": "scatterternary",
            "marker": {
             "colorbar": {
              "outlinewidth": 0,
              "ticks": ""
             }
            }
           }
          ],
          "scattercarpet": [
           {
            "type": "scattercarpet",
            "marker": {
             "colorbar": {
              "outlinewidth": 0,
              "ticks": ""
             }
            }
           }
          ],
          "carpet": [
           {
            "aaxis": {
             "endlinecolor": "#2a3f5f",
             "gridcolor": "white",
             "linecolor": "white",
             "minorgridcolor": "white",
             "startlinecolor": "#2a3f5f"
            },
            "baxis": {
             "endlinecolor": "#2a3f5f",
             "gridcolor": "white",
             "linecolor": "white",
             "minorgridcolor": "white",
             "startlinecolor": "#2a3f5f"
            },
            "type": "carpet"
           }
          ],
          "table": [
           {
            "cells": {
             "fill": {
              "color": "#EBF0F8"
             },
             "line": {
              "color": "white"
             }
            },
            "header": {
             "fill": {
              "color": "#C8D4E3"
             },
             "line": {
              "color": "white"
             }
            },
            "type": "table"
           }
          ],
          "barpolar": [
           {
            "marker": {
             "line": {
              "color": "#E5ECF6",
              "width": 0.5
             },
             "pattern": {
              "fillmode": "overlay",
              "size": 10,
              "solidity": 0.2
             }
            },
            "type": "barpolar"
           }
          ],
          "pie": [
           {
            "automargin": true,
            "type": "pie"
           }
          ]
         },
         "layout": {
          "autotypenumbers": "strict",
          "colorway": [
           "#636efa",
           "#EF553B",
           "#00cc96",
           "#ab63fa",
           "#FFA15A",
           "#19d3f3",
           "#FF6692",
           "#B6E880",
           "#FF97FF",
           "#FECB52"
          ],
          "font": {
           "color": "#2a3f5f"
          },
          "hovermode": "closest",
          "hoverlabel": {
           "align": "left"
          },
          "paper_bgcolor": "white",
          "plot_bgcolor": "#E5ECF6",
          "polar": {
           "bgcolor": "#E5ECF6",
           "angularaxis": {
            "gridcolor": "white",
            "linecolor": "white",
            "ticks": ""
           },
           "radialaxis": {
            "gridcolor": "white",
            "linecolor": "white",
            "ticks": ""
           }
          },
          "ternary": {
           "bgcolor": "#E5ECF6",
           "aaxis": {
            "gridcolor": "white",
            "linecolor": "white",
            "ticks": ""
           },
           "baxis": {
            "gridcolor": "white",
            "linecolor": "white",
            "ticks": ""
           },
           "caxis": {
            "gridcolor": "white",
            "linecolor": "white",
            "ticks": ""
           }
          },
          "coloraxis": {
           "colorbar": {
            "outlinewidth": 0,
            "ticks": ""
           }
          },
          "colorscale": {
           "sequential": [
            [
             0.0,
             "#0d0887"
            ],
            [
             0.1111111111111111,
             "#46039f"
            ],
            [
             0.2222222222222222,
             "#7201a8"
            ],
            [
             0.3333333333333333,
             "#9c179e"
            ],
            [
             0.4444444444444444,
             "#bd3786"
            ],
            [
             0.5555555555555556,
             "#d8576b"
            ],
            [
             0.6666666666666666,
             "#ed7953"
            ],
            [
             0.7777777777777778,
             "#fb9f3a"
            ],
            [
             0.8888888888888888,
             "#fdca26"
            ],
            [
             1.0,
             "#f0f921"
            ]
           ],
           "sequentialminus": [
            [
             0.0,
             "#0d0887"
            ],
            [
             0.1111111111111111,
             "#46039f"
            ],
            [
             0.2222222222222222,
             "#7201a8"
            ],
            [
             0.3333333333333333,
             "#9c179e"
            ],
            [
             0.4444444444444444,
             "#bd3786"
            ],
            [
             0.5555555555555556,
             "#d8576b"
            ],
            [
             0.6666666666666666,
             "#ed7953"
            ],
            [
             0.7777777777777778,
             "#fb9f3a"
            ],
            [
             0.8888888888888888,
             "#fdca26"
            ],
            [
             1.0,
             "#f0f921"
            ]
           ],
           "diverging": [
            [
             0,
             "#8e0152"
            ],
            [
             0.1,
             "#c51b7d"
            ],
            [
             0.2,
             "#de77ae"
            ],
            [
             0.3,
             "#f1b6da"
            ],
            [
             0.4,
             "#fde0ef"
            ],
            [
             0.5,
             "#f7f7f7"
            ],
            [
             0.6,
             "#e6f5d0"
            ],
            [
             0.7,
             "#b8e186"
            ],
            [
             0.8,
             "#7fbc41"
            ],
            [
             0.9,
             "#4d9221"
            ],
            [
             1,
             "#276419"
            ]
           ]
          },
          "xaxis": {
           "gridcolor": "white",
           "linecolor": "white",
           "ticks": "",
           "title": {
            "standoff": 15
           },
           "zerolinecolor": "white",
           "automargin": true,
           "zerolinewidth": 2
          },
          "yaxis": {
           "gridcolor": "white",
           "linecolor": "white",
           "ticks": "",
           "title": {
            "standoff": 15
           },
           "zerolinecolor": "white",
           "automargin": true,
           "zerolinewidth": 2
          },
          "scene": {
           "xaxis": {
            "backgroundcolor": "#E5ECF6",
            "gridcolor": "white",
            "linecolor": "white",
            "showbackground": true,
            "ticks": "",
            "zerolinecolor": "white",
            "gridwidth": 2
           },
           "yaxis": {
            "backgroundcolor": "#E5ECF6",
            "gridcolor": "white",
            "linecolor": "white",
            "showbackground": true,
            "ticks": "",
            "zerolinecolor": "white",
            "gridwidth": 2
           },
           "zaxis": {
            "backgroundcolor": "#E5ECF6",
            "gridcolor": "white",
            "linecolor": "white",
            "showbackground": true,
            "ticks": "",
            "zerolinecolor": "white",
            "gridwidth": 2
           }
          },
          "shapedefaults": {
           "line": {
            "color": "#2a3f5f"
           }
          },
          "annotationdefaults": {
           "arrowcolor": "#2a3f5f",
           "arrowhead": 0,
           "arrowwidth": 1
          },
          "geo": {
           "bgcolor": "white",
           "landcolor": "#E5ECF6",
           "subunitcolor": "white",
           "showland": true,
           "showlakes": true,
           "lakecolor": "white"
          },
          "title": {
           "x": 0.05
          },
          "mapbox": {
           "style": "light"
          }
         }
        },
        "xaxis": {
         "anchor": "y",
         "domain": [
          0.0,
          1.0
         ],
         "title": {
          "text": "season"
         }
        },
        "yaxis": {
         "anchor": "x",
         "domain": [
          0.0,
          1.0
         ],
         "title": {
          "text": "Gls"
         }
        },
        "legend": {
         "title": {
          "text": "Player"
         },
         "tracegroupgap": 0
        },
        "title": {
         "text": "Number of Goals scored by the winner of the Player of the Season Award"
        },
        "barmode": "relative"
       },
       "config": {
        "plotlyServerURL": "https://plot.ly"
       }
      },
      "text/html": "<div>                            <div id=\"1c862a2e-0098-4c6f-8c25-a1e24dab793e\" class=\"plotly-graph-div\" style=\"height:525px; width:100%;\"></div>            <script type=\"text/javascript\">                require([\"plotly\"], function(Plotly) {                    window.PLOTLYENV=window.PLOTLYENV || {};                                    if (document.getElementById(\"1c862a2e-0098-4c6f-8c25-a1e24dab793e\")) {                    Plotly.newPlot(                        \"1c862a2e-0098-4c6f-8c25-a1e24dab793e\",                        [{\"alignmentgroup\":\"True\",\"customdata\":[[\"Eric Cantona\"]],\"hovertemplate\":\"Player=%{customdata[0]}\\u003cbr\\u003eseason=%{x}\\u003cbr\\u003eGls=%{y}\\u003cextra\\u003e\\u003c\\u002fextra\\u003e\",\"legendgroup\":\"Eric Cantona\",\"marker\":{\"color\":\"#636efa\",\"pattern\":{\"shape\":\"\"}},\"name\":\"Eric Cantona\",\"offsetgroup\":\"Eric Cantona\",\"orientation\":\"v\",\"showlegend\":true,\"textposition\":\"auto\",\"x\":[\"1993\\u002f1994\"],\"xaxis\":\"x\",\"y\":[18],\"yaxis\":\"y\",\"type\":\"bar\"},{\"alignmentgroup\":\"True\",\"customdata\":[[\"Alan Shearer\"]],\"hovertemplate\":\"Player=%{customdata[0]}\\u003cbr\\u003eseason=%{x}\\u003cbr\\u003eGls=%{y}\\u003cextra\\u003e\\u003c\\u002fextra\\u003e\",\"legendgroup\":\"Alan Shearer\",\"marker\":{\"color\":\"#EF553B\",\"pattern\":{\"shape\":\"\"}},\"name\":\"Alan Shearer\",\"offsetgroup\":\"Alan Shearer\",\"orientation\":\"v\",\"showlegend\":true,\"textposition\":\"auto\",\"x\":[\"1994\\u002f1995\"],\"xaxis\":\"x\",\"y\":[34],\"yaxis\":\"y\",\"type\":\"bar\"},{\"alignmentgroup\":\"True\",\"customdata\":[[\"Michael Owen\"]],\"hovertemplate\":\"Player=%{customdata[0]}\\u003cbr\\u003eseason=%{x}\\u003cbr\\u003eGls=%{y}\\u003cextra\\u003e\\u003c\\u002fextra\\u003e\",\"legendgroup\":\"Michael Owen\",\"marker\":{\"color\":\"#00cc96\",\"pattern\":{\"shape\":\"\"}},\"name\":\"Michael Owen\",\"offsetgroup\":\"Michael Owen\",\"orientation\":\"v\",\"showlegend\":true,\"textposition\":\"auto\",\"x\":[\"1997\\u002f1998\"],\"xaxis\":\"x\",\"y\":[18],\"yaxis\":\"y\",\"type\":\"bar\"},{\"alignmentgroup\":\"True\",\"customdata\":[[\"Dwight Yorke\"]],\"hovertemplate\":\"Player=%{customdata[0]}\\u003cbr\\u003eseason=%{x}\\u003cbr\\u003eGls=%{y}\\u003cextra\\u003e\\u003c\\u002fextra\\u003e\",\"legendgroup\":\"Dwight Yorke\",\"marker\":{\"color\":\"#ab63fa\",\"pattern\":{\"shape\":\"\"}},\"name\":\"Dwight Yorke\",\"offsetgroup\":\"Dwight Yorke\",\"orientation\":\"v\",\"showlegend\":true,\"textposition\":\"auto\",\"x\":[\"1998\\u002f1999\"],\"xaxis\":\"x\",\"y\":[18],\"yaxis\":\"y\",\"type\":\"bar\"},{\"alignmentgroup\":\"True\",\"customdata\":[[\"Kevin Phillips\"]],\"hovertemplate\":\"Player=%{customdata[0]}\\u003cbr\\u003eseason=%{x}\\u003cbr\\u003eGls=%{y}\\u003cextra\\u003e\\u003c\\u002fextra\\u003e\",\"legendgroup\":\"Kevin Phillips\",\"marker\":{\"color\":\"#FFA15A\",\"pattern\":{\"shape\":\"\"}},\"name\":\"Kevin Phillips\",\"offsetgroup\":\"Kevin Phillips\",\"orientation\":\"v\",\"showlegend\":true,\"textposition\":\"auto\",\"x\":[\"1999\\u002f2000\"],\"xaxis\":\"x\",\"y\":[30],\"yaxis\":\"y\",\"type\":\"bar\"},{\"alignmentgroup\":\"True\",\"customdata\":[[\"Ruud Van Nistelrooy\"]],\"hovertemplate\":\"Player=%{customdata[0]}\\u003cbr\\u003eseason=%{x}\\u003cbr\\u003eGls=%{y}\\u003cextra\\u003e\\u003c\\u002fextra\\u003e\",\"legendgroup\":\"Ruud Van Nistelrooy\",\"marker\":{\"color\":\"#19d3f3\",\"pattern\":{\"shape\":\"\"}},\"name\":\"Ruud Van Nistelrooy\",\"offsetgroup\":\"Ruud Van Nistelrooy\",\"orientation\":\"v\",\"showlegend\":true,\"textposition\":\"auto\",\"x\":[\"2002\\u002f2003\"],\"xaxis\":\"x\",\"y\":[25],\"yaxis\":\"y\",\"type\":\"bar\"},{\"alignmentgroup\":\"True\",\"customdata\":[[\"Thierry Henry\"],[\"Thierry Henry\"]],\"hovertemplate\":\"Player=%{customdata[0]}\\u003cbr\\u003eseason=%{x}\\u003cbr\\u003eGls=%{y}\\u003cextra\\u003e\\u003c\\u002fextra\\u003e\",\"legendgroup\":\"Thierry Henry\",\"marker\":{\"color\":\"#FF6692\",\"pattern\":{\"shape\":\"\"}},\"name\":\"Thierry Henry\",\"offsetgroup\":\"Thierry Henry\",\"orientation\":\"v\",\"showlegend\":true,\"textposition\":\"auto\",\"x\":[\"2003\\u002f2004\",\"2005\\u002f2006\"],\"xaxis\":\"x\",\"y\":[30,27],\"yaxis\":\"y\",\"type\":\"bar\"},{\"alignmentgroup\":\"True\",\"customdata\":[[\"Cristiano Ronaldo\"],[\"Cristiano Ronaldo\"]],\"hovertemplate\":\"Player=%{customdata[0]}\\u003cbr\\u003eseason=%{x}\\u003cbr\\u003eGls=%{y}\\u003cextra\\u003e\\u003c\\u002fextra\\u003e\",\"legendgroup\":\"Cristiano Ronaldo\",\"marker\":{\"color\":\"#B6E880\",\"pattern\":{\"shape\":\"\"}},\"name\":\"Cristiano Ronaldo\",\"offsetgroup\":\"Cristiano Ronaldo\",\"orientation\":\"v\",\"showlegend\":true,\"textposition\":\"auto\",\"x\":[\"2007\\u002f2008\",\"2008\\u002f2009\"],\"xaxis\":\"x\",\"y\":[31,18],\"yaxis\":\"y\",\"type\":\"bar\"},{\"alignmentgroup\":\"True\",\"customdata\":[[\"Wayne Rooney\"]],\"hovertemplate\":\"Player=%{customdata[0]}\\u003cbr\\u003eseason=%{x}\\u003cbr\\u003eGls=%{y}\\u003cextra\\u003e\\u003c\\u002fextra\\u003e\",\"legendgroup\":\"Wayne Rooney\",\"marker\":{\"color\":\"#FF97FF\",\"pattern\":{\"shape\":\"\"}},\"name\":\"Wayne Rooney\",\"offsetgroup\":\"Wayne Rooney\",\"orientation\":\"v\",\"showlegend\":true,\"textposition\":\"auto\",\"x\":[\"2009\\u002f2010\"],\"xaxis\":\"x\",\"y\":[26],\"yaxis\":\"y\",\"type\":\"bar\"},{\"alignmentgroup\":\"True\",\"customdata\":[[\"Gareth Bale\"]],\"hovertemplate\":\"Player=%{customdata[0]}\\u003cbr\\u003eseason=%{x}\\u003cbr\\u003eGls=%{y}\\u003cextra\\u003e\\u003c\\u002fextra\\u003e\",\"legendgroup\":\"Gareth Bale\",\"marker\":{\"color\":\"#FECB52\",\"pattern\":{\"shape\":\"\"}},\"name\":\"Gareth Bale\",\"offsetgroup\":\"Gareth Bale\",\"orientation\":\"v\",\"showlegend\":true,\"textposition\":\"auto\",\"x\":[\"2012\\u002f2013\"],\"xaxis\":\"x\",\"y\":[21],\"yaxis\":\"y\",\"type\":\"bar\"},{\"alignmentgroup\":\"True\",\"customdata\":[[\"Luis Su\\u00e1rez\"]],\"hovertemplate\":\"Player=%{customdata[0]}\\u003cbr\\u003eseason=%{x}\\u003cbr\\u003eGls=%{y}\\u003cextra\\u003e\\u003c\\u002fextra\\u003e\",\"legendgroup\":\"Luis Su\\u00e1rez\",\"marker\":{\"color\":\"#636efa\",\"pattern\":{\"shape\":\"\"}},\"name\":\"Luis Su\\u00e1rez\",\"offsetgroup\":\"Luis Su\\u00e1rez\",\"orientation\":\"v\",\"showlegend\":true,\"textposition\":\"auto\",\"x\":[\"2013\\u002f2014\"],\"xaxis\":\"x\",\"y\":[31],\"yaxis\":\"y\",\"type\":\"bar\"},{\"alignmentgroup\":\"True\",\"customdata\":[[\"Jamie Vardy\"]],\"hovertemplate\":\"Player=%{customdata[0]}\\u003cbr\\u003eseason=%{x}\\u003cbr\\u003eGls=%{y}\\u003cextra\\u003e\\u003c\\u002fextra\\u003e\",\"legendgroup\":\"Jamie Vardy\",\"marker\":{\"color\":\"#EF553B\",\"pattern\":{\"shape\":\"\"}},\"name\":\"Jamie Vardy\",\"offsetgroup\":\"Jamie Vardy\",\"orientation\":\"v\",\"showlegend\":true,\"textposition\":\"auto\",\"x\":[\"2015\\u002f2016\"],\"xaxis\":\"x\",\"y\":[24],\"yaxis\":\"y\",\"type\":\"bar\"},{\"alignmentgroup\":\"True\",\"customdata\":[[\"Mohamed Salah\"]],\"hovertemplate\":\"Player=%{customdata[0]}\\u003cbr\\u003eseason=%{x}\\u003cbr\\u003eGls=%{y}\\u003cextra\\u003e\\u003c\\u002fextra\\u003e\",\"legendgroup\":\"Mohamed Salah\",\"marker\":{\"color\":\"#00cc96\",\"pattern\":{\"shape\":\"\"}},\"name\":\"Mohamed Salah\",\"offsetgroup\":\"Mohamed Salah\",\"orientation\":\"v\",\"showlegend\":true,\"textposition\":\"auto\",\"x\":[\"2017\\u002f2018\"],\"xaxis\":\"x\",\"y\":[32],\"yaxis\":\"y\",\"type\":\"bar\"},{\"alignmentgroup\":\"True\",\"customdata\":[[\"Erling Haaland\"]],\"hovertemplate\":\"Player=%{customdata[0]}\\u003cbr\\u003eseason=%{x}\\u003cbr\\u003eGls=%{y}\\u003cextra\\u003e\\u003c\\u002fextra\\u003e\",\"legendgroup\":\"Erling Haaland\",\"marker\":{\"color\":\"#ab63fa\",\"pattern\":{\"shape\":\"\"}},\"name\":\"Erling Haaland\",\"offsetgroup\":\"Erling Haaland\",\"orientation\":\"v\",\"showlegend\":true,\"textposition\":\"auto\",\"x\":[\"2022\\u002f2023\"],\"xaxis\":\"x\",\"y\":[36],\"yaxis\":\"y\",\"type\":\"bar\"},{\"alignmentgroup\":\"True\",\"customdata\":[[\"Phil Foden\"]],\"hovertemplate\":\"Player=%{customdata[0]}\\u003cbr\\u003eseason=%{x}\\u003cbr\\u003eGls=%{y}\\u003cextra\\u003e\\u003c\\u002fextra\\u003e\",\"legendgroup\":\"Phil Foden\",\"marker\":{\"color\":\"#FFA15A\",\"pattern\":{\"shape\":\"\"}},\"name\":\"Phil Foden\",\"offsetgroup\":\"Phil Foden\",\"orientation\":\"v\",\"showlegend\":true,\"textposition\":\"auto\",\"x\":[\"2023\\u002f2024\"],\"xaxis\":\"x\",\"y\":[19],\"yaxis\":\"y\",\"type\":\"bar\"}],                        {\"template\":{\"data\":{\"histogram2dcontour\":[{\"type\":\"histogram2dcontour\",\"colorbar\":{\"outlinewidth\":0,\"ticks\":\"\"},\"colorscale\":[[0.0,\"#0d0887\"],[0.1111111111111111,\"#46039f\"],[0.2222222222222222,\"#7201a8\"],[0.3333333333333333,\"#9c179e\"],[0.4444444444444444,\"#bd3786\"],[0.5555555555555556,\"#d8576b\"],[0.6666666666666666,\"#ed7953\"],[0.7777777777777778,\"#fb9f3a\"],[0.8888888888888888,\"#fdca26\"],[1.0,\"#f0f921\"]]}],\"choropleth\":[{\"type\":\"choropleth\",\"colorbar\":{\"outlinewidth\":0,\"ticks\":\"\"}}],\"histogram2d\":[{\"type\":\"histogram2d\",\"colorbar\":{\"outlinewidth\":0,\"ticks\":\"\"},\"colorscale\":[[0.0,\"#0d0887\"],[0.1111111111111111,\"#46039f\"],[0.2222222222222222,\"#7201a8\"],[0.3333333333333333,\"#9c179e\"],[0.4444444444444444,\"#bd3786\"],[0.5555555555555556,\"#d8576b\"],[0.6666666666666666,\"#ed7953\"],[0.7777777777777778,\"#fb9f3a\"],[0.8888888888888888,\"#fdca26\"],[1.0,\"#f0f921\"]]}],\"heatmap\":[{\"type\":\"heatmap\",\"colorbar\":{\"outlinewidth\":0,\"ticks\":\"\"},\"colorscale\":[[0.0,\"#0d0887\"],[0.1111111111111111,\"#46039f\"],[0.2222222222222222,\"#7201a8\"],[0.3333333333333333,\"#9c179e\"],[0.4444444444444444,\"#bd3786\"],[0.5555555555555556,\"#d8576b\"],[0.6666666666666666,\"#ed7953\"],[0.7777777777777778,\"#fb9f3a\"],[0.8888888888888888,\"#fdca26\"],[1.0,\"#f0f921\"]]}],\"heatmapgl\":[{\"type\":\"heatmapgl\",\"colorbar\":{\"outlinewidth\":0,\"ticks\":\"\"},\"colorscale\":[[0.0,\"#0d0887\"],[0.1111111111111111,\"#46039f\"],[0.2222222222222222,\"#7201a8\"],[0.3333333333333333,\"#9c179e\"],[0.4444444444444444,\"#bd3786\"],[0.5555555555555556,\"#d8576b\"],[0.6666666666666666,\"#ed7953\"],[0.7777777777777778,\"#fb9f3a\"],[0.8888888888888888,\"#fdca26\"],[1.0,\"#f0f921\"]]}],\"contourcarpet\":[{\"type\":\"contourcarpet\",\"colorbar\":{\"outlinewidth\":0,\"ticks\":\"\"}}],\"contour\":[{\"type\":\"contour\",\"colorbar\":{\"outlinewidth\":0,\"ticks\":\"\"},\"colorscale\":[[0.0,\"#0d0887\"],[0.1111111111111111,\"#46039f\"],[0.2222222222222222,\"#7201a8\"],[0.3333333333333333,\"#9c179e\"],[0.4444444444444444,\"#bd3786\"],[0.5555555555555556,\"#d8576b\"],[0.6666666666666666,\"#ed7953\"],[0.7777777777777778,\"#fb9f3a\"],[0.8888888888888888,\"#fdca26\"],[1.0,\"#f0f921\"]]}],\"surface\":[{\"type\":\"surface\",\"colorbar\":{\"outlinewidth\":0,\"ticks\":\"\"},\"colorscale\":[[0.0,\"#0d0887\"],[0.1111111111111111,\"#46039f\"],[0.2222222222222222,\"#7201a8\"],[0.3333333333333333,\"#9c179e\"],[0.4444444444444444,\"#bd3786\"],[0.5555555555555556,\"#d8576b\"],[0.6666666666666666,\"#ed7953\"],[0.7777777777777778,\"#fb9f3a\"],[0.8888888888888888,\"#fdca26\"],[1.0,\"#f0f921\"]]}],\"mesh3d\":[{\"type\":\"mesh3d\",\"colorbar\":{\"outlinewidth\":0,\"ticks\":\"\"}}],\"scatter\":[{\"fillpattern\":{\"fillmode\":\"overlay\",\"size\":10,\"solidity\":0.2},\"type\":\"scatter\"}],\"parcoords\":[{\"type\":\"parcoords\",\"line\":{\"colorbar\":{\"outlinewidth\":0,\"ticks\":\"\"}}}],\"scatterpolargl\":[{\"type\":\"scatterpolargl\",\"marker\":{\"colorbar\":{\"outlinewidth\":0,\"ticks\":\"\"}}}],\"bar\":[{\"error_x\":{\"color\":\"#2a3f5f\"},\"error_y\":{\"color\":\"#2a3f5f\"},\"marker\":{\"line\":{\"color\":\"#E5ECF6\",\"width\":0.5},\"pattern\":{\"fillmode\":\"overlay\",\"size\":10,\"solidity\":0.2}},\"type\":\"bar\"}],\"scattergeo\":[{\"type\":\"scattergeo\",\"marker\":{\"colorbar\":{\"outlinewidth\":0,\"ticks\":\"\"}}}],\"scatterpolar\":[{\"type\":\"scatterpolar\",\"marker\":{\"colorbar\":{\"outlinewidth\":0,\"ticks\":\"\"}}}],\"histogram\":[{\"marker\":{\"pattern\":{\"fillmode\":\"overlay\",\"size\":10,\"solidity\":0.2}},\"type\":\"histogram\"}],\"scattergl\":[{\"type\":\"scattergl\",\"marker\":{\"colorbar\":{\"outlinewidth\":0,\"ticks\":\"\"}}}],\"scatter3d\":[{\"type\":\"scatter3d\",\"line\":{\"colorbar\":{\"outlinewidth\":0,\"ticks\":\"\"}},\"marker\":{\"colorbar\":{\"outlinewidth\":0,\"ticks\":\"\"}}}],\"scattermapbox\":[{\"type\":\"scattermapbox\",\"marker\":{\"colorbar\":{\"outlinewidth\":0,\"ticks\":\"\"}}}],\"scatterternary\":[{\"type\":\"scatterternary\",\"marker\":{\"colorbar\":{\"outlinewidth\":0,\"ticks\":\"\"}}}],\"scattercarpet\":[{\"type\":\"scattercarpet\",\"marker\":{\"colorbar\":{\"outlinewidth\":0,\"ticks\":\"\"}}}],\"carpet\":[{\"aaxis\":{\"endlinecolor\":\"#2a3f5f\",\"gridcolor\":\"white\",\"linecolor\":\"white\",\"minorgridcolor\":\"white\",\"startlinecolor\":\"#2a3f5f\"},\"baxis\":{\"endlinecolor\":\"#2a3f5f\",\"gridcolor\":\"white\",\"linecolor\":\"white\",\"minorgridcolor\":\"white\",\"startlinecolor\":\"#2a3f5f\"},\"type\":\"carpet\"}],\"table\":[{\"cells\":{\"fill\":{\"color\":\"#EBF0F8\"},\"line\":{\"color\":\"white\"}},\"header\":{\"fill\":{\"color\":\"#C8D4E3\"},\"line\":{\"color\":\"white\"}},\"type\":\"table\"}],\"barpolar\":[{\"marker\":{\"line\":{\"color\":\"#E5ECF6\",\"width\":0.5},\"pattern\":{\"fillmode\":\"overlay\",\"size\":10,\"solidity\":0.2}},\"type\":\"barpolar\"}],\"pie\":[{\"automargin\":true,\"type\":\"pie\"}]},\"layout\":{\"autotypenumbers\":\"strict\",\"colorway\":[\"#636efa\",\"#EF553B\",\"#00cc96\",\"#ab63fa\",\"#FFA15A\",\"#19d3f3\",\"#FF6692\",\"#B6E880\",\"#FF97FF\",\"#FECB52\"],\"font\":{\"color\":\"#2a3f5f\"},\"hovermode\":\"closest\",\"hoverlabel\":{\"align\":\"left\"},\"paper_bgcolor\":\"white\",\"plot_bgcolor\":\"#E5ECF6\",\"polar\":{\"bgcolor\":\"#E5ECF6\",\"angularaxis\":{\"gridcolor\":\"white\",\"linecolor\":\"white\",\"ticks\":\"\"},\"radialaxis\":{\"gridcolor\":\"white\",\"linecolor\":\"white\",\"ticks\":\"\"}},\"ternary\":{\"bgcolor\":\"#E5ECF6\",\"aaxis\":{\"gridcolor\":\"white\",\"linecolor\":\"white\",\"ticks\":\"\"},\"baxis\":{\"gridcolor\":\"white\",\"linecolor\":\"white\",\"ticks\":\"\"},\"caxis\":{\"gridcolor\":\"white\",\"linecolor\":\"white\",\"ticks\":\"\"}},\"coloraxis\":{\"colorbar\":{\"outlinewidth\":0,\"ticks\":\"\"}},\"colorscale\":{\"sequential\":[[0.0,\"#0d0887\"],[0.1111111111111111,\"#46039f\"],[0.2222222222222222,\"#7201a8\"],[0.3333333333333333,\"#9c179e\"],[0.4444444444444444,\"#bd3786\"],[0.5555555555555556,\"#d8576b\"],[0.6666666666666666,\"#ed7953\"],[0.7777777777777778,\"#fb9f3a\"],[0.8888888888888888,\"#fdca26\"],[1.0,\"#f0f921\"]],\"sequentialminus\":[[0.0,\"#0d0887\"],[0.1111111111111111,\"#46039f\"],[0.2222222222222222,\"#7201a8\"],[0.3333333333333333,\"#9c179e\"],[0.4444444444444444,\"#bd3786\"],[0.5555555555555556,\"#d8576b\"],[0.6666666666666666,\"#ed7953\"],[0.7777777777777778,\"#fb9f3a\"],[0.8888888888888888,\"#fdca26\"],[1.0,\"#f0f921\"]],\"diverging\":[[0,\"#8e0152\"],[0.1,\"#c51b7d\"],[0.2,\"#de77ae\"],[0.3,\"#f1b6da\"],[0.4,\"#fde0ef\"],[0.5,\"#f7f7f7\"],[0.6,\"#e6f5d0\"],[0.7,\"#b8e186\"],[0.8,\"#7fbc41\"],[0.9,\"#4d9221\"],[1,\"#276419\"]]},\"xaxis\":{\"gridcolor\":\"white\",\"linecolor\":\"white\",\"ticks\":\"\",\"title\":{\"standoff\":15},\"zerolinecolor\":\"white\",\"automargin\":true,\"zerolinewidth\":2},\"yaxis\":{\"gridcolor\":\"white\",\"linecolor\":\"white\",\"ticks\":\"\",\"title\":{\"standoff\":15},\"zerolinecolor\":\"white\",\"automargin\":true,\"zerolinewidth\":2},\"scene\":{\"xaxis\":{\"backgroundcolor\":\"#E5ECF6\",\"gridcolor\":\"white\",\"linecolor\":\"white\",\"showbackground\":true,\"ticks\":\"\",\"zerolinecolor\":\"white\",\"gridwidth\":2},\"yaxis\":{\"backgroundcolor\":\"#E5ECF6\",\"gridcolor\":\"white\",\"linecolor\":\"white\",\"showbackground\":true,\"ticks\":\"\",\"zerolinecolor\":\"white\",\"gridwidth\":2},\"zaxis\":{\"backgroundcolor\":\"#E5ECF6\",\"gridcolor\":\"white\",\"linecolor\":\"white\",\"showbackground\":true,\"ticks\":\"\",\"zerolinecolor\":\"white\",\"gridwidth\":2}},\"shapedefaults\":{\"line\":{\"color\":\"#2a3f5f\"}},\"annotationdefaults\":{\"arrowcolor\":\"#2a3f5f\",\"arrowhead\":0,\"arrowwidth\":1},\"geo\":{\"bgcolor\":\"white\",\"landcolor\":\"#E5ECF6\",\"subunitcolor\":\"white\",\"showland\":true,\"showlakes\":true,\"lakecolor\":\"white\"},\"title\":{\"x\":0.05},\"mapbox\":{\"style\":\"light\"}}},\"xaxis\":{\"anchor\":\"y\",\"domain\":[0.0,1.0],\"title\":{\"text\":\"season\"}},\"yaxis\":{\"anchor\":\"x\",\"domain\":[0.0,1.0],\"title\":{\"text\":\"Gls\"}},\"legend\":{\"title\":{\"text\":\"Player\"},\"tracegroupgap\":0},\"title\":{\"text\":\"Number of Goals scored by the winner of the Player of the Season Award\"},\"barmode\":\"relative\"},                        {\"responsive\": true}                    ).then(function(){\n                            \nvar gd = document.getElementById('1c862a2e-0098-4c6f-8c25-a1e24dab793e');\nvar x = new MutationObserver(function (mutations, observer) {{\n        var display = window.getComputedStyle(gd).display;\n        if (!display || display === 'none') {{\n            console.log([gd, 'removed!']);\n            Plotly.purge(gd);\n            observer.disconnect();\n        }}\n}});\n\n// Listen for the removal of the full notebook cells\nvar notebookContainer = gd.closest('#notebook-container');\nif (notebookContainer) {{\n    x.observe(notebookContainer, {childList: true});\n}}\n\n// Listen for the clearing of the current output cell\nvar outputEl = gd.closest('.output');\nif (outputEl) {{\n    x.observe(outputEl, {childList: true});\n}}\n\n                        })                };                });            </script>        </div>"
     },
     "metadata": {},
     "output_type": "display_data"
    }
   ],
   "source": [
    "px.bar(highest_scoring, x ='season',y='Gls', color='Player', hover_data ='Player', title='Number of Goals scored by the winner of the Player of the Season Award')"
   ],
   "metadata": {
    "collapsed": false,
    "ExecuteTime": {
     "end_time": "2024-06-07T21:24:24.363556Z",
     "start_time": "2024-06-07T21:24:23.525290900Z"
    }
   }
  },
  {
   "cell_type": "code",
   "execution_count": 289,
   "outputs": [
    {
     "ename": "ValueError",
     "evalue": "\nImage export using the \"kaleido\" engine requires the kaleido package,\nwhich can be installed using pip:\n    $ pip install -U kaleido\n",
     "output_type": "error",
     "traceback": [
      "\u001B[1;31m---------------------------------------------------------------------------\u001B[0m",
      "\u001B[1;31mValueError\u001B[0m                                Traceback (most recent call last)",
      "Cell \u001B[1;32mIn[289], line 1\u001B[0m\n\u001B[1;32m----> 1\u001B[0m \u001B[43mfig\u001B[49m\u001B[38;5;241;43m.\u001B[39;49m\u001B[43mwrite_image\u001B[49m\u001B[43m(\u001B[49m\u001B[38;5;124;43m\"\u001B[39;49m\u001B[38;5;124;43moutput_files/fig1.png\u001B[39;49m\u001B[38;5;124;43m\"\u001B[39;49m\u001B[43m)\u001B[49m\n",
      "File \u001B[1;32m~\\Documents\\ReDI_Data_Analytics\\venv\\Lib\\site-packages\\plotly\\basedatatypes.py:3841\u001B[0m, in \u001B[0;36mBaseFigure.write_image\u001B[1;34m(self, *args, **kwargs)\u001B[0m\n\u001B[0;32m   3781\u001B[0m \u001B[38;5;250m\u001B[39m\u001B[38;5;124;03m\"\"\"\u001B[39;00m\n\u001B[0;32m   3782\u001B[0m \u001B[38;5;124;03mConvert a figure to a static image and write it to a file or writeable\u001B[39;00m\n\u001B[0;32m   3783\u001B[0m \u001B[38;5;124;03mobject\u001B[39;00m\n\u001B[1;32m   (...)\u001B[0m\n\u001B[0;32m   3837\u001B[0m \u001B[38;5;124;03mNone\u001B[39;00m\n\u001B[0;32m   3838\u001B[0m \u001B[38;5;124;03m\"\"\"\u001B[39;00m\n\u001B[0;32m   3839\u001B[0m \u001B[38;5;28;01mimport\u001B[39;00m \u001B[38;5;21;01mplotly\u001B[39;00m\u001B[38;5;21;01m.\u001B[39;00m\u001B[38;5;21;01mio\u001B[39;00m \u001B[38;5;28;01mas\u001B[39;00m \u001B[38;5;21;01mpio\u001B[39;00m\n\u001B[1;32m-> 3841\u001B[0m \u001B[38;5;28;01mreturn\u001B[39;00m \u001B[43mpio\u001B[49m\u001B[38;5;241;43m.\u001B[39;49m\u001B[43mwrite_image\u001B[49m\u001B[43m(\u001B[49m\u001B[38;5;28;43mself\u001B[39;49m\u001B[43m,\u001B[49m\u001B[43m \u001B[49m\u001B[38;5;241;43m*\u001B[39;49m\u001B[43margs\u001B[49m\u001B[43m,\u001B[49m\u001B[43m \u001B[49m\u001B[38;5;241;43m*\u001B[39;49m\u001B[38;5;241;43m*\u001B[39;49m\u001B[43mkwargs\u001B[49m\u001B[43m)\u001B[49m\n",
      "File \u001B[1;32m~\\Documents\\ReDI_Data_Analytics\\venv\\Lib\\site-packages\\plotly\\io\\_kaleido.py:266\u001B[0m, in \u001B[0;36mwrite_image\u001B[1;34m(fig, file, format, scale, width, height, validate, engine)\u001B[0m\n\u001B[0;32m    250\u001B[0m             \u001B[38;5;28;01mraise\u001B[39;00m \u001B[38;5;167;01mValueError\u001B[39;00m(\n\u001B[0;32m    251\u001B[0m \u001B[38;5;250m                \u001B[39m\u001B[38;5;124;03m\"\"\"\u001B[39;00m\n\u001B[0;32m    252\u001B[0m \u001B[38;5;124;03mCannot infer image type from output path '{file}'.\u001B[39;00m\n\u001B[1;32m   (...)\u001B[0m\n\u001B[0;32m    260\u001B[0m                 )\n\u001B[0;32m    261\u001B[0m             )\n\u001B[0;32m    263\u001B[0m     \u001B[38;5;66;03m# Request image\u001B[39;00m\n\u001B[0;32m    264\u001B[0m     \u001B[38;5;66;03m# -------------\u001B[39;00m\n\u001B[0;32m    265\u001B[0m     \u001B[38;5;66;03m# Do this first so we don't create a file if image conversion fails\u001B[39;00m\n\u001B[1;32m--> 266\u001B[0m     img_data \u001B[38;5;241m=\u001B[39m \u001B[43mto_image\u001B[49m\u001B[43m(\u001B[49m\n\u001B[0;32m    267\u001B[0m \u001B[43m        \u001B[49m\u001B[43mfig\u001B[49m\u001B[43m,\u001B[49m\n\u001B[0;32m    268\u001B[0m \u001B[43m        \u001B[49m\u001B[38;5;28;43mformat\u001B[39;49m\u001B[38;5;241;43m=\u001B[39;49m\u001B[38;5;28;43mformat\u001B[39;49m\u001B[43m,\u001B[49m\n\u001B[0;32m    269\u001B[0m \u001B[43m        \u001B[49m\u001B[43mscale\u001B[49m\u001B[38;5;241;43m=\u001B[39;49m\u001B[43mscale\u001B[49m\u001B[43m,\u001B[49m\n\u001B[0;32m    270\u001B[0m \u001B[43m        \u001B[49m\u001B[43mwidth\u001B[49m\u001B[38;5;241;43m=\u001B[39;49m\u001B[43mwidth\u001B[49m\u001B[43m,\u001B[49m\n\u001B[0;32m    271\u001B[0m \u001B[43m        \u001B[49m\u001B[43mheight\u001B[49m\u001B[38;5;241;43m=\u001B[39;49m\u001B[43mheight\u001B[49m\u001B[43m,\u001B[49m\n\u001B[0;32m    272\u001B[0m \u001B[43m        \u001B[49m\u001B[43mvalidate\u001B[49m\u001B[38;5;241;43m=\u001B[39;49m\u001B[43mvalidate\u001B[49m\u001B[43m,\u001B[49m\n\u001B[0;32m    273\u001B[0m \u001B[43m        \u001B[49m\u001B[43mengine\u001B[49m\u001B[38;5;241;43m=\u001B[39;49m\u001B[43mengine\u001B[49m\u001B[43m,\u001B[49m\n\u001B[0;32m    274\u001B[0m \u001B[43m    \u001B[49m\u001B[43m)\u001B[49m\n\u001B[0;32m    276\u001B[0m     \u001B[38;5;66;03m# Open file\u001B[39;00m\n\u001B[0;32m    277\u001B[0m     \u001B[38;5;66;03m# ---------\u001B[39;00m\n\u001B[0;32m    278\u001B[0m     \u001B[38;5;28;01mif\u001B[39;00m path \u001B[38;5;129;01mis\u001B[39;00m \u001B[38;5;28;01mNone\u001B[39;00m:\n\u001B[0;32m    279\u001B[0m         \u001B[38;5;66;03m# We previously failed to make sense of `file` as a pathlib object.\u001B[39;00m\n\u001B[0;32m    280\u001B[0m         \u001B[38;5;66;03m# Attempt to write to `file` as an open file descriptor.\u001B[39;00m\n",
      "File \u001B[1;32m~\\Documents\\ReDI_Data_Analytics\\venv\\Lib\\site-packages\\plotly\\io\\_kaleido.py:132\u001B[0m, in \u001B[0;36mto_image\u001B[1;34m(fig, format, width, height, scale, validate, engine)\u001B[0m\n\u001B[0;32m    130\u001B[0m     \u001B[38;5;66;03m# Raise informative error message if Kaleido is not installed\u001B[39;00m\n\u001B[0;32m    131\u001B[0m     \u001B[38;5;28;01mif\u001B[39;00m scope \u001B[38;5;129;01mis\u001B[39;00m \u001B[38;5;28;01mNone\u001B[39;00m:\n\u001B[1;32m--> 132\u001B[0m         \u001B[38;5;28;01mraise\u001B[39;00m \u001B[38;5;167;01mValueError\u001B[39;00m(\n\u001B[0;32m    133\u001B[0m \u001B[38;5;250m            \u001B[39m\u001B[38;5;124;03m\"\"\"\u001B[39;00m\n\u001B[0;32m    134\u001B[0m \u001B[38;5;124;03mImage export using the \"kaleido\" engine requires the kaleido package,\u001B[39;00m\n\u001B[0;32m    135\u001B[0m \u001B[38;5;124;03mwhich can be installed using pip:\u001B[39;00m\n\u001B[0;32m    136\u001B[0m \u001B[38;5;124;03m    $ pip install -U kaleido\u001B[39;00m\n\u001B[0;32m    137\u001B[0m \u001B[38;5;124;03m\"\"\"\u001B[39;00m\n\u001B[0;32m    138\u001B[0m         )\n\u001B[0;32m    140\u001B[0m     \u001B[38;5;66;03m# Validate figure\u001B[39;00m\n\u001B[0;32m    141\u001B[0m     \u001B[38;5;66;03m# ---------------\u001B[39;00m\n\u001B[0;32m    142\u001B[0m     fig_dict \u001B[38;5;241m=\u001B[39m validate_coerce_fig_to_dict(fig, validate)\n",
      "\u001B[1;31mValueError\u001B[0m: \nImage export using the \"kaleido\" engine requires the kaleido package,\nwhich can be installed using pip:\n    $ pip install -U kaleido\n"
     ]
    }
   ],
   "source": [
    "fig.write_image(\"output_files/fig1.png\")"
   ],
   "metadata": {
    "collapsed": false,
    "ExecuteTime": {
     "end_time": "2024-06-07T14:34:16.075855500Z",
     "start_time": "2024-06-07T14:34:15.797314300Z"
    }
   }
  },
  {
   "cell_type": "code",
   "execution_count": 44,
   "outputs": [
    {
     "data": {
      "application/vnd.plotly.v1+json": {
       "data": [
        {
         "hovertemplate": "season=%{x}<br>Gls=%{y}<extra></extra>",
         "legendgroup": "",
         "line": {
          "color": "#636efa",
          "dash": "solid"
         },
         "marker": {
          "symbol": "circle"
         },
         "mode": "lines",
         "name": "",
         "orientation": "v",
         "showlegend": false,
         "x": [
          "1993/1994",
          "1994/1995",
          "1997/1998",
          "1998/1999",
          "1999/2000",
          "2002/2003",
          "2003/2004",
          "2005/2006",
          "2007/2008",
          "2008/2009",
          "2009/2010",
          "2012/2013",
          "2013/2014",
          "2015/2016",
          "2017/2018",
          "2022/2023",
          "2023/2024"
         ],
         "xaxis": "x",
         "y": [
          18,
          34,
          18,
          18,
          30,
          25,
          30,
          27,
          31,
          18,
          26,
          21,
          31,
          24,
          32,
          36,
          19
         ],
         "yaxis": "y",
         "type": "scatter"
        }
       ],
       "layout": {
        "template": {
         "data": {
          "histogram2dcontour": [
           {
            "type": "histogram2dcontour",
            "colorbar": {
             "outlinewidth": 0,
             "ticks": ""
            },
            "colorscale": [
             [
              0.0,
              "#0d0887"
             ],
             [
              0.1111111111111111,
              "#46039f"
             ],
             [
              0.2222222222222222,
              "#7201a8"
             ],
             [
              0.3333333333333333,
              "#9c179e"
             ],
             [
              0.4444444444444444,
              "#bd3786"
             ],
             [
              0.5555555555555556,
              "#d8576b"
             ],
             [
              0.6666666666666666,
              "#ed7953"
             ],
             [
              0.7777777777777778,
              "#fb9f3a"
             ],
             [
              0.8888888888888888,
              "#fdca26"
             ],
             [
              1.0,
              "#f0f921"
             ]
            ]
           }
          ],
          "choropleth": [
           {
            "type": "choropleth",
            "colorbar": {
             "outlinewidth": 0,
             "ticks": ""
            }
           }
          ],
          "histogram2d": [
           {
            "type": "histogram2d",
            "colorbar": {
             "outlinewidth": 0,
             "ticks": ""
            },
            "colorscale": [
             [
              0.0,
              "#0d0887"
             ],
             [
              0.1111111111111111,
              "#46039f"
             ],
             [
              0.2222222222222222,
              "#7201a8"
             ],
             [
              0.3333333333333333,
              "#9c179e"
             ],
             [
              0.4444444444444444,
              "#bd3786"
             ],
             [
              0.5555555555555556,
              "#d8576b"
             ],
             [
              0.6666666666666666,
              "#ed7953"
             ],
             [
              0.7777777777777778,
              "#fb9f3a"
             ],
             [
              0.8888888888888888,
              "#fdca26"
             ],
             [
              1.0,
              "#f0f921"
             ]
            ]
           }
          ],
          "heatmap": [
           {
            "type": "heatmap",
            "colorbar": {
             "outlinewidth": 0,
             "ticks": ""
            },
            "colorscale": [
             [
              0.0,
              "#0d0887"
             ],
             [
              0.1111111111111111,
              "#46039f"
             ],
             [
              0.2222222222222222,
              "#7201a8"
             ],
             [
              0.3333333333333333,
              "#9c179e"
             ],
             [
              0.4444444444444444,
              "#bd3786"
             ],
             [
              0.5555555555555556,
              "#d8576b"
             ],
             [
              0.6666666666666666,
              "#ed7953"
             ],
             [
              0.7777777777777778,
              "#fb9f3a"
             ],
             [
              0.8888888888888888,
              "#fdca26"
             ],
             [
              1.0,
              "#f0f921"
             ]
            ]
           }
          ],
          "heatmapgl": [
           {
            "type": "heatmapgl",
            "colorbar": {
             "outlinewidth": 0,
             "ticks": ""
            },
            "colorscale": [
             [
              0.0,
              "#0d0887"
             ],
             [
              0.1111111111111111,
              "#46039f"
             ],
             [
              0.2222222222222222,
              "#7201a8"
             ],
             [
              0.3333333333333333,
              "#9c179e"
             ],
             [
              0.4444444444444444,
              "#bd3786"
             ],
             [
              0.5555555555555556,
              "#d8576b"
             ],
             [
              0.6666666666666666,
              "#ed7953"
             ],
             [
              0.7777777777777778,
              "#fb9f3a"
             ],
             [
              0.8888888888888888,
              "#fdca26"
             ],
             [
              1.0,
              "#f0f921"
             ]
            ]
           }
          ],
          "contourcarpet": [
           {
            "type": "contourcarpet",
            "colorbar": {
             "outlinewidth": 0,
             "ticks": ""
            }
           }
          ],
          "contour": [
           {
            "type": "contour",
            "colorbar": {
             "outlinewidth": 0,
             "ticks": ""
            },
            "colorscale": [
             [
              0.0,
              "#0d0887"
             ],
             [
              0.1111111111111111,
              "#46039f"
             ],
             [
              0.2222222222222222,
              "#7201a8"
             ],
             [
              0.3333333333333333,
              "#9c179e"
             ],
             [
              0.4444444444444444,
              "#bd3786"
             ],
             [
              0.5555555555555556,
              "#d8576b"
             ],
             [
              0.6666666666666666,
              "#ed7953"
             ],
             [
              0.7777777777777778,
              "#fb9f3a"
             ],
             [
              0.8888888888888888,
              "#fdca26"
             ],
             [
              1.0,
              "#f0f921"
             ]
            ]
           }
          ],
          "surface": [
           {
            "type": "surface",
            "colorbar": {
             "outlinewidth": 0,
             "ticks": ""
            },
            "colorscale": [
             [
              0.0,
              "#0d0887"
             ],
             [
              0.1111111111111111,
              "#46039f"
             ],
             [
              0.2222222222222222,
              "#7201a8"
             ],
             [
              0.3333333333333333,
              "#9c179e"
             ],
             [
              0.4444444444444444,
              "#bd3786"
             ],
             [
              0.5555555555555556,
              "#d8576b"
             ],
             [
              0.6666666666666666,
              "#ed7953"
             ],
             [
              0.7777777777777778,
              "#fb9f3a"
             ],
             [
              0.8888888888888888,
              "#fdca26"
             ],
             [
              1.0,
              "#f0f921"
             ]
            ]
           }
          ],
          "mesh3d": [
           {
            "type": "mesh3d",
            "colorbar": {
             "outlinewidth": 0,
             "ticks": ""
            }
           }
          ],
          "scatter": [
           {
            "fillpattern": {
             "fillmode": "overlay",
             "size": 10,
             "solidity": 0.2
            },
            "type": "scatter"
           }
          ],
          "parcoords": [
           {
            "type": "parcoords",
            "line": {
             "colorbar": {
              "outlinewidth": 0,
              "ticks": ""
             }
            }
           }
          ],
          "scatterpolargl": [
           {
            "type": "scatterpolargl",
            "marker": {
             "colorbar": {
              "outlinewidth": 0,
              "ticks": ""
             }
            }
           }
          ],
          "bar": [
           {
            "error_x": {
             "color": "#2a3f5f"
            },
            "error_y": {
             "color": "#2a3f5f"
            },
            "marker": {
             "line": {
              "color": "#E5ECF6",
              "width": 0.5
             },
             "pattern": {
              "fillmode": "overlay",
              "size": 10,
              "solidity": 0.2
             }
            },
            "type": "bar"
           }
          ],
          "scattergeo": [
           {
            "type": "scattergeo",
            "marker": {
             "colorbar": {
              "outlinewidth": 0,
              "ticks": ""
             }
            }
           }
          ],
          "scatterpolar": [
           {
            "type": "scatterpolar",
            "marker": {
             "colorbar": {
              "outlinewidth": 0,
              "ticks": ""
             }
            }
           }
          ],
          "histogram": [
           {
            "marker": {
             "pattern": {
              "fillmode": "overlay",
              "size": 10,
              "solidity": 0.2
             }
            },
            "type": "histogram"
           }
          ],
          "scattergl": [
           {
            "type": "scattergl",
            "marker": {
             "colorbar": {
              "outlinewidth": 0,
              "ticks": ""
             }
            }
           }
          ],
          "scatter3d": [
           {
            "type": "scatter3d",
            "line": {
             "colorbar": {
              "outlinewidth": 0,
              "ticks": ""
             }
            },
            "marker": {
             "colorbar": {
              "outlinewidth": 0,
              "ticks": ""
             }
            }
           }
          ],
          "scattermapbox": [
           {
            "type": "scattermapbox",
            "marker": {
             "colorbar": {
              "outlinewidth": 0,
              "ticks": ""
             }
            }
           }
          ],
          "scatterternary": [
           {
            "type": "scatterternary",
            "marker": {
             "colorbar": {
              "outlinewidth": 0,
              "ticks": ""
             }
            }
           }
          ],
          "scattercarpet": [
           {
            "type": "scattercarpet",
            "marker": {
             "colorbar": {
              "outlinewidth": 0,
              "ticks": ""
             }
            }
           }
          ],
          "carpet": [
           {
            "aaxis": {
             "endlinecolor": "#2a3f5f",
             "gridcolor": "white",
             "linecolor": "white",
             "minorgridcolor": "white",
             "startlinecolor": "#2a3f5f"
            },
            "baxis": {
             "endlinecolor": "#2a3f5f",
             "gridcolor": "white",
             "linecolor": "white",
             "minorgridcolor": "white",
             "startlinecolor": "#2a3f5f"
            },
            "type": "carpet"
           }
          ],
          "table": [
           {
            "cells": {
             "fill": {
              "color": "#EBF0F8"
             },
             "line": {
              "color": "white"
             }
            },
            "header": {
             "fill": {
              "color": "#C8D4E3"
             },
             "line": {
              "color": "white"
             }
            },
            "type": "table"
           }
          ],
          "barpolar": [
           {
            "marker": {
             "line": {
              "color": "#E5ECF6",
              "width": 0.5
             },
             "pattern": {
              "fillmode": "overlay",
              "size": 10,
              "solidity": 0.2
             }
            },
            "type": "barpolar"
           }
          ],
          "pie": [
           {
            "automargin": true,
            "type": "pie"
           }
          ]
         },
         "layout": {
          "autotypenumbers": "strict",
          "colorway": [
           "#636efa",
           "#EF553B",
           "#00cc96",
           "#ab63fa",
           "#FFA15A",
           "#19d3f3",
           "#FF6692",
           "#B6E880",
           "#FF97FF",
           "#FECB52"
          ],
          "font": {
           "color": "#2a3f5f"
          },
          "hovermode": "closest",
          "hoverlabel": {
           "align": "left"
          },
          "paper_bgcolor": "white",
          "plot_bgcolor": "#E5ECF6",
          "polar": {
           "bgcolor": "#E5ECF6",
           "angularaxis": {
            "gridcolor": "white",
            "linecolor": "white",
            "ticks": ""
           },
           "radialaxis": {
            "gridcolor": "white",
            "linecolor": "white",
            "ticks": ""
           }
          },
          "ternary": {
           "bgcolor": "#E5ECF6",
           "aaxis": {
            "gridcolor": "white",
            "linecolor": "white",
            "ticks": ""
           },
           "baxis": {
            "gridcolor": "white",
            "linecolor": "white",
            "ticks": ""
           },
           "caxis": {
            "gridcolor": "white",
            "linecolor": "white",
            "ticks": ""
           }
          },
          "coloraxis": {
           "colorbar": {
            "outlinewidth": 0,
            "ticks": ""
           }
          },
          "colorscale": {
           "sequential": [
            [
             0.0,
             "#0d0887"
            ],
            [
             0.1111111111111111,
             "#46039f"
            ],
            [
             0.2222222222222222,
             "#7201a8"
            ],
            [
             0.3333333333333333,
             "#9c179e"
            ],
            [
             0.4444444444444444,
             "#bd3786"
            ],
            [
             0.5555555555555556,
             "#d8576b"
            ],
            [
             0.6666666666666666,
             "#ed7953"
            ],
            [
             0.7777777777777778,
             "#fb9f3a"
            ],
            [
             0.8888888888888888,
             "#fdca26"
            ],
            [
             1.0,
             "#f0f921"
            ]
           ],
           "sequentialminus": [
            [
             0.0,
             "#0d0887"
            ],
            [
             0.1111111111111111,
             "#46039f"
            ],
            [
             0.2222222222222222,
             "#7201a8"
            ],
            [
             0.3333333333333333,
             "#9c179e"
            ],
            [
             0.4444444444444444,
             "#bd3786"
            ],
            [
             0.5555555555555556,
             "#d8576b"
            ],
            [
             0.6666666666666666,
             "#ed7953"
            ],
            [
             0.7777777777777778,
             "#fb9f3a"
            ],
            [
             0.8888888888888888,
             "#fdca26"
            ],
            [
             1.0,
             "#f0f921"
            ]
           ],
           "diverging": [
            [
             0,
             "#8e0152"
            ],
            [
             0.1,
             "#c51b7d"
            ],
            [
             0.2,
             "#de77ae"
            ],
            [
             0.3,
             "#f1b6da"
            ],
            [
             0.4,
             "#fde0ef"
            ],
            [
             0.5,
             "#f7f7f7"
            ],
            [
             0.6,
             "#e6f5d0"
            ],
            [
             0.7,
             "#b8e186"
            ],
            [
             0.8,
             "#7fbc41"
            ],
            [
             0.9,
             "#4d9221"
            ],
            [
             1,
             "#276419"
            ]
           ]
          },
          "xaxis": {
           "gridcolor": "white",
           "linecolor": "white",
           "ticks": "",
           "title": {
            "standoff": 15
           },
           "zerolinecolor": "white",
           "automargin": true,
           "zerolinewidth": 2
          },
          "yaxis": {
           "gridcolor": "white",
           "linecolor": "white",
           "ticks": "",
           "title": {
            "standoff": 15
           },
           "zerolinecolor": "white",
           "automargin": true,
           "zerolinewidth": 2
          },
          "scene": {
           "xaxis": {
            "backgroundcolor": "#E5ECF6",
            "gridcolor": "white",
            "linecolor": "white",
            "showbackground": true,
            "ticks": "",
            "zerolinecolor": "white",
            "gridwidth": 2
           },
           "yaxis": {
            "backgroundcolor": "#E5ECF6",
            "gridcolor": "white",
            "linecolor": "white",
            "showbackground": true,
            "ticks": "",
            "zerolinecolor": "white",
            "gridwidth": 2
           },
           "zaxis": {
            "backgroundcolor": "#E5ECF6",
            "gridcolor": "white",
            "linecolor": "white",
            "showbackground": true,
            "ticks": "",
            "zerolinecolor": "white",
            "gridwidth": 2
           }
          },
          "shapedefaults": {
           "line": {
            "color": "#2a3f5f"
           }
          },
          "annotationdefaults": {
           "arrowcolor": "#2a3f5f",
           "arrowhead": 0,
           "arrowwidth": 1
          },
          "geo": {
           "bgcolor": "white",
           "landcolor": "#E5ECF6",
           "subunitcolor": "white",
           "showland": true,
           "showlakes": true,
           "lakecolor": "white"
          },
          "title": {
           "x": 0.05
          },
          "mapbox": {
           "style": "light"
          }
         }
        },
        "xaxis": {
         "anchor": "y",
         "domain": [
          0.0,
          1.0
         ],
         "title": {
          "text": "season"
         }
        },
        "yaxis": {
         "anchor": "x",
         "domain": [
          0.0,
          1.0
         ],
         "title": {
          "text": "Gls"
         }
        },
        "legend": {
         "tracegroupgap": 0
        },
        "title": {
         "text": "Highest number of recorded goals each season"
        }
       },
       "config": {
        "plotlyServerURL": "https://plot.ly"
       }
      },
      "text/html": "<div>                            <div id=\"660500bc-3004-4cf9-95d4-7bafb1754c58\" class=\"plotly-graph-div\" style=\"height:525px; width:100%;\"></div>            <script type=\"text/javascript\">                require([\"plotly\"], function(Plotly) {                    window.PLOTLYENV=window.PLOTLYENV || {};                                    if (document.getElementById(\"660500bc-3004-4cf9-95d4-7bafb1754c58\")) {                    Plotly.newPlot(                        \"660500bc-3004-4cf9-95d4-7bafb1754c58\",                        [{\"hovertemplate\":\"season=%{x}\\u003cbr\\u003eGls=%{y}\\u003cextra\\u003e\\u003c\\u002fextra\\u003e\",\"legendgroup\":\"\",\"line\":{\"color\":\"#636efa\",\"dash\":\"solid\"},\"marker\":{\"symbol\":\"circle\"},\"mode\":\"lines\",\"name\":\"\",\"orientation\":\"v\",\"showlegend\":false,\"x\":[\"1993\\u002f1994\",\"1994\\u002f1995\",\"1997\\u002f1998\",\"1998\\u002f1999\",\"1999\\u002f2000\",\"2002\\u002f2003\",\"2003\\u002f2004\",\"2005\\u002f2006\",\"2007\\u002f2008\",\"2008\\u002f2009\",\"2009\\u002f2010\",\"2012\\u002f2013\",\"2013\\u002f2014\",\"2015\\u002f2016\",\"2017\\u002f2018\",\"2022\\u002f2023\",\"2023\\u002f2024\"],\"xaxis\":\"x\",\"y\":[18,34,18,18,30,25,30,27,31,18,26,21,31,24,32,36,19],\"yaxis\":\"y\",\"type\":\"scatter\"}],                        {\"template\":{\"data\":{\"histogram2dcontour\":[{\"type\":\"histogram2dcontour\",\"colorbar\":{\"outlinewidth\":0,\"ticks\":\"\"},\"colorscale\":[[0.0,\"#0d0887\"],[0.1111111111111111,\"#46039f\"],[0.2222222222222222,\"#7201a8\"],[0.3333333333333333,\"#9c179e\"],[0.4444444444444444,\"#bd3786\"],[0.5555555555555556,\"#d8576b\"],[0.6666666666666666,\"#ed7953\"],[0.7777777777777778,\"#fb9f3a\"],[0.8888888888888888,\"#fdca26\"],[1.0,\"#f0f921\"]]}],\"choropleth\":[{\"type\":\"choropleth\",\"colorbar\":{\"outlinewidth\":0,\"ticks\":\"\"}}],\"histogram2d\":[{\"type\":\"histogram2d\",\"colorbar\":{\"outlinewidth\":0,\"ticks\":\"\"},\"colorscale\":[[0.0,\"#0d0887\"],[0.1111111111111111,\"#46039f\"],[0.2222222222222222,\"#7201a8\"],[0.3333333333333333,\"#9c179e\"],[0.4444444444444444,\"#bd3786\"],[0.5555555555555556,\"#d8576b\"],[0.6666666666666666,\"#ed7953\"],[0.7777777777777778,\"#fb9f3a\"],[0.8888888888888888,\"#fdca26\"],[1.0,\"#f0f921\"]]}],\"heatmap\":[{\"type\":\"heatmap\",\"colorbar\":{\"outlinewidth\":0,\"ticks\":\"\"},\"colorscale\":[[0.0,\"#0d0887\"],[0.1111111111111111,\"#46039f\"],[0.2222222222222222,\"#7201a8\"],[0.3333333333333333,\"#9c179e\"],[0.4444444444444444,\"#bd3786\"],[0.5555555555555556,\"#d8576b\"],[0.6666666666666666,\"#ed7953\"],[0.7777777777777778,\"#fb9f3a\"],[0.8888888888888888,\"#fdca26\"],[1.0,\"#f0f921\"]]}],\"heatmapgl\":[{\"type\":\"heatmapgl\",\"colorbar\":{\"outlinewidth\":0,\"ticks\":\"\"},\"colorscale\":[[0.0,\"#0d0887\"],[0.1111111111111111,\"#46039f\"],[0.2222222222222222,\"#7201a8\"],[0.3333333333333333,\"#9c179e\"],[0.4444444444444444,\"#bd3786\"],[0.5555555555555556,\"#d8576b\"],[0.6666666666666666,\"#ed7953\"],[0.7777777777777778,\"#fb9f3a\"],[0.8888888888888888,\"#fdca26\"],[1.0,\"#f0f921\"]]}],\"contourcarpet\":[{\"type\":\"contourcarpet\",\"colorbar\":{\"outlinewidth\":0,\"ticks\":\"\"}}],\"contour\":[{\"type\":\"contour\",\"colorbar\":{\"outlinewidth\":0,\"ticks\":\"\"},\"colorscale\":[[0.0,\"#0d0887\"],[0.1111111111111111,\"#46039f\"],[0.2222222222222222,\"#7201a8\"],[0.3333333333333333,\"#9c179e\"],[0.4444444444444444,\"#bd3786\"],[0.5555555555555556,\"#d8576b\"],[0.6666666666666666,\"#ed7953\"],[0.7777777777777778,\"#fb9f3a\"],[0.8888888888888888,\"#fdca26\"],[1.0,\"#f0f921\"]]}],\"surface\":[{\"type\":\"surface\",\"colorbar\":{\"outlinewidth\":0,\"ticks\":\"\"},\"colorscale\":[[0.0,\"#0d0887\"],[0.1111111111111111,\"#46039f\"],[0.2222222222222222,\"#7201a8\"],[0.3333333333333333,\"#9c179e\"],[0.4444444444444444,\"#bd3786\"],[0.5555555555555556,\"#d8576b\"],[0.6666666666666666,\"#ed7953\"],[0.7777777777777778,\"#fb9f3a\"],[0.8888888888888888,\"#fdca26\"],[1.0,\"#f0f921\"]]}],\"mesh3d\":[{\"type\":\"mesh3d\",\"colorbar\":{\"outlinewidth\":0,\"ticks\":\"\"}}],\"scatter\":[{\"fillpattern\":{\"fillmode\":\"overlay\",\"size\":10,\"solidity\":0.2},\"type\":\"scatter\"}],\"parcoords\":[{\"type\":\"parcoords\",\"line\":{\"colorbar\":{\"outlinewidth\":0,\"ticks\":\"\"}}}],\"scatterpolargl\":[{\"type\":\"scatterpolargl\",\"marker\":{\"colorbar\":{\"outlinewidth\":0,\"ticks\":\"\"}}}],\"bar\":[{\"error_x\":{\"color\":\"#2a3f5f\"},\"error_y\":{\"color\":\"#2a3f5f\"},\"marker\":{\"line\":{\"color\":\"#E5ECF6\",\"width\":0.5},\"pattern\":{\"fillmode\":\"overlay\",\"size\":10,\"solidity\":0.2}},\"type\":\"bar\"}],\"scattergeo\":[{\"type\":\"scattergeo\",\"marker\":{\"colorbar\":{\"outlinewidth\":0,\"ticks\":\"\"}}}],\"scatterpolar\":[{\"type\":\"scatterpolar\",\"marker\":{\"colorbar\":{\"outlinewidth\":0,\"ticks\":\"\"}}}],\"histogram\":[{\"marker\":{\"pattern\":{\"fillmode\":\"overlay\",\"size\":10,\"solidity\":0.2}},\"type\":\"histogram\"}],\"scattergl\":[{\"type\":\"scattergl\",\"marker\":{\"colorbar\":{\"outlinewidth\":0,\"ticks\":\"\"}}}],\"scatter3d\":[{\"type\":\"scatter3d\",\"line\":{\"colorbar\":{\"outlinewidth\":0,\"ticks\":\"\"}},\"marker\":{\"colorbar\":{\"outlinewidth\":0,\"ticks\":\"\"}}}],\"scattermapbox\":[{\"type\":\"scattermapbox\",\"marker\":{\"colorbar\":{\"outlinewidth\":0,\"ticks\":\"\"}}}],\"scatterternary\":[{\"type\":\"scatterternary\",\"marker\":{\"colorbar\":{\"outlinewidth\":0,\"ticks\":\"\"}}}],\"scattercarpet\":[{\"type\":\"scattercarpet\",\"marker\":{\"colorbar\":{\"outlinewidth\":0,\"ticks\":\"\"}}}],\"carpet\":[{\"aaxis\":{\"endlinecolor\":\"#2a3f5f\",\"gridcolor\":\"white\",\"linecolor\":\"white\",\"minorgridcolor\":\"white\",\"startlinecolor\":\"#2a3f5f\"},\"baxis\":{\"endlinecolor\":\"#2a3f5f\",\"gridcolor\":\"white\",\"linecolor\":\"white\",\"minorgridcolor\":\"white\",\"startlinecolor\":\"#2a3f5f\"},\"type\":\"carpet\"}],\"table\":[{\"cells\":{\"fill\":{\"color\":\"#EBF0F8\"},\"line\":{\"color\":\"white\"}},\"header\":{\"fill\":{\"color\":\"#C8D4E3\"},\"line\":{\"color\":\"white\"}},\"type\":\"table\"}],\"barpolar\":[{\"marker\":{\"line\":{\"color\":\"#E5ECF6\",\"width\":0.5},\"pattern\":{\"fillmode\":\"overlay\",\"size\":10,\"solidity\":0.2}},\"type\":\"barpolar\"}],\"pie\":[{\"automargin\":true,\"type\":\"pie\"}]},\"layout\":{\"autotypenumbers\":\"strict\",\"colorway\":[\"#636efa\",\"#EF553B\",\"#00cc96\",\"#ab63fa\",\"#FFA15A\",\"#19d3f3\",\"#FF6692\",\"#B6E880\",\"#FF97FF\",\"#FECB52\"],\"font\":{\"color\":\"#2a3f5f\"},\"hovermode\":\"closest\",\"hoverlabel\":{\"align\":\"left\"},\"paper_bgcolor\":\"white\",\"plot_bgcolor\":\"#E5ECF6\",\"polar\":{\"bgcolor\":\"#E5ECF6\",\"angularaxis\":{\"gridcolor\":\"white\",\"linecolor\":\"white\",\"ticks\":\"\"},\"radialaxis\":{\"gridcolor\":\"white\",\"linecolor\":\"white\",\"ticks\":\"\"}},\"ternary\":{\"bgcolor\":\"#E5ECF6\",\"aaxis\":{\"gridcolor\":\"white\",\"linecolor\":\"white\",\"ticks\":\"\"},\"baxis\":{\"gridcolor\":\"white\",\"linecolor\":\"white\",\"ticks\":\"\"},\"caxis\":{\"gridcolor\":\"white\",\"linecolor\":\"white\",\"ticks\":\"\"}},\"coloraxis\":{\"colorbar\":{\"outlinewidth\":0,\"ticks\":\"\"}},\"colorscale\":{\"sequential\":[[0.0,\"#0d0887\"],[0.1111111111111111,\"#46039f\"],[0.2222222222222222,\"#7201a8\"],[0.3333333333333333,\"#9c179e\"],[0.4444444444444444,\"#bd3786\"],[0.5555555555555556,\"#d8576b\"],[0.6666666666666666,\"#ed7953\"],[0.7777777777777778,\"#fb9f3a\"],[0.8888888888888888,\"#fdca26\"],[1.0,\"#f0f921\"]],\"sequentialminus\":[[0.0,\"#0d0887\"],[0.1111111111111111,\"#46039f\"],[0.2222222222222222,\"#7201a8\"],[0.3333333333333333,\"#9c179e\"],[0.4444444444444444,\"#bd3786\"],[0.5555555555555556,\"#d8576b\"],[0.6666666666666666,\"#ed7953\"],[0.7777777777777778,\"#fb9f3a\"],[0.8888888888888888,\"#fdca26\"],[1.0,\"#f0f921\"]],\"diverging\":[[0,\"#8e0152\"],[0.1,\"#c51b7d\"],[0.2,\"#de77ae\"],[0.3,\"#f1b6da\"],[0.4,\"#fde0ef\"],[0.5,\"#f7f7f7\"],[0.6,\"#e6f5d0\"],[0.7,\"#b8e186\"],[0.8,\"#7fbc41\"],[0.9,\"#4d9221\"],[1,\"#276419\"]]},\"xaxis\":{\"gridcolor\":\"white\",\"linecolor\":\"white\",\"ticks\":\"\",\"title\":{\"standoff\":15},\"zerolinecolor\":\"white\",\"automargin\":true,\"zerolinewidth\":2},\"yaxis\":{\"gridcolor\":\"white\",\"linecolor\":\"white\",\"ticks\":\"\",\"title\":{\"standoff\":15},\"zerolinecolor\":\"white\",\"automargin\":true,\"zerolinewidth\":2},\"scene\":{\"xaxis\":{\"backgroundcolor\":\"#E5ECF6\",\"gridcolor\":\"white\",\"linecolor\":\"white\",\"showbackground\":true,\"ticks\":\"\",\"zerolinecolor\":\"white\",\"gridwidth\":2},\"yaxis\":{\"backgroundcolor\":\"#E5ECF6\",\"gridcolor\":\"white\",\"linecolor\":\"white\",\"showbackground\":true,\"ticks\":\"\",\"zerolinecolor\":\"white\",\"gridwidth\":2},\"zaxis\":{\"backgroundcolor\":\"#E5ECF6\",\"gridcolor\":\"white\",\"linecolor\":\"white\",\"showbackground\":true,\"ticks\":\"\",\"zerolinecolor\":\"white\",\"gridwidth\":2}},\"shapedefaults\":{\"line\":{\"color\":\"#2a3f5f\"}},\"annotationdefaults\":{\"arrowcolor\":\"#2a3f5f\",\"arrowhead\":0,\"arrowwidth\":1},\"geo\":{\"bgcolor\":\"white\",\"landcolor\":\"#E5ECF6\",\"subunitcolor\":\"white\",\"showland\":true,\"showlakes\":true,\"lakecolor\":\"white\"},\"title\":{\"x\":0.05},\"mapbox\":{\"style\":\"light\"}}},\"xaxis\":{\"anchor\":\"y\",\"domain\":[0.0,1.0],\"title\":{\"text\":\"season\"}},\"yaxis\":{\"anchor\":\"x\",\"domain\":[0.0,1.0],\"title\":{\"text\":\"Gls\"}},\"legend\":{\"tracegroupgap\":0},\"title\":{\"text\":\"Highest number of recorded goals each season\"}},                        {\"responsive\": true}                    ).then(function(){\n                            \nvar gd = document.getElementById('660500bc-3004-4cf9-95d4-7bafb1754c58');\nvar x = new MutationObserver(function (mutations, observer) {{\n        var display = window.getComputedStyle(gd).display;\n        if (!display || display === 'none') {{\n            console.log([gd, 'removed!']);\n            Plotly.purge(gd);\n            observer.disconnect();\n        }}\n}});\n\n// Listen for the removal of the full notebook cells\nvar notebookContainer = gd.closest('#notebook-container');\nif (notebookContainer) {{\n    x.observe(notebookContainer, {childList: true});\n}}\n\n// Listen for the clearing of the current output cell\nvar outputEl = gd.closest('.output');\nif (outputEl) {{\n    x.observe(outputEl, {childList: true});\n}}\n\n                        })                };                });            </script>        </div>"
     },
     "metadata": {},
     "output_type": "display_data"
    }
   ],
   "source": [
    "px.line(highest_scoring, x='season', y='Gls', title='Highest number of recorded goals each season', labels={'x': 'Season', 'y': 'Goals'})"
   ],
   "metadata": {
    "collapsed": false,
    "ExecuteTime": {
     "end_time": "2024-06-07T08:48:55.390261100Z",
     "start_time": "2024-06-07T08:48:55.219341Z"
    }
   }
  },
  {
   "cell_type": "markdown",
   "source": [
    "Determining age group of different players in the EPL for the past 2 seasons"
   ],
   "metadata": {
    "collapsed": false
   }
  },
  {
   "cell_type": "code",
   "execution_count": 48,
   "outputs": [],
   "source": [
    "under_20 = stats_df[stats_df['Age'] <= 20]\n",
    "age20_24 = stats_df[(stats_df['Age'] > 20) & (stats_df['Age'] <= 24)]\n",
    "age25_29 = stats_df[(stats_df['Age'] >= 25) & (stats_df['Age'] <= 29)]\n",
    "above_30 = stats_df[stats_df['Age'] >= 30]"
   ],
   "metadata": {
    "collapsed": false,
    "ExecuteTime": {
     "end_time": "2024-06-07T09:54:15.461824Z",
     "start_time": "2024-06-07T09:54:15.389932300Z"
    }
   }
  },
  {
   "cell_type": "markdown",
   "source": [
    "Determining which clubs has the highest number of young players in the past 2 seasons"
   ],
   "metadata": {
    "collapsed": false
   }
  },
  {
   "cell_type": "code",
   "execution_count": 63,
   "outputs": [],
   "source": [
    "last_two_seasons = ['2022/2023', '2023/2024']\n",
    "age_df = stats_df[stats_df['season'].isin(last_two_seasons)]\n"
   ],
   "metadata": {
    "collapsed": false,
    "ExecuteTime": {
     "end_time": "2024-06-07T10:18:47.625303700Z",
     "start_time": "2024-06-07T10:18:47.595852600Z"
    }
   }
  },
  {
   "cell_type": "code",
   "execution_count": 64,
   "outputs": [],
   "source": [
    "young_players = age_df[(age_df['Age'] <= 20) ]"
   ],
   "metadata": {
    "collapsed": false,
    "ExecuteTime": {
     "end_time": "2024-06-07T10:18:48.156082900Z",
     "start_time": "2024-06-07T10:18:48.129607500Z"
    }
   }
  },
  {
   "cell_type": "code",
   "execution_count": 65,
   "outputs": [],
   "source": [
    "club_youngsters = young_players.groupby('Squad').size().reset_index(name='Number of young players')"
   ],
   "metadata": {
    "collapsed": false,
    "ExecuteTime": {
     "end_time": "2024-06-07T10:18:48.708090600Z",
     "start_time": "2024-06-07T10:18:48.671504100Z"
    }
   }
  },
  {
   "cell_type": "code",
   "execution_count": 67,
   "outputs": [
    {
     "data": {
      "text/plain": "              Squad  Number of young players\n4          Brighton                       22\n6           Chelsea                       18\n12        Liverpool                       15\n19      Southampton                       12\n15   Manchester Utd                       12\n16    Newcastle Utd                       11\n22           Wolves                       10\n20        Tottenham                       10\n18    Sheffield Utd                       10\n8           Everton                        9\n7    Crystal Palace                        9\n10     Leeds United                        8\n14  Manchester City                        7\n2       Bournemouth                        7\n1       Aston Villa                        6\n5           Burnley                        5\n3         Brentford                        5\n17  Nott'ham Forest                        5\n21         West Ham                        4\n0           Arsenal                        4\n9            Fulham                        3\n13       Luton Town                        2\n11   Leicester City                        1",
      "text/html": "<div>\n<style scoped>\n    .dataframe tbody tr th:only-of-type {\n        vertical-align: middle;\n    }\n\n    .dataframe tbody tr th {\n        vertical-align: top;\n    }\n\n    .dataframe thead th {\n        text-align: right;\n    }\n</style>\n<table border=\"1\" class=\"dataframe\">\n  <thead>\n    <tr style=\"text-align: right;\">\n      <th></th>\n      <th>Squad</th>\n      <th>Number of young players</th>\n    </tr>\n  </thead>\n  <tbody>\n    <tr>\n      <th>4</th>\n      <td>Brighton</td>\n      <td>22</td>\n    </tr>\n    <tr>\n      <th>6</th>\n      <td>Chelsea</td>\n      <td>18</td>\n    </tr>\n    <tr>\n      <th>12</th>\n      <td>Liverpool</td>\n      <td>15</td>\n    </tr>\n    <tr>\n      <th>19</th>\n      <td>Southampton</td>\n      <td>12</td>\n    </tr>\n    <tr>\n      <th>15</th>\n      <td>Manchester Utd</td>\n      <td>12</td>\n    </tr>\n    <tr>\n      <th>16</th>\n      <td>Newcastle Utd</td>\n      <td>11</td>\n    </tr>\n    <tr>\n      <th>22</th>\n      <td>Wolves</td>\n      <td>10</td>\n    </tr>\n    <tr>\n      <th>20</th>\n      <td>Tottenham</td>\n      <td>10</td>\n    </tr>\n    <tr>\n      <th>18</th>\n      <td>Sheffield Utd</td>\n      <td>10</td>\n    </tr>\n    <tr>\n      <th>8</th>\n      <td>Everton</td>\n      <td>9</td>\n    </tr>\n    <tr>\n      <th>7</th>\n      <td>Crystal Palace</td>\n      <td>9</td>\n    </tr>\n    <tr>\n      <th>10</th>\n      <td>Leeds United</td>\n      <td>8</td>\n    </tr>\n    <tr>\n      <th>14</th>\n      <td>Manchester City</td>\n      <td>7</td>\n    </tr>\n    <tr>\n      <th>2</th>\n      <td>Bournemouth</td>\n      <td>7</td>\n    </tr>\n    <tr>\n      <th>1</th>\n      <td>Aston Villa</td>\n      <td>6</td>\n    </tr>\n    <tr>\n      <th>5</th>\n      <td>Burnley</td>\n      <td>5</td>\n    </tr>\n    <tr>\n      <th>3</th>\n      <td>Brentford</td>\n      <td>5</td>\n    </tr>\n    <tr>\n      <th>17</th>\n      <td>Nott'ham Forest</td>\n      <td>5</td>\n    </tr>\n    <tr>\n      <th>21</th>\n      <td>West Ham</td>\n      <td>4</td>\n    </tr>\n    <tr>\n      <th>0</th>\n      <td>Arsenal</td>\n      <td>4</td>\n    </tr>\n    <tr>\n      <th>9</th>\n      <td>Fulham</td>\n      <td>3</td>\n    </tr>\n    <tr>\n      <th>13</th>\n      <td>Luton Town</td>\n      <td>2</td>\n    </tr>\n    <tr>\n      <th>11</th>\n      <td>Leicester City</td>\n      <td>1</td>\n    </tr>\n  </tbody>\n</table>\n</div>"
     },
     "execution_count": 67,
     "metadata": {},
     "output_type": "execute_result"
    }
   ],
   "source": [
    "club_youngsters.sort_values(by='Number of young players', ascending=False)"
   ],
   "metadata": {
    "collapsed": false,
    "ExecuteTime": {
     "end_time": "2024-06-07T10:19:12.518180800Z",
     "start_time": "2024-06-07T10:19:12.487995300Z"
    }
   }
  },
  {
   "cell_type": "code",
   "execution_count": 68,
   "outputs": [
    {
     "data": {
      "application/vnd.plotly.v1+json": {
       "data": [
        {
         "domain": {
          "x": [
           0.0,
           1.0
          ],
          "y": [
           0.0,
           1.0
          ]
         },
         "hovertemplate": "Squad=%{label}<br>Number of young players=%{value}<extra></extra>",
         "labels": [
          "Arsenal",
          "Aston Villa",
          "Bournemouth",
          "Brentford",
          "Brighton",
          "Burnley",
          "Chelsea",
          "Crystal Palace",
          "Everton",
          "Fulham",
          "Leeds United",
          "Leicester City",
          "Liverpool",
          "Luton Town",
          "Manchester City",
          "Manchester Utd",
          "Newcastle Utd",
          "Nott'ham Forest",
          "Sheffield Utd",
          "Southampton",
          "Tottenham",
          "West Ham",
          "Wolves"
         ],
         "legendgroup": "",
         "name": "",
         "showlegend": true,
         "values": [
          4,
          6,
          7,
          5,
          22,
          5,
          18,
          9,
          9,
          3,
          8,
          1,
          15,
          2,
          7,
          12,
          11,
          5,
          10,
          12,
          10,
          4,
          10
         ],
         "type": "pie"
        }
       ],
       "layout": {
        "template": {
         "data": {
          "histogram2dcontour": [
           {
            "type": "histogram2dcontour",
            "colorbar": {
             "outlinewidth": 0,
             "ticks": ""
            },
            "colorscale": [
             [
              0.0,
              "#0d0887"
             ],
             [
              0.1111111111111111,
              "#46039f"
             ],
             [
              0.2222222222222222,
              "#7201a8"
             ],
             [
              0.3333333333333333,
              "#9c179e"
             ],
             [
              0.4444444444444444,
              "#bd3786"
             ],
             [
              0.5555555555555556,
              "#d8576b"
             ],
             [
              0.6666666666666666,
              "#ed7953"
             ],
             [
              0.7777777777777778,
              "#fb9f3a"
             ],
             [
              0.8888888888888888,
              "#fdca26"
             ],
             [
              1.0,
              "#f0f921"
             ]
            ]
           }
          ],
          "choropleth": [
           {
            "type": "choropleth",
            "colorbar": {
             "outlinewidth": 0,
             "ticks": ""
            }
           }
          ],
          "histogram2d": [
           {
            "type": "histogram2d",
            "colorbar": {
             "outlinewidth": 0,
             "ticks": ""
            },
            "colorscale": [
             [
              0.0,
              "#0d0887"
             ],
             [
              0.1111111111111111,
              "#46039f"
             ],
             [
              0.2222222222222222,
              "#7201a8"
             ],
             [
              0.3333333333333333,
              "#9c179e"
             ],
             [
              0.4444444444444444,
              "#bd3786"
             ],
             [
              0.5555555555555556,
              "#d8576b"
             ],
             [
              0.6666666666666666,
              "#ed7953"
             ],
             [
              0.7777777777777778,
              "#fb9f3a"
             ],
             [
              0.8888888888888888,
              "#fdca26"
             ],
             [
              1.0,
              "#f0f921"
             ]
            ]
           }
          ],
          "heatmap": [
           {
            "type": "heatmap",
            "colorbar": {
             "outlinewidth": 0,
             "ticks": ""
            },
            "colorscale": [
             [
              0.0,
              "#0d0887"
             ],
             [
              0.1111111111111111,
              "#46039f"
             ],
             [
              0.2222222222222222,
              "#7201a8"
             ],
             [
              0.3333333333333333,
              "#9c179e"
             ],
             [
              0.4444444444444444,
              "#bd3786"
             ],
             [
              0.5555555555555556,
              "#d8576b"
             ],
             [
              0.6666666666666666,
              "#ed7953"
             ],
             [
              0.7777777777777778,
              "#fb9f3a"
             ],
             [
              0.8888888888888888,
              "#fdca26"
             ],
             [
              1.0,
              "#f0f921"
             ]
            ]
           }
          ],
          "heatmapgl": [
           {
            "type": "heatmapgl",
            "colorbar": {
             "outlinewidth": 0,
             "ticks": ""
            },
            "colorscale": [
             [
              0.0,
              "#0d0887"
             ],
             [
              0.1111111111111111,
              "#46039f"
             ],
             [
              0.2222222222222222,
              "#7201a8"
             ],
             [
              0.3333333333333333,
              "#9c179e"
             ],
             [
              0.4444444444444444,
              "#bd3786"
             ],
             [
              0.5555555555555556,
              "#d8576b"
             ],
             [
              0.6666666666666666,
              "#ed7953"
             ],
             [
              0.7777777777777778,
              "#fb9f3a"
             ],
             [
              0.8888888888888888,
              "#fdca26"
             ],
             [
              1.0,
              "#f0f921"
             ]
            ]
           }
          ],
          "contourcarpet": [
           {
            "type": "contourcarpet",
            "colorbar": {
             "outlinewidth": 0,
             "ticks": ""
            }
           }
          ],
          "contour": [
           {
            "type": "contour",
            "colorbar": {
             "outlinewidth": 0,
             "ticks": ""
            },
            "colorscale": [
             [
              0.0,
              "#0d0887"
             ],
             [
              0.1111111111111111,
              "#46039f"
             ],
             [
              0.2222222222222222,
              "#7201a8"
             ],
             [
              0.3333333333333333,
              "#9c179e"
             ],
             [
              0.4444444444444444,
              "#bd3786"
             ],
             [
              0.5555555555555556,
              "#d8576b"
             ],
             [
              0.6666666666666666,
              "#ed7953"
             ],
             [
              0.7777777777777778,
              "#fb9f3a"
             ],
             [
              0.8888888888888888,
              "#fdca26"
             ],
             [
              1.0,
              "#f0f921"
             ]
            ]
           }
          ],
          "surface": [
           {
            "type": "surface",
            "colorbar": {
             "outlinewidth": 0,
             "ticks": ""
            },
            "colorscale": [
             [
              0.0,
              "#0d0887"
             ],
             [
              0.1111111111111111,
              "#46039f"
             ],
             [
              0.2222222222222222,
              "#7201a8"
             ],
             [
              0.3333333333333333,
              "#9c179e"
             ],
             [
              0.4444444444444444,
              "#bd3786"
             ],
             [
              0.5555555555555556,
              "#d8576b"
             ],
             [
              0.6666666666666666,
              "#ed7953"
             ],
             [
              0.7777777777777778,
              "#fb9f3a"
             ],
             [
              0.8888888888888888,
              "#fdca26"
             ],
             [
              1.0,
              "#f0f921"
             ]
            ]
           }
          ],
          "mesh3d": [
           {
            "type": "mesh3d",
            "colorbar": {
             "outlinewidth": 0,
             "ticks": ""
            }
           }
          ],
          "scatter": [
           {
            "fillpattern": {
             "fillmode": "overlay",
             "size": 10,
             "solidity": 0.2
            },
            "type": "scatter"
           }
          ],
          "parcoords": [
           {
            "type": "parcoords",
            "line": {
             "colorbar": {
              "outlinewidth": 0,
              "ticks": ""
             }
            }
           }
          ],
          "scatterpolargl": [
           {
            "type": "scatterpolargl",
            "marker": {
             "colorbar": {
              "outlinewidth": 0,
              "ticks": ""
             }
            }
           }
          ],
          "bar": [
           {
            "error_x": {
             "color": "#2a3f5f"
            },
            "error_y": {
             "color": "#2a3f5f"
            },
            "marker": {
             "line": {
              "color": "#E5ECF6",
              "width": 0.5
             },
             "pattern": {
              "fillmode": "overlay",
              "size": 10,
              "solidity": 0.2
             }
            },
            "type": "bar"
           }
          ],
          "scattergeo": [
           {
            "type": "scattergeo",
            "marker": {
             "colorbar": {
              "outlinewidth": 0,
              "ticks": ""
             }
            }
           }
          ],
          "scatterpolar": [
           {
            "type": "scatterpolar",
            "marker": {
             "colorbar": {
              "outlinewidth": 0,
              "ticks": ""
             }
            }
           }
          ],
          "histogram": [
           {
            "marker": {
             "pattern": {
              "fillmode": "overlay",
              "size": 10,
              "solidity": 0.2
             }
            },
            "type": "histogram"
           }
          ],
          "scattergl": [
           {
            "type": "scattergl",
            "marker": {
             "colorbar": {
              "outlinewidth": 0,
              "ticks": ""
             }
            }
           }
          ],
          "scatter3d": [
           {
            "type": "scatter3d",
            "line": {
             "colorbar": {
              "outlinewidth": 0,
              "ticks": ""
             }
            },
            "marker": {
             "colorbar": {
              "outlinewidth": 0,
              "ticks": ""
             }
            }
           }
          ],
          "scattermapbox": [
           {
            "type": "scattermapbox",
            "marker": {
             "colorbar": {
              "outlinewidth": 0,
              "ticks": ""
             }
            }
           }
          ],
          "scatterternary": [
           {
            "type": "scatterternary",
            "marker": {
             "colorbar": {
              "outlinewidth": 0,
              "ticks": ""
             }
            }
           }
          ],
          "scattercarpet": [
           {
            "type": "scattercarpet",
            "marker": {
             "colorbar": {
              "outlinewidth": 0,
              "ticks": ""
             }
            }
           }
          ],
          "carpet": [
           {
            "aaxis": {
             "endlinecolor": "#2a3f5f",
             "gridcolor": "white",
             "linecolor": "white",
             "minorgridcolor": "white",
             "startlinecolor": "#2a3f5f"
            },
            "baxis": {
             "endlinecolor": "#2a3f5f",
             "gridcolor": "white",
             "linecolor": "white",
             "minorgridcolor": "white",
             "startlinecolor": "#2a3f5f"
            },
            "type": "carpet"
           }
          ],
          "table": [
           {
            "cells": {
             "fill": {
              "color": "#EBF0F8"
             },
             "line": {
              "color": "white"
             }
            },
            "header": {
             "fill": {
              "color": "#C8D4E3"
             },
             "line": {
              "color": "white"
             }
            },
            "type": "table"
           }
          ],
          "barpolar": [
           {
            "marker": {
             "line": {
              "color": "#E5ECF6",
              "width": 0.5
             },
             "pattern": {
              "fillmode": "overlay",
              "size": 10,
              "solidity": 0.2
             }
            },
            "type": "barpolar"
           }
          ],
          "pie": [
           {
            "automargin": true,
            "type": "pie"
           }
          ]
         },
         "layout": {
          "autotypenumbers": "strict",
          "colorway": [
           "#636efa",
           "#EF553B",
           "#00cc96",
           "#ab63fa",
           "#FFA15A",
           "#19d3f3",
           "#FF6692",
           "#B6E880",
           "#FF97FF",
           "#FECB52"
          ],
          "font": {
           "color": "#2a3f5f"
          },
          "hovermode": "closest",
          "hoverlabel": {
           "align": "left"
          },
          "paper_bgcolor": "white",
          "plot_bgcolor": "#E5ECF6",
          "polar": {
           "bgcolor": "#E5ECF6",
           "angularaxis": {
            "gridcolor": "white",
            "linecolor": "white",
            "ticks": ""
           },
           "radialaxis": {
            "gridcolor": "white",
            "linecolor": "white",
            "ticks": ""
           }
          },
          "ternary": {
           "bgcolor": "#E5ECF6",
           "aaxis": {
            "gridcolor": "white",
            "linecolor": "white",
            "ticks": ""
           },
           "baxis": {
            "gridcolor": "white",
            "linecolor": "white",
            "ticks": ""
           },
           "caxis": {
            "gridcolor": "white",
            "linecolor": "white",
            "ticks": ""
           }
          },
          "coloraxis": {
           "colorbar": {
            "outlinewidth": 0,
            "ticks": ""
           }
          },
          "colorscale": {
           "sequential": [
            [
             0.0,
             "#0d0887"
            ],
            [
             0.1111111111111111,
             "#46039f"
            ],
            [
             0.2222222222222222,
             "#7201a8"
            ],
            [
             0.3333333333333333,
             "#9c179e"
            ],
            [
             0.4444444444444444,
             "#bd3786"
            ],
            [
             0.5555555555555556,
             "#d8576b"
            ],
            [
             0.6666666666666666,
             "#ed7953"
            ],
            [
             0.7777777777777778,
             "#fb9f3a"
            ],
            [
             0.8888888888888888,
             "#fdca26"
            ],
            [
             1.0,
             "#f0f921"
            ]
           ],
           "sequentialminus": [
            [
             0.0,
             "#0d0887"
            ],
            [
             0.1111111111111111,
             "#46039f"
            ],
            [
             0.2222222222222222,
             "#7201a8"
            ],
            [
             0.3333333333333333,
             "#9c179e"
            ],
            [
             0.4444444444444444,
             "#bd3786"
            ],
            [
             0.5555555555555556,
             "#d8576b"
            ],
            [
             0.6666666666666666,
             "#ed7953"
            ],
            [
             0.7777777777777778,
             "#fb9f3a"
            ],
            [
             0.8888888888888888,
             "#fdca26"
            ],
            [
             1.0,
             "#f0f921"
            ]
           ],
           "diverging": [
            [
             0,
             "#8e0152"
            ],
            [
             0.1,
             "#c51b7d"
            ],
            [
             0.2,
             "#de77ae"
            ],
            [
             0.3,
             "#f1b6da"
            ],
            [
             0.4,
             "#fde0ef"
            ],
            [
             0.5,
             "#f7f7f7"
            ],
            [
             0.6,
             "#e6f5d0"
            ],
            [
             0.7,
             "#b8e186"
            ],
            [
             0.8,
             "#7fbc41"
            ],
            [
             0.9,
             "#4d9221"
            ],
            [
             1,
             "#276419"
            ]
           ]
          },
          "xaxis": {
           "gridcolor": "white",
           "linecolor": "white",
           "ticks": "",
           "title": {
            "standoff": 15
           },
           "zerolinecolor": "white",
           "automargin": true,
           "zerolinewidth": 2
          },
          "yaxis": {
           "gridcolor": "white",
           "linecolor": "white",
           "ticks": "",
           "title": {
            "standoff": 15
           },
           "zerolinecolor": "white",
           "automargin": true,
           "zerolinewidth": 2
          },
          "scene": {
           "xaxis": {
            "backgroundcolor": "#E5ECF6",
            "gridcolor": "white",
            "linecolor": "white",
            "showbackground": true,
            "ticks": "",
            "zerolinecolor": "white",
            "gridwidth": 2
           },
           "yaxis": {
            "backgroundcolor": "#E5ECF6",
            "gridcolor": "white",
            "linecolor": "white",
            "showbackground": true,
            "ticks": "",
            "zerolinecolor": "white",
            "gridwidth": 2
           },
           "zaxis": {
            "backgroundcolor": "#E5ECF6",
            "gridcolor": "white",
            "linecolor": "white",
            "showbackground": true,
            "ticks": "",
            "zerolinecolor": "white",
            "gridwidth": 2
           }
          },
          "shapedefaults": {
           "line": {
            "color": "#2a3f5f"
           }
          },
          "annotationdefaults": {
           "arrowcolor": "#2a3f5f",
           "arrowhead": 0,
           "arrowwidth": 1
          },
          "geo": {
           "bgcolor": "white",
           "landcolor": "#E5ECF6",
           "subunitcolor": "white",
           "showland": true,
           "showlakes": true,
           "lakecolor": "white"
          },
          "title": {
           "x": 0.05
          },
          "mapbox": {
           "style": "light"
          }
         }
        },
        "legend": {
         "tracegroupgap": 0
        },
        "title": {
         "text": "Distribution of young players in EPL in the last two seasons"
        }
       },
       "config": {
        "plotlyServerURL": "https://plot.ly"
       }
      },
      "text/html": "<div>                            <div id=\"85ce9e13-5d18-4e5a-87f3-3b68240bb1d2\" class=\"plotly-graph-div\" style=\"height:525px; width:100%;\"></div>            <script type=\"text/javascript\">                require([\"plotly\"], function(Plotly) {                    window.PLOTLYENV=window.PLOTLYENV || {};                                    if (document.getElementById(\"85ce9e13-5d18-4e5a-87f3-3b68240bb1d2\")) {                    Plotly.newPlot(                        \"85ce9e13-5d18-4e5a-87f3-3b68240bb1d2\",                        [{\"domain\":{\"x\":[0.0,1.0],\"y\":[0.0,1.0]},\"hovertemplate\":\"Squad=%{label}\\u003cbr\\u003eNumber of young players=%{value}\\u003cextra\\u003e\\u003c\\u002fextra\\u003e\",\"labels\":[\"Arsenal\",\"Aston Villa\",\"Bournemouth\",\"Brentford\",\"Brighton\",\"Burnley\",\"Chelsea\",\"Crystal Palace\",\"Everton\",\"Fulham\",\"Leeds United\",\"Leicester City\",\"Liverpool\",\"Luton Town\",\"Manchester City\",\"Manchester Utd\",\"Newcastle Utd\",\"Nott'ham Forest\",\"Sheffield Utd\",\"Southampton\",\"Tottenham\",\"West Ham\",\"Wolves\"],\"legendgroup\":\"\",\"name\":\"\",\"showlegend\":true,\"values\":[4,6,7,5,22,5,18,9,9,3,8,1,15,2,7,12,11,5,10,12,10,4,10],\"type\":\"pie\"}],                        {\"template\":{\"data\":{\"histogram2dcontour\":[{\"type\":\"histogram2dcontour\",\"colorbar\":{\"outlinewidth\":0,\"ticks\":\"\"},\"colorscale\":[[0.0,\"#0d0887\"],[0.1111111111111111,\"#46039f\"],[0.2222222222222222,\"#7201a8\"],[0.3333333333333333,\"#9c179e\"],[0.4444444444444444,\"#bd3786\"],[0.5555555555555556,\"#d8576b\"],[0.6666666666666666,\"#ed7953\"],[0.7777777777777778,\"#fb9f3a\"],[0.8888888888888888,\"#fdca26\"],[1.0,\"#f0f921\"]]}],\"choropleth\":[{\"type\":\"choropleth\",\"colorbar\":{\"outlinewidth\":0,\"ticks\":\"\"}}],\"histogram2d\":[{\"type\":\"histogram2d\",\"colorbar\":{\"outlinewidth\":0,\"ticks\":\"\"},\"colorscale\":[[0.0,\"#0d0887\"],[0.1111111111111111,\"#46039f\"],[0.2222222222222222,\"#7201a8\"],[0.3333333333333333,\"#9c179e\"],[0.4444444444444444,\"#bd3786\"],[0.5555555555555556,\"#d8576b\"],[0.6666666666666666,\"#ed7953\"],[0.7777777777777778,\"#fb9f3a\"],[0.8888888888888888,\"#fdca26\"],[1.0,\"#f0f921\"]]}],\"heatmap\":[{\"type\":\"heatmap\",\"colorbar\":{\"outlinewidth\":0,\"ticks\":\"\"},\"colorscale\":[[0.0,\"#0d0887\"],[0.1111111111111111,\"#46039f\"],[0.2222222222222222,\"#7201a8\"],[0.3333333333333333,\"#9c179e\"],[0.4444444444444444,\"#bd3786\"],[0.5555555555555556,\"#d8576b\"],[0.6666666666666666,\"#ed7953\"],[0.7777777777777778,\"#fb9f3a\"],[0.8888888888888888,\"#fdca26\"],[1.0,\"#f0f921\"]]}],\"heatmapgl\":[{\"type\":\"heatmapgl\",\"colorbar\":{\"outlinewidth\":0,\"ticks\":\"\"},\"colorscale\":[[0.0,\"#0d0887\"],[0.1111111111111111,\"#46039f\"],[0.2222222222222222,\"#7201a8\"],[0.3333333333333333,\"#9c179e\"],[0.4444444444444444,\"#bd3786\"],[0.5555555555555556,\"#d8576b\"],[0.6666666666666666,\"#ed7953\"],[0.7777777777777778,\"#fb9f3a\"],[0.8888888888888888,\"#fdca26\"],[1.0,\"#f0f921\"]]}],\"contourcarpet\":[{\"type\":\"contourcarpet\",\"colorbar\":{\"outlinewidth\":0,\"ticks\":\"\"}}],\"contour\":[{\"type\":\"contour\",\"colorbar\":{\"outlinewidth\":0,\"ticks\":\"\"},\"colorscale\":[[0.0,\"#0d0887\"],[0.1111111111111111,\"#46039f\"],[0.2222222222222222,\"#7201a8\"],[0.3333333333333333,\"#9c179e\"],[0.4444444444444444,\"#bd3786\"],[0.5555555555555556,\"#d8576b\"],[0.6666666666666666,\"#ed7953\"],[0.7777777777777778,\"#fb9f3a\"],[0.8888888888888888,\"#fdca26\"],[1.0,\"#f0f921\"]]}],\"surface\":[{\"type\":\"surface\",\"colorbar\":{\"outlinewidth\":0,\"ticks\":\"\"},\"colorscale\":[[0.0,\"#0d0887\"],[0.1111111111111111,\"#46039f\"],[0.2222222222222222,\"#7201a8\"],[0.3333333333333333,\"#9c179e\"],[0.4444444444444444,\"#bd3786\"],[0.5555555555555556,\"#d8576b\"],[0.6666666666666666,\"#ed7953\"],[0.7777777777777778,\"#fb9f3a\"],[0.8888888888888888,\"#fdca26\"],[1.0,\"#f0f921\"]]}],\"mesh3d\":[{\"type\":\"mesh3d\",\"colorbar\":{\"outlinewidth\":0,\"ticks\":\"\"}}],\"scatter\":[{\"fillpattern\":{\"fillmode\":\"overlay\",\"size\":10,\"solidity\":0.2},\"type\":\"scatter\"}],\"parcoords\":[{\"type\":\"parcoords\",\"line\":{\"colorbar\":{\"outlinewidth\":0,\"ticks\":\"\"}}}],\"scatterpolargl\":[{\"type\":\"scatterpolargl\",\"marker\":{\"colorbar\":{\"outlinewidth\":0,\"ticks\":\"\"}}}],\"bar\":[{\"error_x\":{\"color\":\"#2a3f5f\"},\"error_y\":{\"color\":\"#2a3f5f\"},\"marker\":{\"line\":{\"color\":\"#E5ECF6\",\"width\":0.5},\"pattern\":{\"fillmode\":\"overlay\",\"size\":10,\"solidity\":0.2}},\"type\":\"bar\"}],\"scattergeo\":[{\"type\":\"scattergeo\",\"marker\":{\"colorbar\":{\"outlinewidth\":0,\"ticks\":\"\"}}}],\"scatterpolar\":[{\"type\":\"scatterpolar\",\"marker\":{\"colorbar\":{\"outlinewidth\":0,\"ticks\":\"\"}}}],\"histogram\":[{\"marker\":{\"pattern\":{\"fillmode\":\"overlay\",\"size\":10,\"solidity\":0.2}},\"type\":\"histogram\"}],\"scattergl\":[{\"type\":\"scattergl\",\"marker\":{\"colorbar\":{\"outlinewidth\":0,\"ticks\":\"\"}}}],\"scatter3d\":[{\"type\":\"scatter3d\",\"line\":{\"colorbar\":{\"outlinewidth\":0,\"ticks\":\"\"}},\"marker\":{\"colorbar\":{\"outlinewidth\":0,\"ticks\":\"\"}}}],\"scattermapbox\":[{\"type\":\"scattermapbox\",\"marker\":{\"colorbar\":{\"outlinewidth\":0,\"ticks\":\"\"}}}],\"scatterternary\":[{\"type\":\"scatterternary\",\"marker\":{\"colorbar\":{\"outlinewidth\":0,\"ticks\":\"\"}}}],\"scattercarpet\":[{\"type\":\"scattercarpet\",\"marker\":{\"colorbar\":{\"outlinewidth\":0,\"ticks\":\"\"}}}],\"carpet\":[{\"aaxis\":{\"endlinecolor\":\"#2a3f5f\",\"gridcolor\":\"white\",\"linecolor\":\"white\",\"minorgridcolor\":\"white\",\"startlinecolor\":\"#2a3f5f\"},\"baxis\":{\"endlinecolor\":\"#2a3f5f\",\"gridcolor\":\"white\",\"linecolor\":\"white\",\"minorgridcolor\":\"white\",\"startlinecolor\":\"#2a3f5f\"},\"type\":\"carpet\"}],\"table\":[{\"cells\":{\"fill\":{\"color\":\"#EBF0F8\"},\"line\":{\"color\":\"white\"}},\"header\":{\"fill\":{\"color\":\"#C8D4E3\"},\"line\":{\"color\":\"white\"}},\"type\":\"table\"}],\"barpolar\":[{\"marker\":{\"line\":{\"color\":\"#E5ECF6\",\"width\":0.5},\"pattern\":{\"fillmode\":\"overlay\",\"size\":10,\"solidity\":0.2}},\"type\":\"barpolar\"}],\"pie\":[{\"automargin\":true,\"type\":\"pie\"}]},\"layout\":{\"autotypenumbers\":\"strict\",\"colorway\":[\"#636efa\",\"#EF553B\",\"#00cc96\",\"#ab63fa\",\"#FFA15A\",\"#19d3f3\",\"#FF6692\",\"#B6E880\",\"#FF97FF\",\"#FECB52\"],\"font\":{\"color\":\"#2a3f5f\"},\"hovermode\":\"closest\",\"hoverlabel\":{\"align\":\"left\"},\"paper_bgcolor\":\"white\",\"plot_bgcolor\":\"#E5ECF6\",\"polar\":{\"bgcolor\":\"#E5ECF6\",\"angularaxis\":{\"gridcolor\":\"white\",\"linecolor\":\"white\",\"ticks\":\"\"},\"radialaxis\":{\"gridcolor\":\"white\",\"linecolor\":\"white\",\"ticks\":\"\"}},\"ternary\":{\"bgcolor\":\"#E5ECF6\",\"aaxis\":{\"gridcolor\":\"white\",\"linecolor\":\"white\",\"ticks\":\"\"},\"baxis\":{\"gridcolor\":\"white\",\"linecolor\":\"white\",\"ticks\":\"\"},\"caxis\":{\"gridcolor\":\"white\",\"linecolor\":\"white\",\"ticks\":\"\"}},\"coloraxis\":{\"colorbar\":{\"outlinewidth\":0,\"ticks\":\"\"}},\"colorscale\":{\"sequential\":[[0.0,\"#0d0887\"],[0.1111111111111111,\"#46039f\"],[0.2222222222222222,\"#7201a8\"],[0.3333333333333333,\"#9c179e\"],[0.4444444444444444,\"#bd3786\"],[0.5555555555555556,\"#d8576b\"],[0.6666666666666666,\"#ed7953\"],[0.7777777777777778,\"#fb9f3a\"],[0.8888888888888888,\"#fdca26\"],[1.0,\"#f0f921\"]],\"sequentialminus\":[[0.0,\"#0d0887\"],[0.1111111111111111,\"#46039f\"],[0.2222222222222222,\"#7201a8\"],[0.3333333333333333,\"#9c179e\"],[0.4444444444444444,\"#bd3786\"],[0.5555555555555556,\"#d8576b\"],[0.6666666666666666,\"#ed7953\"],[0.7777777777777778,\"#fb9f3a\"],[0.8888888888888888,\"#fdca26\"],[1.0,\"#f0f921\"]],\"diverging\":[[0,\"#8e0152\"],[0.1,\"#c51b7d\"],[0.2,\"#de77ae\"],[0.3,\"#f1b6da\"],[0.4,\"#fde0ef\"],[0.5,\"#f7f7f7\"],[0.6,\"#e6f5d0\"],[0.7,\"#b8e186\"],[0.8,\"#7fbc41\"],[0.9,\"#4d9221\"],[1,\"#276419\"]]},\"xaxis\":{\"gridcolor\":\"white\",\"linecolor\":\"white\",\"ticks\":\"\",\"title\":{\"standoff\":15},\"zerolinecolor\":\"white\",\"automargin\":true,\"zerolinewidth\":2},\"yaxis\":{\"gridcolor\":\"white\",\"linecolor\":\"white\",\"ticks\":\"\",\"title\":{\"standoff\":15},\"zerolinecolor\":\"white\",\"automargin\":true,\"zerolinewidth\":2},\"scene\":{\"xaxis\":{\"backgroundcolor\":\"#E5ECF6\",\"gridcolor\":\"white\",\"linecolor\":\"white\",\"showbackground\":true,\"ticks\":\"\",\"zerolinecolor\":\"white\",\"gridwidth\":2},\"yaxis\":{\"backgroundcolor\":\"#E5ECF6\",\"gridcolor\":\"white\",\"linecolor\":\"white\",\"showbackground\":true,\"ticks\":\"\",\"zerolinecolor\":\"white\",\"gridwidth\":2},\"zaxis\":{\"backgroundcolor\":\"#E5ECF6\",\"gridcolor\":\"white\",\"linecolor\":\"white\",\"showbackground\":true,\"ticks\":\"\",\"zerolinecolor\":\"white\",\"gridwidth\":2}},\"shapedefaults\":{\"line\":{\"color\":\"#2a3f5f\"}},\"annotationdefaults\":{\"arrowcolor\":\"#2a3f5f\",\"arrowhead\":0,\"arrowwidth\":1},\"geo\":{\"bgcolor\":\"white\",\"landcolor\":\"#E5ECF6\",\"subunitcolor\":\"white\",\"showland\":true,\"showlakes\":true,\"lakecolor\":\"white\"},\"title\":{\"x\":0.05},\"mapbox\":{\"style\":\"light\"}}},\"legend\":{\"tracegroupgap\":0},\"title\":{\"text\":\"Distribution of young players in EPL in the last two seasons\"}},                        {\"responsive\": true}                    ).then(function(){\n                            \nvar gd = document.getElementById('85ce9e13-5d18-4e5a-87f3-3b68240bb1d2');\nvar x = new MutationObserver(function (mutations, observer) {{\n        var display = window.getComputedStyle(gd).display;\n        if (!display || display === 'none') {{\n            console.log([gd, 'removed!']);\n            Plotly.purge(gd);\n            observer.disconnect();\n        }}\n}});\n\n// Listen for the removal of the full notebook cells\nvar notebookContainer = gd.closest('#notebook-container');\nif (notebookContainer) {{\n    x.observe(notebookContainer, {childList: true});\n}}\n\n// Listen for the clearing of the current output cell\nvar outputEl = gd.closest('.output');\nif (outputEl) {{\n    x.observe(outputEl, {childList: true});\n}}\n\n                        })                };                });            </script>        </div>"
     },
     "metadata": {},
     "output_type": "display_data"
    }
   ],
   "source": [
    "px.pie(club_youngsters, values='Number of young players', names='Squad', title='Distribution of young players in EPL in the last two seasons')"
   ],
   "metadata": {
    "collapsed": false,
    "ExecuteTime": {
     "end_time": "2024-06-07T10:19:15.892083500Z",
     "start_time": "2024-06-07T10:19:15.828836100Z"
    }
   }
  },
  {
   "cell_type": "markdown",
   "source": [
    "Determining the most outfield player in the past 5 seasons"
   ],
   "metadata": {
    "collapsed": false
   }
  },
  {
   "cell_type": "markdown",
   "source": [
    "First determine the players with the highest number of Progressive passes, carries and receives"
   ],
   "metadata": {
    "collapsed": false
   }
  },
  {
   "cell_type": "code",
   "execution_count": 247,
   "outputs": [],
   "source": [
    "three_seasons = ['2021/2022', '2022/2023', '2023/2024']\n",
    "avg_prgP_list = []\n",
    "for season in three_seasons:\n",
    "    seasonal_stat = stats_df[stats_df['season'] == season]\n",
    "    avg_prgP = seasonal_stat['PrgP'].mean()\n",
    "    avg_prgP_list.append(avg_prgP)"
   ],
   "metadata": {
    "collapsed": false,
    "ExecuteTime": {
     "end_time": "2024-06-07T13:33:57.277654500Z",
     "start_time": "2024-06-07T13:33:57.193395400Z"
    }
   }
  },
  {
   "cell_type": "code",
   "execution_count": 248,
   "outputs": [],
   "source": [
    "avg_prgP_df = pd.DataFrame({'season': three_seasons, 'Avg_PrgP': avg_prgP_list})\n",
    "\n",
    "prgP_df = pd.merge(stats_df, avg_prgP_df, on='season')\n",
    "prgP_players = prgP_df[prgP_df['PrgP'] > prgP_df['Avg_PrgP']]"
   ],
   "metadata": {
    "collapsed": false,
    "ExecuteTime": {
     "end_time": "2024-06-07T13:33:58.197808700Z",
     "start_time": "2024-06-07T13:33:58.117975800Z"
    }
   }
  },
  {
   "cell_type": "code",
   "execution_count": 106,
   "outputs": [
    {
     "data": {
      "text/plain": "376"
     },
     "execution_count": 106,
     "metadata": {},
     "output_type": "execute_result"
    }
   ],
   "source": [
    "prgP_players['PrgP'].max()"
   ],
   "metadata": {
    "collapsed": false,
    "ExecuteTime": {
     "end_time": "2024-06-07T11:04:59.864938100Z",
     "start_time": "2024-06-07T11:04:59.832462900Z"
    }
   }
  },
  {
   "cell_type": "code",
   "execution_count": 249,
   "outputs": [],
   "source": [
    "prgP_players= prgP_players[prgP_players['PrgP'] >= 100]"
   ],
   "metadata": {
    "collapsed": false,
    "ExecuteTime": {
     "end_time": "2024-06-07T13:38:23.306743800Z",
     "start_time": "2024-06-07T13:38:23.223048600Z"
    }
   }
  },
  {
   "cell_type": "code",
   "execution_count": 250,
   "outputs": [
    {
     "data": {
      "text/plain": "                  Player    Pos            Squad  Age  MP  Starts   Min   90s  \\\n1        Aaron Cresswell     DF         West Ham   31  31      31  2726  30.3   \n2        Aaron Cresswell     DF         West Ham   32  28      24  2235  24.8   \n14    Abdoulaye Doucouré     MF          Everton   28  30      29  2537  28.2   \n28          Adam Webster     DF         Brighton   26  22      16  1434  15.9   \n29          Adam Webster     DF         Brighton   27  27      23  1985  22.1   \n...                  ...    ...              ...  ...  ..     ...   ...   ...   \n1675     Youri Tielemans     MF   Leicester City   25  31      27  2344  26.0   \n1676     Youri Tielemans  MF,FW      Aston Villa   26  32      17  1622  18.0   \n1680       Yves Bissouma     MF        Tottenham   26  28      26  2068  23.0   \n1690      İlkay Gündoğan     MF  Manchester City   30  27      20  1857  20.6   \n1691      İlkay Gündoğan     MF  Manchester City   31  31      27  2353  26.1   \n\n      Gls  Ast  ...  npxG  xAG  npxG+xAG  PrgC PrgP  PrgR  poy_winner  \\\n1       2    3  ...   1.1  3.2       4.2    54  186    99           0   \n2       0    1  ...   0.3  3.7       4.0    35  145    82           0   \n14      2    4  ...   2.2  2.0       4.2    33  113    54           0   \n28      2    0  ...   0.9  0.0       0.9    19  109     7           0   \n29      0    0  ...   1.8  0.2       1.9    19  119     9           0   \n...   ...  ...  ...   ...  ...       ...   ...  ...   ...         ...   \n1675    3    2  ...   0.9  4.7       5.6    35  181    56           0   \n1676    2    6  ...   1.3  2.6       3.9    23  128    46           0   \n1680    0    0  ...   1.4  0.4       1.8    43  169    13           0   \n1690    8    4  ...   9.0  4.9      13.9    60  126   107           0   \n1691    8    4  ...   6.7  3.3      10.0    53  170   124           0   \n\n      Total_Prg  is_top_player   Avg_PrgP  \n1           339          False  52.327839  \n2           262          False  50.432337  \n14          200          False  52.327839  \n28          135          False  52.327839  \n29          147          False  50.432337  \n...         ...            ...        ...  \n1675        272          False  50.432337  \n1676        197          False  50.584483  \n1680        225          False  50.584483  \n1690        293          False  52.327839  \n1691        347          False  50.432337  \n\n[290 rows x 26 columns]",
      "text/html": "<div>\n<style scoped>\n    .dataframe tbody tr th:only-of-type {\n        vertical-align: middle;\n    }\n\n    .dataframe tbody tr th {\n        vertical-align: top;\n    }\n\n    .dataframe thead th {\n        text-align: right;\n    }\n</style>\n<table border=\"1\" class=\"dataframe\">\n  <thead>\n    <tr style=\"text-align: right;\">\n      <th></th>\n      <th>Player</th>\n      <th>Pos</th>\n      <th>Squad</th>\n      <th>Age</th>\n      <th>MP</th>\n      <th>Starts</th>\n      <th>Min</th>\n      <th>90s</th>\n      <th>Gls</th>\n      <th>Ast</th>\n      <th>...</th>\n      <th>npxG</th>\n      <th>xAG</th>\n      <th>npxG+xAG</th>\n      <th>PrgC</th>\n      <th>PrgP</th>\n      <th>PrgR</th>\n      <th>poy_winner</th>\n      <th>Total_Prg</th>\n      <th>is_top_player</th>\n      <th>Avg_PrgP</th>\n    </tr>\n  </thead>\n  <tbody>\n    <tr>\n      <th>1</th>\n      <td>Aaron Cresswell</td>\n      <td>DF</td>\n      <td>West Ham</td>\n      <td>31</td>\n      <td>31</td>\n      <td>31</td>\n      <td>2726</td>\n      <td>30.3</td>\n      <td>2</td>\n      <td>3</td>\n      <td>...</td>\n      <td>1.1</td>\n      <td>3.2</td>\n      <td>4.2</td>\n      <td>54</td>\n      <td>186</td>\n      <td>99</td>\n      <td>0</td>\n      <td>339</td>\n      <td>False</td>\n      <td>52.327839</td>\n    </tr>\n    <tr>\n      <th>2</th>\n      <td>Aaron Cresswell</td>\n      <td>DF</td>\n      <td>West Ham</td>\n      <td>32</td>\n      <td>28</td>\n      <td>24</td>\n      <td>2235</td>\n      <td>24.8</td>\n      <td>0</td>\n      <td>1</td>\n      <td>...</td>\n      <td>0.3</td>\n      <td>3.7</td>\n      <td>4.0</td>\n      <td>35</td>\n      <td>145</td>\n      <td>82</td>\n      <td>0</td>\n      <td>262</td>\n      <td>False</td>\n      <td>50.432337</td>\n    </tr>\n    <tr>\n      <th>14</th>\n      <td>Abdoulaye Doucouré</td>\n      <td>MF</td>\n      <td>Everton</td>\n      <td>28</td>\n      <td>30</td>\n      <td>29</td>\n      <td>2537</td>\n      <td>28.2</td>\n      <td>2</td>\n      <td>4</td>\n      <td>...</td>\n      <td>2.2</td>\n      <td>2.0</td>\n      <td>4.2</td>\n      <td>33</td>\n      <td>113</td>\n      <td>54</td>\n      <td>0</td>\n      <td>200</td>\n      <td>False</td>\n      <td>52.327839</td>\n    </tr>\n    <tr>\n      <th>28</th>\n      <td>Adam Webster</td>\n      <td>DF</td>\n      <td>Brighton</td>\n      <td>26</td>\n      <td>22</td>\n      <td>16</td>\n      <td>1434</td>\n      <td>15.9</td>\n      <td>2</td>\n      <td>0</td>\n      <td>...</td>\n      <td>0.9</td>\n      <td>0.0</td>\n      <td>0.9</td>\n      <td>19</td>\n      <td>109</td>\n      <td>7</td>\n      <td>0</td>\n      <td>135</td>\n      <td>False</td>\n      <td>52.327839</td>\n    </tr>\n    <tr>\n      <th>29</th>\n      <td>Adam Webster</td>\n      <td>DF</td>\n      <td>Brighton</td>\n      <td>27</td>\n      <td>27</td>\n      <td>23</td>\n      <td>1985</td>\n      <td>22.1</td>\n      <td>0</td>\n      <td>0</td>\n      <td>...</td>\n      <td>1.8</td>\n      <td>0.2</td>\n      <td>1.9</td>\n      <td>19</td>\n      <td>119</td>\n      <td>9</td>\n      <td>0</td>\n      <td>147</td>\n      <td>False</td>\n      <td>50.432337</td>\n    </tr>\n    <tr>\n      <th>...</th>\n      <td>...</td>\n      <td>...</td>\n      <td>...</td>\n      <td>...</td>\n      <td>...</td>\n      <td>...</td>\n      <td>...</td>\n      <td>...</td>\n      <td>...</td>\n      <td>...</td>\n      <td>...</td>\n      <td>...</td>\n      <td>...</td>\n      <td>...</td>\n      <td>...</td>\n      <td>...</td>\n      <td>...</td>\n      <td>...</td>\n      <td>...</td>\n      <td>...</td>\n      <td>...</td>\n    </tr>\n    <tr>\n      <th>1675</th>\n      <td>Youri Tielemans</td>\n      <td>MF</td>\n      <td>Leicester City</td>\n      <td>25</td>\n      <td>31</td>\n      <td>27</td>\n      <td>2344</td>\n      <td>26.0</td>\n      <td>3</td>\n      <td>2</td>\n      <td>...</td>\n      <td>0.9</td>\n      <td>4.7</td>\n      <td>5.6</td>\n      <td>35</td>\n      <td>181</td>\n      <td>56</td>\n      <td>0</td>\n      <td>272</td>\n      <td>False</td>\n      <td>50.432337</td>\n    </tr>\n    <tr>\n      <th>1676</th>\n      <td>Youri Tielemans</td>\n      <td>MF,FW</td>\n      <td>Aston Villa</td>\n      <td>26</td>\n      <td>32</td>\n      <td>17</td>\n      <td>1622</td>\n      <td>18.0</td>\n      <td>2</td>\n      <td>6</td>\n      <td>...</td>\n      <td>1.3</td>\n      <td>2.6</td>\n      <td>3.9</td>\n      <td>23</td>\n      <td>128</td>\n      <td>46</td>\n      <td>0</td>\n      <td>197</td>\n      <td>False</td>\n      <td>50.584483</td>\n    </tr>\n    <tr>\n      <th>1680</th>\n      <td>Yves Bissouma</td>\n      <td>MF</td>\n      <td>Tottenham</td>\n      <td>26</td>\n      <td>28</td>\n      <td>26</td>\n      <td>2068</td>\n      <td>23.0</td>\n      <td>0</td>\n      <td>0</td>\n      <td>...</td>\n      <td>1.4</td>\n      <td>0.4</td>\n      <td>1.8</td>\n      <td>43</td>\n      <td>169</td>\n      <td>13</td>\n      <td>0</td>\n      <td>225</td>\n      <td>False</td>\n      <td>50.584483</td>\n    </tr>\n    <tr>\n      <th>1690</th>\n      <td>İlkay Gündoğan</td>\n      <td>MF</td>\n      <td>Manchester City</td>\n      <td>30</td>\n      <td>27</td>\n      <td>20</td>\n      <td>1857</td>\n      <td>20.6</td>\n      <td>8</td>\n      <td>4</td>\n      <td>...</td>\n      <td>9.0</td>\n      <td>4.9</td>\n      <td>13.9</td>\n      <td>60</td>\n      <td>126</td>\n      <td>107</td>\n      <td>0</td>\n      <td>293</td>\n      <td>False</td>\n      <td>52.327839</td>\n    </tr>\n    <tr>\n      <th>1691</th>\n      <td>İlkay Gündoğan</td>\n      <td>MF</td>\n      <td>Manchester City</td>\n      <td>31</td>\n      <td>31</td>\n      <td>27</td>\n      <td>2353</td>\n      <td>26.1</td>\n      <td>8</td>\n      <td>4</td>\n      <td>...</td>\n      <td>6.7</td>\n      <td>3.3</td>\n      <td>10.0</td>\n      <td>53</td>\n      <td>170</td>\n      <td>124</td>\n      <td>0</td>\n      <td>347</td>\n      <td>False</td>\n      <td>50.432337</td>\n    </tr>\n  </tbody>\n</table>\n<p>290 rows × 26 columns</p>\n</div>"
     },
     "execution_count": 250,
     "metadata": {},
     "output_type": "execute_result"
    }
   ],
   "source": [
    "prgP_players"
   ],
   "metadata": {
    "collapsed": false,
    "ExecuteTime": {
     "end_time": "2024-06-07T13:38:28.247625400Z",
     "start_time": "2024-06-07T13:38:28.148761900Z"
    }
   }
  },
  {
   "cell_type": "code",
   "execution_count": 159,
   "outputs": [],
   "source": [
    "avg_prgC_list = []\n",
    "for season in three_seasons:\n",
    "    seasonal_stat = stats_df[stats_df['season'] == season]\n",
    "    avg_prgC = seasonal_stat['PrgC'].mean()\n",
    "    avg_prgC_list.append(avg_prgC)"
   ],
   "metadata": {
    "collapsed": false,
    "ExecuteTime": {
     "end_time": "2024-06-07T11:54:33.927631100Z",
     "start_time": "2024-06-07T11:54:33.834843400Z"
    }
   }
  },
  {
   "cell_type": "code",
   "execution_count": 160,
   "outputs": [],
   "source": [
    "avg_prgC_df = pd.DataFrame({'season': three_seasons, 'Avg_PrgC': avg_prgC_list})\n",
    "\n",
    "prgC_df = pd.merge(stats_df, avg_prgC_df, on='season')\n",
    "prgC_players = prgC_df[prgC_df['PrgC'] > prgC_df['Avg_PrgC']]"
   ],
   "metadata": {
    "collapsed": false,
    "ExecuteTime": {
     "end_time": "2024-06-07T11:54:34.813701600Z",
     "start_time": "2024-06-07T11:54:34.763191100Z"
    }
   }
  },
  {
   "cell_type": "code",
   "execution_count": 161,
   "outputs": [
    {
     "data": {
      "text/plain": "218"
     },
     "execution_count": 161,
     "metadata": {},
     "output_type": "execute_result"
    }
   ],
   "source": [
    "prgC_players['PrgC'].max()"
   ],
   "metadata": {
    "collapsed": false,
    "ExecuteTime": {
     "end_time": "2024-06-07T11:54:35.767007200Z",
     "start_time": "2024-06-07T11:54:35.547243600Z"
    }
   }
  },
  {
   "cell_type": "code",
   "execution_count": 251,
   "outputs": [],
   "source": [
    "prgC_players=prgC_players[prgC_players['PrgC'] >= 100]"
   ],
   "metadata": {
    "collapsed": false,
    "ExecuteTime": {
     "end_time": "2024-06-07T13:38:44.970993900Z",
     "start_time": "2024-06-07T13:38:44.885328400Z"
    }
   }
  },
  {
   "cell_type": "code",
   "execution_count": 163,
   "outputs": [
    {
     "data": {
      "text/plain": "                   Player    Pos            Squad  Age  MP  Starts   Min  \\\n44     Alejandro Garnacho     FW   Manchester Utd   19  36      30  2565   \n51             Alex Iwobi  FW,MF           Fulham   27  30      25  2192   \n74    Allan Saint-Maximin  FW,MF    Newcastle Utd   24  35      31  2804   \n117        Anthony Gordon     FW    Newcastle Utd   22  35      34  2890   \n123      Antonee Robinson     DF           Fulham   24  35      35  3088   \n189        Bernardo Silva  MF,FW  Manchester City   26  35      33  2857   \n191        Bernardo Silva  MF,FW  Manchester City   28  33      29  2578   \n230           Bukayo Saka  FW,MF          Arsenal   19  38      36  2978   \n231           Bukayo Saka     FW          Arsenal   20  38      37  3181   \n232           Bukayo Saka     FW          Arsenal   21  35      35  2919   \n237    Callum Hudson-Odoi  FW,MF  Nott'ham Forest   22  29      20  1854   \n280      Chiedozie Ogbene  MF,DF       Luton Town   26  30      20  1995   \n314           Cole Palmer  FW,MF          Chelsea   21  33      29  2607   \n407           Declan Rice     MF         West Ham   22  36      35  3179   \n413      Dejan Kulusevski  FW,MF        Tottenham   23  36      31  2762   \n570    Gabriel Martinelli     FW          Arsenal   21  36      34  2789   \n571    Gabriel Martinelli     FW          Arsenal   22  35      24  2019   \n615         Harvey Barnes  FW,MF   Leicester City   23  32      24  2101   \n666         Jack Grealish     FW  Manchester City   25  26      22  1914   \n667         Jack Grealish     FW  Manchester City   26  28      23  2055   \n669         Jack Harrison  FW,MF     Leeds United   24  35      32  2639   \n670         Jack Harrison  FW,MF     Leeds United   25  36      34  2708   \n689          Jadon Sancho  FW,MF   Manchester Utd   21  29      20  1900   \n750          Jarrod Bowen  FW,MF         West Ham   25  38      36  3233   \n777           Jeremy Doku  FW,MF  Manchester City   21  29      18  1595   \n865          João Cancelo     DF  Manchester City   27  36      36  3227   \n912          Kaoru Mitoma  FW,MF         Brighton   25  33      24  2318   \n913          Kaoru Mitoma     FW         Brighton   26  19      15  1486   \n967    Kyle Walker-Peters     DF      Southampton   24  32      29  2633   \n968    Kyle Walker-Peters     DF      Southampton   25  31      30  2650   \n981           Leon Bailey  MF,FW      Aston Villa   25  35      22  2068   \n1024            Luis Díaz     FW        Liverpool   26  37      32  2629   \n1064       Marc Cucurella     DF         Brighton   23  35      35  3089   \n1113        Matheus Cunha  FW,MF           Wolves   24  32      29  2440   \n1162        Michael Olise  FW,MF   Crystal Palace   20  37      31  2749   \n1183        Mohamed Salah     FW        Liverpool   29  35      30  2762   \n1184        Mohamed Salah     FW        Liverpool   30  38      37  3290   \n1186       Mohammed Kudus  FW,MF         West Ham   22  33      27  2484   \n1267        Nélson Semedo  DF,MF           Wolves   29  36      36  3084   \n1349      Raheem Sterling     FW  Manchester City   26  30      23  2128   \n1351      Raheem Sterling  FW,MF          Chelsea   28  31      22  1978   \n1441           Sadio Mané     FW        Liverpool   29  34      32  2819   \n1464        Saïd Benrahma  FW,MF         West Ham   26  35      22  2069   \n1496        Simon Adingra     FW         Brighton   21  31      25  2222   \n1500          Solly March  FW,DF         Brighton   28  33      31  2715   \n1502        Son Heung-Min  MF,FW        Tottenham   29  35      35  3006   \n1504        Son Heung-Min     FW        Tottenham   31  35      34  2934   \n1643        Wilfried Zaha     FW   Crystal Palace   28  33      31  2760   \n1660       Wilson Odobert  MF,FW          Burnley   18  29      25  2098   \n\n       90s  Gls  Ast  ...     season    xG  npxG   xAG npxG+xAG  PrgC  PrgP  \\\n44    28.5    7    4  ...  2023/2024   8.4   8.3   5.1     13.4   178    62   \n51    24.4    5    2  ...  2023/2024   5.3   5.3   4.7     10.0   109   147   \n74    31.2    5    5  ...  2021/2022   5.2   5.2   4.3      9.5   180    87   \n117   32.1   11   10  ...  2023/2024  10.2   9.4   8.0     17.5   138   101   \n123   34.3    0    1  ...  2022/2023   0.1   0.1   1.3      1.3   113   129   \n189   31.7    8    4  ...  2021/2022   6.7   6.7   6.5     13.2   146   170   \n191   28.6    6    9  ...  2023/2024   3.7   3.7   7.6     11.3   140   177   \n230   33.1   11    7  ...  2021/2022  10.3   8.7   7.5     16.3   140   101   \n231   35.3   14   11  ...  2022/2023  11.2   9.1   8.5     17.6   179   109   \n232   32.4   16    9  ...  2023/2024  15.5  10.8  10.5     21.2   155   126   \n237   20.6    8    1  ...  2023/2024   2.7   2.7   2.8      5.5   111    58   \n280   22.2    4    1  ...  2023/2024   4.2   4.2   3.1      7.4   127    53   \n314   29.0   22   11  ...  2023/2024  18.2  11.1  11.1     22.2   117   197   \n407   35.3    1    4  ...  2021/2022   1.1   1.1   1.7      2.8   104   256   \n413   30.7    8    3  ...  2023/2024   4.7   4.7   7.7     12.4   151   144   \n570   31.0   15    5  ...  2022/2023   9.1   9.1   9.1     18.2   124    94   \n571   22.4    6    4  ...  2023/2024   6.8   6.8   6.1     12.9   127    65   \n615   23.3    6   10  ...  2021/2022   5.6   5.6   4.6     10.2   107    59   \n666   21.3    3    3  ...  2021/2022   5.3   5.3   6.0     11.3   153   100   \n667   22.8    5    7  ...  2022/2023   4.6   4.6   7.1     11.7   143   100   \n669   29.3    8    1  ...  2021/2022   4.4   4.4   3.2      7.6   120    89   \n670   30.1    5    7  ...  2022/2023   4.7   4.7   5.1      9.8   103   103   \n689   21.1    3    3  ...  2021/2022   3.6   3.6   4.1      7.7   111    88   \n750   35.9    6    5  ...  2022/2023   8.9   7.8   7.4     15.2   101    72   \n777   17.7    3    8  ...  2023/2024   2.5   2.5   4.6      7.1   218    57   \n865   35.9    1    7  ...  2021/2022   4.0   4.0   5.4      9.3   125   357   \n912   25.8    7    5  ...  2022/2023   8.1   8.1   6.4     14.5   143    90   \n913   16.5    3    4  ...  2023/2024   3.5   3.5   2.7      6.2   121    64   \n967   29.3    1    2  ...  2021/2022   1.1   1.1   2.7      3.8   134   147   \n968   29.4    1    0  ...  2022/2023   1.0   1.0   1.4      2.5   102    97   \n981   23.0   10    9  ...  2023/2024   6.3   6.3   9.2     15.5   102    82   \n1024  29.2    8    5  ...  2023/2024  11.9  11.9   5.7     17.5   137   113   \n1064  34.3    1    1  ...  2021/2022   0.7   0.7   2.7      3.4   104   191   \n1113  27.1   12    7  ...  2023/2024   9.5   8.7   3.2     11.9   107    87   \n1162  30.5    2   11  ...  2022/2023   2.9   2.9   8.7     11.6   111   133   \n1183  30.7   23   13  ...  2021/2022  22.7  17.8  10.0     27.8   125   122   \n1184  36.6   19   12  ...  2022/2023  21.7  18.5   7.7     26.2   120   149   \n1186  27.6    8    6  ...  2023/2024   5.1   5.1   3.5      8.6   117    80   \n1267  34.3    0    1  ...  2023/2024   1.3   1.3   1.7      3.0   103   138   \n1349  23.6   13    5  ...  2021/2022  14.0  11.5   5.5     17.0   108    65   \n1351  22.0    8    4  ...  2023/2024   6.5   6.5   4.5     11.0   120    78   \n1441  31.3   16    2  ...  2021/2022  17.2  17.2   5.2     22.5   105   130   \n1464  23.0    6    3  ...  2022/2023   7.0   3.9   4.5      8.4   109    82   \n1496  24.7    6    1  ...  2023/2024   4.3   4.3   3.7      8.0   111    50   \n1500  30.2    7    7  ...  2022/2023   8.1   8.1   8.4     16.5   110   135   \n1502  33.4   23    7  ...  2021/2022  15.9  15.9   7.5     23.4   116    90   \n1504  32.6   17   10  ...  2023/2024  12.0  10.4  11.8     22.2   119   139   \n1643  30.7   14    1  ...  2021/2022   9.5   3.9   5.1      9.0   113   121   \n1660  23.3    3    2  ...  2023/2024   2.8   2.8   3.3      6.1   102    58   \n\n      PrgR  poy_winner   Avg_PrgC  \n44     281           0  24.651724  \n51     175           0  24.651724  \n74     167           0  24.836996  \n117    232           0  24.651724  \n123    153           0  22.676626  \n189    277           0  24.836996  \n191    260           0  24.651724  \n230    388           0  24.836996  \n231    520           0  22.676626  \n232    508           0  24.651724  \n237    171           0  24.651724  \n280    150           0  24.651724  \n314    195           0  24.651724  \n407     44           0  24.836996  \n413    388           0  24.651724  \n570    350           0  22.676626  \n571    345           0  24.651724  \n615    237           0  24.836996  \n666    267           0  24.836996  \n667    310           0  22.676626  \n669    234           0  24.836996  \n670    255           0  22.676626  \n689    222           0  24.836996  \n750    213           0  22.676626  \n777    295           0  24.651724  \n865    270           0  24.836996  \n912    260           0  22.676626  \n913    239           0  24.651724  \n967    165           0  24.836996  \n968    114           0  22.676626  \n981    226           0  24.651724  \n1024   302           0  24.651724  \n1064   208           0  24.836996  \n1113   139           0  24.651724  \n1162   243           0  22.676626  \n1183   451           0  24.836996  \n1184   421           0  22.676626  \n1186   216           0  24.651724  \n1267   150           0  24.651724  \n1349   317           0  24.836996  \n1351   242           0  24.651724  \n1441   305           0  24.836996  \n1464   237           0  22.676626  \n1496   278           0  24.651724  \n1500   357           0  22.676626  \n1502   242           0  24.836996  \n1504   325           0  24.651724  \n1643   265           0  24.836996  \n1660   123           0  24.651724  \n\n[49 rows x 24 columns]",
      "text/html": "<div>\n<style scoped>\n    .dataframe tbody tr th:only-of-type {\n        vertical-align: middle;\n    }\n\n    .dataframe tbody tr th {\n        vertical-align: top;\n    }\n\n    .dataframe thead th {\n        text-align: right;\n    }\n</style>\n<table border=\"1\" class=\"dataframe\">\n  <thead>\n    <tr style=\"text-align: right;\">\n      <th></th>\n      <th>Player</th>\n      <th>Pos</th>\n      <th>Squad</th>\n      <th>Age</th>\n      <th>MP</th>\n      <th>Starts</th>\n      <th>Min</th>\n      <th>90s</th>\n      <th>Gls</th>\n      <th>Ast</th>\n      <th>...</th>\n      <th>season</th>\n      <th>xG</th>\n      <th>npxG</th>\n      <th>xAG</th>\n      <th>npxG+xAG</th>\n      <th>PrgC</th>\n      <th>PrgP</th>\n      <th>PrgR</th>\n      <th>poy_winner</th>\n      <th>Avg_PrgC</th>\n    </tr>\n  </thead>\n  <tbody>\n    <tr>\n      <th>44</th>\n      <td>Alejandro Garnacho</td>\n      <td>FW</td>\n      <td>Manchester Utd</td>\n      <td>19</td>\n      <td>36</td>\n      <td>30</td>\n      <td>2565</td>\n      <td>28.5</td>\n      <td>7</td>\n      <td>4</td>\n      <td>...</td>\n      <td>2023/2024</td>\n      <td>8.4</td>\n      <td>8.3</td>\n      <td>5.1</td>\n      <td>13.4</td>\n      <td>178</td>\n      <td>62</td>\n      <td>281</td>\n      <td>0</td>\n      <td>24.651724</td>\n    </tr>\n    <tr>\n      <th>51</th>\n      <td>Alex Iwobi</td>\n      <td>FW,MF</td>\n      <td>Fulham</td>\n      <td>27</td>\n      <td>30</td>\n      <td>25</td>\n      <td>2192</td>\n      <td>24.4</td>\n      <td>5</td>\n      <td>2</td>\n      <td>...</td>\n      <td>2023/2024</td>\n      <td>5.3</td>\n      <td>5.3</td>\n      <td>4.7</td>\n      <td>10.0</td>\n      <td>109</td>\n      <td>147</td>\n      <td>175</td>\n      <td>0</td>\n      <td>24.651724</td>\n    </tr>\n    <tr>\n      <th>74</th>\n      <td>Allan Saint-Maximin</td>\n      <td>FW,MF</td>\n      <td>Newcastle Utd</td>\n      <td>24</td>\n      <td>35</td>\n      <td>31</td>\n      <td>2804</td>\n      <td>31.2</td>\n      <td>5</td>\n      <td>5</td>\n      <td>...</td>\n      <td>2021/2022</td>\n      <td>5.2</td>\n      <td>5.2</td>\n      <td>4.3</td>\n      <td>9.5</td>\n      <td>180</td>\n      <td>87</td>\n      <td>167</td>\n      <td>0</td>\n      <td>24.836996</td>\n    </tr>\n    <tr>\n      <th>117</th>\n      <td>Anthony Gordon</td>\n      <td>FW</td>\n      <td>Newcastle Utd</td>\n      <td>22</td>\n      <td>35</td>\n      <td>34</td>\n      <td>2890</td>\n      <td>32.1</td>\n      <td>11</td>\n      <td>10</td>\n      <td>...</td>\n      <td>2023/2024</td>\n      <td>10.2</td>\n      <td>9.4</td>\n      <td>8.0</td>\n      <td>17.5</td>\n      <td>138</td>\n      <td>101</td>\n      <td>232</td>\n      <td>0</td>\n      <td>24.651724</td>\n    </tr>\n    <tr>\n      <th>123</th>\n      <td>Antonee Robinson</td>\n      <td>DF</td>\n      <td>Fulham</td>\n      <td>24</td>\n      <td>35</td>\n      <td>35</td>\n      <td>3088</td>\n      <td>34.3</td>\n      <td>0</td>\n      <td>1</td>\n      <td>...</td>\n      <td>2022/2023</td>\n      <td>0.1</td>\n      <td>0.1</td>\n      <td>1.3</td>\n      <td>1.3</td>\n      <td>113</td>\n      <td>129</td>\n      <td>153</td>\n      <td>0</td>\n      <td>22.676626</td>\n    </tr>\n    <tr>\n      <th>189</th>\n      <td>Bernardo Silva</td>\n      <td>MF,FW</td>\n      <td>Manchester City</td>\n      <td>26</td>\n      <td>35</td>\n      <td>33</td>\n      <td>2857</td>\n      <td>31.7</td>\n      <td>8</td>\n      <td>4</td>\n      <td>...</td>\n      <td>2021/2022</td>\n      <td>6.7</td>\n      <td>6.7</td>\n      <td>6.5</td>\n      <td>13.2</td>\n      <td>146</td>\n      <td>170</td>\n      <td>277</td>\n      <td>0</td>\n      <td>24.836996</td>\n    </tr>\n    <tr>\n      <th>191</th>\n      <td>Bernardo Silva</td>\n      <td>MF,FW</td>\n      <td>Manchester City</td>\n      <td>28</td>\n      <td>33</td>\n      <td>29</td>\n      <td>2578</td>\n      <td>28.6</td>\n      <td>6</td>\n      <td>9</td>\n      <td>...</td>\n      <td>2023/2024</td>\n      <td>3.7</td>\n      <td>3.7</td>\n      <td>7.6</td>\n      <td>11.3</td>\n      <td>140</td>\n      <td>177</td>\n      <td>260</td>\n      <td>0</td>\n      <td>24.651724</td>\n    </tr>\n    <tr>\n      <th>230</th>\n      <td>Bukayo Saka</td>\n      <td>FW,MF</td>\n      <td>Arsenal</td>\n      <td>19</td>\n      <td>38</td>\n      <td>36</td>\n      <td>2978</td>\n      <td>33.1</td>\n      <td>11</td>\n      <td>7</td>\n      <td>...</td>\n      <td>2021/2022</td>\n      <td>10.3</td>\n      <td>8.7</td>\n      <td>7.5</td>\n      <td>16.3</td>\n      <td>140</td>\n      <td>101</td>\n      <td>388</td>\n      <td>0</td>\n      <td>24.836996</td>\n    </tr>\n    <tr>\n      <th>231</th>\n      <td>Bukayo Saka</td>\n      <td>FW</td>\n      <td>Arsenal</td>\n      <td>20</td>\n      <td>38</td>\n      <td>37</td>\n      <td>3181</td>\n      <td>35.3</td>\n      <td>14</td>\n      <td>11</td>\n      <td>...</td>\n      <td>2022/2023</td>\n      <td>11.2</td>\n      <td>9.1</td>\n      <td>8.5</td>\n      <td>17.6</td>\n      <td>179</td>\n      <td>109</td>\n      <td>520</td>\n      <td>0</td>\n      <td>22.676626</td>\n    </tr>\n    <tr>\n      <th>232</th>\n      <td>Bukayo Saka</td>\n      <td>FW</td>\n      <td>Arsenal</td>\n      <td>21</td>\n      <td>35</td>\n      <td>35</td>\n      <td>2919</td>\n      <td>32.4</td>\n      <td>16</td>\n      <td>9</td>\n      <td>...</td>\n      <td>2023/2024</td>\n      <td>15.5</td>\n      <td>10.8</td>\n      <td>10.5</td>\n      <td>21.2</td>\n      <td>155</td>\n      <td>126</td>\n      <td>508</td>\n      <td>0</td>\n      <td>24.651724</td>\n    </tr>\n    <tr>\n      <th>237</th>\n      <td>Callum Hudson-Odoi</td>\n      <td>FW,MF</td>\n      <td>Nott'ham Forest</td>\n      <td>22</td>\n      <td>29</td>\n      <td>20</td>\n      <td>1854</td>\n      <td>20.6</td>\n      <td>8</td>\n      <td>1</td>\n      <td>...</td>\n      <td>2023/2024</td>\n      <td>2.7</td>\n      <td>2.7</td>\n      <td>2.8</td>\n      <td>5.5</td>\n      <td>111</td>\n      <td>58</td>\n      <td>171</td>\n      <td>0</td>\n      <td>24.651724</td>\n    </tr>\n    <tr>\n      <th>280</th>\n      <td>Chiedozie Ogbene</td>\n      <td>MF,DF</td>\n      <td>Luton Town</td>\n      <td>26</td>\n      <td>30</td>\n      <td>20</td>\n      <td>1995</td>\n      <td>22.2</td>\n      <td>4</td>\n      <td>1</td>\n      <td>...</td>\n      <td>2023/2024</td>\n      <td>4.2</td>\n      <td>4.2</td>\n      <td>3.1</td>\n      <td>7.4</td>\n      <td>127</td>\n      <td>53</td>\n      <td>150</td>\n      <td>0</td>\n      <td>24.651724</td>\n    </tr>\n    <tr>\n      <th>314</th>\n      <td>Cole Palmer</td>\n      <td>FW,MF</td>\n      <td>Chelsea</td>\n      <td>21</td>\n      <td>33</td>\n      <td>29</td>\n      <td>2607</td>\n      <td>29.0</td>\n      <td>22</td>\n      <td>11</td>\n      <td>...</td>\n      <td>2023/2024</td>\n      <td>18.2</td>\n      <td>11.1</td>\n      <td>11.1</td>\n      <td>22.2</td>\n      <td>117</td>\n      <td>197</td>\n      <td>195</td>\n      <td>0</td>\n      <td>24.651724</td>\n    </tr>\n    <tr>\n      <th>407</th>\n      <td>Declan Rice</td>\n      <td>MF</td>\n      <td>West Ham</td>\n      <td>22</td>\n      <td>36</td>\n      <td>35</td>\n      <td>3179</td>\n      <td>35.3</td>\n      <td>1</td>\n      <td>4</td>\n      <td>...</td>\n      <td>2021/2022</td>\n      <td>1.1</td>\n      <td>1.1</td>\n      <td>1.7</td>\n      <td>2.8</td>\n      <td>104</td>\n      <td>256</td>\n      <td>44</td>\n      <td>0</td>\n      <td>24.836996</td>\n    </tr>\n    <tr>\n      <th>413</th>\n      <td>Dejan Kulusevski</td>\n      <td>FW,MF</td>\n      <td>Tottenham</td>\n      <td>23</td>\n      <td>36</td>\n      <td>31</td>\n      <td>2762</td>\n      <td>30.7</td>\n      <td>8</td>\n      <td>3</td>\n      <td>...</td>\n      <td>2023/2024</td>\n      <td>4.7</td>\n      <td>4.7</td>\n      <td>7.7</td>\n      <td>12.4</td>\n      <td>151</td>\n      <td>144</td>\n      <td>388</td>\n      <td>0</td>\n      <td>24.651724</td>\n    </tr>\n    <tr>\n      <th>570</th>\n      <td>Gabriel Martinelli</td>\n      <td>FW</td>\n      <td>Arsenal</td>\n      <td>21</td>\n      <td>36</td>\n      <td>34</td>\n      <td>2789</td>\n      <td>31.0</td>\n      <td>15</td>\n      <td>5</td>\n      <td>...</td>\n      <td>2022/2023</td>\n      <td>9.1</td>\n      <td>9.1</td>\n      <td>9.1</td>\n      <td>18.2</td>\n      <td>124</td>\n      <td>94</td>\n      <td>350</td>\n      <td>0</td>\n      <td>22.676626</td>\n    </tr>\n    <tr>\n      <th>571</th>\n      <td>Gabriel Martinelli</td>\n      <td>FW</td>\n      <td>Arsenal</td>\n      <td>22</td>\n      <td>35</td>\n      <td>24</td>\n      <td>2019</td>\n      <td>22.4</td>\n      <td>6</td>\n      <td>4</td>\n      <td>...</td>\n      <td>2023/2024</td>\n      <td>6.8</td>\n      <td>6.8</td>\n      <td>6.1</td>\n      <td>12.9</td>\n      <td>127</td>\n      <td>65</td>\n      <td>345</td>\n      <td>0</td>\n      <td>24.651724</td>\n    </tr>\n    <tr>\n      <th>615</th>\n      <td>Harvey Barnes</td>\n      <td>FW,MF</td>\n      <td>Leicester City</td>\n      <td>23</td>\n      <td>32</td>\n      <td>24</td>\n      <td>2101</td>\n      <td>23.3</td>\n      <td>6</td>\n      <td>10</td>\n      <td>...</td>\n      <td>2021/2022</td>\n      <td>5.6</td>\n      <td>5.6</td>\n      <td>4.6</td>\n      <td>10.2</td>\n      <td>107</td>\n      <td>59</td>\n      <td>237</td>\n      <td>0</td>\n      <td>24.836996</td>\n    </tr>\n    <tr>\n      <th>666</th>\n      <td>Jack Grealish</td>\n      <td>FW</td>\n      <td>Manchester City</td>\n      <td>25</td>\n      <td>26</td>\n      <td>22</td>\n      <td>1914</td>\n      <td>21.3</td>\n      <td>3</td>\n      <td>3</td>\n      <td>...</td>\n      <td>2021/2022</td>\n      <td>5.3</td>\n      <td>5.3</td>\n      <td>6.0</td>\n      <td>11.3</td>\n      <td>153</td>\n      <td>100</td>\n      <td>267</td>\n      <td>0</td>\n      <td>24.836996</td>\n    </tr>\n    <tr>\n      <th>667</th>\n      <td>Jack Grealish</td>\n      <td>FW</td>\n      <td>Manchester City</td>\n      <td>26</td>\n      <td>28</td>\n      <td>23</td>\n      <td>2055</td>\n      <td>22.8</td>\n      <td>5</td>\n      <td>7</td>\n      <td>...</td>\n      <td>2022/2023</td>\n      <td>4.6</td>\n      <td>4.6</td>\n      <td>7.1</td>\n      <td>11.7</td>\n      <td>143</td>\n      <td>100</td>\n      <td>310</td>\n      <td>0</td>\n      <td>22.676626</td>\n    </tr>\n    <tr>\n      <th>669</th>\n      <td>Jack Harrison</td>\n      <td>FW,MF</td>\n      <td>Leeds United</td>\n      <td>24</td>\n      <td>35</td>\n      <td>32</td>\n      <td>2639</td>\n      <td>29.3</td>\n      <td>8</td>\n      <td>1</td>\n      <td>...</td>\n      <td>2021/2022</td>\n      <td>4.4</td>\n      <td>4.4</td>\n      <td>3.2</td>\n      <td>7.6</td>\n      <td>120</td>\n      <td>89</td>\n      <td>234</td>\n      <td>0</td>\n      <td>24.836996</td>\n    </tr>\n    <tr>\n      <th>670</th>\n      <td>Jack Harrison</td>\n      <td>FW,MF</td>\n      <td>Leeds United</td>\n      <td>25</td>\n      <td>36</td>\n      <td>34</td>\n      <td>2708</td>\n      <td>30.1</td>\n      <td>5</td>\n      <td>7</td>\n      <td>...</td>\n      <td>2022/2023</td>\n      <td>4.7</td>\n      <td>4.7</td>\n      <td>5.1</td>\n      <td>9.8</td>\n      <td>103</td>\n      <td>103</td>\n      <td>255</td>\n      <td>0</td>\n      <td>22.676626</td>\n    </tr>\n    <tr>\n      <th>689</th>\n      <td>Jadon Sancho</td>\n      <td>FW,MF</td>\n      <td>Manchester Utd</td>\n      <td>21</td>\n      <td>29</td>\n      <td>20</td>\n      <td>1900</td>\n      <td>21.1</td>\n      <td>3</td>\n      <td>3</td>\n      <td>...</td>\n      <td>2021/2022</td>\n      <td>3.6</td>\n      <td>3.6</td>\n      <td>4.1</td>\n      <td>7.7</td>\n      <td>111</td>\n      <td>88</td>\n      <td>222</td>\n      <td>0</td>\n      <td>24.836996</td>\n    </tr>\n    <tr>\n      <th>750</th>\n      <td>Jarrod Bowen</td>\n      <td>FW,MF</td>\n      <td>West Ham</td>\n      <td>25</td>\n      <td>38</td>\n      <td>36</td>\n      <td>3233</td>\n      <td>35.9</td>\n      <td>6</td>\n      <td>5</td>\n      <td>...</td>\n      <td>2022/2023</td>\n      <td>8.9</td>\n      <td>7.8</td>\n      <td>7.4</td>\n      <td>15.2</td>\n      <td>101</td>\n      <td>72</td>\n      <td>213</td>\n      <td>0</td>\n      <td>22.676626</td>\n    </tr>\n    <tr>\n      <th>777</th>\n      <td>Jeremy Doku</td>\n      <td>FW,MF</td>\n      <td>Manchester City</td>\n      <td>21</td>\n      <td>29</td>\n      <td>18</td>\n      <td>1595</td>\n      <td>17.7</td>\n      <td>3</td>\n      <td>8</td>\n      <td>...</td>\n      <td>2023/2024</td>\n      <td>2.5</td>\n      <td>2.5</td>\n      <td>4.6</td>\n      <td>7.1</td>\n      <td>218</td>\n      <td>57</td>\n      <td>295</td>\n      <td>0</td>\n      <td>24.651724</td>\n    </tr>\n    <tr>\n      <th>865</th>\n      <td>João Cancelo</td>\n      <td>DF</td>\n      <td>Manchester City</td>\n      <td>27</td>\n      <td>36</td>\n      <td>36</td>\n      <td>3227</td>\n      <td>35.9</td>\n      <td>1</td>\n      <td>7</td>\n      <td>...</td>\n      <td>2021/2022</td>\n      <td>4.0</td>\n      <td>4.0</td>\n      <td>5.4</td>\n      <td>9.3</td>\n      <td>125</td>\n      <td>357</td>\n      <td>270</td>\n      <td>0</td>\n      <td>24.836996</td>\n    </tr>\n    <tr>\n      <th>912</th>\n      <td>Kaoru Mitoma</td>\n      <td>FW,MF</td>\n      <td>Brighton</td>\n      <td>25</td>\n      <td>33</td>\n      <td>24</td>\n      <td>2318</td>\n      <td>25.8</td>\n      <td>7</td>\n      <td>5</td>\n      <td>...</td>\n      <td>2022/2023</td>\n      <td>8.1</td>\n      <td>8.1</td>\n      <td>6.4</td>\n      <td>14.5</td>\n      <td>143</td>\n      <td>90</td>\n      <td>260</td>\n      <td>0</td>\n      <td>22.676626</td>\n    </tr>\n    <tr>\n      <th>913</th>\n      <td>Kaoru Mitoma</td>\n      <td>FW</td>\n      <td>Brighton</td>\n      <td>26</td>\n      <td>19</td>\n      <td>15</td>\n      <td>1486</td>\n      <td>16.5</td>\n      <td>3</td>\n      <td>4</td>\n      <td>...</td>\n      <td>2023/2024</td>\n      <td>3.5</td>\n      <td>3.5</td>\n      <td>2.7</td>\n      <td>6.2</td>\n      <td>121</td>\n      <td>64</td>\n      <td>239</td>\n      <td>0</td>\n      <td>24.651724</td>\n    </tr>\n    <tr>\n      <th>967</th>\n      <td>Kyle Walker-Peters</td>\n      <td>DF</td>\n      <td>Southampton</td>\n      <td>24</td>\n      <td>32</td>\n      <td>29</td>\n      <td>2633</td>\n      <td>29.3</td>\n      <td>1</td>\n      <td>2</td>\n      <td>...</td>\n      <td>2021/2022</td>\n      <td>1.1</td>\n      <td>1.1</td>\n      <td>2.7</td>\n      <td>3.8</td>\n      <td>134</td>\n      <td>147</td>\n      <td>165</td>\n      <td>0</td>\n      <td>24.836996</td>\n    </tr>\n    <tr>\n      <th>968</th>\n      <td>Kyle Walker-Peters</td>\n      <td>DF</td>\n      <td>Southampton</td>\n      <td>25</td>\n      <td>31</td>\n      <td>30</td>\n      <td>2650</td>\n      <td>29.4</td>\n      <td>1</td>\n      <td>0</td>\n      <td>...</td>\n      <td>2022/2023</td>\n      <td>1.0</td>\n      <td>1.0</td>\n      <td>1.4</td>\n      <td>2.5</td>\n      <td>102</td>\n      <td>97</td>\n      <td>114</td>\n      <td>0</td>\n      <td>22.676626</td>\n    </tr>\n    <tr>\n      <th>981</th>\n      <td>Leon Bailey</td>\n      <td>MF,FW</td>\n      <td>Aston Villa</td>\n      <td>25</td>\n      <td>35</td>\n      <td>22</td>\n      <td>2068</td>\n      <td>23.0</td>\n      <td>10</td>\n      <td>9</td>\n      <td>...</td>\n      <td>2023/2024</td>\n      <td>6.3</td>\n      <td>6.3</td>\n      <td>9.2</td>\n      <td>15.5</td>\n      <td>102</td>\n      <td>82</td>\n      <td>226</td>\n      <td>0</td>\n      <td>24.651724</td>\n    </tr>\n    <tr>\n      <th>1024</th>\n      <td>Luis Díaz</td>\n      <td>FW</td>\n      <td>Liverpool</td>\n      <td>26</td>\n      <td>37</td>\n      <td>32</td>\n      <td>2629</td>\n      <td>29.2</td>\n      <td>8</td>\n      <td>5</td>\n      <td>...</td>\n      <td>2023/2024</td>\n      <td>11.9</td>\n      <td>11.9</td>\n      <td>5.7</td>\n      <td>17.5</td>\n      <td>137</td>\n      <td>113</td>\n      <td>302</td>\n      <td>0</td>\n      <td>24.651724</td>\n    </tr>\n    <tr>\n      <th>1064</th>\n      <td>Marc Cucurella</td>\n      <td>DF</td>\n      <td>Brighton</td>\n      <td>23</td>\n      <td>35</td>\n      <td>35</td>\n      <td>3089</td>\n      <td>34.3</td>\n      <td>1</td>\n      <td>1</td>\n      <td>...</td>\n      <td>2021/2022</td>\n      <td>0.7</td>\n      <td>0.7</td>\n      <td>2.7</td>\n      <td>3.4</td>\n      <td>104</td>\n      <td>191</td>\n      <td>208</td>\n      <td>0</td>\n      <td>24.836996</td>\n    </tr>\n    <tr>\n      <th>1113</th>\n      <td>Matheus Cunha</td>\n      <td>FW,MF</td>\n      <td>Wolves</td>\n      <td>24</td>\n      <td>32</td>\n      <td>29</td>\n      <td>2440</td>\n      <td>27.1</td>\n      <td>12</td>\n      <td>7</td>\n      <td>...</td>\n      <td>2023/2024</td>\n      <td>9.5</td>\n      <td>8.7</td>\n      <td>3.2</td>\n      <td>11.9</td>\n      <td>107</td>\n      <td>87</td>\n      <td>139</td>\n      <td>0</td>\n      <td>24.651724</td>\n    </tr>\n    <tr>\n      <th>1162</th>\n      <td>Michael Olise</td>\n      <td>FW,MF</td>\n      <td>Crystal Palace</td>\n      <td>20</td>\n      <td>37</td>\n      <td>31</td>\n      <td>2749</td>\n      <td>30.5</td>\n      <td>2</td>\n      <td>11</td>\n      <td>...</td>\n      <td>2022/2023</td>\n      <td>2.9</td>\n      <td>2.9</td>\n      <td>8.7</td>\n      <td>11.6</td>\n      <td>111</td>\n      <td>133</td>\n      <td>243</td>\n      <td>0</td>\n      <td>22.676626</td>\n    </tr>\n    <tr>\n      <th>1183</th>\n      <td>Mohamed Salah</td>\n      <td>FW</td>\n      <td>Liverpool</td>\n      <td>29</td>\n      <td>35</td>\n      <td>30</td>\n      <td>2762</td>\n      <td>30.7</td>\n      <td>23</td>\n      <td>13</td>\n      <td>...</td>\n      <td>2021/2022</td>\n      <td>22.7</td>\n      <td>17.8</td>\n      <td>10.0</td>\n      <td>27.8</td>\n      <td>125</td>\n      <td>122</td>\n      <td>451</td>\n      <td>0</td>\n      <td>24.836996</td>\n    </tr>\n    <tr>\n      <th>1184</th>\n      <td>Mohamed Salah</td>\n      <td>FW</td>\n      <td>Liverpool</td>\n      <td>30</td>\n      <td>38</td>\n      <td>37</td>\n      <td>3290</td>\n      <td>36.6</td>\n      <td>19</td>\n      <td>12</td>\n      <td>...</td>\n      <td>2022/2023</td>\n      <td>21.7</td>\n      <td>18.5</td>\n      <td>7.7</td>\n      <td>26.2</td>\n      <td>120</td>\n      <td>149</td>\n      <td>421</td>\n      <td>0</td>\n      <td>22.676626</td>\n    </tr>\n    <tr>\n      <th>1186</th>\n      <td>Mohammed Kudus</td>\n      <td>FW,MF</td>\n      <td>West Ham</td>\n      <td>22</td>\n      <td>33</td>\n      <td>27</td>\n      <td>2484</td>\n      <td>27.6</td>\n      <td>8</td>\n      <td>6</td>\n      <td>...</td>\n      <td>2023/2024</td>\n      <td>5.1</td>\n      <td>5.1</td>\n      <td>3.5</td>\n      <td>8.6</td>\n      <td>117</td>\n      <td>80</td>\n      <td>216</td>\n      <td>0</td>\n      <td>24.651724</td>\n    </tr>\n    <tr>\n      <th>1267</th>\n      <td>Nélson Semedo</td>\n      <td>DF,MF</td>\n      <td>Wolves</td>\n      <td>29</td>\n      <td>36</td>\n      <td>36</td>\n      <td>3084</td>\n      <td>34.3</td>\n      <td>0</td>\n      <td>1</td>\n      <td>...</td>\n      <td>2023/2024</td>\n      <td>1.3</td>\n      <td>1.3</td>\n      <td>1.7</td>\n      <td>3.0</td>\n      <td>103</td>\n      <td>138</td>\n      <td>150</td>\n      <td>0</td>\n      <td>24.651724</td>\n    </tr>\n    <tr>\n      <th>1349</th>\n      <td>Raheem Sterling</td>\n      <td>FW</td>\n      <td>Manchester City</td>\n      <td>26</td>\n      <td>30</td>\n      <td>23</td>\n      <td>2128</td>\n      <td>23.6</td>\n      <td>13</td>\n      <td>5</td>\n      <td>...</td>\n      <td>2021/2022</td>\n      <td>14.0</td>\n      <td>11.5</td>\n      <td>5.5</td>\n      <td>17.0</td>\n      <td>108</td>\n      <td>65</td>\n      <td>317</td>\n      <td>0</td>\n      <td>24.836996</td>\n    </tr>\n    <tr>\n      <th>1351</th>\n      <td>Raheem Sterling</td>\n      <td>FW,MF</td>\n      <td>Chelsea</td>\n      <td>28</td>\n      <td>31</td>\n      <td>22</td>\n      <td>1978</td>\n      <td>22.0</td>\n      <td>8</td>\n      <td>4</td>\n      <td>...</td>\n      <td>2023/2024</td>\n      <td>6.5</td>\n      <td>6.5</td>\n      <td>4.5</td>\n      <td>11.0</td>\n      <td>120</td>\n      <td>78</td>\n      <td>242</td>\n      <td>0</td>\n      <td>24.651724</td>\n    </tr>\n    <tr>\n      <th>1441</th>\n      <td>Sadio Mané</td>\n      <td>FW</td>\n      <td>Liverpool</td>\n      <td>29</td>\n      <td>34</td>\n      <td>32</td>\n      <td>2819</td>\n      <td>31.3</td>\n      <td>16</td>\n      <td>2</td>\n      <td>...</td>\n      <td>2021/2022</td>\n      <td>17.2</td>\n      <td>17.2</td>\n      <td>5.2</td>\n      <td>22.5</td>\n      <td>105</td>\n      <td>130</td>\n      <td>305</td>\n      <td>0</td>\n      <td>24.836996</td>\n    </tr>\n    <tr>\n      <th>1464</th>\n      <td>Saïd Benrahma</td>\n      <td>FW,MF</td>\n      <td>West Ham</td>\n      <td>26</td>\n      <td>35</td>\n      <td>22</td>\n      <td>2069</td>\n      <td>23.0</td>\n      <td>6</td>\n      <td>3</td>\n      <td>...</td>\n      <td>2022/2023</td>\n      <td>7.0</td>\n      <td>3.9</td>\n      <td>4.5</td>\n      <td>8.4</td>\n      <td>109</td>\n      <td>82</td>\n      <td>237</td>\n      <td>0</td>\n      <td>22.676626</td>\n    </tr>\n    <tr>\n      <th>1496</th>\n      <td>Simon Adingra</td>\n      <td>FW</td>\n      <td>Brighton</td>\n      <td>21</td>\n      <td>31</td>\n      <td>25</td>\n      <td>2222</td>\n      <td>24.7</td>\n      <td>6</td>\n      <td>1</td>\n      <td>...</td>\n      <td>2023/2024</td>\n      <td>4.3</td>\n      <td>4.3</td>\n      <td>3.7</td>\n      <td>8.0</td>\n      <td>111</td>\n      <td>50</td>\n      <td>278</td>\n      <td>0</td>\n      <td>24.651724</td>\n    </tr>\n    <tr>\n      <th>1500</th>\n      <td>Solly March</td>\n      <td>FW,DF</td>\n      <td>Brighton</td>\n      <td>28</td>\n      <td>33</td>\n      <td>31</td>\n      <td>2715</td>\n      <td>30.2</td>\n      <td>7</td>\n      <td>7</td>\n      <td>...</td>\n      <td>2022/2023</td>\n      <td>8.1</td>\n      <td>8.1</td>\n      <td>8.4</td>\n      <td>16.5</td>\n      <td>110</td>\n      <td>135</td>\n      <td>357</td>\n      <td>0</td>\n      <td>22.676626</td>\n    </tr>\n    <tr>\n      <th>1502</th>\n      <td>Son Heung-Min</td>\n      <td>MF,FW</td>\n      <td>Tottenham</td>\n      <td>29</td>\n      <td>35</td>\n      <td>35</td>\n      <td>3006</td>\n      <td>33.4</td>\n      <td>23</td>\n      <td>7</td>\n      <td>...</td>\n      <td>2021/2022</td>\n      <td>15.9</td>\n      <td>15.9</td>\n      <td>7.5</td>\n      <td>23.4</td>\n      <td>116</td>\n      <td>90</td>\n      <td>242</td>\n      <td>0</td>\n      <td>24.836996</td>\n    </tr>\n    <tr>\n      <th>1504</th>\n      <td>Son Heung-Min</td>\n      <td>FW</td>\n      <td>Tottenham</td>\n      <td>31</td>\n      <td>35</td>\n      <td>34</td>\n      <td>2934</td>\n      <td>32.6</td>\n      <td>17</td>\n      <td>10</td>\n      <td>...</td>\n      <td>2023/2024</td>\n      <td>12.0</td>\n      <td>10.4</td>\n      <td>11.8</td>\n      <td>22.2</td>\n      <td>119</td>\n      <td>139</td>\n      <td>325</td>\n      <td>0</td>\n      <td>24.651724</td>\n    </tr>\n    <tr>\n      <th>1643</th>\n      <td>Wilfried Zaha</td>\n      <td>FW</td>\n      <td>Crystal Palace</td>\n      <td>28</td>\n      <td>33</td>\n      <td>31</td>\n      <td>2760</td>\n      <td>30.7</td>\n      <td>14</td>\n      <td>1</td>\n      <td>...</td>\n      <td>2021/2022</td>\n      <td>9.5</td>\n      <td>3.9</td>\n      <td>5.1</td>\n      <td>9.0</td>\n      <td>113</td>\n      <td>121</td>\n      <td>265</td>\n      <td>0</td>\n      <td>24.836996</td>\n    </tr>\n    <tr>\n      <th>1660</th>\n      <td>Wilson Odobert</td>\n      <td>MF,FW</td>\n      <td>Burnley</td>\n      <td>18</td>\n      <td>29</td>\n      <td>25</td>\n      <td>2098</td>\n      <td>23.3</td>\n      <td>3</td>\n      <td>2</td>\n      <td>...</td>\n      <td>2023/2024</td>\n      <td>2.8</td>\n      <td>2.8</td>\n      <td>3.3</td>\n      <td>6.1</td>\n      <td>102</td>\n      <td>58</td>\n      <td>123</td>\n      <td>0</td>\n      <td>24.651724</td>\n    </tr>\n  </tbody>\n</table>\n<p>49 rows × 24 columns</p>\n</div>"
     },
     "execution_count": 163,
     "metadata": {},
     "output_type": "execute_result"
    }
   ],
   "source": [
    "prgC_players"
   ],
   "metadata": {
    "collapsed": false,
    "ExecuteTime": {
     "end_time": "2024-06-07T11:54:37.548227Z",
     "start_time": "2024-06-07T11:54:37.355778300Z"
    }
   }
  },
  {
   "cell_type": "code",
   "execution_count": 164,
   "outputs": [],
   "source": [
    "avg_prgR_list = []\n",
    "for season in three_seasons:\n",
    "    seasonal_stat = stats_df[stats_df['season'] == season]\n",
    "    avg_prgR = seasonal_stat['PrgR'].mean()\n",
    "    avg_prgR_list.append(avg_prgR)"
   ],
   "metadata": {
    "collapsed": false,
    "ExecuteTime": {
     "end_time": "2024-06-07T11:54:39.175367500Z",
     "start_time": "2024-06-07T11:54:39.129451800Z"
    }
   }
  },
  {
   "cell_type": "code",
   "execution_count": 165,
   "outputs": [],
   "source": [
    "avg_prgR_df = pd.DataFrame({'season': three_seasons, 'Avg_PrgR': avg_prgR_list})\n",
    "\n",
    "prgR_df = pd.merge(stats_df, avg_prgR_df, on='season')\n",
    "prgR_players = prgR_df[prgR_df['PrgR'] > prgR_df['Avg_PrgR']]"
   ],
   "metadata": {
    "collapsed": false,
    "ExecuteTime": {
     "end_time": "2024-06-07T11:54:39.261831100Z",
     "start_time": "2024-06-07T11:54:39.177371100Z"
    }
   }
  },
  {
   "cell_type": "code",
   "execution_count": 255,
   "outputs": [
    {
     "data": {
      "text/plain": "520"
     },
     "execution_count": 255,
     "metadata": {},
     "output_type": "execute_result"
    }
   ],
   "source": [
    "prgR_players['PrgR'].max()"
   ],
   "metadata": {
    "collapsed": false,
    "ExecuteTime": {
     "end_time": "2024-06-07T13:39:22.312675800Z",
     "start_time": "2024-06-07T13:39:22.287486400Z"
    }
   }
  },
  {
   "cell_type": "code",
   "execution_count": 253,
   "outputs": [],
   "source": [
    "prgR_players = prgR_players[prgR_players['PrgR'] >= 200]"
   ],
   "metadata": {
    "collapsed": false,
    "ExecuteTime": {
     "end_time": "2024-06-07T13:39:02.049907200Z",
     "start_time": "2024-06-07T13:39:01.943586100Z"
    }
   }
  },
  {
   "cell_type": "code",
   "execution_count": 254,
   "outputs": [
    {
     "data": {
      "text/plain": "                  Player    Pos            Squad  Age  MP  Starts   Min   90s  \\\n44    Alejandro Garnacho     FW   Manchester Utd   19  36      30  2565  28.5   \n189       Bernardo Silva  MF,FW  Manchester City   26  35      33  2857  31.7   \n191       Bernardo Silva  MF,FW  Manchester City   28  33      29  2578  28.6   \n216      Brennan Johnson     FW        Tottenham   22  32      23  2085  23.2   \n227         Bryan Mbeumo     FW        Brentford   21  35      34  2905  32.3   \n230          Bukayo Saka  FW,MF          Arsenal   19  38      36  2978  33.1   \n231          Bukayo Saka     FW          Arsenal   20  38      37  3181  35.3   \n232          Bukayo Saka     FW          Arsenal   21  35      35  2919  32.4   \n413     Dejan Kulusevski  FW,MF        Tottenham   23  36      31  2762  30.7   \n570   Gabriel Martinelli     FW          Arsenal   21  36      34  2789  31.0   \n571   Gabriel Martinelli     FW          Arsenal   22  35      24  2019  22.4   \n616        Harvey Barnes  FW,MF   Leicester City   24  34      32  2711  30.1   \n666        Jack Grealish     FW  Manchester City   25  26      22  1914  21.3   \n667        Jack Grealish     FW  Manchester City   26  28      23  2055  22.8   \n670        Jack Harrison  FW,MF     Leeds United   25  36      34  2708  30.1   \n777          Jeremy Doku  FW,MF  Manchester City   21  29      18  1595  17.7   \n865         João Cancelo     DF  Manchester City   27  36      36  3227  35.9   \n912         Kaoru Mitoma  FW,MF         Brighton   25  33      24  2318  25.8   \n1024           Luis Díaz     FW        Liverpool   26  37      32  2629  29.2   \n1103         Mason Mount     MF          Chelsea   22  32      27  2363  26.3   \n1169      Miguel Almirón     FW    Newcastle Utd   28  34      29  2491  27.7   \n1183       Mohamed Salah     FW        Liverpool   29  35      30  2762  30.7   \n1184       Mohamed Salah     FW        Liverpool   30  38      37  3290  36.6   \n1185       Mohamed Salah     FW        Liverpool   31  32      28  2534  28.2   \n1331          Phil Foden     FW  Manchester City   22  32      22  1842  20.5   \n1332          Phil Foden  FW,MF  Manchester City   23  35      33  2857  31.7   \n1349     Raheem Sterling     FW  Manchester City   26  30      23  2128  23.6   \n1355            Raphinha  FW,MF     Leeds United   24  35      34  2915  32.4   \n1441          Sadio Mané     FW        Liverpool   29  34      32  2819  31.3   \n1496       Simon Adingra     FW         Brighton   21  31      25  2222  24.7   \n1500         Solly March  FW,DF         Brighton   28  33      31  2715  30.2   \n1504       Son Heung-Min     FW        Tottenham   31  35      34  2934  32.6   \n1643       Wilfried Zaha     FW   Crystal Palace   28  33      31  2760  30.7   \n\n      Gls  Ast  ...     season    xG  npxG   xAG npxG+xAG  PrgC  PrgP  PrgR  \\\n44      7    4  ...  2023/2024   8.4   8.3   5.1     13.4   178    62   281   \n189     8    4  ...  2021/2022   6.7   6.7   6.5     13.2   146   170   277   \n191     6    9  ...  2023/2024   3.7   3.7   7.6     11.3   140   177   260   \n216     5   10  ...  2023/2024  10.3  10.3   8.1     18.3    97    72   293   \n227     4    7  ...  2021/2022   9.3   8.5   3.7     12.2    81    56   273   \n230    11    7  ...  2021/2022  10.3   8.7   7.5     16.3   140   101   388   \n231    14   11  ...  2022/2023  11.2   9.1   8.5     17.6   179   109   520   \n232    16    9  ...  2023/2024  15.5  10.8  10.5     21.2   155   126   508   \n413     8    3  ...  2023/2024   4.7   4.7   7.7     12.4   151   144   388   \n570    15    5  ...  2022/2023   9.1   9.1   9.1     18.2   124    94   350   \n571     6    4  ...  2023/2024   6.8   6.8   6.1     12.9   127    65   345   \n616    13    1  ...  2022/2023   8.9   8.9   3.1     12.0   100    79   257   \n666     3    3  ...  2021/2022   5.3   5.3   6.0     11.3   153   100   267   \n667     5    7  ...  2022/2023   4.6   4.6   7.1     11.7   143   100   310   \n670     5    7  ...  2022/2023   4.7   4.7   5.1      9.8   103   103   255   \n777     3    8  ...  2023/2024   2.5   2.5   4.6      7.1   218    57   295   \n865     1    7  ...  2021/2022   4.0   4.0   5.4      9.3   125   357   270   \n912     7    5  ...  2022/2023   8.1   8.1   6.4     14.5   143    90   260   \n1024    8    5  ...  2023/2024  11.9  11.9   5.7     17.5   137   113   302   \n1103   11   10  ...  2021/2022   8.0   7.2   6.7     14.0    92   164   276   \n1169   11    2  ...  2022/2023   8.0   8.0   3.2     11.1    77   124   264   \n1183   23   13  ...  2021/2022  22.7  17.8  10.0     27.8   125   122   451   \n1184   19   12  ...  2022/2023  21.7  18.5   7.7     26.2   120   149   421   \n1185   18   10  ...  2023/2024  21.2  15.5  11.8     27.3    98   147   341   \n1331   11    6  ...  2022/2023   5.9   5.9   4.7     10.6    68    88   275   \n1332   19    8  ...  2023/2024  10.3  10.3   8.4     18.7    93   168   269   \n1349   13    5  ...  2021/2022  14.0  11.5   5.5     17.0   108    65   317   \n1355   11    3  ...  2021/2022  10.2   7.0   7.5     14.5    89   134   286   \n1441   16    2  ...  2021/2022  17.2  17.2   5.2     22.5   105   130   305   \n1496    6    1  ...  2023/2024   4.3   4.3   3.7      8.0   111    50   278   \n1500    7    7  ...  2022/2023   8.1   8.1   8.4     16.5   110   135   357   \n1504   17   10  ...  2023/2024  12.0  10.4  11.8     22.2   119   139   325   \n1643   14    1  ...  2021/2022   9.5   3.9   5.1      9.0   113   121   265   \n\n      poy_winner   Avg_PrgR  \n44             0  50.062069  \n189            0  51.842491  \n191            0  50.062069  \n216            0  50.062069  \n227            0  51.842491  \n230            0  51.842491  \n231            0  49.949033  \n232            0  50.062069  \n413            0  50.062069  \n570            0  49.949033  \n571            0  50.062069  \n616            0  49.949033  \n666            0  51.842491  \n667            0  49.949033  \n670            0  49.949033  \n777            0  50.062069  \n865            0  51.842491  \n912            0  49.949033  \n1024           0  50.062069  \n1103           0  51.842491  \n1169           0  49.949033  \n1183           0  51.842491  \n1184           0  49.949033  \n1185           0  50.062069  \n1331           0  49.949033  \n1332           1  50.062069  \n1349           0  51.842491  \n1355           0  51.842491  \n1441           0  51.842491  \n1496           0  50.062069  \n1500           0  49.949033  \n1504           0  50.062069  \n1643           0  51.842491  \n\n[33 rows x 24 columns]",
      "text/html": "<div>\n<style scoped>\n    .dataframe tbody tr th:only-of-type {\n        vertical-align: middle;\n    }\n\n    .dataframe tbody tr th {\n        vertical-align: top;\n    }\n\n    .dataframe thead th {\n        text-align: right;\n    }\n</style>\n<table border=\"1\" class=\"dataframe\">\n  <thead>\n    <tr style=\"text-align: right;\">\n      <th></th>\n      <th>Player</th>\n      <th>Pos</th>\n      <th>Squad</th>\n      <th>Age</th>\n      <th>MP</th>\n      <th>Starts</th>\n      <th>Min</th>\n      <th>90s</th>\n      <th>Gls</th>\n      <th>Ast</th>\n      <th>...</th>\n      <th>season</th>\n      <th>xG</th>\n      <th>npxG</th>\n      <th>xAG</th>\n      <th>npxG+xAG</th>\n      <th>PrgC</th>\n      <th>PrgP</th>\n      <th>PrgR</th>\n      <th>poy_winner</th>\n      <th>Avg_PrgR</th>\n    </tr>\n  </thead>\n  <tbody>\n    <tr>\n      <th>44</th>\n      <td>Alejandro Garnacho</td>\n      <td>FW</td>\n      <td>Manchester Utd</td>\n      <td>19</td>\n      <td>36</td>\n      <td>30</td>\n      <td>2565</td>\n      <td>28.5</td>\n      <td>7</td>\n      <td>4</td>\n      <td>...</td>\n      <td>2023/2024</td>\n      <td>8.4</td>\n      <td>8.3</td>\n      <td>5.1</td>\n      <td>13.4</td>\n      <td>178</td>\n      <td>62</td>\n      <td>281</td>\n      <td>0</td>\n      <td>50.062069</td>\n    </tr>\n    <tr>\n      <th>189</th>\n      <td>Bernardo Silva</td>\n      <td>MF,FW</td>\n      <td>Manchester City</td>\n      <td>26</td>\n      <td>35</td>\n      <td>33</td>\n      <td>2857</td>\n      <td>31.7</td>\n      <td>8</td>\n      <td>4</td>\n      <td>...</td>\n      <td>2021/2022</td>\n      <td>6.7</td>\n      <td>6.7</td>\n      <td>6.5</td>\n      <td>13.2</td>\n      <td>146</td>\n      <td>170</td>\n      <td>277</td>\n      <td>0</td>\n      <td>51.842491</td>\n    </tr>\n    <tr>\n      <th>191</th>\n      <td>Bernardo Silva</td>\n      <td>MF,FW</td>\n      <td>Manchester City</td>\n      <td>28</td>\n      <td>33</td>\n      <td>29</td>\n      <td>2578</td>\n      <td>28.6</td>\n      <td>6</td>\n      <td>9</td>\n      <td>...</td>\n      <td>2023/2024</td>\n      <td>3.7</td>\n      <td>3.7</td>\n      <td>7.6</td>\n      <td>11.3</td>\n      <td>140</td>\n      <td>177</td>\n      <td>260</td>\n      <td>0</td>\n      <td>50.062069</td>\n    </tr>\n    <tr>\n      <th>216</th>\n      <td>Brennan Johnson</td>\n      <td>FW</td>\n      <td>Tottenham</td>\n      <td>22</td>\n      <td>32</td>\n      <td>23</td>\n      <td>2085</td>\n      <td>23.2</td>\n      <td>5</td>\n      <td>10</td>\n      <td>...</td>\n      <td>2023/2024</td>\n      <td>10.3</td>\n      <td>10.3</td>\n      <td>8.1</td>\n      <td>18.3</td>\n      <td>97</td>\n      <td>72</td>\n      <td>293</td>\n      <td>0</td>\n      <td>50.062069</td>\n    </tr>\n    <tr>\n      <th>227</th>\n      <td>Bryan Mbeumo</td>\n      <td>FW</td>\n      <td>Brentford</td>\n      <td>21</td>\n      <td>35</td>\n      <td>34</td>\n      <td>2905</td>\n      <td>32.3</td>\n      <td>4</td>\n      <td>7</td>\n      <td>...</td>\n      <td>2021/2022</td>\n      <td>9.3</td>\n      <td>8.5</td>\n      <td>3.7</td>\n      <td>12.2</td>\n      <td>81</td>\n      <td>56</td>\n      <td>273</td>\n      <td>0</td>\n      <td>51.842491</td>\n    </tr>\n    <tr>\n      <th>230</th>\n      <td>Bukayo Saka</td>\n      <td>FW,MF</td>\n      <td>Arsenal</td>\n      <td>19</td>\n      <td>38</td>\n      <td>36</td>\n      <td>2978</td>\n      <td>33.1</td>\n      <td>11</td>\n      <td>7</td>\n      <td>...</td>\n      <td>2021/2022</td>\n      <td>10.3</td>\n      <td>8.7</td>\n      <td>7.5</td>\n      <td>16.3</td>\n      <td>140</td>\n      <td>101</td>\n      <td>388</td>\n      <td>0</td>\n      <td>51.842491</td>\n    </tr>\n    <tr>\n      <th>231</th>\n      <td>Bukayo Saka</td>\n      <td>FW</td>\n      <td>Arsenal</td>\n      <td>20</td>\n      <td>38</td>\n      <td>37</td>\n      <td>3181</td>\n      <td>35.3</td>\n      <td>14</td>\n      <td>11</td>\n      <td>...</td>\n      <td>2022/2023</td>\n      <td>11.2</td>\n      <td>9.1</td>\n      <td>8.5</td>\n      <td>17.6</td>\n      <td>179</td>\n      <td>109</td>\n      <td>520</td>\n      <td>0</td>\n      <td>49.949033</td>\n    </tr>\n    <tr>\n      <th>232</th>\n      <td>Bukayo Saka</td>\n      <td>FW</td>\n      <td>Arsenal</td>\n      <td>21</td>\n      <td>35</td>\n      <td>35</td>\n      <td>2919</td>\n      <td>32.4</td>\n      <td>16</td>\n      <td>9</td>\n      <td>...</td>\n      <td>2023/2024</td>\n      <td>15.5</td>\n      <td>10.8</td>\n      <td>10.5</td>\n      <td>21.2</td>\n      <td>155</td>\n      <td>126</td>\n      <td>508</td>\n      <td>0</td>\n      <td>50.062069</td>\n    </tr>\n    <tr>\n      <th>413</th>\n      <td>Dejan Kulusevski</td>\n      <td>FW,MF</td>\n      <td>Tottenham</td>\n      <td>23</td>\n      <td>36</td>\n      <td>31</td>\n      <td>2762</td>\n      <td>30.7</td>\n      <td>8</td>\n      <td>3</td>\n      <td>...</td>\n      <td>2023/2024</td>\n      <td>4.7</td>\n      <td>4.7</td>\n      <td>7.7</td>\n      <td>12.4</td>\n      <td>151</td>\n      <td>144</td>\n      <td>388</td>\n      <td>0</td>\n      <td>50.062069</td>\n    </tr>\n    <tr>\n      <th>570</th>\n      <td>Gabriel Martinelli</td>\n      <td>FW</td>\n      <td>Arsenal</td>\n      <td>21</td>\n      <td>36</td>\n      <td>34</td>\n      <td>2789</td>\n      <td>31.0</td>\n      <td>15</td>\n      <td>5</td>\n      <td>...</td>\n      <td>2022/2023</td>\n      <td>9.1</td>\n      <td>9.1</td>\n      <td>9.1</td>\n      <td>18.2</td>\n      <td>124</td>\n      <td>94</td>\n      <td>350</td>\n      <td>0</td>\n      <td>49.949033</td>\n    </tr>\n    <tr>\n      <th>571</th>\n      <td>Gabriel Martinelli</td>\n      <td>FW</td>\n      <td>Arsenal</td>\n      <td>22</td>\n      <td>35</td>\n      <td>24</td>\n      <td>2019</td>\n      <td>22.4</td>\n      <td>6</td>\n      <td>4</td>\n      <td>...</td>\n      <td>2023/2024</td>\n      <td>6.8</td>\n      <td>6.8</td>\n      <td>6.1</td>\n      <td>12.9</td>\n      <td>127</td>\n      <td>65</td>\n      <td>345</td>\n      <td>0</td>\n      <td>50.062069</td>\n    </tr>\n    <tr>\n      <th>616</th>\n      <td>Harvey Barnes</td>\n      <td>FW,MF</td>\n      <td>Leicester City</td>\n      <td>24</td>\n      <td>34</td>\n      <td>32</td>\n      <td>2711</td>\n      <td>30.1</td>\n      <td>13</td>\n      <td>1</td>\n      <td>...</td>\n      <td>2022/2023</td>\n      <td>8.9</td>\n      <td>8.9</td>\n      <td>3.1</td>\n      <td>12.0</td>\n      <td>100</td>\n      <td>79</td>\n      <td>257</td>\n      <td>0</td>\n      <td>49.949033</td>\n    </tr>\n    <tr>\n      <th>666</th>\n      <td>Jack Grealish</td>\n      <td>FW</td>\n      <td>Manchester City</td>\n      <td>25</td>\n      <td>26</td>\n      <td>22</td>\n      <td>1914</td>\n      <td>21.3</td>\n      <td>3</td>\n      <td>3</td>\n      <td>...</td>\n      <td>2021/2022</td>\n      <td>5.3</td>\n      <td>5.3</td>\n      <td>6.0</td>\n      <td>11.3</td>\n      <td>153</td>\n      <td>100</td>\n      <td>267</td>\n      <td>0</td>\n      <td>51.842491</td>\n    </tr>\n    <tr>\n      <th>667</th>\n      <td>Jack Grealish</td>\n      <td>FW</td>\n      <td>Manchester City</td>\n      <td>26</td>\n      <td>28</td>\n      <td>23</td>\n      <td>2055</td>\n      <td>22.8</td>\n      <td>5</td>\n      <td>7</td>\n      <td>...</td>\n      <td>2022/2023</td>\n      <td>4.6</td>\n      <td>4.6</td>\n      <td>7.1</td>\n      <td>11.7</td>\n      <td>143</td>\n      <td>100</td>\n      <td>310</td>\n      <td>0</td>\n      <td>49.949033</td>\n    </tr>\n    <tr>\n      <th>670</th>\n      <td>Jack Harrison</td>\n      <td>FW,MF</td>\n      <td>Leeds United</td>\n      <td>25</td>\n      <td>36</td>\n      <td>34</td>\n      <td>2708</td>\n      <td>30.1</td>\n      <td>5</td>\n      <td>7</td>\n      <td>...</td>\n      <td>2022/2023</td>\n      <td>4.7</td>\n      <td>4.7</td>\n      <td>5.1</td>\n      <td>9.8</td>\n      <td>103</td>\n      <td>103</td>\n      <td>255</td>\n      <td>0</td>\n      <td>49.949033</td>\n    </tr>\n    <tr>\n      <th>777</th>\n      <td>Jeremy Doku</td>\n      <td>FW,MF</td>\n      <td>Manchester City</td>\n      <td>21</td>\n      <td>29</td>\n      <td>18</td>\n      <td>1595</td>\n      <td>17.7</td>\n      <td>3</td>\n      <td>8</td>\n      <td>...</td>\n      <td>2023/2024</td>\n      <td>2.5</td>\n      <td>2.5</td>\n      <td>4.6</td>\n      <td>7.1</td>\n      <td>218</td>\n      <td>57</td>\n      <td>295</td>\n      <td>0</td>\n      <td>50.062069</td>\n    </tr>\n    <tr>\n      <th>865</th>\n      <td>João Cancelo</td>\n      <td>DF</td>\n      <td>Manchester City</td>\n      <td>27</td>\n      <td>36</td>\n      <td>36</td>\n      <td>3227</td>\n      <td>35.9</td>\n      <td>1</td>\n      <td>7</td>\n      <td>...</td>\n      <td>2021/2022</td>\n      <td>4.0</td>\n      <td>4.0</td>\n      <td>5.4</td>\n      <td>9.3</td>\n      <td>125</td>\n      <td>357</td>\n      <td>270</td>\n      <td>0</td>\n      <td>51.842491</td>\n    </tr>\n    <tr>\n      <th>912</th>\n      <td>Kaoru Mitoma</td>\n      <td>FW,MF</td>\n      <td>Brighton</td>\n      <td>25</td>\n      <td>33</td>\n      <td>24</td>\n      <td>2318</td>\n      <td>25.8</td>\n      <td>7</td>\n      <td>5</td>\n      <td>...</td>\n      <td>2022/2023</td>\n      <td>8.1</td>\n      <td>8.1</td>\n      <td>6.4</td>\n      <td>14.5</td>\n      <td>143</td>\n      <td>90</td>\n      <td>260</td>\n      <td>0</td>\n      <td>49.949033</td>\n    </tr>\n    <tr>\n      <th>1024</th>\n      <td>Luis Díaz</td>\n      <td>FW</td>\n      <td>Liverpool</td>\n      <td>26</td>\n      <td>37</td>\n      <td>32</td>\n      <td>2629</td>\n      <td>29.2</td>\n      <td>8</td>\n      <td>5</td>\n      <td>...</td>\n      <td>2023/2024</td>\n      <td>11.9</td>\n      <td>11.9</td>\n      <td>5.7</td>\n      <td>17.5</td>\n      <td>137</td>\n      <td>113</td>\n      <td>302</td>\n      <td>0</td>\n      <td>50.062069</td>\n    </tr>\n    <tr>\n      <th>1103</th>\n      <td>Mason Mount</td>\n      <td>MF</td>\n      <td>Chelsea</td>\n      <td>22</td>\n      <td>32</td>\n      <td>27</td>\n      <td>2363</td>\n      <td>26.3</td>\n      <td>11</td>\n      <td>10</td>\n      <td>...</td>\n      <td>2021/2022</td>\n      <td>8.0</td>\n      <td>7.2</td>\n      <td>6.7</td>\n      <td>14.0</td>\n      <td>92</td>\n      <td>164</td>\n      <td>276</td>\n      <td>0</td>\n      <td>51.842491</td>\n    </tr>\n    <tr>\n      <th>1169</th>\n      <td>Miguel Almirón</td>\n      <td>FW</td>\n      <td>Newcastle Utd</td>\n      <td>28</td>\n      <td>34</td>\n      <td>29</td>\n      <td>2491</td>\n      <td>27.7</td>\n      <td>11</td>\n      <td>2</td>\n      <td>...</td>\n      <td>2022/2023</td>\n      <td>8.0</td>\n      <td>8.0</td>\n      <td>3.2</td>\n      <td>11.1</td>\n      <td>77</td>\n      <td>124</td>\n      <td>264</td>\n      <td>0</td>\n      <td>49.949033</td>\n    </tr>\n    <tr>\n      <th>1183</th>\n      <td>Mohamed Salah</td>\n      <td>FW</td>\n      <td>Liverpool</td>\n      <td>29</td>\n      <td>35</td>\n      <td>30</td>\n      <td>2762</td>\n      <td>30.7</td>\n      <td>23</td>\n      <td>13</td>\n      <td>...</td>\n      <td>2021/2022</td>\n      <td>22.7</td>\n      <td>17.8</td>\n      <td>10.0</td>\n      <td>27.8</td>\n      <td>125</td>\n      <td>122</td>\n      <td>451</td>\n      <td>0</td>\n      <td>51.842491</td>\n    </tr>\n    <tr>\n      <th>1184</th>\n      <td>Mohamed Salah</td>\n      <td>FW</td>\n      <td>Liverpool</td>\n      <td>30</td>\n      <td>38</td>\n      <td>37</td>\n      <td>3290</td>\n      <td>36.6</td>\n      <td>19</td>\n      <td>12</td>\n      <td>...</td>\n      <td>2022/2023</td>\n      <td>21.7</td>\n      <td>18.5</td>\n      <td>7.7</td>\n      <td>26.2</td>\n      <td>120</td>\n      <td>149</td>\n      <td>421</td>\n      <td>0</td>\n      <td>49.949033</td>\n    </tr>\n    <tr>\n      <th>1185</th>\n      <td>Mohamed Salah</td>\n      <td>FW</td>\n      <td>Liverpool</td>\n      <td>31</td>\n      <td>32</td>\n      <td>28</td>\n      <td>2534</td>\n      <td>28.2</td>\n      <td>18</td>\n      <td>10</td>\n      <td>...</td>\n      <td>2023/2024</td>\n      <td>21.2</td>\n      <td>15.5</td>\n      <td>11.8</td>\n      <td>27.3</td>\n      <td>98</td>\n      <td>147</td>\n      <td>341</td>\n      <td>0</td>\n      <td>50.062069</td>\n    </tr>\n    <tr>\n      <th>1331</th>\n      <td>Phil Foden</td>\n      <td>FW</td>\n      <td>Manchester City</td>\n      <td>22</td>\n      <td>32</td>\n      <td>22</td>\n      <td>1842</td>\n      <td>20.5</td>\n      <td>11</td>\n      <td>6</td>\n      <td>...</td>\n      <td>2022/2023</td>\n      <td>5.9</td>\n      <td>5.9</td>\n      <td>4.7</td>\n      <td>10.6</td>\n      <td>68</td>\n      <td>88</td>\n      <td>275</td>\n      <td>0</td>\n      <td>49.949033</td>\n    </tr>\n    <tr>\n      <th>1332</th>\n      <td>Phil Foden</td>\n      <td>FW,MF</td>\n      <td>Manchester City</td>\n      <td>23</td>\n      <td>35</td>\n      <td>33</td>\n      <td>2857</td>\n      <td>31.7</td>\n      <td>19</td>\n      <td>8</td>\n      <td>...</td>\n      <td>2023/2024</td>\n      <td>10.3</td>\n      <td>10.3</td>\n      <td>8.4</td>\n      <td>18.7</td>\n      <td>93</td>\n      <td>168</td>\n      <td>269</td>\n      <td>1</td>\n      <td>50.062069</td>\n    </tr>\n    <tr>\n      <th>1349</th>\n      <td>Raheem Sterling</td>\n      <td>FW</td>\n      <td>Manchester City</td>\n      <td>26</td>\n      <td>30</td>\n      <td>23</td>\n      <td>2128</td>\n      <td>23.6</td>\n      <td>13</td>\n      <td>5</td>\n      <td>...</td>\n      <td>2021/2022</td>\n      <td>14.0</td>\n      <td>11.5</td>\n      <td>5.5</td>\n      <td>17.0</td>\n      <td>108</td>\n      <td>65</td>\n      <td>317</td>\n      <td>0</td>\n      <td>51.842491</td>\n    </tr>\n    <tr>\n      <th>1355</th>\n      <td>Raphinha</td>\n      <td>FW,MF</td>\n      <td>Leeds United</td>\n      <td>24</td>\n      <td>35</td>\n      <td>34</td>\n      <td>2915</td>\n      <td>32.4</td>\n      <td>11</td>\n      <td>3</td>\n      <td>...</td>\n      <td>2021/2022</td>\n      <td>10.2</td>\n      <td>7.0</td>\n      <td>7.5</td>\n      <td>14.5</td>\n      <td>89</td>\n      <td>134</td>\n      <td>286</td>\n      <td>0</td>\n      <td>51.842491</td>\n    </tr>\n    <tr>\n      <th>1441</th>\n      <td>Sadio Mané</td>\n      <td>FW</td>\n      <td>Liverpool</td>\n      <td>29</td>\n      <td>34</td>\n      <td>32</td>\n      <td>2819</td>\n      <td>31.3</td>\n      <td>16</td>\n      <td>2</td>\n      <td>...</td>\n      <td>2021/2022</td>\n      <td>17.2</td>\n      <td>17.2</td>\n      <td>5.2</td>\n      <td>22.5</td>\n      <td>105</td>\n      <td>130</td>\n      <td>305</td>\n      <td>0</td>\n      <td>51.842491</td>\n    </tr>\n    <tr>\n      <th>1496</th>\n      <td>Simon Adingra</td>\n      <td>FW</td>\n      <td>Brighton</td>\n      <td>21</td>\n      <td>31</td>\n      <td>25</td>\n      <td>2222</td>\n      <td>24.7</td>\n      <td>6</td>\n      <td>1</td>\n      <td>...</td>\n      <td>2023/2024</td>\n      <td>4.3</td>\n      <td>4.3</td>\n      <td>3.7</td>\n      <td>8.0</td>\n      <td>111</td>\n      <td>50</td>\n      <td>278</td>\n      <td>0</td>\n      <td>50.062069</td>\n    </tr>\n    <tr>\n      <th>1500</th>\n      <td>Solly March</td>\n      <td>FW,DF</td>\n      <td>Brighton</td>\n      <td>28</td>\n      <td>33</td>\n      <td>31</td>\n      <td>2715</td>\n      <td>30.2</td>\n      <td>7</td>\n      <td>7</td>\n      <td>...</td>\n      <td>2022/2023</td>\n      <td>8.1</td>\n      <td>8.1</td>\n      <td>8.4</td>\n      <td>16.5</td>\n      <td>110</td>\n      <td>135</td>\n      <td>357</td>\n      <td>0</td>\n      <td>49.949033</td>\n    </tr>\n    <tr>\n      <th>1504</th>\n      <td>Son Heung-Min</td>\n      <td>FW</td>\n      <td>Tottenham</td>\n      <td>31</td>\n      <td>35</td>\n      <td>34</td>\n      <td>2934</td>\n      <td>32.6</td>\n      <td>17</td>\n      <td>10</td>\n      <td>...</td>\n      <td>2023/2024</td>\n      <td>12.0</td>\n      <td>10.4</td>\n      <td>11.8</td>\n      <td>22.2</td>\n      <td>119</td>\n      <td>139</td>\n      <td>325</td>\n      <td>0</td>\n      <td>50.062069</td>\n    </tr>\n    <tr>\n      <th>1643</th>\n      <td>Wilfried Zaha</td>\n      <td>FW</td>\n      <td>Crystal Palace</td>\n      <td>28</td>\n      <td>33</td>\n      <td>31</td>\n      <td>2760</td>\n      <td>30.7</td>\n      <td>14</td>\n      <td>1</td>\n      <td>...</td>\n      <td>2021/2022</td>\n      <td>9.5</td>\n      <td>3.9</td>\n      <td>5.1</td>\n      <td>9.0</td>\n      <td>113</td>\n      <td>121</td>\n      <td>265</td>\n      <td>0</td>\n      <td>51.842491</td>\n    </tr>\n  </tbody>\n</table>\n<p>33 rows × 24 columns</p>\n</div>"
     },
     "execution_count": 254,
     "metadata": {},
     "output_type": "execute_result"
    }
   ],
   "source": [
    "prgR_players"
   ],
   "metadata": {
    "collapsed": false,
    "ExecuteTime": {
     "end_time": "2024-06-07T13:39:07.434385600Z",
     "start_time": "2024-06-07T13:39:07.284296500Z"
    }
   }
  },
  {
   "cell_type": "code",
   "execution_count": 256,
   "outputs": [],
   "source": [
    "prgC_players_filtered = prgC_players[prgC_players['PrgC'] >= 100]\n"
   ],
   "metadata": {
    "collapsed": false,
    "ExecuteTime": {
     "end_time": "2024-06-07T13:39:42.593333Z",
     "start_time": "2024-06-07T13:39:42.440723200Z"
    }
   }
  },
  {
   "cell_type": "code",
   "execution_count": 257,
   "outputs": [],
   "source": [
    "prgP_players_filtered = prgP_players[prgP_players['PrgP'] >= 100]\n"
   ],
   "metadata": {
    "collapsed": false,
    "ExecuteTime": {
     "end_time": "2024-06-07T13:39:53.093032400Z",
     "start_time": "2024-06-07T13:39:52.809019Z"
    }
   }
  },
  {
   "cell_type": "code",
   "execution_count": 238,
   "outputs": [
    {
     "data": {
      "text/plain": "                   Player    Pos            Squad  Age  MP  Starts   Min  \\\n1         Aaron Cresswell     DF         West Ham   31  31      31  2726   \n49             Alex Iwobi  MF,FW          Everton   26  38      38  3378   \n66    Alexis Mac Allister     MF         Brighton   23  35      31  2886   \n67    Alexis Mac Allister     MF        Liverpool   24  33      31  2599   \n93       Andrew Robertson     DF        Liverpool   27  29      29  2537   \n...                   ...    ...              ...  ...  ..     ...   ...   \n1654              Willian     FW           Fulham   34  31      24  2053   \n1674      Youri Tielemans     MF   Leicester City   24  32      29  2631   \n1675      Youri Tielemans     MF   Leicester City   25  31      27  2344   \n1680        Yves Bissouma     MF        Tottenham   26  28      26  2068   \n1691       İlkay Gündoğan     MF  Manchester City   31  31      27  2353   \n\n       90s  Gls  Ast  ...     season    xG  npxG  xAG npxG+xAG  PrgC  PrgP  \\\n1     30.3    2    3  ...  2021/2022   1.1   1.1  3.2      4.2    54   186   \n49    37.5    2    7  ...  2022/2023   2.5   2.5  6.1      8.5    90   194   \n66    32.1   10    2  ...  2022/2023  12.1   7.3  4.3     11.6    69   174   \n67    28.9    5    5  ...  2023/2024   3.7   2.9  3.6      6.4    44   209   \n93    28.2    3   10  ...  2021/2022   1.4   1.4  5.6      7.0    96   186   \n...    ...  ...  ...  ...        ...   ...   ...  ...      ...   ...   ...   \n1654  22.8    4    2  ...  2023/2024   5.1   3.6  3.9      7.5    92   153   \n1674  29.2    6    4  ...  2021/2022   4.4   2.8  4.2      7.0    31   202   \n1675  26.0    3    2  ...  2022/2023   2.5   0.9  4.7      5.6    35   181   \n1680  23.0    0    0  ...  2023/2024   1.4   1.4  0.4      1.8    43   169   \n1691  26.1    8    4  ...  2022/2023   7.5   6.7  3.3     10.0    53   170   \n\n      PrgR  poy_winner   Avg_PrgP  \n1       99           0  52.327839  \n49     145           0  50.432337  \n66      77           0  50.432337  \n67      48           0  50.584483  \n93     239           0  52.327839  \n...    ...         ...        ...  \n1654   181           0  50.584483  \n1674    69           0  52.327839  \n1675    56           0  50.432337  \n1680    13           0  50.584483  \n1691   124           0  50.432337  \n\n[105 rows x 24 columns]",
      "text/html": "<div>\n<style scoped>\n    .dataframe tbody tr th:only-of-type {\n        vertical-align: middle;\n    }\n\n    .dataframe tbody tr th {\n        vertical-align: top;\n    }\n\n    .dataframe thead th {\n        text-align: right;\n    }\n</style>\n<table border=\"1\" class=\"dataframe\">\n  <thead>\n    <tr style=\"text-align: right;\">\n      <th></th>\n      <th>Player</th>\n      <th>Pos</th>\n      <th>Squad</th>\n      <th>Age</th>\n      <th>MP</th>\n      <th>Starts</th>\n      <th>Min</th>\n      <th>90s</th>\n      <th>Gls</th>\n      <th>Ast</th>\n      <th>...</th>\n      <th>season</th>\n      <th>xG</th>\n      <th>npxG</th>\n      <th>xAG</th>\n      <th>npxG+xAG</th>\n      <th>PrgC</th>\n      <th>PrgP</th>\n      <th>PrgR</th>\n      <th>poy_winner</th>\n      <th>Avg_PrgP</th>\n    </tr>\n  </thead>\n  <tbody>\n    <tr>\n      <th>1</th>\n      <td>Aaron Cresswell</td>\n      <td>DF</td>\n      <td>West Ham</td>\n      <td>31</td>\n      <td>31</td>\n      <td>31</td>\n      <td>2726</td>\n      <td>30.3</td>\n      <td>2</td>\n      <td>3</td>\n      <td>...</td>\n      <td>2021/2022</td>\n      <td>1.1</td>\n      <td>1.1</td>\n      <td>3.2</td>\n      <td>4.2</td>\n      <td>54</td>\n      <td>186</td>\n      <td>99</td>\n      <td>0</td>\n      <td>52.327839</td>\n    </tr>\n    <tr>\n      <th>49</th>\n      <td>Alex Iwobi</td>\n      <td>MF,FW</td>\n      <td>Everton</td>\n      <td>26</td>\n      <td>38</td>\n      <td>38</td>\n      <td>3378</td>\n      <td>37.5</td>\n      <td>2</td>\n      <td>7</td>\n      <td>...</td>\n      <td>2022/2023</td>\n      <td>2.5</td>\n      <td>2.5</td>\n      <td>6.1</td>\n      <td>8.5</td>\n      <td>90</td>\n      <td>194</td>\n      <td>145</td>\n      <td>0</td>\n      <td>50.432337</td>\n    </tr>\n    <tr>\n      <th>66</th>\n      <td>Alexis Mac Allister</td>\n      <td>MF</td>\n      <td>Brighton</td>\n      <td>23</td>\n      <td>35</td>\n      <td>31</td>\n      <td>2886</td>\n      <td>32.1</td>\n      <td>10</td>\n      <td>2</td>\n      <td>...</td>\n      <td>2022/2023</td>\n      <td>12.1</td>\n      <td>7.3</td>\n      <td>4.3</td>\n      <td>11.6</td>\n      <td>69</td>\n      <td>174</td>\n      <td>77</td>\n      <td>0</td>\n      <td>50.432337</td>\n    </tr>\n    <tr>\n      <th>67</th>\n      <td>Alexis Mac Allister</td>\n      <td>MF</td>\n      <td>Liverpool</td>\n      <td>24</td>\n      <td>33</td>\n      <td>31</td>\n      <td>2599</td>\n      <td>28.9</td>\n      <td>5</td>\n      <td>5</td>\n      <td>...</td>\n      <td>2023/2024</td>\n      <td>3.7</td>\n      <td>2.9</td>\n      <td>3.6</td>\n      <td>6.4</td>\n      <td>44</td>\n      <td>209</td>\n      <td>48</td>\n      <td>0</td>\n      <td>50.584483</td>\n    </tr>\n    <tr>\n      <th>93</th>\n      <td>Andrew Robertson</td>\n      <td>DF</td>\n      <td>Liverpool</td>\n      <td>27</td>\n      <td>29</td>\n      <td>29</td>\n      <td>2537</td>\n      <td>28.2</td>\n      <td>3</td>\n      <td>10</td>\n      <td>...</td>\n      <td>2021/2022</td>\n      <td>1.4</td>\n      <td>1.4</td>\n      <td>5.6</td>\n      <td>7.0</td>\n      <td>96</td>\n      <td>186</td>\n      <td>239</td>\n      <td>0</td>\n      <td>52.327839</td>\n    </tr>\n    <tr>\n      <th>...</th>\n      <td>...</td>\n      <td>...</td>\n      <td>...</td>\n      <td>...</td>\n      <td>...</td>\n      <td>...</td>\n      <td>...</td>\n      <td>...</td>\n      <td>...</td>\n      <td>...</td>\n      <td>...</td>\n      <td>...</td>\n      <td>...</td>\n      <td>...</td>\n      <td>...</td>\n      <td>...</td>\n      <td>...</td>\n      <td>...</td>\n      <td>...</td>\n      <td>...</td>\n      <td>...</td>\n    </tr>\n    <tr>\n      <th>1654</th>\n      <td>Willian</td>\n      <td>FW</td>\n      <td>Fulham</td>\n      <td>34</td>\n      <td>31</td>\n      <td>24</td>\n      <td>2053</td>\n      <td>22.8</td>\n      <td>4</td>\n      <td>2</td>\n      <td>...</td>\n      <td>2023/2024</td>\n      <td>5.1</td>\n      <td>3.6</td>\n      <td>3.9</td>\n      <td>7.5</td>\n      <td>92</td>\n      <td>153</td>\n      <td>181</td>\n      <td>0</td>\n      <td>50.584483</td>\n    </tr>\n    <tr>\n      <th>1674</th>\n      <td>Youri Tielemans</td>\n      <td>MF</td>\n      <td>Leicester City</td>\n      <td>24</td>\n      <td>32</td>\n      <td>29</td>\n      <td>2631</td>\n      <td>29.2</td>\n      <td>6</td>\n      <td>4</td>\n      <td>...</td>\n      <td>2021/2022</td>\n      <td>4.4</td>\n      <td>2.8</td>\n      <td>4.2</td>\n      <td>7.0</td>\n      <td>31</td>\n      <td>202</td>\n      <td>69</td>\n      <td>0</td>\n      <td>52.327839</td>\n    </tr>\n    <tr>\n      <th>1675</th>\n      <td>Youri Tielemans</td>\n      <td>MF</td>\n      <td>Leicester City</td>\n      <td>25</td>\n      <td>31</td>\n      <td>27</td>\n      <td>2344</td>\n      <td>26.0</td>\n      <td>3</td>\n      <td>2</td>\n      <td>...</td>\n      <td>2022/2023</td>\n      <td>2.5</td>\n      <td>0.9</td>\n      <td>4.7</td>\n      <td>5.6</td>\n      <td>35</td>\n      <td>181</td>\n      <td>56</td>\n      <td>0</td>\n      <td>50.432337</td>\n    </tr>\n    <tr>\n      <th>1680</th>\n      <td>Yves Bissouma</td>\n      <td>MF</td>\n      <td>Tottenham</td>\n      <td>26</td>\n      <td>28</td>\n      <td>26</td>\n      <td>2068</td>\n      <td>23.0</td>\n      <td>0</td>\n      <td>0</td>\n      <td>...</td>\n      <td>2023/2024</td>\n      <td>1.4</td>\n      <td>1.4</td>\n      <td>0.4</td>\n      <td>1.8</td>\n      <td>43</td>\n      <td>169</td>\n      <td>13</td>\n      <td>0</td>\n      <td>50.584483</td>\n    </tr>\n    <tr>\n      <th>1691</th>\n      <td>İlkay Gündoğan</td>\n      <td>MF</td>\n      <td>Manchester City</td>\n      <td>31</td>\n      <td>31</td>\n      <td>27</td>\n      <td>2353</td>\n      <td>26.1</td>\n      <td>8</td>\n      <td>4</td>\n      <td>...</td>\n      <td>2022/2023</td>\n      <td>7.5</td>\n      <td>6.7</td>\n      <td>3.3</td>\n      <td>10.0</td>\n      <td>53</td>\n      <td>170</td>\n      <td>124</td>\n      <td>0</td>\n      <td>50.432337</td>\n    </tr>\n  </tbody>\n</table>\n<p>105 rows × 24 columns</p>\n</div>"
     },
     "execution_count": 238,
     "metadata": {},
     "output_type": "execute_result"
    }
   ],
   "source": [
    "prgP_players_filtered"
   ],
   "metadata": {
    "collapsed": false,
    "ExecuteTime": {
     "end_time": "2024-06-07T13:31:05.109885400Z",
     "start_time": "2024-06-07T13:31:04.887069200Z"
    }
   }
  },
  {
   "cell_type": "code",
   "execution_count": 258,
   "outputs": [],
   "source": [
    "prgR_players_filtered = prgR_players[prgR_players['PrgR'] >= 250]"
   ],
   "metadata": {
    "collapsed": false,
    "ExecuteTime": {
     "end_time": "2024-06-07T13:40:02.465106100Z",
     "start_time": "2024-06-07T13:40:02.240211600Z"
    }
   }
  },
  {
   "cell_type": "code",
   "execution_count": 240,
   "outputs": [
    {
     "data": {
      "text/plain": "                  Player    Pos            Squad  Age  MP  Starts   Min   90s  \\\n44    Alejandro Garnacho     FW   Manchester Utd   19  36      30  2565  28.5   \n189       Bernardo Silva  MF,FW  Manchester City   26  35      33  2857  31.7   \n191       Bernardo Silva  MF,FW  Manchester City   28  33      29  2578  28.6   \n216      Brennan Johnson     FW        Tottenham   22  32      23  2085  23.2   \n227         Bryan Mbeumo     FW        Brentford   21  35      34  2905  32.3   \n230          Bukayo Saka  FW,MF          Arsenal   19  38      36  2978  33.1   \n231          Bukayo Saka     FW          Arsenal   20  38      37  3181  35.3   \n232          Bukayo Saka     FW          Arsenal   21  35      35  2919  32.4   \n413     Dejan Kulusevski  FW,MF        Tottenham   23  36      31  2762  30.7   \n570   Gabriel Martinelli     FW          Arsenal   21  36      34  2789  31.0   \n571   Gabriel Martinelli     FW          Arsenal   22  35      24  2019  22.4   \n616        Harvey Barnes  FW,MF   Leicester City   24  34      32  2711  30.1   \n666        Jack Grealish     FW  Manchester City   25  26      22  1914  21.3   \n667        Jack Grealish     FW  Manchester City   26  28      23  2055  22.8   \n670        Jack Harrison  FW,MF     Leeds United   25  36      34  2708  30.1   \n777          Jeremy Doku  FW,MF  Manchester City   21  29      18  1595  17.7   \n865         João Cancelo     DF  Manchester City   27  36      36  3227  35.9   \n912         Kaoru Mitoma  FW,MF         Brighton   25  33      24  2318  25.8   \n1024           Luis Díaz     FW        Liverpool   26  37      32  2629  29.2   \n1103         Mason Mount     MF          Chelsea   22  32      27  2363  26.3   \n1169      Miguel Almirón     FW    Newcastle Utd   28  34      29  2491  27.7   \n1183       Mohamed Salah     FW        Liverpool   29  35      30  2762  30.7   \n1184       Mohamed Salah     FW        Liverpool   30  38      37  3290  36.6   \n1185       Mohamed Salah     FW        Liverpool   31  32      28  2534  28.2   \n1331          Phil Foden     FW  Manchester City   22  32      22  1842  20.5   \n1332          Phil Foden  FW,MF  Manchester City   23  35      33  2857  31.7   \n1349     Raheem Sterling     FW  Manchester City   26  30      23  2128  23.6   \n1355            Raphinha  FW,MF     Leeds United   24  35      34  2915  32.4   \n1441          Sadio Mané     FW        Liverpool   29  34      32  2819  31.3   \n1496       Simon Adingra     FW         Brighton   21  31      25  2222  24.7   \n1500         Solly March  FW,DF         Brighton   28  33      31  2715  30.2   \n1504       Son Heung-Min     FW        Tottenham   31  35      34  2934  32.6   \n1643       Wilfried Zaha     FW   Crystal Palace   28  33      31  2760  30.7   \n\n      Gls  Ast  ...     season    xG  npxG   xAG npxG+xAG  PrgC  PrgP  PrgR  \\\n44      7    4  ...  2023/2024   8.4   8.3   5.1     13.4   178    62   281   \n189     8    4  ...  2021/2022   6.7   6.7   6.5     13.2   146   170   277   \n191     6    9  ...  2023/2024   3.7   3.7   7.6     11.3   140   177   260   \n216     5   10  ...  2023/2024  10.3  10.3   8.1     18.3    97    72   293   \n227     4    7  ...  2021/2022   9.3   8.5   3.7     12.2    81    56   273   \n230    11    7  ...  2021/2022  10.3   8.7   7.5     16.3   140   101   388   \n231    14   11  ...  2022/2023  11.2   9.1   8.5     17.6   179   109   520   \n232    16    9  ...  2023/2024  15.5  10.8  10.5     21.2   155   126   508   \n413     8    3  ...  2023/2024   4.7   4.7   7.7     12.4   151   144   388   \n570    15    5  ...  2022/2023   9.1   9.1   9.1     18.2   124    94   350   \n571     6    4  ...  2023/2024   6.8   6.8   6.1     12.9   127    65   345   \n616    13    1  ...  2022/2023   8.9   8.9   3.1     12.0   100    79   257   \n666     3    3  ...  2021/2022   5.3   5.3   6.0     11.3   153   100   267   \n667     5    7  ...  2022/2023   4.6   4.6   7.1     11.7   143   100   310   \n670     5    7  ...  2022/2023   4.7   4.7   5.1      9.8   103   103   255   \n777     3    8  ...  2023/2024   2.5   2.5   4.6      7.1   218    57   295   \n865     1    7  ...  2021/2022   4.0   4.0   5.4      9.3   125   357   270   \n912     7    5  ...  2022/2023   8.1   8.1   6.4     14.5   143    90   260   \n1024    8    5  ...  2023/2024  11.9  11.9   5.7     17.5   137   113   302   \n1103   11   10  ...  2021/2022   8.0   7.2   6.7     14.0    92   164   276   \n1169   11    2  ...  2022/2023   8.0   8.0   3.2     11.1    77   124   264   \n1183   23   13  ...  2021/2022  22.7  17.8  10.0     27.8   125   122   451   \n1184   19   12  ...  2022/2023  21.7  18.5   7.7     26.2   120   149   421   \n1185   18   10  ...  2023/2024  21.2  15.5  11.8     27.3    98   147   341   \n1331   11    6  ...  2022/2023   5.9   5.9   4.7     10.6    68    88   275   \n1332   19    8  ...  2023/2024  10.3  10.3   8.4     18.7    93   168   269   \n1349   13    5  ...  2021/2022  14.0  11.5   5.5     17.0   108    65   317   \n1355   11    3  ...  2021/2022  10.2   7.0   7.5     14.5    89   134   286   \n1441   16    2  ...  2021/2022  17.2  17.2   5.2     22.5   105   130   305   \n1496    6    1  ...  2023/2024   4.3   4.3   3.7      8.0   111    50   278   \n1500    7    7  ...  2022/2023   8.1   8.1   8.4     16.5   110   135   357   \n1504   17   10  ...  2023/2024  12.0  10.4  11.8     22.2   119   139   325   \n1643   14    1  ...  2021/2022   9.5   3.9   5.1      9.0   113   121   265   \n\n      poy_winner   Avg_PrgR  \n44             0  50.062069  \n189            0  51.842491  \n191            0  50.062069  \n216            0  50.062069  \n227            0  51.842491  \n230            0  51.842491  \n231            0  49.949033  \n232            0  50.062069  \n413            0  50.062069  \n570            0  49.949033  \n571            0  50.062069  \n616            0  49.949033  \n666            0  51.842491  \n667            0  49.949033  \n670            0  49.949033  \n777            0  50.062069  \n865            0  51.842491  \n912            0  49.949033  \n1024           0  50.062069  \n1103           0  51.842491  \n1169           0  49.949033  \n1183           0  51.842491  \n1184           0  49.949033  \n1185           0  50.062069  \n1331           0  49.949033  \n1332           1  50.062069  \n1349           0  51.842491  \n1355           0  51.842491  \n1441           0  51.842491  \n1496           0  50.062069  \n1500           0  49.949033  \n1504           0  50.062069  \n1643           0  51.842491  \n\n[33 rows x 24 columns]",
      "text/html": "<div>\n<style scoped>\n    .dataframe tbody tr th:only-of-type {\n        vertical-align: middle;\n    }\n\n    .dataframe tbody tr th {\n        vertical-align: top;\n    }\n\n    .dataframe thead th {\n        text-align: right;\n    }\n</style>\n<table border=\"1\" class=\"dataframe\">\n  <thead>\n    <tr style=\"text-align: right;\">\n      <th></th>\n      <th>Player</th>\n      <th>Pos</th>\n      <th>Squad</th>\n      <th>Age</th>\n      <th>MP</th>\n      <th>Starts</th>\n      <th>Min</th>\n      <th>90s</th>\n      <th>Gls</th>\n      <th>Ast</th>\n      <th>...</th>\n      <th>season</th>\n      <th>xG</th>\n      <th>npxG</th>\n      <th>xAG</th>\n      <th>npxG+xAG</th>\n      <th>PrgC</th>\n      <th>PrgP</th>\n      <th>PrgR</th>\n      <th>poy_winner</th>\n      <th>Avg_PrgR</th>\n    </tr>\n  </thead>\n  <tbody>\n    <tr>\n      <th>44</th>\n      <td>Alejandro Garnacho</td>\n      <td>FW</td>\n      <td>Manchester Utd</td>\n      <td>19</td>\n      <td>36</td>\n      <td>30</td>\n      <td>2565</td>\n      <td>28.5</td>\n      <td>7</td>\n      <td>4</td>\n      <td>...</td>\n      <td>2023/2024</td>\n      <td>8.4</td>\n      <td>8.3</td>\n      <td>5.1</td>\n      <td>13.4</td>\n      <td>178</td>\n      <td>62</td>\n      <td>281</td>\n      <td>0</td>\n      <td>50.062069</td>\n    </tr>\n    <tr>\n      <th>189</th>\n      <td>Bernardo Silva</td>\n      <td>MF,FW</td>\n      <td>Manchester City</td>\n      <td>26</td>\n      <td>35</td>\n      <td>33</td>\n      <td>2857</td>\n      <td>31.7</td>\n      <td>8</td>\n      <td>4</td>\n      <td>...</td>\n      <td>2021/2022</td>\n      <td>6.7</td>\n      <td>6.7</td>\n      <td>6.5</td>\n      <td>13.2</td>\n      <td>146</td>\n      <td>170</td>\n      <td>277</td>\n      <td>0</td>\n      <td>51.842491</td>\n    </tr>\n    <tr>\n      <th>191</th>\n      <td>Bernardo Silva</td>\n      <td>MF,FW</td>\n      <td>Manchester City</td>\n      <td>28</td>\n      <td>33</td>\n      <td>29</td>\n      <td>2578</td>\n      <td>28.6</td>\n      <td>6</td>\n      <td>9</td>\n      <td>...</td>\n      <td>2023/2024</td>\n      <td>3.7</td>\n      <td>3.7</td>\n      <td>7.6</td>\n      <td>11.3</td>\n      <td>140</td>\n      <td>177</td>\n      <td>260</td>\n      <td>0</td>\n      <td>50.062069</td>\n    </tr>\n    <tr>\n      <th>216</th>\n      <td>Brennan Johnson</td>\n      <td>FW</td>\n      <td>Tottenham</td>\n      <td>22</td>\n      <td>32</td>\n      <td>23</td>\n      <td>2085</td>\n      <td>23.2</td>\n      <td>5</td>\n      <td>10</td>\n      <td>...</td>\n      <td>2023/2024</td>\n      <td>10.3</td>\n      <td>10.3</td>\n      <td>8.1</td>\n      <td>18.3</td>\n      <td>97</td>\n      <td>72</td>\n      <td>293</td>\n      <td>0</td>\n      <td>50.062069</td>\n    </tr>\n    <tr>\n      <th>227</th>\n      <td>Bryan Mbeumo</td>\n      <td>FW</td>\n      <td>Brentford</td>\n      <td>21</td>\n      <td>35</td>\n      <td>34</td>\n      <td>2905</td>\n      <td>32.3</td>\n      <td>4</td>\n      <td>7</td>\n      <td>...</td>\n      <td>2021/2022</td>\n      <td>9.3</td>\n      <td>8.5</td>\n      <td>3.7</td>\n      <td>12.2</td>\n      <td>81</td>\n      <td>56</td>\n      <td>273</td>\n      <td>0</td>\n      <td>51.842491</td>\n    </tr>\n    <tr>\n      <th>230</th>\n      <td>Bukayo Saka</td>\n      <td>FW,MF</td>\n      <td>Arsenal</td>\n      <td>19</td>\n      <td>38</td>\n      <td>36</td>\n      <td>2978</td>\n      <td>33.1</td>\n      <td>11</td>\n      <td>7</td>\n      <td>...</td>\n      <td>2021/2022</td>\n      <td>10.3</td>\n      <td>8.7</td>\n      <td>7.5</td>\n      <td>16.3</td>\n      <td>140</td>\n      <td>101</td>\n      <td>388</td>\n      <td>0</td>\n      <td>51.842491</td>\n    </tr>\n    <tr>\n      <th>231</th>\n      <td>Bukayo Saka</td>\n      <td>FW</td>\n      <td>Arsenal</td>\n      <td>20</td>\n      <td>38</td>\n      <td>37</td>\n      <td>3181</td>\n      <td>35.3</td>\n      <td>14</td>\n      <td>11</td>\n      <td>...</td>\n      <td>2022/2023</td>\n      <td>11.2</td>\n      <td>9.1</td>\n      <td>8.5</td>\n      <td>17.6</td>\n      <td>179</td>\n      <td>109</td>\n      <td>520</td>\n      <td>0</td>\n      <td>49.949033</td>\n    </tr>\n    <tr>\n      <th>232</th>\n      <td>Bukayo Saka</td>\n      <td>FW</td>\n      <td>Arsenal</td>\n      <td>21</td>\n      <td>35</td>\n      <td>35</td>\n      <td>2919</td>\n      <td>32.4</td>\n      <td>16</td>\n      <td>9</td>\n      <td>...</td>\n      <td>2023/2024</td>\n      <td>15.5</td>\n      <td>10.8</td>\n      <td>10.5</td>\n      <td>21.2</td>\n      <td>155</td>\n      <td>126</td>\n      <td>508</td>\n      <td>0</td>\n      <td>50.062069</td>\n    </tr>\n    <tr>\n      <th>413</th>\n      <td>Dejan Kulusevski</td>\n      <td>FW,MF</td>\n      <td>Tottenham</td>\n      <td>23</td>\n      <td>36</td>\n      <td>31</td>\n      <td>2762</td>\n      <td>30.7</td>\n      <td>8</td>\n      <td>3</td>\n      <td>...</td>\n      <td>2023/2024</td>\n      <td>4.7</td>\n      <td>4.7</td>\n      <td>7.7</td>\n      <td>12.4</td>\n      <td>151</td>\n      <td>144</td>\n      <td>388</td>\n      <td>0</td>\n      <td>50.062069</td>\n    </tr>\n    <tr>\n      <th>570</th>\n      <td>Gabriel Martinelli</td>\n      <td>FW</td>\n      <td>Arsenal</td>\n      <td>21</td>\n      <td>36</td>\n      <td>34</td>\n      <td>2789</td>\n      <td>31.0</td>\n      <td>15</td>\n      <td>5</td>\n      <td>...</td>\n      <td>2022/2023</td>\n      <td>9.1</td>\n      <td>9.1</td>\n      <td>9.1</td>\n      <td>18.2</td>\n      <td>124</td>\n      <td>94</td>\n      <td>350</td>\n      <td>0</td>\n      <td>49.949033</td>\n    </tr>\n    <tr>\n      <th>571</th>\n      <td>Gabriel Martinelli</td>\n      <td>FW</td>\n      <td>Arsenal</td>\n      <td>22</td>\n      <td>35</td>\n      <td>24</td>\n      <td>2019</td>\n      <td>22.4</td>\n      <td>6</td>\n      <td>4</td>\n      <td>...</td>\n      <td>2023/2024</td>\n      <td>6.8</td>\n      <td>6.8</td>\n      <td>6.1</td>\n      <td>12.9</td>\n      <td>127</td>\n      <td>65</td>\n      <td>345</td>\n      <td>0</td>\n      <td>50.062069</td>\n    </tr>\n    <tr>\n      <th>616</th>\n      <td>Harvey Barnes</td>\n      <td>FW,MF</td>\n      <td>Leicester City</td>\n      <td>24</td>\n      <td>34</td>\n      <td>32</td>\n      <td>2711</td>\n      <td>30.1</td>\n      <td>13</td>\n      <td>1</td>\n      <td>...</td>\n      <td>2022/2023</td>\n      <td>8.9</td>\n      <td>8.9</td>\n      <td>3.1</td>\n      <td>12.0</td>\n      <td>100</td>\n      <td>79</td>\n      <td>257</td>\n      <td>0</td>\n      <td>49.949033</td>\n    </tr>\n    <tr>\n      <th>666</th>\n      <td>Jack Grealish</td>\n      <td>FW</td>\n      <td>Manchester City</td>\n      <td>25</td>\n      <td>26</td>\n      <td>22</td>\n      <td>1914</td>\n      <td>21.3</td>\n      <td>3</td>\n      <td>3</td>\n      <td>...</td>\n      <td>2021/2022</td>\n      <td>5.3</td>\n      <td>5.3</td>\n      <td>6.0</td>\n      <td>11.3</td>\n      <td>153</td>\n      <td>100</td>\n      <td>267</td>\n      <td>0</td>\n      <td>51.842491</td>\n    </tr>\n    <tr>\n      <th>667</th>\n      <td>Jack Grealish</td>\n      <td>FW</td>\n      <td>Manchester City</td>\n      <td>26</td>\n      <td>28</td>\n      <td>23</td>\n      <td>2055</td>\n      <td>22.8</td>\n      <td>5</td>\n      <td>7</td>\n      <td>...</td>\n      <td>2022/2023</td>\n      <td>4.6</td>\n      <td>4.6</td>\n      <td>7.1</td>\n      <td>11.7</td>\n      <td>143</td>\n      <td>100</td>\n      <td>310</td>\n      <td>0</td>\n      <td>49.949033</td>\n    </tr>\n    <tr>\n      <th>670</th>\n      <td>Jack Harrison</td>\n      <td>FW,MF</td>\n      <td>Leeds United</td>\n      <td>25</td>\n      <td>36</td>\n      <td>34</td>\n      <td>2708</td>\n      <td>30.1</td>\n      <td>5</td>\n      <td>7</td>\n      <td>...</td>\n      <td>2022/2023</td>\n      <td>4.7</td>\n      <td>4.7</td>\n      <td>5.1</td>\n      <td>9.8</td>\n      <td>103</td>\n      <td>103</td>\n      <td>255</td>\n      <td>0</td>\n      <td>49.949033</td>\n    </tr>\n    <tr>\n      <th>777</th>\n      <td>Jeremy Doku</td>\n      <td>FW,MF</td>\n      <td>Manchester City</td>\n      <td>21</td>\n      <td>29</td>\n      <td>18</td>\n      <td>1595</td>\n      <td>17.7</td>\n      <td>3</td>\n      <td>8</td>\n      <td>...</td>\n      <td>2023/2024</td>\n      <td>2.5</td>\n      <td>2.5</td>\n      <td>4.6</td>\n      <td>7.1</td>\n      <td>218</td>\n      <td>57</td>\n      <td>295</td>\n      <td>0</td>\n      <td>50.062069</td>\n    </tr>\n    <tr>\n      <th>865</th>\n      <td>João Cancelo</td>\n      <td>DF</td>\n      <td>Manchester City</td>\n      <td>27</td>\n      <td>36</td>\n      <td>36</td>\n      <td>3227</td>\n      <td>35.9</td>\n      <td>1</td>\n      <td>7</td>\n      <td>...</td>\n      <td>2021/2022</td>\n      <td>4.0</td>\n      <td>4.0</td>\n      <td>5.4</td>\n      <td>9.3</td>\n      <td>125</td>\n      <td>357</td>\n      <td>270</td>\n      <td>0</td>\n      <td>51.842491</td>\n    </tr>\n    <tr>\n      <th>912</th>\n      <td>Kaoru Mitoma</td>\n      <td>FW,MF</td>\n      <td>Brighton</td>\n      <td>25</td>\n      <td>33</td>\n      <td>24</td>\n      <td>2318</td>\n      <td>25.8</td>\n      <td>7</td>\n      <td>5</td>\n      <td>...</td>\n      <td>2022/2023</td>\n      <td>8.1</td>\n      <td>8.1</td>\n      <td>6.4</td>\n      <td>14.5</td>\n      <td>143</td>\n      <td>90</td>\n      <td>260</td>\n      <td>0</td>\n      <td>49.949033</td>\n    </tr>\n    <tr>\n      <th>1024</th>\n      <td>Luis Díaz</td>\n      <td>FW</td>\n      <td>Liverpool</td>\n      <td>26</td>\n      <td>37</td>\n      <td>32</td>\n      <td>2629</td>\n      <td>29.2</td>\n      <td>8</td>\n      <td>5</td>\n      <td>...</td>\n      <td>2023/2024</td>\n      <td>11.9</td>\n      <td>11.9</td>\n      <td>5.7</td>\n      <td>17.5</td>\n      <td>137</td>\n      <td>113</td>\n      <td>302</td>\n      <td>0</td>\n      <td>50.062069</td>\n    </tr>\n    <tr>\n      <th>1103</th>\n      <td>Mason Mount</td>\n      <td>MF</td>\n      <td>Chelsea</td>\n      <td>22</td>\n      <td>32</td>\n      <td>27</td>\n      <td>2363</td>\n      <td>26.3</td>\n      <td>11</td>\n      <td>10</td>\n      <td>...</td>\n      <td>2021/2022</td>\n      <td>8.0</td>\n      <td>7.2</td>\n      <td>6.7</td>\n      <td>14.0</td>\n      <td>92</td>\n      <td>164</td>\n      <td>276</td>\n      <td>0</td>\n      <td>51.842491</td>\n    </tr>\n    <tr>\n      <th>1169</th>\n      <td>Miguel Almirón</td>\n      <td>FW</td>\n      <td>Newcastle Utd</td>\n      <td>28</td>\n      <td>34</td>\n      <td>29</td>\n      <td>2491</td>\n      <td>27.7</td>\n      <td>11</td>\n      <td>2</td>\n      <td>...</td>\n      <td>2022/2023</td>\n      <td>8.0</td>\n      <td>8.0</td>\n      <td>3.2</td>\n      <td>11.1</td>\n      <td>77</td>\n      <td>124</td>\n      <td>264</td>\n      <td>0</td>\n      <td>49.949033</td>\n    </tr>\n    <tr>\n      <th>1183</th>\n      <td>Mohamed Salah</td>\n      <td>FW</td>\n      <td>Liverpool</td>\n      <td>29</td>\n      <td>35</td>\n      <td>30</td>\n      <td>2762</td>\n      <td>30.7</td>\n      <td>23</td>\n      <td>13</td>\n      <td>...</td>\n      <td>2021/2022</td>\n      <td>22.7</td>\n      <td>17.8</td>\n      <td>10.0</td>\n      <td>27.8</td>\n      <td>125</td>\n      <td>122</td>\n      <td>451</td>\n      <td>0</td>\n      <td>51.842491</td>\n    </tr>\n    <tr>\n      <th>1184</th>\n      <td>Mohamed Salah</td>\n      <td>FW</td>\n      <td>Liverpool</td>\n      <td>30</td>\n      <td>38</td>\n      <td>37</td>\n      <td>3290</td>\n      <td>36.6</td>\n      <td>19</td>\n      <td>12</td>\n      <td>...</td>\n      <td>2022/2023</td>\n      <td>21.7</td>\n      <td>18.5</td>\n      <td>7.7</td>\n      <td>26.2</td>\n      <td>120</td>\n      <td>149</td>\n      <td>421</td>\n      <td>0</td>\n      <td>49.949033</td>\n    </tr>\n    <tr>\n      <th>1185</th>\n      <td>Mohamed Salah</td>\n      <td>FW</td>\n      <td>Liverpool</td>\n      <td>31</td>\n      <td>32</td>\n      <td>28</td>\n      <td>2534</td>\n      <td>28.2</td>\n      <td>18</td>\n      <td>10</td>\n      <td>...</td>\n      <td>2023/2024</td>\n      <td>21.2</td>\n      <td>15.5</td>\n      <td>11.8</td>\n      <td>27.3</td>\n      <td>98</td>\n      <td>147</td>\n      <td>341</td>\n      <td>0</td>\n      <td>50.062069</td>\n    </tr>\n    <tr>\n      <th>1331</th>\n      <td>Phil Foden</td>\n      <td>FW</td>\n      <td>Manchester City</td>\n      <td>22</td>\n      <td>32</td>\n      <td>22</td>\n      <td>1842</td>\n      <td>20.5</td>\n      <td>11</td>\n      <td>6</td>\n      <td>...</td>\n      <td>2022/2023</td>\n      <td>5.9</td>\n      <td>5.9</td>\n      <td>4.7</td>\n      <td>10.6</td>\n      <td>68</td>\n      <td>88</td>\n      <td>275</td>\n      <td>0</td>\n      <td>49.949033</td>\n    </tr>\n    <tr>\n      <th>1332</th>\n      <td>Phil Foden</td>\n      <td>FW,MF</td>\n      <td>Manchester City</td>\n      <td>23</td>\n      <td>35</td>\n      <td>33</td>\n      <td>2857</td>\n      <td>31.7</td>\n      <td>19</td>\n      <td>8</td>\n      <td>...</td>\n      <td>2023/2024</td>\n      <td>10.3</td>\n      <td>10.3</td>\n      <td>8.4</td>\n      <td>18.7</td>\n      <td>93</td>\n      <td>168</td>\n      <td>269</td>\n      <td>1</td>\n      <td>50.062069</td>\n    </tr>\n    <tr>\n      <th>1349</th>\n      <td>Raheem Sterling</td>\n      <td>FW</td>\n      <td>Manchester City</td>\n      <td>26</td>\n      <td>30</td>\n      <td>23</td>\n      <td>2128</td>\n      <td>23.6</td>\n      <td>13</td>\n      <td>5</td>\n      <td>...</td>\n      <td>2021/2022</td>\n      <td>14.0</td>\n      <td>11.5</td>\n      <td>5.5</td>\n      <td>17.0</td>\n      <td>108</td>\n      <td>65</td>\n      <td>317</td>\n      <td>0</td>\n      <td>51.842491</td>\n    </tr>\n    <tr>\n      <th>1355</th>\n      <td>Raphinha</td>\n      <td>FW,MF</td>\n      <td>Leeds United</td>\n      <td>24</td>\n      <td>35</td>\n      <td>34</td>\n      <td>2915</td>\n      <td>32.4</td>\n      <td>11</td>\n      <td>3</td>\n      <td>...</td>\n      <td>2021/2022</td>\n      <td>10.2</td>\n      <td>7.0</td>\n      <td>7.5</td>\n      <td>14.5</td>\n      <td>89</td>\n      <td>134</td>\n      <td>286</td>\n      <td>0</td>\n      <td>51.842491</td>\n    </tr>\n    <tr>\n      <th>1441</th>\n      <td>Sadio Mané</td>\n      <td>FW</td>\n      <td>Liverpool</td>\n      <td>29</td>\n      <td>34</td>\n      <td>32</td>\n      <td>2819</td>\n      <td>31.3</td>\n      <td>16</td>\n      <td>2</td>\n      <td>...</td>\n      <td>2021/2022</td>\n      <td>17.2</td>\n      <td>17.2</td>\n      <td>5.2</td>\n      <td>22.5</td>\n      <td>105</td>\n      <td>130</td>\n      <td>305</td>\n      <td>0</td>\n      <td>51.842491</td>\n    </tr>\n    <tr>\n      <th>1496</th>\n      <td>Simon Adingra</td>\n      <td>FW</td>\n      <td>Brighton</td>\n      <td>21</td>\n      <td>31</td>\n      <td>25</td>\n      <td>2222</td>\n      <td>24.7</td>\n      <td>6</td>\n      <td>1</td>\n      <td>...</td>\n      <td>2023/2024</td>\n      <td>4.3</td>\n      <td>4.3</td>\n      <td>3.7</td>\n      <td>8.0</td>\n      <td>111</td>\n      <td>50</td>\n      <td>278</td>\n      <td>0</td>\n      <td>50.062069</td>\n    </tr>\n    <tr>\n      <th>1500</th>\n      <td>Solly March</td>\n      <td>FW,DF</td>\n      <td>Brighton</td>\n      <td>28</td>\n      <td>33</td>\n      <td>31</td>\n      <td>2715</td>\n      <td>30.2</td>\n      <td>7</td>\n      <td>7</td>\n      <td>...</td>\n      <td>2022/2023</td>\n      <td>8.1</td>\n      <td>8.1</td>\n      <td>8.4</td>\n      <td>16.5</td>\n      <td>110</td>\n      <td>135</td>\n      <td>357</td>\n      <td>0</td>\n      <td>49.949033</td>\n    </tr>\n    <tr>\n      <th>1504</th>\n      <td>Son Heung-Min</td>\n      <td>FW</td>\n      <td>Tottenham</td>\n      <td>31</td>\n      <td>35</td>\n      <td>34</td>\n      <td>2934</td>\n      <td>32.6</td>\n      <td>17</td>\n      <td>10</td>\n      <td>...</td>\n      <td>2023/2024</td>\n      <td>12.0</td>\n      <td>10.4</td>\n      <td>11.8</td>\n      <td>22.2</td>\n      <td>119</td>\n      <td>139</td>\n      <td>325</td>\n      <td>0</td>\n      <td>50.062069</td>\n    </tr>\n    <tr>\n      <th>1643</th>\n      <td>Wilfried Zaha</td>\n      <td>FW</td>\n      <td>Crystal Palace</td>\n      <td>28</td>\n      <td>33</td>\n      <td>31</td>\n      <td>2760</td>\n      <td>30.7</td>\n      <td>14</td>\n      <td>1</td>\n      <td>...</td>\n      <td>2021/2022</td>\n      <td>9.5</td>\n      <td>3.9</td>\n      <td>5.1</td>\n      <td>9.0</td>\n      <td>113</td>\n      <td>121</td>\n      <td>265</td>\n      <td>0</td>\n      <td>51.842491</td>\n    </tr>\n  </tbody>\n</table>\n<p>33 rows × 24 columns</p>\n</div>"
     },
     "execution_count": 240,
     "metadata": {},
     "output_type": "execute_result"
    }
   ],
   "source": [
    "prgR_players_filtered"
   ],
   "metadata": {
    "collapsed": false,
    "ExecuteTime": {
     "end_time": "2024-06-07T13:31:11.448792800Z",
     "start_time": "2024-06-07T13:31:11.216849400Z"
    }
   }
  },
  {
   "cell_type": "code",
   "execution_count": 264,
   "outputs": [],
   "source": [
    "merged_players = prgC_players_filtered[['Player', 'season', 'PrgC']].merge(\n",
    "    prgP_players_filtered[['Player', 'season', 'PrgP']], on=['Player', 'season']\n",
    ").merge(\n",
    "    prgR_players_filtered[['Player', 'season', 'PrgR']], on=['Player', 'season']\n",
    ")"
   ],
   "metadata": {
    "collapsed": false,
    "ExecuteTime": {
     "end_time": "2024-06-07T13:40:48.891793400Z",
     "start_time": "2024-06-07T13:40:48.702945Z"
    }
   }
  },
  {
   "cell_type": "code",
   "execution_count": 267,
   "outputs": [],
   "source": [
    "merged_players.drop_duplicates(inplace=True)\n"
   ],
   "metadata": {
    "collapsed": false,
    "ExecuteTime": {
     "end_time": "2024-06-07T13:41:10.086617400Z",
     "start_time": "2024-06-07T13:41:09.999975100Z"
    }
   }
  },
  {
   "cell_type": "code",
   "execution_count": 317,
   "outputs": [
    {
     "data": {
      "text/plain": "              Player     season  PrgC  PrgP  PrgR\n0     Bernardo Silva  2021/2022   146   170   277\n1     Bernardo Silva  2023/2024   140   177   260\n2        Bukayo Saka  2021/2022   140   101   388\n3        Bukayo Saka  2022/2023   179   109   520\n4        Bukayo Saka  2023/2024   155   126   508\n5   Dejan Kulusevski  2023/2024   151   144   388\n6      Jack Grealish  2021/2022   153   100   267\n7      Jack Grealish  2022/2023   143   100   310\n8      Jack Harrison  2022/2023   103   103   255\n9       João Cancelo  2021/2022   125   357   270\n10         Luis Díaz  2023/2024   137   113   302\n11     Mohamed Salah  2021/2022   125   122   451\n12     Mohamed Salah  2022/2023   120   149   421\n13        Sadio Mané  2021/2022   105   130   305\n14       Solly March  2022/2023   110   135   357\n15     Son Heung-Min  2023/2024   119   139   325\n16     Wilfried Zaha  2021/2022   113   121   265",
      "text/html": "<div>\n<style scoped>\n    .dataframe tbody tr th:only-of-type {\n        vertical-align: middle;\n    }\n\n    .dataframe tbody tr th {\n        vertical-align: top;\n    }\n\n    .dataframe thead th {\n        text-align: right;\n    }\n</style>\n<table border=\"1\" class=\"dataframe\">\n  <thead>\n    <tr style=\"text-align: right;\">\n      <th></th>\n      <th>Player</th>\n      <th>season</th>\n      <th>PrgC</th>\n      <th>PrgP</th>\n      <th>PrgR</th>\n    </tr>\n  </thead>\n  <tbody>\n    <tr>\n      <th>0</th>\n      <td>Bernardo Silva</td>\n      <td>2021/2022</td>\n      <td>146</td>\n      <td>170</td>\n      <td>277</td>\n    </tr>\n    <tr>\n      <th>1</th>\n      <td>Bernardo Silva</td>\n      <td>2023/2024</td>\n      <td>140</td>\n      <td>177</td>\n      <td>260</td>\n    </tr>\n    <tr>\n      <th>2</th>\n      <td>Bukayo Saka</td>\n      <td>2021/2022</td>\n      <td>140</td>\n      <td>101</td>\n      <td>388</td>\n    </tr>\n    <tr>\n      <th>3</th>\n      <td>Bukayo Saka</td>\n      <td>2022/2023</td>\n      <td>179</td>\n      <td>109</td>\n      <td>520</td>\n    </tr>\n    <tr>\n      <th>4</th>\n      <td>Bukayo Saka</td>\n      <td>2023/2024</td>\n      <td>155</td>\n      <td>126</td>\n      <td>508</td>\n    </tr>\n    <tr>\n      <th>5</th>\n      <td>Dejan Kulusevski</td>\n      <td>2023/2024</td>\n      <td>151</td>\n      <td>144</td>\n      <td>388</td>\n    </tr>\n    <tr>\n      <th>6</th>\n      <td>Jack Grealish</td>\n      <td>2021/2022</td>\n      <td>153</td>\n      <td>100</td>\n      <td>267</td>\n    </tr>\n    <tr>\n      <th>7</th>\n      <td>Jack Grealish</td>\n      <td>2022/2023</td>\n      <td>143</td>\n      <td>100</td>\n      <td>310</td>\n    </tr>\n    <tr>\n      <th>8</th>\n      <td>Jack Harrison</td>\n      <td>2022/2023</td>\n      <td>103</td>\n      <td>103</td>\n      <td>255</td>\n    </tr>\n    <tr>\n      <th>9</th>\n      <td>João Cancelo</td>\n      <td>2021/2022</td>\n      <td>125</td>\n      <td>357</td>\n      <td>270</td>\n    </tr>\n    <tr>\n      <th>10</th>\n      <td>Luis Díaz</td>\n      <td>2023/2024</td>\n      <td>137</td>\n      <td>113</td>\n      <td>302</td>\n    </tr>\n    <tr>\n      <th>11</th>\n      <td>Mohamed Salah</td>\n      <td>2021/2022</td>\n      <td>125</td>\n      <td>122</td>\n      <td>451</td>\n    </tr>\n    <tr>\n      <th>12</th>\n      <td>Mohamed Salah</td>\n      <td>2022/2023</td>\n      <td>120</td>\n      <td>149</td>\n      <td>421</td>\n    </tr>\n    <tr>\n      <th>13</th>\n      <td>Sadio Mané</td>\n      <td>2021/2022</td>\n      <td>105</td>\n      <td>130</td>\n      <td>305</td>\n    </tr>\n    <tr>\n      <th>14</th>\n      <td>Solly March</td>\n      <td>2022/2023</td>\n      <td>110</td>\n      <td>135</td>\n      <td>357</td>\n    </tr>\n    <tr>\n      <th>15</th>\n      <td>Son Heung-Min</td>\n      <td>2023/2024</td>\n      <td>119</td>\n      <td>139</td>\n      <td>325</td>\n    </tr>\n    <tr>\n      <th>16</th>\n      <td>Wilfried Zaha</td>\n      <td>2021/2022</td>\n      <td>113</td>\n      <td>121</td>\n      <td>265</td>\n    </tr>\n  </tbody>\n</table>\n</div>"
     },
     "execution_count": 317,
     "metadata": {},
     "output_type": "execute_result"
    }
   ],
   "source": [
    "merged_players"
   ],
   "metadata": {
    "collapsed": false,
    "ExecuteTime": {
     "end_time": "2024-06-07T20:42:50.767976800Z",
     "start_time": "2024-06-07T20:42:50.145618300Z"
    }
   }
  },
  {
   "cell_type": "code",
   "execution_count": 327,
   "outputs": [
    {
     "data": {
      "application/vnd.plotly.v1+json": {
       "data": [
        {
         "cells": {
          "align": "left",
          "fill": {
           "color": "lavender"
          },
          "values": [
           [
            "Bernardo Silva",
            "Bernardo Silva",
            "Bukayo Saka",
            "Bukayo Saka",
            "Bukayo Saka",
            "Dejan Kulusevski",
            "Jack Grealish",
            "Jack Grealish",
            "Jack Harrison",
            "João Cancelo",
            "Luis Díaz",
            "Mohamed Salah",
            "Mohamed Salah",
            "Sadio Mané",
            "Solly March",
            "Son Heung-Min",
            "Wilfried Zaha"
           ],
           [
            "2021/2022",
            "2023/2024",
            "2021/2022",
            "2022/2023",
            "2023/2024",
            "2023/2024",
            "2021/2022",
            "2022/2023",
            "2022/2023",
            "2021/2022",
            "2023/2024",
            "2021/2022",
            "2022/2023",
            "2021/2022",
            "2022/2023",
            "2023/2024",
            "2021/2022"
           ],
           [
            146,
            140,
            140,
            179,
            155,
            151,
            153,
            143,
            103,
            125,
            137,
            125,
            120,
            105,
            110,
            119,
            113
           ],
           [
            170,
            177,
            101,
            109,
            126,
            144,
            100,
            100,
            103,
            357,
            113,
            122,
            149,
            130,
            135,
            139,
            121
           ],
           [
            277,
            260,
            388,
            520,
            508,
            388,
            267,
            310,
            255,
            270,
            302,
            451,
            421,
            305,
            357,
            325,
            265
           ]
          ]
         },
         "header": {
          "align": "left",
          "fill": {
           "color": "paleturquoise"
          },
          "values": [
           "Player",
           "season",
           "PrgC",
           "PrgP",
           "PrgR"
          ]
         },
         "type": "table"
        }
       ],
       "layout": {
        "template": {
         "data": {
          "histogram2dcontour": [
           {
            "type": "histogram2dcontour",
            "colorbar": {
             "outlinewidth": 0,
             "ticks": ""
            },
            "colorscale": [
             [
              0.0,
              "#0d0887"
             ],
             [
              0.1111111111111111,
              "#46039f"
             ],
             [
              0.2222222222222222,
              "#7201a8"
             ],
             [
              0.3333333333333333,
              "#9c179e"
             ],
             [
              0.4444444444444444,
              "#bd3786"
             ],
             [
              0.5555555555555556,
              "#d8576b"
             ],
             [
              0.6666666666666666,
              "#ed7953"
             ],
             [
              0.7777777777777778,
              "#fb9f3a"
             ],
             [
              0.8888888888888888,
              "#fdca26"
             ],
             [
              1.0,
              "#f0f921"
             ]
            ]
           }
          ],
          "choropleth": [
           {
            "type": "choropleth",
            "colorbar": {
             "outlinewidth": 0,
             "ticks": ""
            }
           }
          ],
          "histogram2d": [
           {
            "type": "histogram2d",
            "colorbar": {
             "outlinewidth": 0,
             "ticks": ""
            },
            "colorscale": [
             [
              0.0,
              "#0d0887"
             ],
             [
              0.1111111111111111,
              "#46039f"
             ],
             [
              0.2222222222222222,
              "#7201a8"
             ],
             [
              0.3333333333333333,
              "#9c179e"
             ],
             [
              0.4444444444444444,
              "#bd3786"
             ],
             [
              0.5555555555555556,
              "#d8576b"
             ],
             [
              0.6666666666666666,
              "#ed7953"
             ],
             [
              0.7777777777777778,
              "#fb9f3a"
             ],
             [
              0.8888888888888888,
              "#fdca26"
             ],
             [
              1.0,
              "#f0f921"
             ]
            ]
           }
          ],
          "heatmap": [
           {
            "type": "heatmap",
            "colorbar": {
             "outlinewidth": 0,
             "ticks": ""
            },
            "colorscale": [
             [
              0.0,
              "#0d0887"
             ],
             [
              0.1111111111111111,
              "#46039f"
             ],
             [
              0.2222222222222222,
              "#7201a8"
             ],
             [
              0.3333333333333333,
              "#9c179e"
             ],
             [
              0.4444444444444444,
              "#bd3786"
             ],
             [
              0.5555555555555556,
              "#d8576b"
             ],
             [
              0.6666666666666666,
              "#ed7953"
             ],
             [
              0.7777777777777778,
              "#fb9f3a"
             ],
             [
              0.8888888888888888,
              "#fdca26"
             ],
             [
              1.0,
              "#f0f921"
             ]
            ]
           }
          ],
          "heatmapgl": [
           {
            "type": "heatmapgl",
            "colorbar": {
             "outlinewidth": 0,
             "ticks": ""
            },
            "colorscale": [
             [
              0.0,
              "#0d0887"
             ],
             [
              0.1111111111111111,
              "#46039f"
             ],
             [
              0.2222222222222222,
              "#7201a8"
             ],
             [
              0.3333333333333333,
              "#9c179e"
             ],
             [
              0.4444444444444444,
              "#bd3786"
             ],
             [
              0.5555555555555556,
              "#d8576b"
             ],
             [
              0.6666666666666666,
              "#ed7953"
             ],
             [
              0.7777777777777778,
              "#fb9f3a"
             ],
             [
              0.8888888888888888,
              "#fdca26"
             ],
             [
              1.0,
              "#f0f921"
             ]
            ]
           }
          ],
          "contourcarpet": [
           {
            "type": "contourcarpet",
            "colorbar": {
             "outlinewidth": 0,
             "ticks": ""
            }
           }
          ],
          "contour": [
           {
            "type": "contour",
            "colorbar": {
             "outlinewidth": 0,
             "ticks": ""
            },
            "colorscale": [
             [
              0.0,
              "#0d0887"
             ],
             [
              0.1111111111111111,
              "#46039f"
             ],
             [
              0.2222222222222222,
              "#7201a8"
             ],
             [
              0.3333333333333333,
              "#9c179e"
             ],
             [
              0.4444444444444444,
              "#bd3786"
             ],
             [
              0.5555555555555556,
              "#d8576b"
             ],
             [
              0.6666666666666666,
              "#ed7953"
             ],
             [
              0.7777777777777778,
              "#fb9f3a"
             ],
             [
              0.8888888888888888,
              "#fdca26"
             ],
             [
              1.0,
              "#f0f921"
             ]
            ]
           }
          ],
          "surface": [
           {
            "type": "surface",
            "colorbar": {
             "outlinewidth": 0,
             "ticks": ""
            },
            "colorscale": [
             [
              0.0,
              "#0d0887"
             ],
             [
              0.1111111111111111,
              "#46039f"
             ],
             [
              0.2222222222222222,
              "#7201a8"
             ],
             [
              0.3333333333333333,
              "#9c179e"
             ],
             [
              0.4444444444444444,
              "#bd3786"
             ],
             [
              0.5555555555555556,
              "#d8576b"
             ],
             [
              0.6666666666666666,
              "#ed7953"
             ],
             [
              0.7777777777777778,
              "#fb9f3a"
             ],
             [
              0.8888888888888888,
              "#fdca26"
             ],
             [
              1.0,
              "#f0f921"
             ]
            ]
           }
          ],
          "mesh3d": [
           {
            "type": "mesh3d",
            "colorbar": {
             "outlinewidth": 0,
             "ticks": ""
            }
           }
          ],
          "scatter": [
           {
            "fillpattern": {
             "fillmode": "overlay",
             "size": 10,
             "solidity": 0.2
            },
            "type": "scatter"
           }
          ],
          "parcoords": [
           {
            "type": "parcoords",
            "line": {
             "colorbar": {
              "outlinewidth": 0,
              "ticks": ""
             }
            }
           }
          ],
          "scatterpolargl": [
           {
            "type": "scatterpolargl",
            "marker": {
             "colorbar": {
              "outlinewidth": 0,
              "ticks": ""
             }
            }
           }
          ],
          "bar": [
           {
            "error_x": {
             "color": "#2a3f5f"
            },
            "error_y": {
             "color": "#2a3f5f"
            },
            "marker": {
             "line": {
              "color": "#E5ECF6",
              "width": 0.5
             },
             "pattern": {
              "fillmode": "overlay",
              "size": 10,
              "solidity": 0.2
             }
            },
            "type": "bar"
           }
          ],
          "scattergeo": [
           {
            "type": "scattergeo",
            "marker": {
             "colorbar": {
              "outlinewidth": 0,
              "ticks": ""
             }
            }
           }
          ],
          "scatterpolar": [
           {
            "type": "scatterpolar",
            "marker": {
             "colorbar": {
              "outlinewidth": 0,
              "ticks": ""
             }
            }
           }
          ],
          "histogram": [
           {
            "marker": {
             "pattern": {
              "fillmode": "overlay",
              "size": 10,
              "solidity": 0.2
             }
            },
            "type": "histogram"
           }
          ],
          "scattergl": [
           {
            "type": "scattergl",
            "marker": {
             "colorbar": {
              "outlinewidth": 0,
              "ticks": ""
             }
            }
           }
          ],
          "scatter3d": [
           {
            "type": "scatter3d",
            "line": {
             "colorbar": {
              "outlinewidth": 0,
              "ticks": ""
             }
            },
            "marker": {
             "colorbar": {
              "outlinewidth": 0,
              "ticks": ""
             }
            }
           }
          ],
          "scattermapbox": [
           {
            "type": "scattermapbox",
            "marker": {
             "colorbar": {
              "outlinewidth": 0,
              "ticks": ""
             }
            }
           }
          ],
          "scatterternary": [
           {
            "type": "scatterternary",
            "marker": {
             "colorbar": {
              "outlinewidth": 0,
              "ticks": ""
             }
            }
           }
          ],
          "scattercarpet": [
           {
            "type": "scattercarpet",
            "marker": {
             "colorbar": {
              "outlinewidth": 0,
              "ticks": ""
             }
            }
           }
          ],
          "carpet": [
           {
            "aaxis": {
             "endlinecolor": "#2a3f5f",
             "gridcolor": "white",
             "linecolor": "white",
             "minorgridcolor": "white",
             "startlinecolor": "#2a3f5f"
            },
            "baxis": {
             "endlinecolor": "#2a3f5f",
             "gridcolor": "white",
             "linecolor": "white",
             "minorgridcolor": "white",
             "startlinecolor": "#2a3f5f"
            },
            "type": "carpet"
           }
          ],
          "table": [
           {
            "cells": {
             "fill": {
              "color": "#EBF0F8"
             },
             "line": {
              "color": "white"
             }
            },
            "header": {
             "fill": {
              "color": "#C8D4E3"
             },
             "line": {
              "color": "white"
             }
            },
            "type": "table"
           }
          ],
          "barpolar": [
           {
            "marker": {
             "line": {
              "color": "#E5ECF6",
              "width": 0.5
             },
             "pattern": {
              "fillmode": "overlay",
              "size": 10,
              "solidity": 0.2
             }
            },
            "type": "barpolar"
           }
          ],
          "pie": [
           {
            "automargin": true,
            "type": "pie"
           }
          ]
         },
         "layout": {
          "autotypenumbers": "strict",
          "colorway": [
           "#636efa",
           "#EF553B",
           "#00cc96",
           "#ab63fa",
           "#FFA15A",
           "#19d3f3",
           "#FF6692",
           "#B6E880",
           "#FF97FF",
           "#FECB52"
          ],
          "font": {
           "color": "#2a3f5f"
          },
          "hovermode": "closest",
          "hoverlabel": {
           "align": "left"
          },
          "paper_bgcolor": "white",
          "plot_bgcolor": "#E5ECF6",
          "polar": {
           "bgcolor": "#E5ECF6",
           "angularaxis": {
            "gridcolor": "white",
            "linecolor": "white",
            "ticks": ""
           },
           "radialaxis": {
            "gridcolor": "white",
            "linecolor": "white",
            "ticks": ""
           }
          },
          "ternary": {
           "bgcolor": "#E5ECF6",
           "aaxis": {
            "gridcolor": "white",
            "linecolor": "white",
            "ticks": ""
           },
           "baxis": {
            "gridcolor": "white",
            "linecolor": "white",
            "ticks": ""
           },
           "caxis": {
            "gridcolor": "white",
            "linecolor": "white",
            "ticks": ""
           }
          },
          "coloraxis": {
           "colorbar": {
            "outlinewidth": 0,
            "ticks": ""
           }
          },
          "colorscale": {
           "sequential": [
            [
             0.0,
             "#0d0887"
            ],
            [
             0.1111111111111111,
             "#46039f"
            ],
            [
             0.2222222222222222,
             "#7201a8"
            ],
            [
             0.3333333333333333,
             "#9c179e"
            ],
            [
             0.4444444444444444,
             "#bd3786"
            ],
            [
             0.5555555555555556,
             "#d8576b"
            ],
            [
             0.6666666666666666,
             "#ed7953"
            ],
            [
             0.7777777777777778,
             "#fb9f3a"
            ],
            [
             0.8888888888888888,
             "#fdca26"
            ],
            [
             1.0,
             "#f0f921"
            ]
           ],
           "sequentialminus": [
            [
             0.0,
             "#0d0887"
            ],
            [
             0.1111111111111111,
             "#46039f"
            ],
            [
             0.2222222222222222,
             "#7201a8"
            ],
            [
             0.3333333333333333,
             "#9c179e"
            ],
            [
             0.4444444444444444,
             "#bd3786"
            ],
            [
             0.5555555555555556,
             "#d8576b"
            ],
            [
             0.6666666666666666,
             "#ed7953"
            ],
            [
             0.7777777777777778,
             "#fb9f3a"
            ],
            [
             0.8888888888888888,
             "#fdca26"
            ],
            [
             1.0,
             "#f0f921"
            ]
           ],
           "diverging": [
            [
             0,
             "#8e0152"
            ],
            [
             0.1,
             "#c51b7d"
            ],
            [
             0.2,
             "#de77ae"
            ],
            [
             0.3,
             "#f1b6da"
            ],
            [
             0.4,
             "#fde0ef"
            ],
            [
             0.5,
             "#f7f7f7"
            ],
            [
             0.6,
             "#e6f5d0"
            ],
            [
             0.7,
             "#b8e186"
            ],
            [
             0.8,
             "#7fbc41"
            ],
            [
             0.9,
             "#4d9221"
            ],
            [
             1,
             "#276419"
            ]
           ]
          },
          "xaxis": {
           "gridcolor": "white",
           "linecolor": "white",
           "ticks": "",
           "title": {
            "standoff": 15
           },
           "zerolinecolor": "white",
           "automargin": true,
           "zerolinewidth": 2
          },
          "yaxis": {
           "gridcolor": "white",
           "linecolor": "white",
           "ticks": "",
           "title": {
            "standoff": 15
           },
           "zerolinecolor": "white",
           "automargin": true,
           "zerolinewidth": 2
          },
          "scene": {
           "xaxis": {
            "backgroundcolor": "#E5ECF6",
            "gridcolor": "white",
            "linecolor": "white",
            "showbackground": true,
            "ticks": "",
            "zerolinecolor": "white",
            "gridwidth": 2
           },
           "yaxis": {
            "backgroundcolor": "#E5ECF6",
            "gridcolor": "white",
            "linecolor": "white",
            "showbackground": true,
            "ticks": "",
            "zerolinecolor": "white",
            "gridwidth": 2
           },
           "zaxis": {
            "backgroundcolor": "#E5ECF6",
            "gridcolor": "white",
            "linecolor": "white",
            "showbackground": true,
            "ticks": "",
            "zerolinecolor": "white",
            "gridwidth": 2
           }
          },
          "shapedefaults": {
           "line": {
            "color": "#2a3f5f"
           }
          },
          "annotationdefaults": {
           "arrowcolor": "#2a3f5f",
           "arrowhead": 0,
           "arrowwidth": 1
          },
          "geo": {
           "bgcolor": "white",
           "landcolor": "#E5ECF6",
           "subunitcolor": "white",
           "showland": true,
           "showlakes": true,
           "lakecolor": "white"
          },
          "title": {
           "x": 0.05
          },
          "mapbox": {
           "style": "light"
          }
         }
        },
        "width": 1000,
        "height": 800
       },
       "config": {
        "plotlyServerURL": "https://plot.ly"
       }
      },
      "text/html": "<div>                            <div id=\"1d3a412b-6591-4a55-b567-53d32f5c137f\" class=\"plotly-graph-div\" style=\"height:800px; width:1000px;\"></div>            <script type=\"text/javascript\">                require([\"plotly\"], function(Plotly) {                    window.PLOTLYENV=window.PLOTLYENV || {};                                    if (document.getElementById(\"1d3a412b-6591-4a55-b567-53d32f5c137f\")) {                    Plotly.newPlot(                        \"1d3a412b-6591-4a55-b567-53d32f5c137f\",                        [{\"cells\":{\"align\":\"left\",\"fill\":{\"color\":\"lavender\"},\"values\":[[\"Bernardo Silva\",\"Bernardo Silva\",\"Bukayo Saka\",\"Bukayo Saka\",\"Bukayo Saka\",\"Dejan Kulusevski\",\"Jack Grealish\",\"Jack Grealish\",\"Jack Harrison\",\"Jo\\u00e3o Cancelo\",\"Luis D\\u00edaz\",\"Mohamed Salah\",\"Mohamed Salah\",\"Sadio Man\\u00e9\",\"Solly March\",\"Son Heung-Min\",\"Wilfried Zaha\"],[\"2021\\u002f2022\",\"2023\\u002f2024\",\"2021\\u002f2022\",\"2022\\u002f2023\",\"2023\\u002f2024\",\"2023\\u002f2024\",\"2021\\u002f2022\",\"2022\\u002f2023\",\"2022\\u002f2023\",\"2021\\u002f2022\",\"2023\\u002f2024\",\"2021\\u002f2022\",\"2022\\u002f2023\",\"2021\\u002f2022\",\"2022\\u002f2023\",\"2023\\u002f2024\",\"2021\\u002f2022\"],[146,140,140,179,155,151,153,143,103,125,137,125,120,105,110,119,113],[170,177,101,109,126,144,100,100,103,357,113,122,149,130,135,139,121],[277,260,388,520,508,388,267,310,255,270,302,451,421,305,357,325,265]]},\"header\":{\"align\":\"left\",\"fill\":{\"color\":\"paleturquoise\"},\"values\":[\"Player\",\"season\",\"PrgC\",\"PrgP\",\"PrgR\"]},\"type\":\"table\"}],                        {\"template\":{\"data\":{\"histogram2dcontour\":[{\"type\":\"histogram2dcontour\",\"colorbar\":{\"outlinewidth\":0,\"ticks\":\"\"},\"colorscale\":[[0.0,\"#0d0887\"],[0.1111111111111111,\"#46039f\"],[0.2222222222222222,\"#7201a8\"],[0.3333333333333333,\"#9c179e\"],[0.4444444444444444,\"#bd3786\"],[0.5555555555555556,\"#d8576b\"],[0.6666666666666666,\"#ed7953\"],[0.7777777777777778,\"#fb9f3a\"],[0.8888888888888888,\"#fdca26\"],[1.0,\"#f0f921\"]]}],\"choropleth\":[{\"type\":\"choropleth\",\"colorbar\":{\"outlinewidth\":0,\"ticks\":\"\"}}],\"histogram2d\":[{\"type\":\"histogram2d\",\"colorbar\":{\"outlinewidth\":0,\"ticks\":\"\"},\"colorscale\":[[0.0,\"#0d0887\"],[0.1111111111111111,\"#46039f\"],[0.2222222222222222,\"#7201a8\"],[0.3333333333333333,\"#9c179e\"],[0.4444444444444444,\"#bd3786\"],[0.5555555555555556,\"#d8576b\"],[0.6666666666666666,\"#ed7953\"],[0.7777777777777778,\"#fb9f3a\"],[0.8888888888888888,\"#fdca26\"],[1.0,\"#f0f921\"]]}],\"heatmap\":[{\"type\":\"heatmap\",\"colorbar\":{\"outlinewidth\":0,\"ticks\":\"\"},\"colorscale\":[[0.0,\"#0d0887\"],[0.1111111111111111,\"#46039f\"],[0.2222222222222222,\"#7201a8\"],[0.3333333333333333,\"#9c179e\"],[0.4444444444444444,\"#bd3786\"],[0.5555555555555556,\"#d8576b\"],[0.6666666666666666,\"#ed7953\"],[0.7777777777777778,\"#fb9f3a\"],[0.8888888888888888,\"#fdca26\"],[1.0,\"#f0f921\"]]}],\"heatmapgl\":[{\"type\":\"heatmapgl\",\"colorbar\":{\"outlinewidth\":0,\"ticks\":\"\"},\"colorscale\":[[0.0,\"#0d0887\"],[0.1111111111111111,\"#46039f\"],[0.2222222222222222,\"#7201a8\"],[0.3333333333333333,\"#9c179e\"],[0.4444444444444444,\"#bd3786\"],[0.5555555555555556,\"#d8576b\"],[0.6666666666666666,\"#ed7953\"],[0.7777777777777778,\"#fb9f3a\"],[0.8888888888888888,\"#fdca26\"],[1.0,\"#f0f921\"]]}],\"contourcarpet\":[{\"type\":\"contourcarpet\",\"colorbar\":{\"outlinewidth\":0,\"ticks\":\"\"}}],\"contour\":[{\"type\":\"contour\",\"colorbar\":{\"outlinewidth\":0,\"ticks\":\"\"},\"colorscale\":[[0.0,\"#0d0887\"],[0.1111111111111111,\"#46039f\"],[0.2222222222222222,\"#7201a8\"],[0.3333333333333333,\"#9c179e\"],[0.4444444444444444,\"#bd3786\"],[0.5555555555555556,\"#d8576b\"],[0.6666666666666666,\"#ed7953\"],[0.7777777777777778,\"#fb9f3a\"],[0.8888888888888888,\"#fdca26\"],[1.0,\"#f0f921\"]]}],\"surface\":[{\"type\":\"surface\",\"colorbar\":{\"outlinewidth\":0,\"ticks\":\"\"},\"colorscale\":[[0.0,\"#0d0887\"],[0.1111111111111111,\"#46039f\"],[0.2222222222222222,\"#7201a8\"],[0.3333333333333333,\"#9c179e\"],[0.4444444444444444,\"#bd3786\"],[0.5555555555555556,\"#d8576b\"],[0.6666666666666666,\"#ed7953\"],[0.7777777777777778,\"#fb9f3a\"],[0.8888888888888888,\"#fdca26\"],[1.0,\"#f0f921\"]]}],\"mesh3d\":[{\"type\":\"mesh3d\",\"colorbar\":{\"outlinewidth\":0,\"ticks\":\"\"}}],\"scatter\":[{\"fillpattern\":{\"fillmode\":\"overlay\",\"size\":10,\"solidity\":0.2},\"type\":\"scatter\"}],\"parcoords\":[{\"type\":\"parcoords\",\"line\":{\"colorbar\":{\"outlinewidth\":0,\"ticks\":\"\"}}}],\"scatterpolargl\":[{\"type\":\"scatterpolargl\",\"marker\":{\"colorbar\":{\"outlinewidth\":0,\"ticks\":\"\"}}}],\"bar\":[{\"error_x\":{\"color\":\"#2a3f5f\"},\"error_y\":{\"color\":\"#2a3f5f\"},\"marker\":{\"line\":{\"color\":\"#E5ECF6\",\"width\":0.5},\"pattern\":{\"fillmode\":\"overlay\",\"size\":10,\"solidity\":0.2}},\"type\":\"bar\"}],\"scattergeo\":[{\"type\":\"scattergeo\",\"marker\":{\"colorbar\":{\"outlinewidth\":0,\"ticks\":\"\"}}}],\"scatterpolar\":[{\"type\":\"scatterpolar\",\"marker\":{\"colorbar\":{\"outlinewidth\":0,\"ticks\":\"\"}}}],\"histogram\":[{\"marker\":{\"pattern\":{\"fillmode\":\"overlay\",\"size\":10,\"solidity\":0.2}},\"type\":\"histogram\"}],\"scattergl\":[{\"type\":\"scattergl\",\"marker\":{\"colorbar\":{\"outlinewidth\":0,\"ticks\":\"\"}}}],\"scatter3d\":[{\"type\":\"scatter3d\",\"line\":{\"colorbar\":{\"outlinewidth\":0,\"ticks\":\"\"}},\"marker\":{\"colorbar\":{\"outlinewidth\":0,\"ticks\":\"\"}}}],\"scattermapbox\":[{\"type\":\"scattermapbox\",\"marker\":{\"colorbar\":{\"outlinewidth\":0,\"ticks\":\"\"}}}],\"scatterternary\":[{\"type\":\"scatterternary\",\"marker\":{\"colorbar\":{\"outlinewidth\":0,\"ticks\":\"\"}}}],\"scattercarpet\":[{\"type\":\"scattercarpet\",\"marker\":{\"colorbar\":{\"outlinewidth\":0,\"ticks\":\"\"}}}],\"carpet\":[{\"aaxis\":{\"endlinecolor\":\"#2a3f5f\",\"gridcolor\":\"white\",\"linecolor\":\"white\",\"minorgridcolor\":\"white\",\"startlinecolor\":\"#2a3f5f\"},\"baxis\":{\"endlinecolor\":\"#2a3f5f\",\"gridcolor\":\"white\",\"linecolor\":\"white\",\"minorgridcolor\":\"white\",\"startlinecolor\":\"#2a3f5f\"},\"type\":\"carpet\"}],\"table\":[{\"cells\":{\"fill\":{\"color\":\"#EBF0F8\"},\"line\":{\"color\":\"white\"}},\"header\":{\"fill\":{\"color\":\"#C8D4E3\"},\"line\":{\"color\":\"white\"}},\"type\":\"table\"}],\"barpolar\":[{\"marker\":{\"line\":{\"color\":\"#E5ECF6\",\"width\":0.5},\"pattern\":{\"fillmode\":\"overlay\",\"size\":10,\"solidity\":0.2}},\"type\":\"barpolar\"}],\"pie\":[{\"automargin\":true,\"type\":\"pie\"}]},\"layout\":{\"autotypenumbers\":\"strict\",\"colorway\":[\"#636efa\",\"#EF553B\",\"#00cc96\",\"#ab63fa\",\"#FFA15A\",\"#19d3f3\",\"#FF6692\",\"#B6E880\",\"#FF97FF\",\"#FECB52\"],\"font\":{\"color\":\"#2a3f5f\"},\"hovermode\":\"closest\",\"hoverlabel\":{\"align\":\"left\"},\"paper_bgcolor\":\"white\",\"plot_bgcolor\":\"#E5ECF6\",\"polar\":{\"bgcolor\":\"#E5ECF6\",\"angularaxis\":{\"gridcolor\":\"white\",\"linecolor\":\"white\",\"ticks\":\"\"},\"radialaxis\":{\"gridcolor\":\"white\",\"linecolor\":\"white\",\"ticks\":\"\"}},\"ternary\":{\"bgcolor\":\"#E5ECF6\",\"aaxis\":{\"gridcolor\":\"white\",\"linecolor\":\"white\",\"ticks\":\"\"},\"baxis\":{\"gridcolor\":\"white\",\"linecolor\":\"white\",\"ticks\":\"\"},\"caxis\":{\"gridcolor\":\"white\",\"linecolor\":\"white\",\"ticks\":\"\"}},\"coloraxis\":{\"colorbar\":{\"outlinewidth\":0,\"ticks\":\"\"}},\"colorscale\":{\"sequential\":[[0.0,\"#0d0887\"],[0.1111111111111111,\"#46039f\"],[0.2222222222222222,\"#7201a8\"],[0.3333333333333333,\"#9c179e\"],[0.4444444444444444,\"#bd3786\"],[0.5555555555555556,\"#d8576b\"],[0.6666666666666666,\"#ed7953\"],[0.7777777777777778,\"#fb9f3a\"],[0.8888888888888888,\"#fdca26\"],[1.0,\"#f0f921\"]],\"sequentialminus\":[[0.0,\"#0d0887\"],[0.1111111111111111,\"#46039f\"],[0.2222222222222222,\"#7201a8\"],[0.3333333333333333,\"#9c179e\"],[0.4444444444444444,\"#bd3786\"],[0.5555555555555556,\"#d8576b\"],[0.6666666666666666,\"#ed7953\"],[0.7777777777777778,\"#fb9f3a\"],[0.8888888888888888,\"#fdca26\"],[1.0,\"#f0f921\"]],\"diverging\":[[0,\"#8e0152\"],[0.1,\"#c51b7d\"],[0.2,\"#de77ae\"],[0.3,\"#f1b6da\"],[0.4,\"#fde0ef\"],[0.5,\"#f7f7f7\"],[0.6,\"#e6f5d0\"],[0.7,\"#b8e186\"],[0.8,\"#7fbc41\"],[0.9,\"#4d9221\"],[1,\"#276419\"]]},\"xaxis\":{\"gridcolor\":\"white\",\"linecolor\":\"white\",\"ticks\":\"\",\"title\":{\"standoff\":15},\"zerolinecolor\":\"white\",\"automargin\":true,\"zerolinewidth\":2},\"yaxis\":{\"gridcolor\":\"white\",\"linecolor\":\"white\",\"ticks\":\"\",\"title\":{\"standoff\":15},\"zerolinecolor\":\"white\",\"automargin\":true,\"zerolinewidth\":2},\"scene\":{\"xaxis\":{\"backgroundcolor\":\"#E5ECF6\",\"gridcolor\":\"white\",\"linecolor\":\"white\",\"showbackground\":true,\"ticks\":\"\",\"zerolinecolor\":\"white\",\"gridwidth\":2},\"yaxis\":{\"backgroundcolor\":\"#E5ECF6\",\"gridcolor\":\"white\",\"linecolor\":\"white\",\"showbackground\":true,\"ticks\":\"\",\"zerolinecolor\":\"white\",\"gridwidth\":2},\"zaxis\":{\"backgroundcolor\":\"#E5ECF6\",\"gridcolor\":\"white\",\"linecolor\":\"white\",\"showbackground\":true,\"ticks\":\"\",\"zerolinecolor\":\"white\",\"gridwidth\":2}},\"shapedefaults\":{\"line\":{\"color\":\"#2a3f5f\"}},\"annotationdefaults\":{\"arrowcolor\":\"#2a3f5f\",\"arrowhead\":0,\"arrowwidth\":1},\"geo\":{\"bgcolor\":\"white\",\"landcolor\":\"#E5ECF6\",\"subunitcolor\":\"white\",\"showland\":true,\"showlakes\":true,\"lakecolor\":\"white\"},\"title\":{\"x\":0.05},\"mapbox\":{\"style\":\"light\"}}},\"width\":1000,\"height\":800},                        {\"responsive\": true}                    ).then(function(){\n                            \nvar gd = document.getElementById('1d3a412b-6591-4a55-b567-53d32f5c137f');\nvar x = new MutationObserver(function (mutations, observer) {{\n        var display = window.getComputedStyle(gd).display;\n        if (!display || display === 'none') {{\n            console.log([gd, 'removed!']);\n            Plotly.purge(gd);\n            observer.disconnect();\n        }}\n}});\n\n// Listen for the removal of the full notebook cells\nvar notebookContainer = gd.closest('#notebook-container');\nif (notebookContainer) {{\n    x.observe(notebookContainer, {childList: true});\n}}\n\n// Listen for the clearing of the current output cell\nvar outputEl = gd.closest('.output');\nif (outputEl) {{\n    x.observe(outputEl, {childList: true});\n}}\n\n                        })                };                });            </script>        </div>"
     },
     "metadata": {},
     "output_type": "display_data"
    }
   ],
   "source": [
    "fig = go.Figure(data=[go.Table(\n",
    "    header=dict(values=list(merged_players.columns),\n",
    "                fill_color='paleturquoise',\n",
    "                align='left'),\n",
    "    cells=dict(values=[merged_players.Player, merged_players.season,merged_players.PrgC,merged_players.PrgP,merged_players.PrgR],\n",
    "               fill_color='lavender',\n",
    "               align='left'))\n",
    "])\n",
    "fig.update_layout(width=1000,height=800)\n",
    "go.Layout(title='Players with the most progressive carries, receives and passes in 2021/2022, 2022/2023 & 2023/2024 season')\n",
    "fig.show()"
   ],
   "metadata": {
    "collapsed": false,
    "ExecuteTime": {
     "end_time": "2024-06-07T21:01:16.487341800Z",
     "start_time": "2024-06-07T21:01:16.374362100Z"
    }
   }
  },
  {
   "cell_type": "code",
   "execution_count": null,
   "outputs": [],
   "source": [],
   "metadata": {
    "collapsed": false
   }
  },
  {
   "cell_type": "markdown",
   "source": [
    "Most penalised"
   ],
   "metadata": {
    "collapsed": false
   }
  },
  {
   "cell_type": "code",
   "execution_count": 307,
   "outputs": [],
   "source": [
    "del stats_df['is_top_player']"
   ],
   "metadata": {
    "collapsed": false,
    "ExecuteTime": {
     "end_time": "2024-06-07T17:11:22.579615800Z",
     "start_time": "2024-06-07T17:11:22.530380800Z"
    }
   }
  },
  {
   "cell_type": "code",
   "execution_count": null,
   "outputs": [],
   "source": [
    "import pandas as pd\n",
    "import plotly.express as px\n",
    "\n",
    "\n",
    "\n",
    "\n",
    "stats_df['Total_Cards'] = stats_df['CrdY'] + stats_df['CrdR']\n",
    "\n",
    "\n",
    "agg_df = stats_df.groupby(['Squad', 'season'])['Total_Cards'].sum().reset_index()\n",
    "\n",
    "\n",
    "agg_df['season'] = pd.Categorical(agg_df['season'], ordered=True)\n",
    "\n",
    "\n",
    "agg_df = agg_df.sort_values('season')\n",
    "\n",
    "\n",
    "max_cards_df = agg_df.loc[agg_df.groupby('season')['Total_Cards'].idxmax()]\n",
    "\n",
    "\n",
    "fig = px.scatter(max_cards_df, x='season', y='Total_Cards', color='Squad', size='Total_Cards',\n",
    "                 hover_data=['Squad', 'Total_Cards'],\n",
    "                 title='Teams with Highest Total Red and Yellow Cards per Season')\n",
    "\n",
    "fig.update_layout(xaxis={'categoryorder':'category ascending'})\n",
    "\n",
    "fig.show()\n"
   ],
   "metadata": {
    "collapsed": false
   }
  },
  {
   "cell_type": "code",
   "execution_count": null,
   "outputs": [],
   "source": [],
   "metadata": {
    "collapsed": false
   }
  }
 ],
 "metadata": {
  "kernelspec": {
   "display_name": "Python 3",
   "language": "python",
   "name": "python3"
  },
  "language_info": {
   "codemirror_mode": {
    "name": "ipython",
    "version": 2
   },
   "file_extension": ".py",
   "mimetype": "text/x-python",
   "name": "python",
   "nbconvert_exporter": "python",
   "pygments_lexer": "ipython2",
   "version": "2.7.6"
  }
 },
 "nbformat": 4,
 "nbformat_minor": 0
}
