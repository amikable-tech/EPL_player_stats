{
 "cells": [
  {
   "cell_type": "raw",
   "source": [
    "!#%%\n",
    "pip install scikit-learn\n",
    "!pip install pandas"
   ],
   "metadata": {
    "collapsed": false
   }
  },
  {
   "cell_type": "code",
   "execution_count": 100,
   "metadata": {
    "collapsed": true,
    "ExecuteTime": {
     "end_time": "2024-06-07T21:52:40.265557600Z",
     "start_time": "2024-06-07T21:52:40.242574Z"
    }
   },
   "outputs": [],
   "source": [
    "import pandas as pd\n",
    "from sklearn.linear_model import LinearRegression, Ridge\n",
    "from sklearn.model_selection import train_test_split\n",
    "from sklearn.metrics import mean_squared_error"
   ]
  },
  {
   "cell_type": "code",
   "execution_count": 101,
   "outputs": [],
   "source": [
    "ml_df = pd.read_csv(\"output_files/correctly_grouped_data.csv\")"
   ],
   "metadata": {
    "collapsed": false,
    "ExecuteTime": {
     "end_time": "2024-06-07T21:52:41.199217500Z",
     "start_time": "2024-06-07T21:52:41.028768200Z"
    }
   }
  },
  {
   "cell_type": "code",
   "execution_count": 102,
   "outputs": [],
   "source": [
    "del ml_df[\"Unnamed: 0\"]"
   ],
   "metadata": {
    "collapsed": false,
    "ExecuteTime": {
     "end_time": "2024-06-07T21:52:42.195859900Z",
     "start_time": "2024-06-07T21:52:42.155566100Z"
    }
   }
  },
  {
   "cell_type": "code",
   "execution_count": 103,
   "outputs": [
    {
     "data": {
      "text/plain": "                 Player    Pos     Squad  Age  MP  Starts   Min   90s  Gls  \\\n0        Aaron Connolly     FW  Brighton   19  24      14  1258  14.0    3   \n1        Aaron Connolly     FW  Brighton   20  17       9   791   8.8    2   \n2        Aaron Connolly  FW,MF  Brighton   21   4       1   156   1.7    0   \n3       Aaron Cresswell  DF,MF  West Ham   24  38      38  3420  38.0    2   \n4       Aaron Cresswell     DF  West Ham   25  37      37  3314  36.8    2   \n...                 ...    ...       ...  ...  ..     ...   ...   ...  ...   \n17523  Łukasz Fabiański     GK  West Ham   34  25      25  2117  23.5    0   \n17524  Łukasz Fabiański     GK  West Ham   35  35      35  3150  35.0    0   \n17525  Łukasz Fabiański     GK  West Ham   36  37      37  3330  37.0    0   \n17526  Łukasz Fabiański     GK  West Ham   37  36      36  3111  34.6    0   \n17527  Łukasz Fabiański     GK  West Ham   38  10       7   721   8.0    0   \n\n       Ast  ...  year     season   xG  npxG  xAG  npxG+xAG  PrgC  PrgP  PrgR  \\\n0        1  ...  2019  2019/2020  4.0   4.0  0.5       4.5    21    10    86   \n1        1  ...  2020  2020/2021  4.0   4.0  0.2       4.2    12     4    58   \n2        0  ...  2021  2021/2022  0.4   0.4  0.1       0.5     3     1     7   \n3        4  ...  2014  2014/2015  0.0   0.0  0.0       0.0     0     0     0   \n4        4  ...  2015  2015/2016  0.0   0.0  0.0       0.0     0     0     0   \n...    ...  ...   ...        ...  ...   ...  ...       ...   ...   ...   ...   \n17523    0  ...  2019  2019/2020  0.0   0.0  0.0       0.0     0     0     0   \n17524    0  ...  2020  2020/2021  0.0   0.0  0.0       0.0     0     0     0   \n17525    0  ...  2021  2021/2022  0.0   0.0  0.0       0.0     0     0     0   \n17526    0  ...  2022  2022/2023  0.0   0.0  0.0       0.0     0     0     0   \n17527    0  ...  2023  2023/2024  0.0   0.0  0.0       0.0     0     1     0   \n\n       poy_winner  \n0               0  \n1               0  \n2               0  \n3               0  \n4               0  \n...           ...  \n17523           0  \n17524           0  \n17525           0  \n17526           0  \n17527           0  \n\n[17528 rows x 23 columns]",
      "text/html": "<div>\n<style scoped>\n    .dataframe tbody tr th:only-of-type {\n        vertical-align: middle;\n    }\n\n    .dataframe tbody tr th {\n        vertical-align: top;\n    }\n\n    .dataframe thead th {\n        text-align: right;\n    }\n</style>\n<table border=\"1\" class=\"dataframe\">\n  <thead>\n    <tr style=\"text-align: right;\">\n      <th></th>\n      <th>Player</th>\n      <th>Pos</th>\n      <th>Squad</th>\n      <th>Age</th>\n      <th>MP</th>\n      <th>Starts</th>\n      <th>Min</th>\n      <th>90s</th>\n      <th>Gls</th>\n      <th>Ast</th>\n      <th>...</th>\n      <th>year</th>\n      <th>season</th>\n      <th>xG</th>\n      <th>npxG</th>\n      <th>xAG</th>\n      <th>npxG+xAG</th>\n      <th>PrgC</th>\n      <th>PrgP</th>\n      <th>PrgR</th>\n      <th>poy_winner</th>\n    </tr>\n  </thead>\n  <tbody>\n    <tr>\n      <th>0</th>\n      <td>Aaron Connolly</td>\n      <td>FW</td>\n      <td>Brighton</td>\n      <td>19</td>\n      <td>24</td>\n      <td>14</td>\n      <td>1258</td>\n      <td>14.0</td>\n      <td>3</td>\n      <td>1</td>\n      <td>...</td>\n      <td>2019</td>\n      <td>2019/2020</td>\n      <td>4.0</td>\n      <td>4.0</td>\n      <td>0.5</td>\n      <td>4.5</td>\n      <td>21</td>\n      <td>10</td>\n      <td>86</td>\n      <td>0</td>\n    </tr>\n    <tr>\n      <th>1</th>\n      <td>Aaron Connolly</td>\n      <td>FW</td>\n      <td>Brighton</td>\n      <td>20</td>\n      <td>17</td>\n      <td>9</td>\n      <td>791</td>\n      <td>8.8</td>\n      <td>2</td>\n      <td>1</td>\n      <td>...</td>\n      <td>2020</td>\n      <td>2020/2021</td>\n      <td>4.0</td>\n      <td>4.0</td>\n      <td>0.2</td>\n      <td>4.2</td>\n      <td>12</td>\n      <td>4</td>\n      <td>58</td>\n      <td>0</td>\n    </tr>\n    <tr>\n      <th>2</th>\n      <td>Aaron Connolly</td>\n      <td>FW,MF</td>\n      <td>Brighton</td>\n      <td>21</td>\n      <td>4</td>\n      <td>1</td>\n      <td>156</td>\n      <td>1.7</td>\n      <td>0</td>\n      <td>0</td>\n      <td>...</td>\n      <td>2021</td>\n      <td>2021/2022</td>\n      <td>0.4</td>\n      <td>0.4</td>\n      <td>0.1</td>\n      <td>0.5</td>\n      <td>3</td>\n      <td>1</td>\n      <td>7</td>\n      <td>0</td>\n    </tr>\n    <tr>\n      <th>3</th>\n      <td>Aaron Cresswell</td>\n      <td>DF,MF</td>\n      <td>West Ham</td>\n      <td>24</td>\n      <td>38</td>\n      <td>38</td>\n      <td>3420</td>\n      <td>38.0</td>\n      <td>2</td>\n      <td>4</td>\n      <td>...</td>\n      <td>2014</td>\n      <td>2014/2015</td>\n      <td>0.0</td>\n      <td>0.0</td>\n      <td>0.0</td>\n      <td>0.0</td>\n      <td>0</td>\n      <td>0</td>\n      <td>0</td>\n      <td>0</td>\n    </tr>\n    <tr>\n      <th>4</th>\n      <td>Aaron Cresswell</td>\n      <td>DF</td>\n      <td>West Ham</td>\n      <td>25</td>\n      <td>37</td>\n      <td>37</td>\n      <td>3314</td>\n      <td>36.8</td>\n      <td>2</td>\n      <td>4</td>\n      <td>...</td>\n      <td>2015</td>\n      <td>2015/2016</td>\n      <td>0.0</td>\n      <td>0.0</td>\n      <td>0.0</td>\n      <td>0.0</td>\n      <td>0</td>\n      <td>0</td>\n      <td>0</td>\n      <td>0</td>\n    </tr>\n    <tr>\n      <th>...</th>\n      <td>...</td>\n      <td>...</td>\n      <td>...</td>\n      <td>...</td>\n      <td>...</td>\n      <td>...</td>\n      <td>...</td>\n      <td>...</td>\n      <td>...</td>\n      <td>...</td>\n      <td>...</td>\n      <td>...</td>\n      <td>...</td>\n      <td>...</td>\n      <td>...</td>\n      <td>...</td>\n      <td>...</td>\n      <td>...</td>\n      <td>...</td>\n      <td>...</td>\n      <td>...</td>\n    </tr>\n    <tr>\n      <th>17523</th>\n      <td>Łukasz Fabiański</td>\n      <td>GK</td>\n      <td>West Ham</td>\n      <td>34</td>\n      <td>25</td>\n      <td>25</td>\n      <td>2117</td>\n      <td>23.5</td>\n      <td>0</td>\n      <td>0</td>\n      <td>...</td>\n      <td>2019</td>\n      <td>2019/2020</td>\n      <td>0.0</td>\n      <td>0.0</td>\n      <td>0.0</td>\n      <td>0.0</td>\n      <td>0</td>\n      <td>0</td>\n      <td>0</td>\n      <td>0</td>\n    </tr>\n    <tr>\n      <th>17524</th>\n      <td>Łukasz Fabiański</td>\n      <td>GK</td>\n      <td>West Ham</td>\n      <td>35</td>\n      <td>35</td>\n      <td>35</td>\n      <td>3150</td>\n      <td>35.0</td>\n      <td>0</td>\n      <td>0</td>\n      <td>...</td>\n      <td>2020</td>\n      <td>2020/2021</td>\n      <td>0.0</td>\n      <td>0.0</td>\n      <td>0.0</td>\n      <td>0.0</td>\n      <td>0</td>\n      <td>0</td>\n      <td>0</td>\n      <td>0</td>\n    </tr>\n    <tr>\n      <th>17525</th>\n      <td>Łukasz Fabiański</td>\n      <td>GK</td>\n      <td>West Ham</td>\n      <td>36</td>\n      <td>37</td>\n      <td>37</td>\n      <td>3330</td>\n      <td>37.0</td>\n      <td>0</td>\n      <td>0</td>\n      <td>...</td>\n      <td>2021</td>\n      <td>2021/2022</td>\n      <td>0.0</td>\n      <td>0.0</td>\n      <td>0.0</td>\n      <td>0.0</td>\n      <td>0</td>\n      <td>0</td>\n      <td>0</td>\n      <td>0</td>\n    </tr>\n    <tr>\n      <th>17526</th>\n      <td>Łukasz Fabiański</td>\n      <td>GK</td>\n      <td>West Ham</td>\n      <td>37</td>\n      <td>36</td>\n      <td>36</td>\n      <td>3111</td>\n      <td>34.6</td>\n      <td>0</td>\n      <td>0</td>\n      <td>...</td>\n      <td>2022</td>\n      <td>2022/2023</td>\n      <td>0.0</td>\n      <td>0.0</td>\n      <td>0.0</td>\n      <td>0.0</td>\n      <td>0</td>\n      <td>0</td>\n      <td>0</td>\n      <td>0</td>\n    </tr>\n    <tr>\n      <th>17527</th>\n      <td>Łukasz Fabiański</td>\n      <td>GK</td>\n      <td>West Ham</td>\n      <td>38</td>\n      <td>10</td>\n      <td>7</td>\n      <td>721</td>\n      <td>8.0</td>\n      <td>0</td>\n      <td>0</td>\n      <td>...</td>\n      <td>2023</td>\n      <td>2023/2024</td>\n      <td>0.0</td>\n      <td>0.0</td>\n      <td>0.0</td>\n      <td>0.0</td>\n      <td>0</td>\n      <td>1</td>\n      <td>0</td>\n      <td>0</td>\n    </tr>\n  </tbody>\n</table>\n<p>17528 rows × 23 columns</p>\n</div>"
     },
     "execution_count": 103,
     "metadata": {},
     "output_type": "execute_result"
    }
   ],
   "source": [
    "ml_df"
   ],
   "metadata": {
    "collapsed": false,
    "ExecuteTime": {
     "end_time": "2024-06-07T21:52:43.415466400Z",
     "start_time": "2024-06-07T21:52:43.331913700Z"
    }
   }
  },
  {
   "cell_type": "code",
   "execution_count": 104,
   "outputs": [],
   "source": [
    "duplicate_df = ml_df.copy()"
   ],
   "metadata": {
    "collapsed": false,
    "ExecuteTime": {
     "end_time": "2024-06-07T21:52:44.882361Z",
     "start_time": "2024-06-07T21:52:44.851953900Z"
    }
   }
  },
  {
   "cell_type": "code",
   "execution_count": 105,
   "outputs": [
    {
     "data": {
      "text/plain": "                    Player    Pos            Squad  Age  MP  Starts   Min  \\\n412           Alan Shearer     FW        Blackburn   23  42      42  3770   \n3026     Cristiano Ronaldo  FW,MF   Manchester Utd   22  34      31  2747   \n3027     Cristiano Ronaldo  FW,MF   Manchester Utd   23  33      31  2742   \n4589          Dwight Yorke  FW,MF   Manchester Utd   26  32      32  2781   \n4648           Eden Hazard  FW,MF          Chelsea   23  38      38  3367   \n4923          Eric Cantona     FW   Manchester Utd   27  34      34  2987   \n4980        Erling Haaland     FW  Manchester City   22  35      33  2769   \n5273         Frank Lampard     MF          Chelsea   26  38      38  3413   \n5343     Freddie Ljungberg  FW,MF          Arsenal   24  25      24  1904   \n5452           Gareth Bale  FW,MF        Tottenham   23  33      33  2921   \n7220           Jamie Vardy     FW   Leicester City   28  36      36  3133   \n8753      Juninho Paulista     MF    Middlesbrough   23  35      34  3040   \n9099       Kevin De Bruyne     MF  Manchester City   28  35      32  2791   \n9101       Kevin De Bruyne     MF  Manchester City   30  30      25  2201   \n9209        Kevin Phillips     FW       Sunderland   26  36      36  3198   \n10029          Luis Suárez     FW        Liverpool   26  33      33  2962   \n11457         Michael Owen     FW        Liverpool   17  36      34  3003   \n11735        Mohamed Salah     FW        Liverpool   25  36      34  2907   \n11865         N'Golo Kanté     MF          Chelsea   25  35      35  3138   \n12170        Nemanja Vidić     DF   Manchester Utd   26  34      33  2981   \n12172        Nemanja Vidić     DF   Manchester Utd   28  35      35  3115   \n12820       Patrick Vieira     MF          Arsenal   24  30      28  2552   \n12997         Paul Mcgrath     DF      Aston Villa   32  42      42  3750   \n13352     Peter Schmeichel     GK   Manchester Utd   31  36      36  3195   \n13417           Phil Foden  FW,MF  Manchester City   23  35      33  2857   \n14464  Ruud Van Nistelrooy     FW   Manchester Utd   26  34      33  2907   \n14595           Rúben Dias     DF  Manchester City   23  32      32  2843   \n16276        Thierry Henry     FW          Arsenal   25  37      37  3330   \n16278        Thierry Henry     FW          Arsenal   27  32      30  2672   \n16906      Vincent Kompany     DF  Manchester City   25  31      31  2774   \n16935      Virgil Van Dijk     DF        Liverpool   27  38      38  3384   \n17055         Wayne Rooney  FW,MF   Manchester Utd   23  32      32  2728   \n\n        90s  Gls  Ast  ...  year     season    xG  npxG   xAG  npxG+xAG  PrgC  \\\n412    41.9   34   13  ...  1994  1994/1995   0.0   0.0   0.0       0.0     0   \n3026   30.5   31    6  ...  2007  2007/2008   0.0   0.0   0.0       0.0     0   \n3027   30.5   18    6  ...  2008  2008/2009   0.0   0.0   0.0       0.0     0   \n4589   30.9   18   11  ...  1998  1998/1999   1.0   0.0   0.0       0.0     0   \n4648   37.4   14    9  ...  2014  2014/2015   0.0   0.0   0.0       0.0     0   \n4923   33.2   18   12  ...  1993  1993/1994   0.0   0.0   0.0       0.0     0   \n4980   30.8   36    8  ...  2022  2022/2023  28.4  23.0   5.3      28.3    35   \n5273   37.9   13   18  ...  2004  2004/2005   0.0   0.0   0.0       0.0     0   \n5343   21.2   12    4  ...  2001  2001/2002   0.0   0.0   0.0       0.0     0   \n5452   32.5   21    4  ...  2012  2012/2013   0.0   0.0   0.0       0.0     0   \n7220   34.8   24    6  ...  2015  2015/2016   0.0   0.0   0.0       0.0     0   \n8753   33.8   12    8  ...  1996  1996/1997   0.0   0.0   0.0       0.0     0   \n9099   31.0   13   20  ...  2019  2019/2020   7.3   5.8  20.0      25.8   139   \n9101   24.5   15    8  ...  2021  2021/2022   5.7   5.7  10.4      16.1    84   \n9209   35.5   30    4  ...  1999  1999/2000   0.0   0.0   0.0       0.0     0   \n10029  32.9   31   12  ...  2013  2013/2014   0.0   0.0   0.0       0.0     0   \n11457  33.4   18   10  ...  1997  1997/1998   0.0   0.0   0.0       0.0     0   \n11735  32.3   32   10  ...  2017  2017/2018  24.1  22.6   7.5      30.1    95   \n11865  34.9    1    1  ...  2016  2016/2017   0.0   0.0   0.0       0.0     0   \n12170  33.1    4    1  ...  2008  2008/2009   0.0   0.0   0.0       0.0     0   \n12172  34.6    5    1  ...  2010  2010/2011   0.0   0.0   0.0       0.0     0   \n12820  28.4    5    4  ...  2000  2000/2001   0.0   0.0   0.0       0.0     0   \n12997  41.7    4    2  ...  1992  1992/1993   0.0   0.0   0.0       0.0     0   \n13352  35.5    0    0  ...  1995  1995/1996   0.0   0.0   0.0       0.0     0   \n13417  31.7   19    8  ...  2023  2023/2024  10.3  10.3   8.4      18.7    93   \n14464  32.3   25    4  ...  2002  2002/2003   0.0   0.0   0.0       0.0     0   \n14595  31.6    1    0  ...  2020  2020/2021   1.9   1.9   0.1       2.0    38   \n16276  37.0   30    6  ...  2003  2003/2004   0.0   0.0   0.0       0.0     0   \n16278  29.7   27    8  ...  2005  2005/2006   0.0   0.0   0.0       0.0     0   \n16906  30.8    3    1  ...  2011  2011/2012   0.0   0.0   0.0       0.0     0   \n16935  37.6    4    2  ...  2018  2018/2019   3.1   3.1   1.4       4.6    20   \n17055  30.3   26    3  ...  2009  2009/2010   0.0   0.0   0.0       0.0     0   \n\n       PrgP  PrgR  poy_winner  \n412       0     0           1  \n3026      0     0           1  \n3027      0     0           1  \n4589      0     0           1  \n4648      0     0           1  \n4923      0     0           1  \n4980     58   151           1  \n5273      0     0           1  \n5343      0     0           1  \n5452      0     0           1  \n7220      0     0           1  \n8753      0     0           1  \n9099    280   257           1  \n9101    204   175           1  \n9209      0     0           1  \n10029     0     0           1  \n11457     0     0           1  \n11735    97   393           1  \n11865     0     0           1  \n12170     0     0           1  \n12172     0     0           1  \n12820     0     0           1  \n12997     0     0           1  \n13352     0     0           1  \n13417   168   269           1  \n14464     0     0           1  \n14595   154     5           1  \n16276     0     0           1  \n16278     0     0           1  \n16906     0     0           1  \n16935   174    20           1  \n17055     0     0           1  \n\n[32 rows x 23 columns]",
      "text/html": "<div>\n<style scoped>\n    .dataframe tbody tr th:only-of-type {\n        vertical-align: middle;\n    }\n\n    .dataframe tbody tr th {\n        vertical-align: top;\n    }\n\n    .dataframe thead th {\n        text-align: right;\n    }\n</style>\n<table border=\"1\" class=\"dataframe\">\n  <thead>\n    <tr style=\"text-align: right;\">\n      <th></th>\n      <th>Player</th>\n      <th>Pos</th>\n      <th>Squad</th>\n      <th>Age</th>\n      <th>MP</th>\n      <th>Starts</th>\n      <th>Min</th>\n      <th>90s</th>\n      <th>Gls</th>\n      <th>Ast</th>\n      <th>...</th>\n      <th>year</th>\n      <th>season</th>\n      <th>xG</th>\n      <th>npxG</th>\n      <th>xAG</th>\n      <th>npxG+xAG</th>\n      <th>PrgC</th>\n      <th>PrgP</th>\n      <th>PrgR</th>\n      <th>poy_winner</th>\n    </tr>\n  </thead>\n  <tbody>\n    <tr>\n      <th>412</th>\n      <td>Alan Shearer</td>\n      <td>FW</td>\n      <td>Blackburn</td>\n      <td>23</td>\n      <td>42</td>\n      <td>42</td>\n      <td>3770</td>\n      <td>41.9</td>\n      <td>34</td>\n      <td>13</td>\n      <td>...</td>\n      <td>1994</td>\n      <td>1994/1995</td>\n      <td>0.0</td>\n      <td>0.0</td>\n      <td>0.0</td>\n      <td>0.0</td>\n      <td>0</td>\n      <td>0</td>\n      <td>0</td>\n      <td>1</td>\n    </tr>\n    <tr>\n      <th>3026</th>\n      <td>Cristiano Ronaldo</td>\n      <td>FW,MF</td>\n      <td>Manchester Utd</td>\n      <td>22</td>\n      <td>34</td>\n      <td>31</td>\n      <td>2747</td>\n      <td>30.5</td>\n      <td>31</td>\n      <td>6</td>\n      <td>...</td>\n      <td>2007</td>\n      <td>2007/2008</td>\n      <td>0.0</td>\n      <td>0.0</td>\n      <td>0.0</td>\n      <td>0.0</td>\n      <td>0</td>\n      <td>0</td>\n      <td>0</td>\n      <td>1</td>\n    </tr>\n    <tr>\n      <th>3027</th>\n      <td>Cristiano Ronaldo</td>\n      <td>FW,MF</td>\n      <td>Manchester Utd</td>\n      <td>23</td>\n      <td>33</td>\n      <td>31</td>\n      <td>2742</td>\n      <td>30.5</td>\n      <td>18</td>\n      <td>6</td>\n      <td>...</td>\n      <td>2008</td>\n      <td>2008/2009</td>\n      <td>0.0</td>\n      <td>0.0</td>\n      <td>0.0</td>\n      <td>0.0</td>\n      <td>0</td>\n      <td>0</td>\n      <td>0</td>\n      <td>1</td>\n    </tr>\n    <tr>\n      <th>4589</th>\n      <td>Dwight Yorke</td>\n      <td>FW,MF</td>\n      <td>Manchester Utd</td>\n      <td>26</td>\n      <td>32</td>\n      <td>32</td>\n      <td>2781</td>\n      <td>30.9</td>\n      <td>18</td>\n      <td>11</td>\n      <td>...</td>\n      <td>1998</td>\n      <td>1998/1999</td>\n      <td>1.0</td>\n      <td>0.0</td>\n      <td>0.0</td>\n      <td>0.0</td>\n      <td>0</td>\n      <td>0</td>\n      <td>0</td>\n      <td>1</td>\n    </tr>\n    <tr>\n      <th>4648</th>\n      <td>Eden Hazard</td>\n      <td>FW,MF</td>\n      <td>Chelsea</td>\n      <td>23</td>\n      <td>38</td>\n      <td>38</td>\n      <td>3367</td>\n      <td>37.4</td>\n      <td>14</td>\n      <td>9</td>\n      <td>...</td>\n      <td>2014</td>\n      <td>2014/2015</td>\n      <td>0.0</td>\n      <td>0.0</td>\n      <td>0.0</td>\n      <td>0.0</td>\n      <td>0</td>\n      <td>0</td>\n      <td>0</td>\n      <td>1</td>\n    </tr>\n    <tr>\n      <th>4923</th>\n      <td>Eric Cantona</td>\n      <td>FW</td>\n      <td>Manchester Utd</td>\n      <td>27</td>\n      <td>34</td>\n      <td>34</td>\n      <td>2987</td>\n      <td>33.2</td>\n      <td>18</td>\n      <td>12</td>\n      <td>...</td>\n      <td>1993</td>\n      <td>1993/1994</td>\n      <td>0.0</td>\n      <td>0.0</td>\n      <td>0.0</td>\n      <td>0.0</td>\n      <td>0</td>\n      <td>0</td>\n      <td>0</td>\n      <td>1</td>\n    </tr>\n    <tr>\n      <th>4980</th>\n      <td>Erling Haaland</td>\n      <td>FW</td>\n      <td>Manchester City</td>\n      <td>22</td>\n      <td>35</td>\n      <td>33</td>\n      <td>2769</td>\n      <td>30.8</td>\n      <td>36</td>\n      <td>8</td>\n      <td>...</td>\n      <td>2022</td>\n      <td>2022/2023</td>\n      <td>28.4</td>\n      <td>23.0</td>\n      <td>5.3</td>\n      <td>28.3</td>\n      <td>35</td>\n      <td>58</td>\n      <td>151</td>\n      <td>1</td>\n    </tr>\n    <tr>\n      <th>5273</th>\n      <td>Frank Lampard</td>\n      <td>MF</td>\n      <td>Chelsea</td>\n      <td>26</td>\n      <td>38</td>\n      <td>38</td>\n      <td>3413</td>\n      <td>37.9</td>\n      <td>13</td>\n      <td>18</td>\n      <td>...</td>\n      <td>2004</td>\n      <td>2004/2005</td>\n      <td>0.0</td>\n      <td>0.0</td>\n      <td>0.0</td>\n      <td>0.0</td>\n      <td>0</td>\n      <td>0</td>\n      <td>0</td>\n      <td>1</td>\n    </tr>\n    <tr>\n      <th>5343</th>\n      <td>Freddie Ljungberg</td>\n      <td>FW,MF</td>\n      <td>Arsenal</td>\n      <td>24</td>\n      <td>25</td>\n      <td>24</td>\n      <td>1904</td>\n      <td>21.2</td>\n      <td>12</td>\n      <td>4</td>\n      <td>...</td>\n      <td>2001</td>\n      <td>2001/2002</td>\n      <td>0.0</td>\n      <td>0.0</td>\n      <td>0.0</td>\n      <td>0.0</td>\n      <td>0</td>\n      <td>0</td>\n      <td>0</td>\n      <td>1</td>\n    </tr>\n    <tr>\n      <th>5452</th>\n      <td>Gareth Bale</td>\n      <td>FW,MF</td>\n      <td>Tottenham</td>\n      <td>23</td>\n      <td>33</td>\n      <td>33</td>\n      <td>2921</td>\n      <td>32.5</td>\n      <td>21</td>\n      <td>4</td>\n      <td>...</td>\n      <td>2012</td>\n      <td>2012/2013</td>\n      <td>0.0</td>\n      <td>0.0</td>\n      <td>0.0</td>\n      <td>0.0</td>\n      <td>0</td>\n      <td>0</td>\n      <td>0</td>\n      <td>1</td>\n    </tr>\n    <tr>\n      <th>7220</th>\n      <td>Jamie Vardy</td>\n      <td>FW</td>\n      <td>Leicester City</td>\n      <td>28</td>\n      <td>36</td>\n      <td>36</td>\n      <td>3133</td>\n      <td>34.8</td>\n      <td>24</td>\n      <td>6</td>\n      <td>...</td>\n      <td>2015</td>\n      <td>2015/2016</td>\n      <td>0.0</td>\n      <td>0.0</td>\n      <td>0.0</td>\n      <td>0.0</td>\n      <td>0</td>\n      <td>0</td>\n      <td>0</td>\n      <td>1</td>\n    </tr>\n    <tr>\n      <th>8753</th>\n      <td>Juninho Paulista</td>\n      <td>MF</td>\n      <td>Middlesbrough</td>\n      <td>23</td>\n      <td>35</td>\n      <td>34</td>\n      <td>3040</td>\n      <td>33.8</td>\n      <td>12</td>\n      <td>8</td>\n      <td>...</td>\n      <td>1996</td>\n      <td>1996/1997</td>\n      <td>0.0</td>\n      <td>0.0</td>\n      <td>0.0</td>\n      <td>0.0</td>\n      <td>0</td>\n      <td>0</td>\n      <td>0</td>\n      <td>1</td>\n    </tr>\n    <tr>\n      <th>9099</th>\n      <td>Kevin De Bruyne</td>\n      <td>MF</td>\n      <td>Manchester City</td>\n      <td>28</td>\n      <td>35</td>\n      <td>32</td>\n      <td>2791</td>\n      <td>31.0</td>\n      <td>13</td>\n      <td>20</td>\n      <td>...</td>\n      <td>2019</td>\n      <td>2019/2020</td>\n      <td>7.3</td>\n      <td>5.8</td>\n      <td>20.0</td>\n      <td>25.8</td>\n      <td>139</td>\n      <td>280</td>\n      <td>257</td>\n      <td>1</td>\n    </tr>\n    <tr>\n      <th>9101</th>\n      <td>Kevin De Bruyne</td>\n      <td>MF</td>\n      <td>Manchester City</td>\n      <td>30</td>\n      <td>30</td>\n      <td>25</td>\n      <td>2201</td>\n      <td>24.5</td>\n      <td>15</td>\n      <td>8</td>\n      <td>...</td>\n      <td>2021</td>\n      <td>2021/2022</td>\n      <td>5.7</td>\n      <td>5.7</td>\n      <td>10.4</td>\n      <td>16.1</td>\n      <td>84</td>\n      <td>204</td>\n      <td>175</td>\n      <td>1</td>\n    </tr>\n    <tr>\n      <th>9209</th>\n      <td>Kevin Phillips</td>\n      <td>FW</td>\n      <td>Sunderland</td>\n      <td>26</td>\n      <td>36</td>\n      <td>36</td>\n      <td>3198</td>\n      <td>35.5</td>\n      <td>30</td>\n      <td>4</td>\n      <td>...</td>\n      <td>1999</td>\n      <td>1999/2000</td>\n      <td>0.0</td>\n      <td>0.0</td>\n      <td>0.0</td>\n      <td>0.0</td>\n      <td>0</td>\n      <td>0</td>\n      <td>0</td>\n      <td>1</td>\n    </tr>\n    <tr>\n      <th>10029</th>\n      <td>Luis Suárez</td>\n      <td>FW</td>\n      <td>Liverpool</td>\n      <td>26</td>\n      <td>33</td>\n      <td>33</td>\n      <td>2962</td>\n      <td>32.9</td>\n      <td>31</td>\n      <td>12</td>\n      <td>...</td>\n      <td>2013</td>\n      <td>2013/2014</td>\n      <td>0.0</td>\n      <td>0.0</td>\n      <td>0.0</td>\n      <td>0.0</td>\n      <td>0</td>\n      <td>0</td>\n      <td>0</td>\n      <td>1</td>\n    </tr>\n    <tr>\n      <th>11457</th>\n      <td>Michael Owen</td>\n      <td>FW</td>\n      <td>Liverpool</td>\n      <td>17</td>\n      <td>36</td>\n      <td>34</td>\n      <td>3003</td>\n      <td>33.4</td>\n      <td>18</td>\n      <td>10</td>\n      <td>...</td>\n      <td>1997</td>\n      <td>1997/1998</td>\n      <td>0.0</td>\n      <td>0.0</td>\n      <td>0.0</td>\n      <td>0.0</td>\n      <td>0</td>\n      <td>0</td>\n      <td>0</td>\n      <td>1</td>\n    </tr>\n    <tr>\n      <th>11735</th>\n      <td>Mohamed Salah</td>\n      <td>FW</td>\n      <td>Liverpool</td>\n      <td>25</td>\n      <td>36</td>\n      <td>34</td>\n      <td>2907</td>\n      <td>32.3</td>\n      <td>32</td>\n      <td>10</td>\n      <td>...</td>\n      <td>2017</td>\n      <td>2017/2018</td>\n      <td>24.1</td>\n      <td>22.6</td>\n      <td>7.5</td>\n      <td>30.1</td>\n      <td>95</td>\n      <td>97</td>\n      <td>393</td>\n      <td>1</td>\n    </tr>\n    <tr>\n      <th>11865</th>\n      <td>N'Golo Kanté</td>\n      <td>MF</td>\n      <td>Chelsea</td>\n      <td>25</td>\n      <td>35</td>\n      <td>35</td>\n      <td>3138</td>\n      <td>34.9</td>\n      <td>1</td>\n      <td>1</td>\n      <td>...</td>\n      <td>2016</td>\n      <td>2016/2017</td>\n      <td>0.0</td>\n      <td>0.0</td>\n      <td>0.0</td>\n      <td>0.0</td>\n      <td>0</td>\n      <td>0</td>\n      <td>0</td>\n      <td>1</td>\n    </tr>\n    <tr>\n      <th>12170</th>\n      <td>Nemanja Vidić</td>\n      <td>DF</td>\n      <td>Manchester Utd</td>\n      <td>26</td>\n      <td>34</td>\n      <td>33</td>\n      <td>2981</td>\n      <td>33.1</td>\n      <td>4</td>\n      <td>1</td>\n      <td>...</td>\n      <td>2008</td>\n      <td>2008/2009</td>\n      <td>0.0</td>\n      <td>0.0</td>\n      <td>0.0</td>\n      <td>0.0</td>\n      <td>0</td>\n      <td>0</td>\n      <td>0</td>\n      <td>1</td>\n    </tr>\n    <tr>\n      <th>12172</th>\n      <td>Nemanja Vidić</td>\n      <td>DF</td>\n      <td>Manchester Utd</td>\n      <td>28</td>\n      <td>35</td>\n      <td>35</td>\n      <td>3115</td>\n      <td>34.6</td>\n      <td>5</td>\n      <td>1</td>\n      <td>...</td>\n      <td>2010</td>\n      <td>2010/2011</td>\n      <td>0.0</td>\n      <td>0.0</td>\n      <td>0.0</td>\n      <td>0.0</td>\n      <td>0</td>\n      <td>0</td>\n      <td>0</td>\n      <td>1</td>\n    </tr>\n    <tr>\n      <th>12820</th>\n      <td>Patrick Vieira</td>\n      <td>MF</td>\n      <td>Arsenal</td>\n      <td>24</td>\n      <td>30</td>\n      <td>28</td>\n      <td>2552</td>\n      <td>28.4</td>\n      <td>5</td>\n      <td>4</td>\n      <td>...</td>\n      <td>2000</td>\n      <td>2000/2001</td>\n      <td>0.0</td>\n      <td>0.0</td>\n      <td>0.0</td>\n      <td>0.0</td>\n      <td>0</td>\n      <td>0</td>\n      <td>0</td>\n      <td>1</td>\n    </tr>\n    <tr>\n      <th>12997</th>\n      <td>Paul Mcgrath</td>\n      <td>DF</td>\n      <td>Aston Villa</td>\n      <td>32</td>\n      <td>42</td>\n      <td>42</td>\n      <td>3750</td>\n      <td>41.7</td>\n      <td>4</td>\n      <td>2</td>\n      <td>...</td>\n      <td>1992</td>\n      <td>1992/1993</td>\n      <td>0.0</td>\n      <td>0.0</td>\n      <td>0.0</td>\n      <td>0.0</td>\n      <td>0</td>\n      <td>0</td>\n      <td>0</td>\n      <td>1</td>\n    </tr>\n    <tr>\n      <th>13352</th>\n      <td>Peter Schmeichel</td>\n      <td>GK</td>\n      <td>Manchester Utd</td>\n      <td>31</td>\n      <td>36</td>\n      <td>36</td>\n      <td>3195</td>\n      <td>35.5</td>\n      <td>0</td>\n      <td>0</td>\n      <td>...</td>\n      <td>1995</td>\n      <td>1995/1996</td>\n      <td>0.0</td>\n      <td>0.0</td>\n      <td>0.0</td>\n      <td>0.0</td>\n      <td>0</td>\n      <td>0</td>\n      <td>0</td>\n      <td>1</td>\n    </tr>\n    <tr>\n      <th>13417</th>\n      <td>Phil Foden</td>\n      <td>FW,MF</td>\n      <td>Manchester City</td>\n      <td>23</td>\n      <td>35</td>\n      <td>33</td>\n      <td>2857</td>\n      <td>31.7</td>\n      <td>19</td>\n      <td>8</td>\n      <td>...</td>\n      <td>2023</td>\n      <td>2023/2024</td>\n      <td>10.3</td>\n      <td>10.3</td>\n      <td>8.4</td>\n      <td>18.7</td>\n      <td>93</td>\n      <td>168</td>\n      <td>269</td>\n      <td>1</td>\n    </tr>\n    <tr>\n      <th>14464</th>\n      <td>Ruud Van Nistelrooy</td>\n      <td>FW</td>\n      <td>Manchester Utd</td>\n      <td>26</td>\n      <td>34</td>\n      <td>33</td>\n      <td>2907</td>\n      <td>32.3</td>\n      <td>25</td>\n      <td>4</td>\n      <td>...</td>\n      <td>2002</td>\n      <td>2002/2003</td>\n      <td>0.0</td>\n      <td>0.0</td>\n      <td>0.0</td>\n      <td>0.0</td>\n      <td>0</td>\n      <td>0</td>\n      <td>0</td>\n      <td>1</td>\n    </tr>\n    <tr>\n      <th>14595</th>\n      <td>Rúben Dias</td>\n      <td>DF</td>\n      <td>Manchester City</td>\n      <td>23</td>\n      <td>32</td>\n      <td>32</td>\n      <td>2843</td>\n      <td>31.6</td>\n      <td>1</td>\n      <td>0</td>\n      <td>...</td>\n      <td>2020</td>\n      <td>2020/2021</td>\n      <td>1.9</td>\n      <td>1.9</td>\n      <td>0.1</td>\n      <td>2.0</td>\n      <td>38</td>\n      <td>154</td>\n      <td>5</td>\n      <td>1</td>\n    </tr>\n    <tr>\n      <th>16276</th>\n      <td>Thierry Henry</td>\n      <td>FW</td>\n      <td>Arsenal</td>\n      <td>25</td>\n      <td>37</td>\n      <td>37</td>\n      <td>3330</td>\n      <td>37.0</td>\n      <td>30</td>\n      <td>6</td>\n      <td>...</td>\n      <td>2003</td>\n      <td>2003/2004</td>\n      <td>0.0</td>\n      <td>0.0</td>\n      <td>0.0</td>\n      <td>0.0</td>\n      <td>0</td>\n      <td>0</td>\n      <td>0</td>\n      <td>1</td>\n    </tr>\n    <tr>\n      <th>16278</th>\n      <td>Thierry Henry</td>\n      <td>FW</td>\n      <td>Arsenal</td>\n      <td>27</td>\n      <td>32</td>\n      <td>30</td>\n      <td>2672</td>\n      <td>29.7</td>\n      <td>27</td>\n      <td>8</td>\n      <td>...</td>\n      <td>2005</td>\n      <td>2005/2006</td>\n      <td>0.0</td>\n      <td>0.0</td>\n      <td>0.0</td>\n      <td>0.0</td>\n      <td>0</td>\n      <td>0</td>\n      <td>0</td>\n      <td>1</td>\n    </tr>\n    <tr>\n      <th>16906</th>\n      <td>Vincent Kompany</td>\n      <td>DF</td>\n      <td>Manchester City</td>\n      <td>25</td>\n      <td>31</td>\n      <td>31</td>\n      <td>2774</td>\n      <td>30.8</td>\n      <td>3</td>\n      <td>1</td>\n      <td>...</td>\n      <td>2011</td>\n      <td>2011/2012</td>\n      <td>0.0</td>\n      <td>0.0</td>\n      <td>0.0</td>\n      <td>0.0</td>\n      <td>0</td>\n      <td>0</td>\n      <td>0</td>\n      <td>1</td>\n    </tr>\n    <tr>\n      <th>16935</th>\n      <td>Virgil Van Dijk</td>\n      <td>DF</td>\n      <td>Liverpool</td>\n      <td>27</td>\n      <td>38</td>\n      <td>38</td>\n      <td>3384</td>\n      <td>37.6</td>\n      <td>4</td>\n      <td>2</td>\n      <td>...</td>\n      <td>2018</td>\n      <td>2018/2019</td>\n      <td>3.1</td>\n      <td>3.1</td>\n      <td>1.4</td>\n      <td>4.6</td>\n      <td>20</td>\n      <td>174</td>\n      <td>20</td>\n      <td>1</td>\n    </tr>\n    <tr>\n      <th>17055</th>\n      <td>Wayne Rooney</td>\n      <td>FW,MF</td>\n      <td>Manchester Utd</td>\n      <td>23</td>\n      <td>32</td>\n      <td>32</td>\n      <td>2728</td>\n      <td>30.3</td>\n      <td>26</td>\n      <td>3</td>\n      <td>...</td>\n      <td>2009</td>\n      <td>2009/2010</td>\n      <td>0.0</td>\n      <td>0.0</td>\n      <td>0.0</td>\n      <td>0.0</td>\n      <td>0</td>\n      <td>0</td>\n      <td>0</td>\n      <td>1</td>\n    </tr>\n  </tbody>\n</table>\n<p>32 rows × 23 columns</p>\n</div>"
     },
     "execution_count": 105,
     "metadata": {},
     "output_type": "execute_result"
    }
   ],
   "source": [
    "ml_df[ml_df[\"poy_winner\"] == 1]"
   ],
   "metadata": {
    "collapsed": false,
    "ExecuteTime": {
     "end_time": "2024-06-07T21:52:46.142564900Z",
     "start_time": "2024-06-07T21:52:46.073867Z"
    }
   }
  },
  {
   "cell_type": "markdown",
   "source": [
    "Step 1: Ranking the best player of the season through machine learning using parameters present in the list of predictors using RIDGE REGRESSION"
   ],
   "metadata": {
    "collapsed": false
   }
  },
  {
   "cell_type": "code",
   "execution_count": 106,
   "outputs": [],
   "source": [
    "predictors = [\n",
    "    'Age', 'MP', 'Starts', 'Min', '90s', 'Gls',\n",
    "       'Ast', 'G+A', 'xG', 'npxG', 'xAG',\n",
    "       'npxG+xAG', 'PrgC', 'PrgP', 'PrgR'\n",
    "]\n",
    "#'CrdY', 'CrdR'"
   ],
   "metadata": {
    "collapsed": false,
    "ExecuteTime": {
     "end_time": "2024-06-07T21:52:49.412315500Z",
     "start_time": "2024-06-07T21:52:49.395329300Z"
    }
   }
  },
  {
   "cell_type": "code",
   "execution_count": 107,
   "outputs": [],
   "source": [
    "train = ml_df[ml_df[\"season\"] < '2022/2023']"
   ],
   "metadata": {
    "collapsed": false,
    "ExecuteTime": {
     "end_time": "2024-06-07T21:52:50.102549400Z",
     "start_time": "2024-06-07T21:52:50.064646700Z"
    }
   }
  },
  {
   "cell_type": "code",
   "execution_count": 108,
   "outputs": [],
   "source": [
    "test = ml_df[ml_df[\"season\"] == '2022/2023']"
   ],
   "metadata": {
    "collapsed": false,
    "ExecuteTime": {
     "end_time": "2024-06-07T21:52:50.790907800Z",
     "start_time": "2024-06-07T21:52:50.751781300Z"
    }
   }
  },
  {
   "cell_type": "code",
   "execution_count": 109,
   "outputs": [],
   "source": [
    "reg = Ridge(alpha = 0.1)"
   ],
   "metadata": {
    "collapsed": false,
    "ExecuteTime": {
     "end_time": "2024-06-07T21:52:51.351687800Z",
     "start_time": "2024-06-07T21:52:51.321955800Z"
    }
   }
  },
  {
   "cell_type": "code",
   "execution_count": 110,
   "outputs": [
    {
     "data": {
      "text/plain": "Ridge(alpha=0.1)",
      "text/html": "<style>#sk-container-id-3 {\n  /* Definition of color scheme common for light and dark mode */\n  --sklearn-color-text: black;\n  --sklearn-color-line: gray;\n  /* Definition of color scheme for unfitted estimators */\n  --sklearn-color-unfitted-level-0: #fff5e6;\n  --sklearn-color-unfitted-level-1: #f6e4d2;\n  --sklearn-color-unfitted-level-2: #ffe0b3;\n  --sklearn-color-unfitted-level-3: chocolate;\n  /* Definition of color scheme for fitted estimators */\n  --sklearn-color-fitted-level-0: #f0f8ff;\n  --sklearn-color-fitted-level-1: #d4ebff;\n  --sklearn-color-fitted-level-2: #b3dbfd;\n  --sklearn-color-fitted-level-3: cornflowerblue;\n\n  /* Specific color for light theme */\n  --sklearn-color-text-on-default-background: var(--sg-text-color, var(--theme-code-foreground, var(--jp-content-font-color1, black)));\n  --sklearn-color-background: var(--sg-background-color, var(--theme-background, var(--jp-layout-color0, white)));\n  --sklearn-color-border-box: var(--sg-text-color, var(--theme-code-foreground, var(--jp-content-font-color1, black)));\n  --sklearn-color-icon: #696969;\n\n  @media (prefers-color-scheme: dark) {\n    /* Redefinition of color scheme for dark theme */\n    --sklearn-color-text-on-default-background: var(--sg-text-color, var(--theme-code-foreground, var(--jp-content-font-color1, white)));\n    --sklearn-color-background: var(--sg-background-color, var(--theme-background, var(--jp-layout-color0, #111)));\n    --sklearn-color-border-box: var(--sg-text-color, var(--theme-code-foreground, var(--jp-content-font-color1, white)));\n    --sklearn-color-icon: #878787;\n  }\n}\n\n#sk-container-id-3 {\n  color: var(--sklearn-color-text);\n}\n\n#sk-container-id-3 pre {\n  padding: 0;\n}\n\n#sk-container-id-3 input.sk-hidden--visually {\n  border: 0;\n  clip: rect(1px 1px 1px 1px);\n  clip: rect(1px, 1px, 1px, 1px);\n  height: 1px;\n  margin: -1px;\n  overflow: hidden;\n  padding: 0;\n  position: absolute;\n  width: 1px;\n}\n\n#sk-container-id-3 div.sk-dashed-wrapped {\n  border: 1px dashed var(--sklearn-color-line);\n  margin: 0 0.4em 0.5em 0.4em;\n  box-sizing: border-box;\n  padding-bottom: 0.4em;\n  background-color: var(--sklearn-color-background);\n}\n\n#sk-container-id-3 div.sk-container {\n  /* jupyter's `normalize.less` sets `[hidden] { display: none; }`\n     but bootstrap.min.css set `[hidden] { display: none !important; }`\n     so we also need the `!important` here to be able to override the\n     default hidden behavior on the sphinx rendered scikit-learn.org.\n     See: https://github.com/scikit-learn/scikit-learn/issues/21755 */\n  display: inline-block !important;\n  position: relative;\n}\n\n#sk-container-id-3 div.sk-text-repr-fallback {\n  display: none;\n}\n\ndiv.sk-parallel-item,\ndiv.sk-serial,\ndiv.sk-item {\n  /* draw centered vertical line to link estimators */\n  background-image: linear-gradient(var(--sklearn-color-text-on-default-background), var(--sklearn-color-text-on-default-background));\n  background-size: 2px 100%;\n  background-repeat: no-repeat;\n  background-position: center center;\n}\n\n/* Parallel-specific style estimator block */\n\n#sk-container-id-3 div.sk-parallel-item::after {\n  content: \"\";\n  width: 100%;\n  border-bottom: 2px solid var(--sklearn-color-text-on-default-background);\n  flex-grow: 1;\n}\n\n#sk-container-id-3 div.sk-parallel {\n  display: flex;\n  align-items: stretch;\n  justify-content: center;\n  background-color: var(--sklearn-color-background);\n  position: relative;\n}\n\n#sk-container-id-3 div.sk-parallel-item {\n  display: flex;\n  flex-direction: column;\n}\n\n#sk-container-id-3 div.sk-parallel-item:first-child::after {\n  align-self: flex-end;\n  width: 50%;\n}\n\n#sk-container-id-3 div.sk-parallel-item:last-child::after {\n  align-self: flex-start;\n  width: 50%;\n}\n\n#sk-container-id-3 div.sk-parallel-item:only-child::after {\n  width: 0;\n}\n\n/* Serial-specific style estimator block */\n\n#sk-container-id-3 div.sk-serial {\n  display: flex;\n  flex-direction: column;\n  align-items: center;\n  background-color: var(--sklearn-color-background);\n  padding-right: 1em;\n  padding-left: 1em;\n}\n\n\n/* Toggleable style: style used for estimator/Pipeline/ColumnTransformer box that is\nclickable and can be expanded/collapsed.\n- Pipeline and ColumnTransformer use this feature and define the default style\n- Estimators will overwrite some part of the style using the `sk-estimator` class\n*/\n\n/* Pipeline and ColumnTransformer style (default) */\n\n#sk-container-id-3 div.sk-toggleable {\n  /* Default theme specific background. It is overwritten whether we have a\n  specific estimator or a Pipeline/ColumnTransformer */\n  background-color: var(--sklearn-color-background);\n}\n\n/* Toggleable label */\n#sk-container-id-3 label.sk-toggleable__label {\n  cursor: pointer;\n  display: block;\n  width: 100%;\n  margin-bottom: 0;\n  padding: 0.5em;\n  box-sizing: border-box;\n  text-align: center;\n}\n\n#sk-container-id-3 label.sk-toggleable__label-arrow:before {\n  /* Arrow on the left of the label */\n  content: \"▸\";\n  float: left;\n  margin-right: 0.25em;\n  color: var(--sklearn-color-icon);\n}\n\n#sk-container-id-3 label.sk-toggleable__label-arrow:hover:before {\n  color: var(--sklearn-color-text);\n}\n\n/* Toggleable content - dropdown */\n\n#sk-container-id-3 div.sk-toggleable__content {\n  max-height: 0;\n  max-width: 0;\n  overflow: hidden;\n  text-align: left;\n  /* unfitted */\n  background-color: var(--sklearn-color-unfitted-level-0);\n}\n\n#sk-container-id-3 div.sk-toggleable__content.fitted {\n  /* fitted */\n  background-color: var(--sklearn-color-fitted-level-0);\n}\n\n#sk-container-id-3 div.sk-toggleable__content pre {\n  margin: 0.2em;\n  border-radius: 0.25em;\n  color: var(--sklearn-color-text);\n  /* unfitted */\n  background-color: var(--sklearn-color-unfitted-level-0);\n}\n\n#sk-container-id-3 div.sk-toggleable__content.fitted pre {\n  /* unfitted */\n  background-color: var(--sklearn-color-fitted-level-0);\n}\n\n#sk-container-id-3 input.sk-toggleable__control:checked~div.sk-toggleable__content {\n  /* Expand drop-down */\n  max-height: 200px;\n  max-width: 100%;\n  overflow: auto;\n}\n\n#sk-container-id-3 input.sk-toggleable__control:checked~label.sk-toggleable__label-arrow:before {\n  content: \"▾\";\n}\n\n/* Pipeline/ColumnTransformer-specific style */\n\n#sk-container-id-3 div.sk-label input.sk-toggleable__control:checked~label.sk-toggleable__label {\n  color: var(--sklearn-color-text);\n  background-color: var(--sklearn-color-unfitted-level-2);\n}\n\n#sk-container-id-3 div.sk-label.fitted input.sk-toggleable__control:checked~label.sk-toggleable__label {\n  background-color: var(--sklearn-color-fitted-level-2);\n}\n\n/* Estimator-specific style */\n\n/* Colorize estimator box */\n#sk-container-id-3 div.sk-estimator input.sk-toggleable__control:checked~label.sk-toggleable__label {\n  /* unfitted */\n  background-color: var(--sklearn-color-unfitted-level-2);\n}\n\n#sk-container-id-3 div.sk-estimator.fitted input.sk-toggleable__control:checked~label.sk-toggleable__label {\n  /* fitted */\n  background-color: var(--sklearn-color-fitted-level-2);\n}\n\n#sk-container-id-3 div.sk-label label.sk-toggleable__label,\n#sk-container-id-3 div.sk-label label {\n  /* The background is the default theme color */\n  color: var(--sklearn-color-text-on-default-background);\n}\n\n/* On hover, darken the color of the background */\n#sk-container-id-3 div.sk-label:hover label.sk-toggleable__label {\n  color: var(--sklearn-color-text);\n  background-color: var(--sklearn-color-unfitted-level-2);\n}\n\n/* Label box, darken color on hover, fitted */\n#sk-container-id-3 div.sk-label.fitted:hover label.sk-toggleable__label.fitted {\n  color: var(--sklearn-color-text);\n  background-color: var(--sklearn-color-fitted-level-2);\n}\n\n/* Estimator label */\n\n#sk-container-id-3 div.sk-label label {\n  font-family: monospace;\n  font-weight: bold;\n  display: inline-block;\n  line-height: 1.2em;\n}\n\n#sk-container-id-3 div.sk-label-container {\n  text-align: center;\n}\n\n/* Estimator-specific */\n#sk-container-id-3 div.sk-estimator {\n  font-family: monospace;\n  border: 1px dotted var(--sklearn-color-border-box);\n  border-radius: 0.25em;\n  box-sizing: border-box;\n  margin-bottom: 0.5em;\n  /* unfitted */\n  background-color: var(--sklearn-color-unfitted-level-0);\n}\n\n#sk-container-id-3 div.sk-estimator.fitted {\n  /* fitted */\n  background-color: var(--sklearn-color-fitted-level-0);\n}\n\n/* on hover */\n#sk-container-id-3 div.sk-estimator:hover {\n  /* unfitted */\n  background-color: var(--sklearn-color-unfitted-level-2);\n}\n\n#sk-container-id-3 div.sk-estimator.fitted:hover {\n  /* fitted */\n  background-color: var(--sklearn-color-fitted-level-2);\n}\n\n/* Specification for estimator info (e.g. \"i\" and \"?\") */\n\n/* Common style for \"i\" and \"?\" */\n\n.sk-estimator-doc-link,\na:link.sk-estimator-doc-link,\na:visited.sk-estimator-doc-link {\n  float: right;\n  font-size: smaller;\n  line-height: 1em;\n  font-family: monospace;\n  background-color: var(--sklearn-color-background);\n  border-radius: 1em;\n  height: 1em;\n  width: 1em;\n  text-decoration: none !important;\n  margin-left: 1ex;\n  /* unfitted */\n  border: var(--sklearn-color-unfitted-level-1) 1pt solid;\n  color: var(--sklearn-color-unfitted-level-1);\n}\n\n.sk-estimator-doc-link.fitted,\na:link.sk-estimator-doc-link.fitted,\na:visited.sk-estimator-doc-link.fitted {\n  /* fitted */\n  border: var(--sklearn-color-fitted-level-1) 1pt solid;\n  color: var(--sklearn-color-fitted-level-1);\n}\n\n/* On hover */\ndiv.sk-estimator:hover .sk-estimator-doc-link:hover,\n.sk-estimator-doc-link:hover,\ndiv.sk-label-container:hover .sk-estimator-doc-link:hover,\n.sk-estimator-doc-link:hover {\n  /* unfitted */\n  background-color: var(--sklearn-color-unfitted-level-3);\n  color: var(--sklearn-color-background);\n  text-decoration: none;\n}\n\ndiv.sk-estimator.fitted:hover .sk-estimator-doc-link.fitted:hover,\n.sk-estimator-doc-link.fitted:hover,\ndiv.sk-label-container:hover .sk-estimator-doc-link.fitted:hover,\n.sk-estimator-doc-link.fitted:hover {\n  /* fitted */\n  background-color: var(--sklearn-color-fitted-level-3);\n  color: var(--sklearn-color-background);\n  text-decoration: none;\n}\n\n/* Span, style for the box shown on hovering the info icon */\n.sk-estimator-doc-link span {\n  display: none;\n  z-index: 9999;\n  position: relative;\n  font-weight: normal;\n  right: .2ex;\n  padding: .5ex;\n  margin: .5ex;\n  width: min-content;\n  min-width: 20ex;\n  max-width: 50ex;\n  color: var(--sklearn-color-text);\n  box-shadow: 2pt 2pt 4pt #999;\n  /* unfitted */\n  background: var(--sklearn-color-unfitted-level-0);\n  border: .5pt solid var(--sklearn-color-unfitted-level-3);\n}\n\n.sk-estimator-doc-link.fitted span {\n  /* fitted */\n  background: var(--sklearn-color-fitted-level-0);\n  border: var(--sklearn-color-fitted-level-3);\n}\n\n.sk-estimator-doc-link:hover span {\n  display: block;\n}\n\n/* \"?\"-specific style due to the `<a>` HTML tag */\n\n#sk-container-id-3 a.estimator_doc_link {\n  float: right;\n  font-size: 1rem;\n  line-height: 1em;\n  font-family: monospace;\n  background-color: var(--sklearn-color-background);\n  border-radius: 1rem;\n  height: 1rem;\n  width: 1rem;\n  text-decoration: none;\n  /* unfitted */\n  color: var(--sklearn-color-unfitted-level-1);\n  border: var(--sklearn-color-unfitted-level-1) 1pt solid;\n}\n\n#sk-container-id-3 a.estimator_doc_link.fitted {\n  /* fitted */\n  border: var(--sklearn-color-fitted-level-1) 1pt solid;\n  color: var(--sklearn-color-fitted-level-1);\n}\n\n/* On hover */\n#sk-container-id-3 a.estimator_doc_link:hover {\n  /* unfitted */\n  background-color: var(--sklearn-color-unfitted-level-3);\n  color: var(--sklearn-color-background);\n  text-decoration: none;\n}\n\n#sk-container-id-3 a.estimator_doc_link.fitted:hover {\n  /* fitted */\n  background-color: var(--sklearn-color-fitted-level-3);\n}\n</style><div id=\"sk-container-id-3\" class=\"sk-top-container\"><div class=\"sk-text-repr-fallback\"><pre>Ridge(alpha=0.1)</pre><b>In a Jupyter environment, please rerun this cell to show the HTML representation or trust the notebook. <br />On GitHub, the HTML representation is unable to render, please try loading this page with nbviewer.org.</b></div><div class=\"sk-container\" hidden><div class=\"sk-item\"><div class=\"sk-estimator fitted sk-toggleable\"><input class=\"sk-toggleable__control sk-hidden--visually\" id=\"sk-estimator-id-3\" type=\"checkbox\" checked><label for=\"sk-estimator-id-3\" class=\"sk-toggleable__label fitted sk-toggleable__label-arrow fitted\">&nbsp;&nbsp;Ridge<a class=\"sk-estimator-doc-link fitted\" rel=\"noreferrer\" target=\"_blank\" href=\"https://scikit-learn.org/1.4/modules/generated/sklearn.linear_model.Ridge.html\">?<span>Documentation for Ridge</span></a><span class=\"sk-estimator-doc-link fitted\">i<span>Fitted</span></span></label><div class=\"sk-toggleable__content fitted\"><pre>Ridge(alpha=0.1)</pre></div> </div></div></div></div>"
     },
     "execution_count": 110,
     "metadata": {},
     "output_type": "execute_result"
    }
   ],
   "source": [
    "reg.fit(train[predictors], train[\"poy_winner\"])"
   ],
   "metadata": {
    "collapsed": false,
    "ExecuteTime": {
     "end_time": "2024-06-07T21:52:52.054107400Z",
     "start_time": "2024-06-07T21:52:51.914891400Z"
    }
   }
  },
  {
   "cell_type": "code",
   "execution_count": 111,
   "outputs": [],
   "source": [
    "predictions = reg.predict(test[predictors])"
   ],
   "metadata": {
    "collapsed": false,
    "ExecuteTime": {
     "end_time": "2024-06-07T21:52:53.591432400Z",
     "start_time": "2024-06-07T21:52:53.563924700Z"
    }
   }
  },
  {
   "cell_type": "code",
   "execution_count": 112,
   "outputs": [],
   "source": [
    "predictions = pd.DataFrame(predictions, columns=[\"predictions\"], index=test.index)"
   ],
   "metadata": {
    "collapsed": false,
    "ExecuteTime": {
     "end_time": "2024-06-07T21:52:54.176159100Z",
     "start_time": "2024-06-07T21:52:54.086038200Z"
    }
   }
  },
  {
   "cell_type": "code",
   "execution_count": 113,
   "outputs": [
    {
     "data": {
      "text/plain": "       predictions\n11        0.012060\n14       -0.010417\n65       -0.002505\n85       -0.006739\n100       0.010923\n...            ...\n17389    -0.007258\n17448     0.003660\n17466     0.002716\n17509     0.012374\n17526    -0.004670\n\n[569 rows x 1 columns]",
      "text/html": "<div>\n<style scoped>\n    .dataframe tbody tr th:only-of-type {\n        vertical-align: middle;\n    }\n\n    .dataframe tbody tr th {\n        vertical-align: top;\n    }\n\n    .dataframe thead th {\n        text-align: right;\n    }\n</style>\n<table border=\"1\" class=\"dataframe\">\n  <thead>\n    <tr style=\"text-align: right;\">\n      <th></th>\n      <th>predictions</th>\n    </tr>\n  </thead>\n  <tbody>\n    <tr>\n      <th>11</th>\n      <td>0.012060</td>\n    </tr>\n    <tr>\n      <th>14</th>\n      <td>-0.010417</td>\n    </tr>\n    <tr>\n      <th>65</th>\n      <td>-0.002505</td>\n    </tr>\n    <tr>\n      <th>85</th>\n      <td>-0.006739</td>\n    </tr>\n    <tr>\n      <th>100</th>\n      <td>0.010923</td>\n    </tr>\n    <tr>\n      <th>...</th>\n      <td>...</td>\n    </tr>\n    <tr>\n      <th>17389</th>\n      <td>-0.007258</td>\n    </tr>\n    <tr>\n      <th>17448</th>\n      <td>0.003660</td>\n    </tr>\n    <tr>\n      <th>17466</th>\n      <td>0.002716</td>\n    </tr>\n    <tr>\n      <th>17509</th>\n      <td>0.012374</td>\n    </tr>\n    <tr>\n      <th>17526</th>\n      <td>-0.004670</td>\n    </tr>\n  </tbody>\n</table>\n<p>569 rows × 1 columns</p>\n</div>"
     },
     "execution_count": 113,
     "metadata": {},
     "output_type": "execute_result"
    }
   ],
   "source": [
    "predictions"
   ],
   "metadata": {
    "collapsed": false,
    "ExecuteTime": {
     "end_time": "2024-06-07T21:52:54.605015900Z",
     "start_time": "2024-06-07T21:52:54.510178Z"
    }
   }
  },
  {
   "cell_type": "code",
   "execution_count": 114,
   "outputs": [],
   "source": [
    "combination = pd.concat([test[[\"Player\", \"poy_winner\", \"season\"]],predictions], axis=1)"
   ],
   "metadata": {
    "collapsed": false,
    "ExecuteTime": {
     "end_time": "2024-06-07T21:52:57.378382300Z",
     "start_time": "2024-06-07T21:52:57.346981200Z"
    }
   }
  },
  {
   "cell_type": "code",
   "execution_count": 115,
   "outputs": [
    {
     "data": {
      "text/plain": "                   Player  poy_winner     season  predictions\n11        Aaron Cresswell           0  2022/2023     0.012060\n14           Aaron Hickey           0  2022/2023    -0.010417\n65         Aaron Ramsdale           0  2022/2023    -0.002505\n85      Aaron Wan-Bissaka           0  2022/2023    -0.006739\n100    Abdoulaye Doucouré           0  2022/2023     0.010923\n...                   ...         ...        ...          ...\n17389       Yves Bissouma           0  2022/2023    -0.007258\n17448         Álex Moreno           0  2022/2023     0.003660\n17466      Çağlar Söyüncü           0  2022/2023     0.002716\n17509      İlkay Gündoğan           0  2022/2023     0.012374\n17526    Łukasz Fabiański           0  2022/2023    -0.004670\n\n[569 rows x 4 columns]",
      "text/html": "<div>\n<style scoped>\n    .dataframe tbody tr th:only-of-type {\n        vertical-align: middle;\n    }\n\n    .dataframe tbody tr th {\n        vertical-align: top;\n    }\n\n    .dataframe thead th {\n        text-align: right;\n    }\n</style>\n<table border=\"1\" class=\"dataframe\">\n  <thead>\n    <tr style=\"text-align: right;\">\n      <th></th>\n      <th>Player</th>\n      <th>poy_winner</th>\n      <th>season</th>\n      <th>predictions</th>\n    </tr>\n  </thead>\n  <tbody>\n    <tr>\n      <th>11</th>\n      <td>Aaron Cresswell</td>\n      <td>0</td>\n      <td>2022/2023</td>\n      <td>0.012060</td>\n    </tr>\n    <tr>\n      <th>14</th>\n      <td>Aaron Hickey</td>\n      <td>0</td>\n      <td>2022/2023</td>\n      <td>-0.010417</td>\n    </tr>\n    <tr>\n      <th>65</th>\n      <td>Aaron Ramsdale</td>\n      <td>0</td>\n      <td>2022/2023</td>\n      <td>-0.002505</td>\n    </tr>\n    <tr>\n      <th>85</th>\n      <td>Aaron Wan-Bissaka</td>\n      <td>0</td>\n      <td>2022/2023</td>\n      <td>-0.006739</td>\n    </tr>\n    <tr>\n      <th>100</th>\n      <td>Abdoulaye Doucouré</td>\n      <td>0</td>\n      <td>2022/2023</td>\n      <td>0.010923</td>\n    </tr>\n    <tr>\n      <th>...</th>\n      <td>...</td>\n      <td>...</td>\n      <td>...</td>\n      <td>...</td>\n    </tr>\n    <tr>\n      <th>17389</th>\n      <td>Yves Bissouma</td>\n      <td>0</td>\n      <td>2022/2023</td>\n      <td>-0.007258</td>\n    </tr>\n    <tr>\n      <th>17448</th>\n      <td>Álex Moreno</td>\n      <td>0</td>\n      <td>2022/2023</td>\n      <td>0.003660</td>\n    </tr>\n    <tr>\n      <th>17466</th>\n      <td>Çağlar Söyüncü</td>\n      <td>0</td>\n      <td>2022/2023</td>\n      <td>0.002716</td>\n    </tr>\n    <tr>\n      <th>17509</th>\n      <td>İlkay Gündoğan</td>\n      <td>0</td>\n      <td>2022/2023</td>\n      <td>0.012374</td>\n    </tr>\n    <tr>\n      <th>17526</th>\n      <td>Łukasz Fabiański</td>\n      <td>0</td>\n      <td>2022/2023</td>\n      <td>-0.004670</td>\n    </tr>\n  </tbody>\n</table>\n<p>569 rows × 4 columns</p>\n</div>"
     },
     "execution_count": 115,
     "metadata": {},
     "output_type": "execute_result"
    }
   ],
   "source": [
    "combination"
   ],
   "metadata": {
    "collapsed": false,
    "ExecuteTime": {
     "end_time": "2024-06-07T21:52:58.035095200Z",
     "start_time": "2024-06-07T21:52:57.949824Z"
    }
   }
  },
  {
   "cell_type": "code",
   "execution_count": 116,
   "outputs": [
    {
     "data": {
      "text/plain": "                 Player  poy_winner     season  predictions\n2019    Bruno Fernandes           0  2022/2023     0.092829\n9102    Kevin De Bruyne           0  2022/2023     0.074452\n12778       Pascal Groß           0  2022/2023     0.068344\n9321    Kieran Trippier           0  2022/2023     0.067939\n6303         Harry Kane           0  2022/2023     0.065524\n...                 ...         ...        ...          ...\n7227        Jamie Vardy           0  2022/2023    -0.017965\n1285   Antonee Robinson           0  2022/2023    -0.018284\n7067       James Milner           0  2022/2023    -0.019071\n12803   Patrick Bamford           0  2022/2023    -0.020300\n12514     Nélson Semedo           0  2022/2023    -0.021305\n\n[569 rows x 4 columns]",
      "text/html": "<div>\n<style scoped>\n    .dataframe tbody tr th:only-of-type {\n        vertical-align: middle;\n    }\n\n    .dataframe tbody tr th {\n        vertical-align: top;\n    }\n\n    .dataframe thead th {\n        text-align: right;\n    }\n</style>\n<table border=\"1\" class=\"dataframe\">\n  <thead>\n    <tr style=\"text-align: right;\">\n      <th></th>\n      <th>Player</th>\n      <th>poy_winner</th>\n      <th>season</th>\n      <th>predictions</th>\n    </tr>\n  </thead>\n  <tbody>\n    <tr>\n      <th>2019</th>\n      <td>Bruno Fernandes</td>\n      <td>0</td>\n      <td>2022/2023</td>\n      <td>0.092829</td>\n    </tr>\n    <tr>\n      <th>9102</th>\n      <td>Kevin De Bruyne</td>\n      <td>0</td>\n      <td>2022/2023</td>\n      <td>0.074452</td>\n    </tr>\n    <tr>\n      <th>12778</th>\n      <td>Pascal Groß</td>\n      <td>0</td>\n      <td>2022/2023</td>\n      <td>0.068344</td>\n    </tr>\n    <tr>\n      <th>9321</th>\n      <td>Kieran Trippier</td>\n      <td>0</td>\n      <td>2022/2023</td>\n      <td>0.067939</td>\n    </tr>\n    <tr>\n      <th>6303</th>\n      <td>Harry Kane</td>\n      <td>0</td>\n      <td>2022/2023</td>\n      <td>0.065524</td>\n    </tr>\n    <tr>\n      <th>...</th>\n      <td>...</td>\n      <td>...</td>\n      <td>...</td>\n      <td>...</td>\n    </tr>\n    <tr>\n      <th>7227</th>\n      <td>Jamie Vardy</td>\n      <td>0</td>\n      <td>2022/2023</td>\n      <td>-0.017965</td>\n    </tr>\n    <tr>\n      <th>1285</th>\n      <td>Antonee Robinson</td>\n      <td>0</td>\n      <td>2022/2023</td>\n      <td>-0.018284</td>\n    </tr>\n    <tr>\n      <th>7067</th>\n      <td>James Milner</td>\n      <td>0</td>\n      <td>2022/2023</td>\n      <td>-0.019071</td>\n    </tr>\n    <tr>\n      <th>12803</th>\n      <td>Patrick Bamford</td>\n      <td>0</td>\n      <td>2022/2023</td>\n      <td>-0.020300</td>\n    </tr>\n    <tr>\n      <th>12514</th>\n      <td>Nélson Semedo</td>\n      <td>0</td>\n      <td>2022/2023</td>\n      <td>-0.021305</td>\n    </tr>\n  </tbody>\n</table>\n<p>569 rows × 4 columns</p>\n</div>"
     },
     "execution_count": 116,
     "metadata": {},
     "output_type": "execute_result"
    }
   ],
   "source": [
    "combination.sort_values(\"predictions\", ascending=False)"
   ],
   "metadata": {
    "collapsed": false,
    "ExecuteTime": {
     "end_time": "2024-06-07T21:52:59.335255Z",
     "start_time": "2024-06-07T21:52:59.289881400Z"
    }
   }
  },
  {
   "cell_type": "code",
   "execution_count": 117,
   "outputs": [],
   "source": [
    "combination = combination.sort_values('predictions', ascending=False)\n",
    "combination['Predicted_Rk'] = list(range(1, combination.shape[0]+1))"
   ],
   "metadata": {
    "collapsed": false,
    "ExecuteTime": {
     "end_time": "2024-06-07T21:53:01.846966700Z",
     "start_time": "2024-06-07T21:53:01.820516300Z"
    }
   }
  },
  {
   "cell_type": "code",
   "execution_count": 118,
   "outputs": [
    {
     "data": {
      "text/plain": "                 Player  poy_winner     season  predictions  Predicted_Rk\n2019    Bruno Fernandes           0  2022/2023     0.092829             1\n9102    Kevin De Bruyne           0  2022/2023     0.074452             2\n12778       Pascal Groß           0  2022/2023     0.068344             3\n9321    Kieran Trippier           0  2022/2023     0.067939             4\n6303         Harry Kane           0  2022/2023     0.065524             5\n...                 ...         ...        ...          ...           ...\n7227        Jamie Vardy           0  2022/2023    -0.017965           565\n1285   Antonee Robinson           0  2022/2023    -0.018284           566\n7067       James Milner           0  2022/2023    -0.019071           567\n12803   Patrick Bamford           0  2022/2023    -0.020300           568\n12514     Nélson Semedo           0  2022/2023    -0.021305           569\n\n[569 rows x 5 columns]",
      "text/html": "<div>\n<style scoped>\n    .dataframe tbody tr th:only-of-type {\n        vertical-align: middle;\n    }\n\n    .dataframe tbody tr th {\n        vertical-align: top;\n    }\n\n    .dataframe thead th {\n        text-align: right;\n    }\n</style>\n<table border=\"1\" class=\"dataframe\">\n  <thead>\n    <tr style=\"text-align: right;\">\n      <th></th>\n      <th>Player</th>\n      <th>poy_winner</th>\n      <th>season</th>\n      <th>predictions</th>\n      <th>Predicted_Rk</th>\n    </tr>\n  </thead>\n  <tbody>\n    <tr>\n      <th>2019</th>\n      <td>Bruno Fernandes</td>\n      <td>0</td>\n      <td>2022/2023</td>\n      <td>0.092829</td>\n      <td>1</td>\n    </tr>\n    <tr>\n      <th>9102</th>\n      <td>Kevin De Bruyne</td>\n      <td>0</td>\n      <td>2022/2023</td>\n      <td>0.074452</td>\n      <td>2</td>\n    </tr>\n    <tr>\n      <th>12778</th>\n      <td>Pascal Groß</td>\n      <td>0</td>\n      <td>2022/2023</td>\n      <td>0.068344</td>\n      <td>3</td>\n    </tr>\n    <tr>\n      <th>9321</th>\n      <td>Kieran Trippier</td>\n      <td>0</td>\n      <td>2022/2023</td>\n      <td>0.067939</td>\n      <td>4</td>\n    </tr>\n    <tr>\n      <th>6303</th>\n      <td>Harry Kane</td>\n      <td>0</td>\n      <td>2022/2023</td>\n      <td>0.065524</td>\n      <td>5</td>\n    </tr>\n    <tr>\n      <th>...</th>\n      <td>...</td>\n      <td>...</td>\n      <td>...</td>\n      <td>...</td>\n      <td>...</td>\n    </tr>\n    <tr>\n      <th>7227</th>\n      <td>Jamie Vardy</td>\n      <td>0</td>\n      <td>2022/2023</td>\n      <td>-0.017965</td>\n      <td>565</td>\n    </tr>\n    <tr>\n      <th>1285</th>\n      <td>Antonee Robinson</td>\n      <td>0</td>\n      <td>2022/2023</td>\n      <td>-0.018284</td>\n      <td>566</td>\n    </tr>\n    <tr>\n      <th>7067</th>\n      <td>James Milner</td>\n      <td>0</td>\n      <td>2022/2023</td>\n      <td>-0.019071</td>\n      <td>567</td>\n    </tr>\n    <tr>\n      <th>12803</th>\n      <td>Patrick Bamford</td>\n      <td>0</td>\n      <td>2022/2023</td>\n      <td>-0.020300</td>\n      <td>568</td>\n    </tr>\n    <tr>\n      <th>12514</th>\n      <td>Nélson Semedo</td>\n      <td>0</td>\n      <td>2022/2023</td>\n      <td>-0.021305</td>\n      <td>569</td>\n    </tr>\n  </tbody>\n</table>\n<p>569 rows × 5 columns</p>\n</div>"
     },
     "execution_count": 118,
     "metadata": {},
     "output_type": "execute_result"
    }
   ],
   "source": [
    "combination"
   ],
   "metadata": {
    "collapsed": false,
    "ExecuteTime": {
     "end_time": "2024-06-07T21:53:03.483249800Z",
     "start_time": "2024-06-07T21:53:03.400816600Z"
    }
   }
  },
  {
   "cell_type": "code",
   "execution_count": 99,
   "outputs": [
    {
     "ename": "KeyError",
     "evalue": "'Predicted_Rk'",
     "output_type": "error",
     "traceback": [
      "\u001B[1;31m---------------------------------------------------------------------------\u001B[0m",
      "\u001B[1;31mKeyError\u001B[0m                                  Traceback (most recent call last)",
      "\u001B[1;32m~\\AppData\\Local\\Temp\\ipykernel_2520\\1707826544.py\u001B[0m in \u001B[0;36m?\u001B[1;34m()\u001B[0m\n\u001B[1;32m----> 1\u001B[1;33m \u001B[0mcombination\u001B[0m\u001B[1;33m.\u001B[0m\u001B[0msort_values\u001B[0m\u001B[1;33m(\u001B[0m\u001B[1;34m'Predicted_Rk'\u001B[0m\u001B[1;33m,\u001B[0m \u001B[0mascending\u001B[0m\u001B[1;33m=\u001B[0m\u001B[1;32mTrue\u001B[0m\u001B[1;33m)\u001B[0m\u001B[1;33m\u001B[0m\u001B[1;33m\u001B[0m\u001B[0m\n\u001B[0m",
      "\u001B[1;32m~\\Documents\\ReDI_Data_Analytics\\venv\\Lib\\site-packages\\pandas\\core\\frame.py\u001B[0m in \u001B[0;36m?\u001B[1;34m(self, by, axis, ascending, inplace, kind, na_position, ignore_index, key)\u001B[0m\n\u001B[0;32m   7172\u001B[0m             \u001B[1;33m)\u001B[0m\u001B[1;33m\u001B[0m\u001B[1;33m\u001B[0m\u001B[0m\n\u001B[0;32m   7173\u001B[0m         \u001B[1;32melif\u001B[0m \u001B[0mlen\u001B[0m\u001B[1;33m(\u001B[0m\u001B[0mby\u001B[0m\u001B[1;33m)\u001B[0m\u001B[1;33m:\u001B[0m\u001B[1;33m\u001B[0m\u001B[1;33m\u001B[0m\u001B[0m\n\u001B[0;32m   7174\u001B[0m             \u001B[1;31m# len(by) == 1\u001B[0m\u001B[1;33m\u001B[0m\u001B[1;33m\u001B[0m\u001B[0m\n\u001B[0;32m   7175\u001B[0m \u001B[1;33m\u001B[0m\u001B[0m\n\u001B[1;32m-> 7176\u001B[1;33m             \u001B[0mk\u001B[0m \u001B[1;33m=\u001B[0m \u001B[0mself\u001B[0m\u001B[1;33m.\u001B[0m\u001B[0m_get_label_or_level_values\u001B[0m\u001B[1;33m(\u001B[0m\u001B[0mby\u001B[0m\u001B[1;33m[\u001B[0m\u001B[1;36m0\u001B[0m\u001B[1;33m]\u001B[0m\u001B[1;33m,\u001B[0m \u001B[0maxis\u001B[0m\u001B[1;33m=\u001B[0m\u001B[0maxis\u001B[0m\u001B[1;33m)\u001B[0m\u001B[1;33m\u001B[0m\u001B[1;33m\u001B[0m\u001B[0m\n\u001B[0m\u001B[0;32m   7177\u001B[0m \u001B[1;33m\u001B[0m\u001B[0m\n\u001B[0;32m   7178\u001B[0m             \u001B[1;31m# need to rewrap column in Series to apply key function\u001B[0m\u001B[1;33m\u001B[0m\u001B[1;33m\u001B[0m\u001B[0m\n\u001B[0;32m   7179\u001B[0m             \u001B[1;32mif\u001B[0m \u001B[0mkey\u001B[0m \u001B[1;32mis\u001B[0m \u001B[1;32mnot\u001B[0m \u001B[1;32mNone\u001B[0m\u001B[1;33m:\u001B[0m\u001B[1;33m\u001B[0m\u001B[1;33m\u001B[0m\u001B[0m\n",
      "\u001B[1;32m~\\Documents\\ReDI_Data_Analytics\\venv\\Lib\\site-packages\\pandas\\core\\generic.py\u001B[0m in \u001B[0;36m?\u001B[1;34m(self, key, axis)\u001B[0m\n\u001B[0;32m   1906\u001B[0m             \u001B[0mvalues\u001B[0m \u001B[1;33m=\u001B[0m \u001B[0mself\u001B[0m\u001B[1;33m.\u001B[0m\u001B[0mxs\u001B[0m\u001B[1;33m(\u001B[0m\u001B[0mkey\u001B[0m\u001B[1;33m,\u001B[0m \u001B[0maxis\u001B[0m\u001B[1;33m=\u001B[0m\u001B[0mother_axes\u001B[0m\u001B[1;33m[\u001B[0m\u001B[1;36m0\u001B[0m\u001B[1;33m]\u001B[0m\u001B[1;33m)\u001B[0m\u001B[1;33m.\u001B[0m\u001B[0m_values\u001B[0m\u001B[1;33m\u001B[0m\u001B[1;33m\u001B[0m\u001B[0m\n\u001B[0;32m   1907\u001B[0m         \u001B[1;32melif\u001B[0m \u001B[0mself\u001B[0m\u001B[1;33m.\u001B[0m\u001B[0m_is_level_reference\u001B[0m\u001B[1;33m(\u001B[0m\u001B[0mkey\u001B[0m\u001B[1;33m,\u001B[0m \u001B[0maxis\u001B[0m\u001B[1;33m=\u001B[0m\u001B[0maxis\u001B[0m\u001B[1;33m)\u001B[0m\u001B[1;33m:\u001B[0m\u001B[1;33m\u001B[0m\u001B[1;33m\u001B[0m\u001B[0m\n\u001B[0;32m   1908\u001B[0m             \u001B[0mvalues\u001B[0m \u001B[1;33m=\u001B[0m \u001B[0mself\u001B[0m\u001B[1;33m.\u001B[0m\u001B[0maxes\u001B[0m\u001B[1;33m[\u001B[0m\u001B[0maxis\u001B[0m\u001B[1;33m]\u001B[0m\u001B[1;33m.\u001B[0m\u001B[0mget_level_values\u001B[0m\u001B[1;33m(\u001B[0m\u001B[0mkey\u001B[0m\u001B[1;33m)\u001B[0m\u001B[1;33m.\u001B[0m\u001B[0m_values\u001B[0m\u001B[1;33m\u001B[0m\u001B[1;33m\u001B[0m\u001B[0m\n\u001B[0;32m   1909\u001B[0m         \u001B[1;32melse\u001B[0m\u001B[1;33m:\u001B[0m\u001B[1;33m\u001B[0m\u001B[1;33m\u001B[0m\u001B[0m\n\u001B[1;32m-> 1910\u001B[1;33m             \u001B[1;32mraise\u001B[0m \u001B[0mKeyError\u001B[0m\u001B[1;33m(\u001B[0m\u001B[0mkey\u001B[0m\u001B[1;33m)\u001B[0m\u001B[1;33m\u001B[0m\u001B[1;33m\u001B[0m\u001B[0m\n\u001B[0m\u001B[0;32m   1911\u001B[0m \u001B[1;33m\u001B[0m\u001B[0m\n\u001B[0;32m   1912\u001B[0m         \u001B[1;31m# Check for duplicates\u001B[0m\u001B[1;33m\u001B[0m\u001B[1;33m\u001B[0m\u001B[0m\n\u001B[0;32m   1913\u001B[0m         \u001B[1;32mif\u001B[0m \u001B[0mvalues\u001B[0m\u001B[1;33m.\u001B[0m\u001B[0mndim\u001B[0m \u001B[1;33m>\u001B[0m \u001B[1;36m1\u001B[0m\u001B[1;33m:\u001B[0m\u001B[1;33m\u001B[0m\u001B[1;33m\u001B[0m\u001B[0m\n",
      "\u001B[1;31mKeyError\u001B[0m: 'Predicted_Rk'"
     ]
    }
   ],
   "source": [
    "combination.sort_values('Predicted_Rk', ascending=True)"
   ],
   "metadata": {
    "collapsed": false,
    "ExecuteTime": {
     "end_time": "2024-06-07T21:52:30.769627300Z",
     "start_time": "2024-06-07T21:52:30.039996Z"
    }
   }
  },
  {
   "cell_type": "code",
   "execution_count": 89,
   "outputs": [],
   "source": [
    "predicted = combination.sort_values('predictions', ascending=False)"
   ],
   "metadata": {
    "collapsed": false,
    "ExecuteTime": {
     "end_time": "2024-06-06T22:29:22.001916800Z",
     "start_time": "2024-06-06T22:29:21.989758600Z"
    }
   }
  },
  {
   "cell_type": "code",
   "execution_count": 90,
   "outputs": [
    {
     "data": {
      "text/plain": "                 Player  poy_winner     season  predictions  Predicted_Rk\n2019    Bruno Fernandes           0  2022/2023     0.092829             1\n9102    Kevin De Bruyne           0  2022/2023     0.074452             2\n12778       Pascal Groß           0  2022/2023     0.068344             3\n9321    Kieran Trippier           0  2022/2023     0.067939             4\n6303         Harry Kane           0  2022/2023     0.065524             5\n...                 ...         ...        ...          ...           ...\n7227        Jamie Vardy           0  2022/2023    -0.017965           565\n1285   Antonee Robinson           0  2022/2023    -0.018284           566\n7067       James Milner           0  2022/2023    -0.019071           567\n12803   Patrick Bamford           0  2022/2023    -0.020300           568\n12514     Nélson Semedo           0  2022/2023    -0.021305           569\n\n[569 rows x 5 columns]",
      "text/html": "<div>\n<style scoped>\n    .dataframe tbody tr th:only-of-type {\n        vertical-align: middle;\n    }\n\n    .dataframe tbody tr th {\n        vertical-align: top;\n    }\n\n    .dataframe thead th {\n        text-align: right;\n    }\n</style>\n<table border=\"1\" class=\"dataframe\">\n  <thead>\n    <tr style=\"text-align: right;\">\n      <th></th>\n      <th>Player</th>\n      <th>poy_winner</th>\n      <th>season</th>\n      <th>predictions</th>\n      <th>Predicted_Rk</th>\n    </tr>\n  </thead>\n  <tbody>\n    <tr>\n      <th>2019</th>\n      <td>Bruno Fernandes</td>\n      <td>0</td>\n      <td>2022/2023</td>\n      <td>0.092829</td>\n      <td>1</td>\n    </tr>\n    <tr>\n      <th>9102</th>\n      <td>Kevin De Bruyne</td>\n      <td>0</td>\n      <td>2022/2023</td>\n      <td>0.074452</td>\n      <td>2</td>\n    </tr>\n    <tr>\n      <th>12778</th>\n      <td>Pascal Groß</td>\n      <td>0</td>\n      <td>2022/2023</td>\n      <td>0.068344</td>\n      <td>3</td>\n    </tr>\n    <tr>\n      <th>9321</th>\n      <td>Kieran Trippier</td>\n      <td>0</td>\n      <td>2022/2023</td>\n      <td>0.067939</td>\n      <td>4</td>\n    </tr>\n    <tr>\n      <th>6303</th>\n      <td>Harry Kane</td>\n      <td>0</td>\n      <td>2022/2023</td>\n      <td>0.065524</td>\n      <td>5</td>\n    </tr>\n    <tr>\n      <th>...</th>\n      <td>...</td>\n      <td>...</td>\n      <td>...</td>\n      <td>...</td>\n      <td>...</td>\n    </tr>\n    <tr>\n      <th>7227</th>\n      <td>Jamie Vardy</td>\n      <td>0</td>\n      <td>2022/2023</td>\n      <td>-0.017965</td>\n      <td>565</td>\n    </tr>\n    <tr>\n      <th>1285</th>\n      <td>Antonee Robinson</td>\n      <td>0</td>\n      <td>2022/2023</td>\n      <td>-0.018284</td>\n      <td>566</td>\n    </tr>\n    <tr>\n      <th>7067</th>\n      <td>James Milner</td>\n      <td>0</td>\n      <td>2022/2023</td>\n      <td>-0.019071</td>\n      <td>567</td>\n    </tr>\n    <tr>\n      <th>12803</th>\n      <td>Patrick Bamford</td>\n      <td>0</td>\n      <td>2022/2023</td>\n      <td>-0.020300</td>\n      <td>568</td>\n    </tr>\n    <tr>\n      <th>12514</th>\n      <td>Nélson Semedo</td>\n      <td>0</td>\n      <td>2022/2023</td>\n      <td>-0.021305</td>\n      <td>569</td>\n    </tr>\n  </tbody>\n</table>\n<p>569 rows × 5 columns</p>\n</div>"
     },
     "execution_count": 90,
     "metadata": {},
     "output_type": "execute_result"
    }
   ],
   "source": [
    "predicted"
   ],
   "metadata": {
    "collapsed": false,
    "ExecuteTime": {
     "end_time": "2024-06-06T22:29:24.599532100Z",
     "start_time": "2024-06-06T22:29:24.547549900Z"
    }
   }
  },
  {
   "cell_type": "markdown",
   "source": [
    "Based on overall statistics, number of matches played and age, for the 2022/2023. Bruno Fernandez seemed to be the player of the Season"
   ],
   "metadata": {
    "collapsed": false
   }
  },
  {
   "cell_type": "markdown",
   "source": [
    "Step 2: Determine error margin using mean squared error"
   ],
   "metadata": {
    "collapsed": false
   }
  },
  {
   "cell_type": "code",
   "execution_count": 91,
   "outputs": [
    {
     "data": {
      "text/plain": "0.0016850007645311518"
     },
     "execution_count": 91,
     "metadata": {},
     "output_type": "execute_result"
    }
   ],
   "source": [
    "mean_squared_error(combination['poy_winner'], combination['predictions'])"
   ],
   "metadata": {
    "collapsed": false,
    "ExecuteTime": {
     "end_time": "2024-06-06T22:29:29.827324700Z",
     "start_time": "2024-06-06T22:29:29.795675600Z"
    }
   }
  },
  {
   "cell_type": "code",
   "execution_count": 98,
   "outputs": [
    {
     "data": {
      "text/plain": "                   Player  poy_winner     season  predictions\n13417          Phil Foden           1  2023/2024     0.056579\n12        Aaron Cresswell           0  2023/2024    -0.003576\n11455       Michael Olise           0  2023/2024     0.036655\n10969        Matt Doherty           0  2023/2024    -0.007903\n11051        Matt Ritchie           0  2023/2024    -0.006857\n...                   ...         ...        ...          ...\n5412        Gabriel Jesus           0  2023/2024     0.000952\n5416    Gabriel Magalhães           0  2023/2024     0.010088\n5421   Gabriel Martinelli           0  2023/2024    -0.010230\n5429         Gabriel Osho           0  2023/2024     0.003846\n17527    Łukasz Fabiański           0  2023/2024    -0.001353\n\n[580 rows x 4 columns]",
      "text/html": "<div>\n<style scoped>\n    .dataframe tbody tr th:only-of-type {\n        vertical-align: middle;\n    }\n\n    .dataframe tbody tr th {\n        vertical-align: top;\n    }\n\n    .dataframe thead th {\n        text-align: right;\n    }\n</style>\n<table border=\"1\" class=\"dataframe\">\n  <thead>\n    <tr style=\"text-align: right;\">\n      <th></th>\n      <th>Player</th>\n      <th>poy_winner</th>\n      <th>season</th>\n      <th>predictions</th>\n    </tr>\n  </thead>\n  <tbody>\n    <tr>\n      <th>13417</th>\n      <td>Phil Foden</td>\n      <td>1</td>\n      <td>2023/2024</td>\n      <td>0.056579</td>\n    </tr>\n    <tr>\n      <th>12</th>\n      <td>Aaron Cresswell</td>\n      <td>0</td>\n      <td>2023/2024</td>\n      <td>-0.003576</td>\n    </tr>\n    <tr>\n      <th>11455</th>\n      <td>Michael Olise</td>\n      <td>0</td>\n      <td>2023/2024</td>\n      <td>0.036655</td>\n    </tr>\n    <tr>\n      <th>10969</th>\n      <td>Matt Doherty</td>\n      <td>0</td>\n      <td>2023/2024</td>\n      <td>-0.007903</td>\n    </tr>\n    <tr>\n      <th>11051</th>\n      <td>Matt Ritchie</td>\n      <td>0</td>\n      <td>2023/2024</td>\n      <td>-0.006857</td>\n    </tr>\n    <tr>\n      <th>...</th>\n      <td>...</td>\n      <td>...</td>\n      <td>...</td>\n      <td>...</td>\n    </tr>\n    <tr>\n      <th>5412</th>\n      <td>Gabriel Jesus</td>\n      <td>0</td>\n      <td>2023/2024</td>\n      <td>0.000952</td>\n    </tr>\n    <tr>\n      <th>5416</th>\n      <td>Gabriel Magalhães</td>\n      <td>0</td>\n      <td>2023/2024</td>\n      <td>0.010088</td>\n    </tr>\n    <tr>\n      <th>5421</th>\n      <td>Gabriel Martinelli</td>\n      <td>0</td>\n      <td>2023/2024</td>\n      <td>-0.010230</td>\n    </tr>\n    <tr>\n      <th>5429</th>\n      <td>Gabriel Osho</td>\n      <td>0</td>\n      <td>2023/2024</td>\n      <td>0.003846</td>\n    </tr>\n    <tr>\n      <th>17527</th>\n      <td>Łukasz Fabiański</td>\n      <td>0</td>\n      <td>2023/2024</td>\n      <td>-0.001353</td>\n    </tr>\n  </tbody>\n</table>\n<p>580 rows × 4 columns</p>\n</div>"
     },
     "execution_count": 98,
     "metadata": {},
     "output_type": "execute_result"
    }
   ],
   "source": [
    "combination.sort_values(\"poy_winner\", ascending = False)"
   ],
   "metadata": {
    "collapsed": false,
    "ExecuteTime": {
     "end_time": "2024-06-07T21:52:15.850586900Z",
     "start_time": "2024-06-07T21:52:15.437964Z"
    }
   }
  },
  {
   "cell_type": "markdown",
   "source": [
    "Step 3: Creating a loop to run predictions for specific seasons and also backtesting if needed. So now we can see the ranking for specified years"
   ],
   "metadata": {
    "collapsed": false
   }
  },
  {
   "cell_type": "code",
   "execution_count": 93,
   "outputs": [],
   "source": [
    "start_year = 1992\n",
    "end_year = 2023\n",
    "seasons = [f\"{year}/{year+1}\" for year in range(start_year, end_year+1)]"
   ],
   "metadata": {
    "collapsed": false,
    "ExecuteTime": {
     "end_time": "2024-06-06T22:29:42.514100900Z",
     "start_time": "2024-06-06T22:29:42.504740400Z"
    }
   }
  },
  {
   "cell_type": "code",
   "execution_count": 94,
   "outputs": [
    {
     "data": {
      "text/plain": "'2013/2014'"
     },
     "execution_count": 94,
     "metadata": {},
     "output_type": "execute_result"
    }
   ],
   "source": [
    "seasons[21]"
   ],
   "metadata": {
    "collapsed": false,
    "ExecuteTime": {
     "end_time": "2024-06-06T22:29:43.495587300Z",
     "start_time": "2024-06-06T22:29:43.452030500Z"
    }
   }
  },
  {
   "cell_type": "code",
   "execution_count": 95,
   "outputs": [],
   "source": [
    "all_predictions = []\n",
    "for season in seasons[5:]:\n",
    "    train = ml_df[ml_df[\"season\"] < season]\n",
    "    test = ml_df[ml_df[\"season\"] == season]\n",
    "    reg.fit(train[predictors], train[\"poy_winner\"])\n",
    "    predictions = reg.predict(test[predictors])\n",
    "    predictions = pd.DataFrame(predictions, columns=[\"predictions\"], index=test.index)\n",
    "    combination = pd.concat([test[[\"Player\", \"poy_winner\", \"season\"]],predictions], axis=1)\n",
    "    all_predictions.append(combination)"
   ],
   "metadata": {
    "collapsed": false,
    "ExecuteTime": {
     "end_time": "2024-06-06T22:29:45.510744300Z",
     "start_time": "2024-06-06T22:29:44.399036800Z"
    }
   }
  },
  {
   "cell_type": "code",
   "execution_count": 96,
   "outputs": [
    {
     "data": {
      "text/plain": "                Player  poy_winner     season  predictions  predicted_Rk\n2820       Cole Palmer           0  2023/2024     0.076016             1\n4981    Erling Haaland           0  2023/2024     0.066244             2\n12614    Ollie Watkins           0  2023/2024     0.061845             3\n15291    Son Heung-Min           0  2023/2024     0.058561             4\n13417       Phil Foden           1  2023/2024     0.056579             5\n...                ...         ...        ...          ...           ...\n17177    William Osula           0  2023/2024    -0.015407           576\n7548       Jeremy Doku           0  2023/2024    -0.016055           577\n7791         Joe Gomez           0  2023/2024    -0.016288           578\n1311            Antony           0  2023/2024    -0.016407           579\n17307  Yehor Yarmoliuk           0  2023/2024    -0.018764           580\n\n[580 rows x 5 columns]",
      "text/html": "<div>\n<style scoped>\n    .dataframe tbody tr th:only-of-type {\n        vertical-align: middle;\n    }\n\n    .dataframe tbody tr th {\n        vertical-align: top;\n    }\n\n    .dataframe thead th {\n        text-align: right;\n    }\n</style>\n<table border=\"1\" class=\"dataframe\">\n  <thead>\n    <tr style=\"text-align: right;\">\n      <th></th>\n      <th>Player</th>\n      <th>poy_winner</th>\n      <th>season</th>\n      <th>predictions</th>\n      <th>predicted_Rk</th>\n    </tr>\n  </thead>\n  <tbody>\n    <tr>\n      <th>2820</th>\n      <td>Cole Palmer</td>\n      <td>0</td>\n      <td>2023/2024</td>\n      <td>0.076016</td>\n      <td>1</td>\n    </tr>\n    <tr>\n      <th>4981</th>\n      <td>Erling Haaland</td>\n      <td>0</td>\n      <td>2023/2024</td>\n      <td>0.066244</td>\n      <td>2</td>\n    </tr>\n    <tr>\n      <th>12614</th>\n      <td>Ollie Watkins</td>\n      <td>0</td>\n      <td>2023/2024</td>\n      <td>0.061845</td>\n      <td>3</td>\n    </tr>\n    <tr>\n      <th>15291</th>\n      <td>Son Heung-Min</td>\n      <td>0</td>\n      <td>2023/2024</td>\n      <td>0.058561</td>\n      <td>4</td>\n    </tr>\n    <tr>\n      <th>13417</th>\n      <td>Phil Foden</td>\n      <td>1</td>\n      <td>2023/2024</td>\n      <td>0.056579</td>\n      <td>5</td>\n    </tr>\n    <tr>\n      <th>...</th>\n      <td>...</td>\n      <td>...</td>\n      <td>...</td>\n      <td>...</td>\n      <td>...</td>\n    </tr>\n    <tr>\n      <th>17177</th>\n      <td>William Osula</td>\n      <td>0</td>\n      <td>2023/2024</td>\n      <td>-0.015407</td>\n      <td>576</td>\n    </tr>\n    <tr>\n      <th>7548</th>\n      <td>Jeremy Doku</td>\n      <td>0</td>\n      <td>2023/2024</td>\n      <td>-0.016055</td>\n      <td>577</td>\n    </tr>\n    <tr>\n      <th>7791</th>\n      <td>Joe Gomez</td>\n      <td>0</td>\n      <td>2023/2024</td>\n      <td>-0.016288</td>\n      <td>578</td>\n    </tr>\n    <tr>\n      <th>1311</th>\n      <td>Antony</td>\n      <td>0</td>\n      <td>2023/2024</td>\n      <td>-0.016407</td>\n      <td>579</td>\n    </tr>\n    <tr>\n      <th>17307</th>\n      <td>Yehor Yarmoliuk</td>\n      <td>0</td>\n      <td>2023/2024</td>\n      <td>-0.018764</td>\n      <td>580</td>\n    </tr>\n  </tbody>\n</table>\n<p>580 rows × 5 columns</p>\n</div>"
     },
     "execution_count": 96,
     "metadata": {},
     "output_type": "execute_result"
    }
   ],
   "source": [
    "def add_ranks(combination):\n",
    "    combination = combination.sort_values('predictions', ascending=False)\n",
    "    combination['predicted_Rk'] = list(range(1, combination.shape[0]+1))\n",
    "    return combination\n",
    "add_ranks(combination)"
   ],
   "metadata": {
    "collapsed": false,
    "ExecuteTime": {
     "end_time": "2024-06-06T22:29:45.858768100Z",
     "start_time": "2024-06-06T22:29:45.762994400Z"
    }
   }
  },
  {
   "cell_type": "markdown",
   "source": [
    "With the add_rank function you can easily call up the projected player ranking as suggested by the model by just editing the index number in the list"
   ],
   "metadata": {
    "collapsed": false
   }
  },
  {
   "cell_type": "code",
   "execution_count": 97,
   "outputs": [
    {
     "data": {
      "text/plain": "                 Player  poy_winner     season  predictions  predicted_Rk\n2256       Carlos Tevez           0  2010/2011     0.050099             1\n4384   Dimitar Berbatov           0  2010/2011     0.047913             2\n14212  Robin Van Persie           0  2010/2011     0.046518             3\n13335  Peter Odemwingie           0  2010/2011     0.039914             4\n4433          Dirk Kuyt           0  2010/2011     0.032765             5\n...                 ...         ...        ...          ...           ...\n17229   Wilson Palacios           0  2010/2011    -0.009687           559\n13179    Paulo Ferreira           0  2010/2011    -0.010221           560\n15336  Steed Malbranque           0  2010/2011    -0.010648           561\n12439       Nile Ranger           0  2010/2011    -0.011127           562\n6033       Glenn Whelan           0  2010/2011    -0.011907           563\n\n[563 rows x 5 columns]",
      "text/html": "<div>\n<style scoped>\n    .dataframe tbody tr th:only-of-type {\n        vertical-align: middle;\n    }\n\n    .dataframe tbody tr th {\n        vertical-align: top;\n    }\n\n    .dataframe thead th {\n        text-align: right;\n    }\n</style>\n<table border=\"1\" class=\"dataframe\">\n  <thead>\n    <tr style=\"text-align: right;\">\n      <th></th>\n      <th>Player</th>\n      <th>poy_winner</th>\n      <th>season</th>\n      <th>predictions</th>\n      <th>predicted_Rk</th>\n    </tr>\n  </thead>\n  <tbody>\n    <tr>\n      <th>2256</th>\n      <td>Carlos Tevez</td>\n      <td>0</td>\n      <td>2010/2011</td>\n      <td>0.050099</td>\n      <td>1</td>\n    </tr>\n    <tr>\n      <th>4384</th>\n      <td>Dimitar Berbatov</td>\n      <td>0</td>\n      <td>2010/2011</td>\n      <td>0.047913</td>\n      <td>2</td>\n    </tr>\n    <tr>\n      <th>14212</th>\n      <td>Robin Van Persie</td>\n      <td>0</td>\n      <td>2010/2011</td>\n      <td>0.046518</td>\n      <td>3</td>\n    </tr>\n    <tr>\n      <th>13335</th>\n      <td>Peter Odemwingie</td>\n      <td>0</td>\n      <td>2010/2011</td>\n      <td>0.039914</td>\n      <td>4</td>\n    </tr>\n    <tr>\n      <th>4433</th>\n      <td>Dirk Kuyt</td>\n      <td>0</td>\n      <td>2010/2011</td>\n      <td>0.032765</td>\n      <td>5</td>\n    </tr>\n    <tr>\n      <th>...</th>\n      <td>...</td>\n      <td>...</td>\n      <td>...</td>\n      <td>...</td>\n      <td>...</td>\n    </tr>\n    <tr>\n      <th>17229</th>\n      <td>Wilson Palacios</td>\n      <td>0</td>\n      <td>2010/2011</td>\n      <td>-0.009687</td>\n      <td>559</td>\n    </tr>\n    <tr>\n      <th>13179</th>\n      <td>Paulo Ferreira</td>\n      <td>0</td>\n      <td>2010/2011</td>\n      <td>-0.010221</td>\n      <td>560</td>\n    </tr>\n    <tr>\n      <th>15336</th>\n      <td>Steed Malbranque</td>\n      <td>0</td>\n      <td>2010/2011</td>\n      <td>-0.010648</td>\n      <td>561</td>\n    </tr>\n    <tr>\n      <th>12439</th>\n      <td>Nile Ranger</td>\n      <td>0</td>\n      <td>2010/2011</td>\n      <td>-0.011127</td>\n      <td>562</td>\n    </tr>\n    <tr>\n      <th>6033</th>\n      <td>Glenn Whelan</td>\n      <td>0</td>\n      <td>2010/2011</td>\n      <td>-0.011907</td>\n      <td>563</td>\n    </tr>\n  </tbody>\n</table>\n<p>563 rows × 5 columns</p>\n</div>"
     },
     "execution_count": 97,
     "metadata": {},
     "output_type": "execute_result"
    }
   ],
   "source": [
    "add_ranks(all_predictions[13])"
   ],
   "metadata": {
    "collapsed": false,
    "ExecuteTime": {
     "end_time": "2024-06-06T22:29:58.857134300Z",
     "start_time": "2024-06-06T22:29:58.786473200Z"
    }
   }
  },
  {
   "cell_type": "code",
   "execution_count": null,
   "outputs": [],
   "source": [],
   "metadata": {
    "collapsed": false
   }
  }
 ],
 "metadata": {
  "kernelspec": {
   "display_name": "Python 3",
   "language": "python",
   "name": "python3"
  },
  "language_info": {
   "codemirror_mode": {
    "name": "ipython",
    "version": 2
   },
   "file_extension": ".py",
   "mimetype": "text/x-python",
   "name": "python",
   "nbconvert_exporter": "python",
   "pygments_lexer": "ipython2",
   "version": "2.7.6"
  }
 },
 "nbformat": 4,
 "nbformat_minor": 0
}
