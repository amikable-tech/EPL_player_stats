{
 "cells": [
  {
   "cell_type": "code",
   "execution_count": null,
   "outputs": [],
   "source": [
    "!pip install beautifulsoup4\n",
    "!pip install pandas\n"
   ],
   "metadata": {
    "collapsed": false
   }
  },
  {
   "cell_type": "code",
   "execution_count": 1,
   "metadata": {
    "collapsed": true,
    "ExecuteTime": {
     "end_time": "2024-06-06T21:51:48.780550500Z",
     "start_time": "2024-06-06T21:51:43.474115Z"
    }
   },
   "outputs": [],
   "source": [
    "import os\n",
    "from bs4 import BeautifulSoup\n",
    "import pandas as pd"
   ]
  },
  {
   "cell_type": "code",
   "execution_count": 2,
   "outputs": [],
   "source": [
    "\n",
    "start_year = 1992\n",
    "end_year = 2024"
   ],
   "metadata": {
    "collapsed": false,
    "ExecuteTime": {
     "end_time": "2024-06-06T21:53:26.010949900Z",
     "start_time": "2024-06-06T21:53:25.989170900Z"
    }
   }
  },
  {
   "cell_type": "code",
   "execution_count": 3,
   "outputs": [],
   "source": [
    "\n",
    "os.makedirs(\"team_test\", exist_ok=True)"
   ],
   "metadata": {
    "collapsed": false,
    "ExecuteTime": {
     "end_time": "2024-06-06T21:53:27.174479800Z",
     "start_time": "2024-06-06T21:53:27.145126300Z"
    }
   }
  },
  {
   "cell_type": "code",
   "execution_count": null,
   "outputs": [],
   "source": [
    "\n",
    "url_start = \"https://fbref.com/en/comps/9/{year}-{next_year}/{year}-{next_year}-Premier-League-Stats\""
   ],
   "metadata": {
    "collapsed": false
   }
  },
  {
   "cell_type": "code",
   "execution_count": null,
   "outputs": [],
   "source": [
    "\n",
    "def extract_data_from_html(year):\n",
    "    next_year = year + 1\n",
    "    table_id = f\"results{year}-{next_year}91_overall\"\n",
    "\n",
    "    with open(f\"team_test/{year}.html\", \"r\", encoding=\"utf-8\") as f:\n",
    "        page = f.read()\n",
    "    soup = BeautifulSoup(page, \"html.parser\")\n",
    "\n",
    "    for header in soup.find_all('tr', class_=\"over_header\"):\n",
    "        header.decompose()\n",
    "\n",
    "    table = soup.find('table', id=table_id)\n",
    "    if not table:\n",
    "        print(f\"No table found for {year}-{next_year}\")\n",
    "        return [],[]\n",
    "\n",
    "\n",
    "    headers = [th.text.strip() for th in table.find_all('th')]\n",
    "\n",
    "\n",
    "    rows = []\n",
    "    for row in table.find_all('tr'):\n",
    "        cells = row.find_all('td')\n",
    "        if len(cells) > 0:\n",
    "            row_data = [cell.text.strip() for cell in cells]\n",
    "            rows.append(row_data)\n",
    "\n",
    "\n",
    "    for row in rows:\n",
    "        row.append(f\"{year}-{next_year}\")\n",
    "\n",
    "    return headers, rows"
   ],
   "metadata": {
    "collapsed": false
   }
  },
  {
   "cell_type": "code",
   "execution_count": null,
   "outputs": [],
   "source": [
    "test_year = 1992\n",
    "headers, year_data = extract_data_from_html(test_year)\n",
    "\n",
    "print(f\"Headers ({len(headers)}): {headers}\")\n",
    "if year_data:\n",
    "    print(f\"First row ({len(year_data[0])}): {year_data[0]}\")\n",
    "\n",
    "\n",
    "if year_data and len(headers) == len(year_data[0]) + 1:\n",
    "    headers.append('Season')\n",
    "    df = pd.DataFrame(year_data, columns=headers)\n",
    "    df.to_csv(f'premier_league_stats_{test_year}_{test_year+1}.csv', index=False)\n",
    "    print(f\"Data scraping completed and saved to premier_league_stats_{test_year}_{test_year+1}.csv\")\n",
    "else:\n",
    "    print(\"Data extraction error: Headers and row data column count mismatch.\")"
   ],
   "metadata": {
    "collapsed": false
   }
  }
 ],
 "metadata": {
  "kernelspec": {
   "display_name": "Python 3",
   "language": "python",
   "name": "python3"
  },
  "language_info": {
   "codemirror_mode": {
    "name": "ipython",
    "version": 2
   },
   "file_extension": ".py",
   "mimetype": "text/x-python",
   "name": "python",
   "nbconvert_exporter": "python",
   "pygments_lexer": "ipython2",
   "version": "2.7.6"
  }
 },
 "nbformat": 4,
 "nbformat_minor": 0
}
