{
 "cells": [
  {
   "cell_type": "code",
   "execution_count": null,
   "outputs": [],
   "source": [
    "!pip install beautifulsoup4\n",
    "!pip install pandas\n",
    "!pip install selenium\n",
    "!pip install webdriver-manager"
   ],
   "metadata": {
    "collapsed": false
   }
  },
  {
   "cell_type": "code",
   "execution_count": 3,
   "metadata": {
    "collapsed": true,
    "ExecuteTime": {
     "end_time": "2024-06-02T14:41:36.246658200Z",
     "start_time": "2024-06-02T14:41:30.807025600Z"
    }
   },
   "outputs": [],
   "source": [
    "import os\n",
    "from bs4 import BeautifulSoup\n",
    "import pandas as pd\n",
    "from selenium import webdriver\n",
    "from selenium.webdriver.chrome.service import Service\n",
    "from selenium.webdriver.common.by import By\n",
    "from selenium.webdriver.support.ui import WebDriverWait\n",
    "from selenium.webdriver.support import expected_conditions as EC\n",
    "from webdriver_manager.chrome import ChromeDriverManager\n"
   ]
  },
  {
   "cell_type": "code",
   "execution_count": 4,
   "outputs": [],
   "source": [
    "os.makedirs(\"player_stats\",exist_ok=True)"
   ],
   "metadata": {
    "collapsed": false,
    "ExecuteTime": {
     "end_time": "2024-06-02T14:41:36.264321700Z",
     "start_time": "2024-06-02T14:41:36.247657300Z"
    }
   }
  },
  {
   "cell_type": "code",
   "execution_count": null,
   "outputs": [],
   "source": [
    "service = Service(ChromeDriverManager().install())"
   ],
   "metadata": {
    "collapsed": false
   }
  },
  {
   "cell_type": "code",
   "execution_count": null,
   "outputs": [],
   "source": [
    "def extract_player_stats(year):\n",
    "    next_year = year + 1\n",
    "    player_stats_url = f\"https://fbref.com/en/comps/9/{year}-{next_year}/stats/{year}-{next_year}-Premier-League-Stats\"\n",
    "    table_id = \"stats_standard\"\n",
    "\n",
    "    driver = webdriver.Chrome(service=service)\n",
    "    driver.get(player_stats_url)\n",
    "\n",
    "    try:\n",
    "        WebDriverWait(driver, 20).until(\n",
    "            EC.presence_of_element_located((By.ID, table_id))\n",
    "        )\n",
    "        page_source = driver.page_source\n",
    "        with open(f\"player_stats/player_stats_{year}.html\", \"w+\", encoding=\"utf-8\") as f:\n",
    "            f.write(page_source)\n",
    "\n",
    "        table = driver.find_element(By.ID, table_id)\n",
    "        html_content = table.get_attribute('outerHTML')\n",
    "        soup = BeautifulSoup(html_content, \"html.parser\")\n",
    "\n",
    "\n",
    "        for interval_header in soup.find_all('thead')[1:]:\n",
    "            interval_header.decompose()\n",
    "\n",
    "\n",
    "        header_rows = soup.find_all('thead')[0].find_all('tr')\n",
    "        headers = []\n",
    "        for header_row in header_rows:\n",
    "            header_cols = header_row.find_all(['th', 'td'])\n",
    "            headers.append([header_col.text.strip() for header_col in header_cols])\n",
    "        headers = headers[-1]\n",
    "\n",
    "\n",
    "        rows = []\n",
    "        for row in soup.find_all('tbody')[0].find_all('tr'):\n",
    "            cells = row.find_all(['th', 'td'])\n",
    "            if len(cells) > 0:\n",
    "                row_data = [cell.text.strip() for cell in cells]\n",
    "                rows.append(row_data)\n",
    "\n",
    "        return headers, rows\n",
    "\n",
    "    except Exception as e:\n",
    "        print(f\"Table did not load for {year}-{next_year}: {e}\")\n",
    "        return [], []\n",
    "\n",
    "    finally:\n",
    "        driver.quit()\n",
    "\n",
    "for year in range(1992, 2024):\n",
    "    headers, year_data = extract_player_stats(year)\n",
    "\n",
    "\n",
    "    if year_data:\n",
    "        df = pd.DataFrame(year_data, columns=headers)\n",
    "        df.to_csv(f'player_stats/player_stats_{year}_{year+1}.csv', index=False)\n",
    "        print(f\"Data scraping completed and saved to player_stats_{year}_{year+1}.csv\")\n",
    "    else:\n",
    "        print(f\"No data found for {year}-{year+1}.\")\n"
   ],
   "metadata": {
    "collapsed": false
   }
  },
  {
   "cell_type": "markdown",
   "source": [
    "next step is to create an additional column of years and seasons for each season."
   ],
   "metadata": {
    "collapsed": false
   }
  },
  {
   "cell_type": "code",
   "execution_count": 4,
   "outputs": [
    {
     "name": "stdout",
     "output_type": "stream",
     "text": [
      "All csv files have been merged and saved to player_merged_df\n"
     ]
    }
   ],
   "source": [
    "player_stats_path = \"player_stats\"\n",
    "player_df_list = []\n",
    "\n",
    "for year in range(1992, 2024):\n",
    "    csv_file = os.path.join(player_stats_path, f\"player_stats_{year}_{year+1}.csv\")\n",
    "    if os.path.exists(csv_file):\n",
    "        df = pd.read_csv(csv_file)\n",
    "\n",
    "        df['year'] = year\n",
    "\n",
    "        df['season'] = f\"{year}/{year+1}\"\n",
    "\n",
    "        player_df_list.append(df)\n",
    "    else:\n",
    "        print(f\"File {csv_file} does not exist\")\n",
    "\n",
    "player_merged_df = pd.concat(player_df_list, ignore_index=True)\n",
    "\n",
    "output_dir = \"player_stats\"\n",
    "os.makedirs(output_dir, exist_ok=True)\n",
    "\n",
    "output_file = os.path.join(output_dir, \"merged_player_stats.csv\")\n",
    "player_merged_df.to_csv(output_file, index=False)\n",
    "\n",
    "print(\"All csv files have been merged and saved to player_merged_df\")"
   ],
   "metadata": {
    "collapsed": false,
    "ExecuteTime": {
     "end_time": "2024-06-02T11:03:48.520165700Z",
     "start_time": "2024-06-02T11:03:47.248558700Z"
    }
   }
  },
  {
   "cell_type": "markdown",
   "source": [
    "merge the poy data to the merged player csv"
   ],
   "metadata": {
    "collapsed": false
   }
  },
  {
   "cell_type": "code",
   "execution_count": 15,
   "outputs": [],
   "source": [
    "merged_player_stats_path = \"player_stats/merged_player_stats.csv\"\n",
    "poy_path = \"poy/Player_of_year.csv\""
   ],
   "metadata": {
    "collapsed": false,
    "ExecuteTime": {
     "end_time": "2024-06-02T15:10:42.668612800Z",
     "start_time": "2024-06-02T15:10:42.362536300Z"
    }
   }
  },
  {
   "cell_type": "code",
   "execution_count": 16,
   "outputs": [],
   "source": [
    "merged_player_stats_df = pd.read_csv(merged_player_stats_path, low_memory=False)\n",
    "poy_df = pd.read_csv(poy_path)"
   ],
   "metadata": {
    "collapsed": false,
    "ExecuteTime": {
     "end_time": "2024-06-02T15:10:47.510541600Z",
     "start_time": "2024-06-02T15:10:45.616422700Z"
    }
   }
  },
  {
   "cell_type": "code",
   "execution_count": 17,
   "outputs": [
    {
     "name": "stdout",
     "output_type": "stream",
     "text": [
      "Columns of merged_player_stats_df: Index(['Rk', 'Player', 'Nation', 'Pos', 'Squad', 'Age', 'Born', 'MP', 'Starts',\n",
      "       'Min', '90s', 'Gls', 'Ast', 'G+A', 'G-PK', 'PK', 'PKatt', 'CrdY',\n",
      "       'CrdR', 'Gls.1', 'Ast.1', 'G+A.1', 'G-PK.1', 'G+A-PK', 'Matches',\n",
      "       'year', 'season', 'xG', 'npxG', 'xAG', 'npxG+xAG', 'PrgC', 'PrgP',\n",
      "       'PrgR', 'xG.1', 'xAG.1', 'xG+xAG', 'npxG.1', 'npxG+xAG.1'],\n",
      "      dtype='object')\n",
      "Columns of poy_df: Index(['year', 'season', 'Player', 'Squad'], dtype='object')\n"
     ]
    }
   ],
   "source": [
    "print(\"Columns of merged_player_stats_df:\", merged_player_stats_df.columns)\n",
    "print(\"Columns of poy_df:\", poy_df.columns)\n"
   ],
   "metadata": {
    "collapsed": false,
    "ExecuteTime": {
     "end_time": "2024-06-02T15:10:59.684177500Z",
     "start_time": "2024-06-02T15:10:59.650047900Z"
    }
   }
  },
  {
   "cell_type": "markdown",
   "source": [
    "checking for inconsistent season entry"
   ],
   "metadata": {
    "collapsed": false
   }
  },
  {
   "cell_type": "code",
   "execution_count": 18,
   "outputs": [
    {
     "data": {
      "text/plain": "0     1992/1993\n1     1993/1994\n2     1994/1995\n3     1995/1996\n4     1996/1997\n5     1997/1998\n6     1998/1999\n7     1999/2000\n8     2000/2001\n9     2001/2002\n10    2002/2003\n11    2003/2004\n12    2004/2005\n13    2005/2006\n14    2006/2007\n15    2007/2008\n16    2008/2009\n17    2009/2010\n18    2010/2011\n19    2011/2012\n20    2012/2013\n21    2013/2014\n22    2014/2015\n23    2015/2016\n24    2016/2017\n25    2017/2018\n26    2018/2019\n27    2019/2020\n28    2020/2021\n29    2021/2022\n30    2022/2023\n31    2023/2024\nName: season, dtype: object"
     },
     "execution_count": 18,
     "metadata": {},
     "output_type": "execute_result"
    }
   ],
   "source": [
    "poy_df[\"season\"]"
   ],
   "metadata": {
    "collapsed": false,
    "ExecuteTime": {
     "end_time": "2024-06-02T15:11:03.568611500Z",
     "start_time": "2024-06-02T15:11:03.519169Z"
    }
   }
  },
  {
   "cell_type": "code",
   "execution_count": 19,
   "outputs": [
    {
     "name": "stdout",
     "output_type": "stream",
     "text": [
      "Merged data saved\n"
     ]
    }
   ],
   "source": [
    "final_merged_df = pd.merge(merged_player_stats_df, poy_df, how = 'left', on=['Player', 'season'])\n",
    "final_merged_df.to_csv(\"final_merged_stats.csv\", index=False)\n",
    "print(\"Merged data saved\")"
   ],
   "metadata": {
    "collapsed": false,
    "ExecuteTime": {
     "end_time": "2024-06-02T15:13:41.871072600Z",
     "start_time": "2024-06-02T15:13:41.315986800Z"
    }
   }
  }
 ],
 "metadata": {
  "kernelspec": {
   "display_name": "Python 3",
   "language": "python",
   "name": "python3"
  },
  "language_info": {
   "codemirror_mode": {
    "name": "ipython",
    "version": 2
   },
   "file_extension": ".py",
   "mimetype": "text/x-python",
   "name": "python",
   "nbconvert_exporter": "python",
   "pygments_lexer": "ipython2",
   "version": "2.7.6"
  }
 },
 "nbformat": 4,
 "nbformat_minor": 0
}
